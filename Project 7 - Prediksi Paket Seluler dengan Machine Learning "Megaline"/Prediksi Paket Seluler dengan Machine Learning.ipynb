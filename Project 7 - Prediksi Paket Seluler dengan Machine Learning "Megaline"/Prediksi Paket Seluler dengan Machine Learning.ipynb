{
 "cells": [
  {
   "cell_type": "markdown",
   "metadata": {},
   "source": [
    "## Pendahuluan"
   ]
  },
  {
   "cell_type": "markdown",
   "metadata": {},
   "source": [
    "**Studi: Prediksi Paket Seluler Menggunakan Machine Learning**"
   ]
  },
  {
   "cell_type": "markdown",
   "metadata": {},
   "source": [
    "Sebuah operator seluler bernama `Megaline` ingin mengatasi kepuasan pelanggan yang masih menggunakan paket lama dengan mengembangkan model `machine learning`. Model ini akan menganalisis perilaku konsumen dan merekomendasikan paket terbaru, `Smart` atau `Ultra`. `Megaline` memiliki dataset berisi perilaku pengguna paket `Smart` dan `Ultra`. \n",
    "\n",
    "Proyek ini memiliki beberapa tujuan dan rumusan masalah:\n",
    "\n",
    "- Menentukan algoritma terbaik untuk model `machine learning` pada dataset `Megaline`.\n",
    "- Menemukan hyperparameter terbaik untuk model `machine learning`.\n",
    "- Memeriksa apakah model `machine learning` yang dipilih dapat memenuhi uji kelayakan (sanity check).\n",
    "- Mengevaluasi apakah model `machine learning` yang dipilih dapat digunakan untuk menguji sampel data sembarang."
   ]
  },
  {
   "cell_type": "markdown",
   "metadata": {},
   "source": [
    "## Konten <a id='back'></a>\n",
    "\n",
    "* [1. Pendahuluan](#intro)\n",
    "* [2. Konten](#back)\n",
    "  * [2.1 Mempersiapkan Dataset](#cont_1)\n",
    "    * [2.1.1 Memuat Library](#cont_2) \n",
    "    * [2.1.2 Memuat Dataset](#cont_3)\n",
    "    * [2.1.2 Mengecek Nilai Hilang](#cont_3)\n",
    "    * [2.1.3 Mengecek Duplikasi](#cont_4) \n",
    "    * [2.1.4 Mengubah Tipe Data](#cont_5) \n",
    "  * [2.2 Membuat Model Machine Learning](#cont_6)\n",
    "    * [2.2.1 Pembagian Dataset](#cont_7) \n",
    "    * [2.2.2 Melatih dan Menguji Algoritma Machine Learning](#cont_8) \n",
    "        * [2.2.2.1 Algoritma Klasifikasi Decision Tree](#cont_9) \n",
    "        * [2.2.2.2 Algoritma Klasifikasi Random Forest](#cont_10) \n",
    "        * [2.2.2.3 Algoritma Regresi Logistik](#cont_11) \n",
    "    * [2.2.3 Model Dengan Algoritma Terbaik](#cont_12) \n",
    "    * [2.2.4 Menguji Kelayakan Model (Sanity Check)](#cont_13) \n",
    "* [3. Aplikasi Model Machine Learning](#cont_14)\n",
    "* [4. Kesimpulan Umum](#cont_15)"
   ]
  },
  {
   "cell_type": "markdown",
   "metadata": {},
   "source": [
    "### Mempersiapkan Dataset"
   ]
  },
  {
   "cell_type": "markdown",
   "metadata": {},
   "source": [
    "Tahap pertama yang perlu dilakukan adalah mempersiapkan dataset mulai dari memuat library yang diperlukan, memuat dataset , mengecek sampel data, mengecek nilai yang hilang, mengecek duplikat dan mengecek tipe data."
   ]
  },
  {
   "cell_type": "markdown",
   "metadata": {},
   "source": [
    "#### Memuat Library"
   ]
  },
  {
   "cell_type": "markdown",
   "metadata": {},
   "source": [
    "Kita embutuhkan dua library yaitu `pandas` untuk mengolah dataset dan `scikit learn` untuk pemodelan `machine learning`. Mari kita muat library keduanya."
   ]
  },
  {
   "cell_type": "code",
   "execution_count": 1,
   "metadata": {},
   "outputs": [],
   "source": [
    "# memuat library\n",
    "import pandas as pd\n",
    "from sklearn.model_selection import train_test_split \n",
    "from sklearn.tree import DecisionTreeClassifier\n",
    "from sklearn.ensemble import RandomForestClassifier\n",
    "from sklearn.linear_model import LogisticRegression"
   ]
  },
  {
   "cell_type": "markdown",
   "metadata": {},
   "source": [
    "#### Memuat Dataset"
   ]
  },
  {
   "cell_type": "markdown",
   "metadata": {},
   "source": [
    "Mari kita lanjutkan memuat dataset yang dimiliki oleh `Megaline`."
   ]
  },
  {
   "cell_type": "code",
   "execution_count": 2,
   "metadata": {},
   "outputs": [],
   "source": [
    "# memuat dataset megaline\n",
    "df_megaline = pd.read_csv('/datasets/users_behavior.csv')"
   ]
  },
  {
   "cell_type": "markdown",
   "metadata": {},
   "source": [
    "Selanjutnya kita akan menampilkan informasi dan sampel data dari dataset `Megaline`."
   ]
  },
  {
   "cell_type": "code",
   "execution_count": 3,
   "metadata": {},
   "outputs": [
    {
     "name": "stdout",
     "output_type": "stream",
     "text": [
      "<class 'pandas.core.frame.DataFrame'>\n",
      "RangeIndex: 3214 entries, 0 to 3213\n",
      "Data columns (total 5 columns):\n",
      " #   Column    Non-Null Count  Dtype  \n",
      "---  ------    --------------  -----  \n",
      " 0   calls     3214 non-null   float64\n",
      " 1   minutes   3214 non-null   float64\n",
      " 2   messages  3214 non-null   float64\n",
      " 3   mb_used   3214 non-null   float64\n",
      " 4   is_ultra  3214 non-null   int64  \n",
      "dtypes: float64(4), int64(1)\n",
      "memory usage: 125.7 KB\n",
      "None\n"
     ]
    },
    {
     "data": {
      "text/html": [
       "<div>\n",
       "<style scoped>\n",
       "    .dataframe tbody tr th:only-of-type {\n",
       "        vertical-align: middle;\n",
       "    }\n",
       "\n",
       "    .dataframe tbody tr th {\n",
       "        vertical-align: top;\n",
       "    }\n",
       "\n",
       "    .dataframe thead th {\n",
       "        text-align: right;\n",
       "    }\n",
       "</style>\n",
       "<table border=\"1\" class=\"dataframe\">\n",
       "  <thead>\n",
       "    <tr style=\"text-align: right;\">\n",
       "      <th></th>\n",
       "      <th>calls</th>\n",
       "      <th>minutes</th>\n",
       "      <th>messages</th>\n",
       "      <th>mb_used</th>\n",
       "      <th>is_ultra</th>\n",
       "    </tr>\n",
       "  </thead>\n",
       "  <tbody>\n",
       "    <tr>\n",
       "      <th>1561</th>\n",
       "      <td>59.0</td>\n",
       "      <td>486.67</td>\n",
       "      <td>0.0</td>\n",
       "      <td>13432.30</td>\n",
       "      <td>1</td>\n",
       "    </tr>\n",
       "    <tr>\n",
       "      <th>360</th>\n",
       "      <td>81.0</td>\n",
       "      <td>566.10</td>\n",
       "      <td>0.0</td>\n",
       "      <td>23426.08</td>\n",
       "      <td>0</td>\n",
       "    </tr>\n",
       "    <tr>\n",
       "      <th>948</th>\n",
       "      <td>58.0</td>\n",
       "      <td>386.44</td>\n",
       "      <td>0.0</td>\n",
       "      <td>16581.86</td>\n",
       "      <td>0</td>\n",
       "    </tr>\n",
       "    <tr>\n",
       "      <th>2057</th>\n",
       "      <td>37.0</td>\n",
       "      <td>291.42</td>\n",
       "      <td>0.0</td>\n",
       "      <td>16362.24</td>\n",
       "      <td>0</td>\n",
       "    </tr>\n",
       "    <tr>\n",
       "      <th>2149</th>\n",
       "      <td>41.0</td>\n",
       "      <td>239.53</td>\n",
       "      <td>53.0</td>\n",
       "      <td>25004.15</td>\n",
       "      <td>1</td>\n",
       "    </tr>\n",
       "  </tbody>\n",
       "</table>\n",
       "</div>"
      ],
      "text/plain": [
       "      calls  minutes  messages   mb_used  is_ultra\n",
       "1561   59.0   486.67       0.0  13432.30         1\n",
       "360    81.0   566.10       0.0  23426.08         0\n",
       "948    58.0   386.44       0.0  16581.86         0\n",
       "2057   37.0   291.42       0.0  16362.24         0\n",
       "2149   41.0   239.53      53.0  25004.15         1"
      ]
     },
     "execution_count": 3,
     "metadata": {},
     "output_type": "execute_result"
    }
   ],
   "source": [
    "# mengecek informasi data\n",
    "print(df_megaline.info())\n",
    "\n",
    "# mengecek sampel data\n",
    "df_megaline.sample(5)"
   ]
  },
  {
   "cell_type": "markdown",
   "metadata": {},
   "source": [
    "Dataset berisi kolom-kolom berikut:\n",
    "- `calls` merupakan jumlah panggilan\n",
    "- `minutes` merupakan durasi panggilan dalam satuan menit\n",
    "- `messages` merupakan jumlah pesan\n",
    "- `mb_used` merupakan jumlah penggunaan data internet dalam satuan MB\n",
    "- `is_ultra` merupakan kolom penentu apakah pengguna menggunakan paket ultra (bernilai 1) atau tidak (bernilai 0)"
   ]
  },
  {
   "cell_type": "markdown",
   "metadata": {},
   "source": [
    "#### Mengecek Nilai Hilang"
   ]
  },
  {
   "cell_type": "markdown",
   "metadata": {},
   "source": [
    "Mari kita pastikan apakah ada data yang hilang pada dataset."
   ]
  },
  {
   "cell_type": "code",
   "execution_count": 4,
   "metadata": {},
   "outputs": [
    {
     "data": {
      "text/html": [
       "<div>\n",
       "<style scoped>\n",
       "    .dataframe tbody tr th:only-of-type {\n",
       "        vertical-align: middle;\n",
       "    }\n",
       "\n",
       "    .dataframe tbody tr th {\n",
       "        vertical-align: top;\n",
       "    }\n",
       "\n",
       "    .dataframe thead th {\n",
       "        text-align: right;\n",
       "    }\n",
       "</style>\n",
       "<table border=\"1\" class=\"dataframe\">\n",
       "  <thead>\n",
       "    <tr style=\"text-align: right;\">\n",
       "      <th></th>\n",
       "      <th>missing_values</th>\n",
       "      <th>% of total</th>\n",
       "    </tr>\n",
       "  </thead>\n",
       "  <tbody>\n",
       "    <tr>\n",
       "      <th>calls</th>\n",
       "      <td>0</td>\n",
       "      <td>0.0</td>\n",
       "    </tr>\n",
       "    <tr>\n",
       "      <th>minutes</th>\n",
       "      <td>0</td>\n",
       "      <td>0.0</td>\n",
       "    </tr>\n",
       "    <tr>\n",
       "      <th>messages</th>\n",
       "      <td>0</td>\n",
       "      <td>0.0</td>\n",
       "    </tr>\n",
       "    <tr>\n",
       "      <th>mb_used</th>\n",
       "      <td>0</td>\n",
       "      <td>0.0</td>\n",
       "    </tr>\n",
       "    <tr>\n",
       "      <th>is_ultra</th>\n",
       "      <td>0</td>\n",
       "      <td>0.0</td>\n",
       "    </tr>\n",
       "  </tbody>\n",
       "</table>\n",
       "</div>"
      ],
      "text/plain": [
       "          missing_values  % of total\n",
       "calls                  0         0.0\n",
       "minutes                0         0.0\n",
       "messages               0         0.0\n",
       "mb_used                0         0.0\n",
       "is_ultra               0         0.0"
      ]
     },
     "execution_count": 4,
     "metadata": {},
     "output_type": "execute_result"
    }
   ],
   "source": [
    "# Cek apakah ada data nilai yang hilang\n",
    "\n",
    "df_megaline_missed = df_megaline.isna().sum().to_frame()\n",
    "df_megaline_missed = df_megaline_missed.rename(columns={0: 'missing_values'})\n",
    "df_megaline_missed['% of total'] = (df_megaline_missed['missing_values'] / df_megaline.shape[0]).round(2)\n",
    "df_megaline_missed.sort_values(by='missing_values', ascending=False)"
   ]
  },
  {
   "cell_type": "markdown",
   "metadata": {},
   "source": [
    "Tidak ada nilai yang hilang pada dataset."
   ]
  },
  {
   "cell_type": "markdown",
   "metadata": {},
   "source": [
    "#### Mengecek Duplikasi"
   ]
  },
  {
   "cell_type": "markdown",
   "metadata": {},
   "source": [
    "Kita lanjutkan mengecek duplikasi pada dataset."
   ]
  },
  {
   "cell_type": "code",
   "execution_count": 5,
   "metadata": {},
   "outputs": [
    {
     "data": {
      "text/plain": [
       "0"
      ]
     },
     "execution_count": 5,
     "metadata": {},
     "output_type": "execute_result"
    }
   ],
   "source": [
    "# mengecek duplikasi\n",
    "df_megaline.duplicated().sum()"
   ]
  },
  {
   "cell_type": "markdown",
   "metadata": {},
   "source": [
    "Dari hasil pengecekan tidak ditemukan adanya duplikasi pada dataset."
   ]
  },
  {
   "cell_type": "markdown",
   "metadata": {},
   "source": [
    "#### Mengubah Tipe Data "
   ]
  },
  {
   "cell_type": "markdown",
   "metadata": {},
   "source": [
    "Berdasarkan pengamatan sebelumnya, kita akan mengubah tipe data pada kolom `calls` dan `messages` dari tipe `float` menjadi `integer`."
   ]
  },
  {
   "cell_type": "code",
   "execution_count": 6,
   "metadata": {},
   "outputs": [
    {
     "name": "stdout",
     "output_type": "stream",
     "text": [
      "<class 'pandas.core.frame.DataFrame'>\n",
      "RangeIndex: 3214 entries, 0 to 3213\n",
      "Data columns (total 5 columns):\n",
      " #   Column    Non-Null Count  Dtype  \n",
      "---  ------    --------------  -----  \n",
      " 0   calls     3214 non-null   int64  \n",
      " 1   minutes   3214 non-null   float64\n",
      " 2   messages  3214 non-null   int64  \n",
      " 3   mb_used   3214 non-null   float64\n",
      " 4   is_ultra  3214 non-null   int64  \n",
      "dtypes: float64(2), int64(3)\n",
      "memory usage: 125.7 KB\n"
     ]
    },
    {
     "data": {
      "text/html": [
       "<div>\n",
       "<style scoped>\n",
       "    .dataframe tbody tr th:only-of-type {\n",
       "        vertical-align: middle;\n",
       "    }\n",
       "\n",
       "    .dataframe tbody tr th {\n",
       "        vertical-align: top;\n",
       "    }\n",
       "\n",
       "    .dataframe thead th {\n",
       "        text-align: right;\n",
       "    }\n",
       "</style>\n",
       "<table border=\"1\" class=\"dataframe\">\n",
       "  <thead>\n",
       "    <tr style=\"text-align: right;\">\n",
       "      <th></th>\n",
       "      <th>calls</th>\n",
       "      <th>minutes</th>\n",
       "      <th>messages</th>\n",
       "      <th>mb_used</th>\n",
       "      <th>is_ultra</th>\n",
       "    </tr>\n",
       "  </thead>\n",
       "  <tbody>\n",
       "    <tr>\n",
       "      <th>765</th>\n",
       "      <td>45</td>\n",
       "      <td>320.44</td>\n",
       "      <td>117</td>\n",
       "      <td>35689.60</td>\n",
       "      <td>1</td>\n",
       "    </tr>\n",
       "    <tr>\n",
       "      <th>2249</th>\n",
       "      <td>46</td>\n",
       "      <td>314.16</td>\n",
       "      <td>48</td>\n",
       "      <td>16684.31</td>\n",
       "      <td>1</td>\n",
       "    </tr>\n",
       "    <tr>\n",
       "      <th>840</th>\n",
       "      <td>111</td>\n",
       "      <td>707.25</td>\n",
       "      <td>77</td>\n",
       "      <td>12279.31</td>\n",
       "      <td>0</td>\n",
       "    </tr>\n",
       "    <tr>\n",
       "      <th>2806</th>\n",
       "      <td>107</td>\n",
       "      <td>733.45</td>\n",
       "      <td>98</td>\n",
       "      <td>10756.78</td>\n",
       "      <td>1</td>\n",
       "    </tr>\n",
       "    <tr>\n",
       "      <th>1234</th>\n",
       "      <td>5</td>\n",
       "      <td>34.58</td>\n",
       "      <td>7</td>\n",
       "      <td>10305.72</td>\n",
       "      <td>0</td>\n",
       "    </tr>\n",
       "  </tbody>\n",
       "</table>\n",
       "</div>"
      ],
      "text/plain": [
       "      calls  minutes  messages   mb_used  is_ultra\n",
       "765      45   320.44       117  35689.60         1\n",
       "2249     46   314.16        48  16684.31         1\n",
       "840     111   707.25        77  12279.31         0\n",
       "2806    107   733.45        98  10756.78         1\n",
       "1234      5    34.58         7  10305.72         0"
      ]
     },
     "execution_count": 6,
     "metadata": {},
     "output_type": "execute_result"
    }
   ],
   "source": [
    "# mengubah tipe data kolom calls menjadi integer\n",
    "df_megaline['calls'] = df_megaline['calls'].astype('int')\n",
    "\n",
    "# mengubah tipe data kolom messages menjadi integer\n",
    "df_megaline['messages'] = df_megaline['messages'].astype('int')\n",
    "\n",
    "# mengecek tipe data yang baru\n",
    "df_megaline.info()\n",
    "\n",
    "# menampilkan sampel data\n",
    "df_megaline.sample(5)"
   ]
  },
  {
   "cell_type": "markdown",
   "metadata": {},
   "source": [
    "Kolom `calls` dan `messages` sudah berhasil diubah menjadi tipe data `integer`."
   ]
  },
  {
   "cell_type": "markdown",
   "metadata": {},
   "source": [
    "### Membuat Model Machine Learnin|g"
   ]
  },
  {
   "cell_type": "markdown",
   "metadata": {},
   "source": [
    "Kita lanjutkan membuat `model machine learning` yang terbaik diperlukan beberapa tahapan diantaranya: \n",
    "\n",
    "- Pembagian Dataset\n",
    "- Memilih Algoritma \n",
    "- Menguji Algoritma\n",
    "- `Tuning Hyperparamater`.\n",
    "\n",
    "Beberapa `algoritma machine learning` akan kita uji dan memilih yang paling efektif digunakan. Beberapa algoritma tersebut yaitu:\n",
    "- Algoritma Klasifikasi Decision Tree\n",
    "- Algoritma Klasifikasi Random Forest\n",
    "- Algoritma Regresi Logistik"
   ]
  },
  {
   "cell_type": "markdown",
   "metadata": {},
   "source": [
    "Kita akan menentukan paket apa yang direkomendasikan sebagai `target` berdasarkan beberapa `fitur` yang berkaitan. Fitur-fitur tersebut diantranya `calls`, `minutes`, `messages` dan `mb_used`.\n",
    "\n",
    "Karena kita hanya memilki satu buah dataset, kita akan membaginya kedalam beberapa kelompok, untuk membuat `model machine learning`. Pembagian dipecah menjadi `60%` dataset untuk `training`, `20%` dataset untuk `validasi` dan `20%` untuk `testing`."
   ]
  },
  {
   "cell_type": "markdown",
   "metadata": {},
   "source": [
    "#### Pembagian Dataset"
   ]
  },
  {
   "cell_type": "code",
   "execution_count": 7,
   "metadata": {},
   "outputs": [],
   "source": [
    "# membagi dataset menjadi 60% training, 20% validasi dan 20% test\n",
    "\n",
    "# membagi dataset megaline menjadi 60% untuk training dan 40% untuk (validasi + test)\n",
    "df_train, df_temp = train_test_split(df_megaline, test_size=0.6, random_state=155)\n",
    "\n",
    "# membagi dataset temporary menjadi 50% untuk validation dan 50% untuk test\n",
    "df_validation, df_test = train_test_split(df_temp, test_size=0.5, random_state=155)"
   ]
  },
  {
   "cell_type": "code",
   "execution_count": 8,
   "metadata": {},
   "outputs": [
    {
     "name": "stdout",
     "output_type": "stream",
     "text": [
      "features_train: (1285, 4)\n",
      "target_train: (1285,) \n",
      "\n",
      "features_valid: (964, 4)\n",
      "target_valid: (964,) \n",
      "\n",
      "features_test: (965, 4)\n",
      "target_test: (965,)\n"
     ]
    }
   ],
   "source": [
    "# membagi dataset training menjadi fitur dan target\n",
    "features_train = df_train.drop(['is_ultra'],axis=1)\n",
    "target_train = df_train['is_ultra']\n",
    "\n",
    "# membagi dataset validation menjadi fitur dan target\n",
    "features_valid = df_validation.drop(['is_ultra'],axis=1)\n",
    "target_valid = df_validation['is_ultra']\n",
    "\n",
    "# membagi dataset test menjadi fitur dan target\n",
    "features_test = df_test.drop(['is_ultra'],axis=1)\n",
    "target_test = df_test['is_ultra']\n",
    "\n",
    "# menampilkan shape dari training dan validation\n",
    "print('features_train:',features_train.shape)\n",
    "print('target_train:',target_train.shape,'\\n')\n",
    "\n",
    "print('features_valid:',features_valid.shape)\n",
    "print('target_valid:',target_valid.shape,'\\n')\n",
    "\n",
    "print('features_test:',features_test.shape)\n",
    "print('target_test:',target_test.shape)"
   ]
  },
  {
   "cell_type": "markdown",
   "metadata": {},
   "source": [
    "#### Melatih dan Menguji Algoritma Machine Learning"
   ]
  },
  {
   "cell_type": "markdown",
   "metadata": {},
   "source": [
    "Dari fitur dan target pada pembagian dataset sebelumnya, kita simpulkan `model machine learning` yang bisa dibuat adalah tipe `supervised learning - klasifikasi `. Mari kita latih dan uji model-model yang sudah disebutkan sebelumnya:"
   ]
  },
  {
   "cell_type": "markdown",
   "metadata": {},
   "source": [
    "##### Algoritma Klasifikasi Decision Tree"
   ]
  },
  {
   "cell_type": "markdown",
   "metadata": {},
   "source": [
    "Selanjutnya kita menguji `algoritma klasifikasi decision tree` dimana `hyperparameter` untuk kedalaman pohon akan kita uji untuk mendapatkan `hyperparameter` yang terbaik."
   ]
  },
  {
   "cell_type": "code",
   "execution_count": 9,
   "metadata": {},
   "outputs": [
    {
     "name": "stdout",
     "output_type": "stream",
     "text": [
      "Akurasi Model Terbaik (Decision Tree)\n",
      "Akurasi\t: 0.80187\n",
      "Depth\t: 7\n"
     ]
    }
   ],
   "source": [
    "# percobaan algoritma decision tree\n",
    "\n",
    "# membuat temporary variabel\n",
    "best_result = 0\n",
    "best_depth = 0\n",
    "\n",
    "# pengujian kedalaman model decision tree (depth -> 1 ~ 50)\n",
    "for depth in range(1, 51):\n",
    "    # membuat model decision tree\n",
    "    model = DecisionTreeClassifier(random_state=155, max_depth=depth) \n",
    "    # melatih model menggunakan features dan target train\n",
    "    model.fit(features_train, target_train)\n",
    "    # menghitung akurasi menggunakan features dan target validation\n",
    "    result = model.score(features_valid,target_valid)\n",
    "    if result > best_result:\n",
    "        best_model = model\n",
    "        best_result = result\n",
    "        best_depth = depth\n",
    "\n",
    "# menampilkan output        \n",
    "print(\"Akurasi Model Terbaik (Decision Tree)\")\n",
    "print(f\"Akurasi\\t: {best_result:.5f}\")\n",
    "print(f\"Depth\\t: {best_depth}\")"
   ]
  },
  {
   "cell_type": "markdown",
   "metadata": {},
   "source": [
    "Dari sini bisa kita kita lihat akurasi skor terbaik yang diperoleh sebesar `80,19%` pada kedalaman pohon `depth` sebanyak `7`.\n"
   ]
  },
  {
   "cell_type": "markdown",
   "metadata": {},
   "source": [
    "##### Algoritma Klasifikasi Random Forest"
   ]
  },
  {
   "cell_type": "markdown",
   "metadata": {},
   "source": [
    "Dengan cara yang sama kita akan menguji `algoritma klasifikasi decision tree` dimana `hyperparameter` untuk `random forest` yang akan kita `tuning` adalah jumlah pohon `n_estimators` dan kedalaman pohon `depth`. \n",
    "\n",
    "Disini kita akan coba untuk kedalaman pohon `1 hingga 10`, dan jumlah pohon `1 hingga 15` yang akan kita cari `hyperparameter` terbaiknya."
   ]
  },
  {
   "cell_type": "code",
   "execution_count": 10,
   "metadata": {},
   "outputs": [
    {
     "name": "stdout",
     "output_type": "stream",
     "text": [
      "Akurasi Model Terbaik (Random Forest)\n",
      "Akurasi\t\t: 0.82158\n",
      "Depth\t\t: 9\n",
      "N_Estimators\t: 13\n"
     ]
    }
   ],
   "source": [
    "# percobaan algoritma random forest\n",
    "# kedalaman pohon: depth -> 1 ~ 10\n",
    "# jumlah pohon: n_estimators -> 1 ~ 15\n",
    "\n",
    "# membuat temporary variabel\n",
    "best_result = 0\n",
    "best_est = 0\n",
    "best_depth = 0\n",
    "\n",
    "# pengujian kedalaman model dan jumlah pohon \n",
    "# pengaturan jumlah pohon\n",
    "for est in range(1, 16):\n",
    "    # pengaturan jumlah kedalaman pohon\n",
    "    for depth in range (1, 11):\n",
    "        # membuat model random forest classifier\n",
    "        model = RandomForestClassifier(random_state=155, n_estimators=est, max_depth=depth)\n",
    "        # melatih model menggunakan features dan target train\n",
    "        model.fit(features_train, target_train)\n",
    "        # menghitung akurasi menggunakan features dan target validation\n",
    "        result = model.score(features_valid,target_valid)\n",
    "        if result > best_result:\n",
    "            best_result = result\n",
    "            best_est = est\n",
    "            best_depth = depth\n",
    "\n",
    "# menampilkan output        \n",
    "print(\"Akurasi Model Terbaik (Random Forest)\")\n",
    "print(f\"Akurasi\\t\\t: {best_result:.5f}\")\n",
    "print(f\"Depth\\t\\t: {best_depth}\")\n",
    "print(f\"N_Estimators\\t: {best_est}\")"
   ]
  },
  {
   "cell_type": "markdown",
   "metadata": {},
   "source": [
    "Bisa dilihat kita bisa mendapatkan akurasi skor sebesar `82,16%` hanya menggunakan kedalaman pohon `9` dan jumlah pohon `13`.\n",
    "\n",
    "Mari kita coba tingkatkan `hyperparameter` apakah kita bisa mendapatkan yang lebih baik akurasi skornya dibandingkan skor ini."
   ]
  },
  {
   "cell_type": "markdown",
   "metadata": {},
   "source": [
    "Kita akan coba tingkatkan kedalaman pohon `1 hingga 20`, dan jumlah pohon `1 hingga 70 (inkremen 5)` yang akan kita cari `hyperparameter` terbaiknya."
   ]
  },
  {
   "cell_type": "code",
   "execution_count": 11,
   "metadata": {},
   "outputs": [
    {
     "name": "stdout",
     "output_type": "stream",
     "text": [
      "Akurasi Model Terbaik (Random Forest)\n",
      "Akurasi\t\t: 0.82261\n",
      "Depth\t\t: 9\n",
      "N_Estimators\t: 21\n"
     ]
    }
   ],
   "source": [
    "# percobaan algoritma random forest\n",
    "# kedalaman pohon: depth -> 1 ~ 20\n",
    "# jumlah pohon: n_estimators -> 1 ~ 70 {increment 5}\n",
    "\n",
    "# membuat temporary\n",
    "best_result = 0\n",
    "best_est = 0\n",
    "best_depth = 0\n",
    "\n",
    "# pengujian kedalaman model dan jumlah pohon\n",
    "# pengaturan jumlah pohon\n",
    "for est in range(1, 71, 5):\n",
    "    # pengaturan jumlah kedalaman pohon\n",
    "    for depth in range (1, 21):\n",
    "        # membuat model random forest classifier\n",
    "        model = RandomForestClassifier(random_state=155, n_estimators=est, max_depth=depth)\n",
    "        # melatih model menggunakan features dan target train\n",
    "        model.fit(features_train, target_train)\n",
    "        # menghitung akurasi menggunakan features dan target validation\n",
    "        result = model.score(features_valid,target_valid)\n",
    "        if result > best_result:\n",
    "            best_result = result\n",
    "            best_est = est\n",
    "            best_depth = depth\n",
    "\n",
    "# menampilkan output        \n",
    "print(\"Akurasi Model Terbaik (Random Forest)\")\n",
    "print(f\"Akurasi\\t\\t: {best_result:.5f}\")\n",
    "print(f\"Depth\\t\\t: {best_depth}\")\n",
    "print(f\"N_Estimators\\t: {best_est}\")"
   ]
  },
  {
   "cell_type": "markdown",
   "metadata": {},
   "source": [
    "Bisa dilihat kita bisa mendapatkan akurasi skor sebesar `82,26%` hanya menggunakan kedalaman pohon `9` dan jumlah pohon `21`.\n",
    "\n",
    "Disini kita simpulkan semakin tinggi `hyperparameter` tidak menyebabkan kenaikan akurasi skor yang signifikan, bahkan hampir sama. Maka kita ambil `hyperparameter` terbaik untuk `algoritma random forest` kali ini pada kedalaman pohon `9` dan jumlah pohon `13`."
   ]
  },
  {
   "cell_type": "markdown",
   "metadata": {},
   "source": [
    "##### Algoritma Regresi Logistik"
   ]
  },
  {
   "cell_type": "markdown",
   "metadata": {},
   "source": [
    "Dengan cara yang sama kita akan menguji `algoritma regresi logistik` menggunakan `solver` 'liblinear'."
   ]
  },
  {
   "cell_type": "code",
   "execution_count": 12,
   "metadata": {},
   "outputs": [
    {
     "name": "stdout",
     "output_type": "stream",
     "text": [
      "Akurasi Model Terbaik (Regresi Logistik)\n",
      "Akurasi\t: 0.68154\n"
     ]
    }
   ],
   "source": [
    "# percobaan algoritma regresi logistik\n",
    "\n",
    "# membuat model regresi logistik\n",
    "model = LogisticRegression(random_state=155, solver='liblinear') \n",
    "\n",
    "# melatih model menggunakan features dan target train\n",
    "model.fit(features_train, target_train)\n",
    "\n",
    "# menghitung akurasi menggunakan features dan target validation\n",
    "result = model.score(features_valid,target_valid)\n",
    "\n",
    "# menampilkan output        \n",
    "print(\"Akurasi Model Terbaik (Regresi Logistik)\")\n",
    "print(f\"Akurasi\\t: {result:.5f}\")"
   ]
  },
  {
   "cell_type": "markdown",
   "metadata": {},
   "source": [
    "Disini kita mendapatkan skor yang lebih rendah dari kedua algoritma sebelumnya yang kita ujikan yaitu hanya `68.15%`."
   ]
  },
  {
   "cell_type": "markdown",
   "metadata": {},
   "source": [
    "#### Model Dengan Algoritma Terbaik"
   ]
  },
  {
   "cell_type": "markdown",
   "metadata": {},
   "source": [
    "Dari pengujian sebelumnya, kita memilih algoritma terbaik dengan `hyperparameter`nya adalah `Algoritma Klasifikasi Random Forest` dengan kedalaman pohon `depth` sebanyak `9` dan jumlah pohon sebanyak `13`.\n",
    "\n",
    "Model tersebut hanya menggunakan `60%` dataset sebagai latihan, bagaimana jika kita tingkatkan menjadi `80%`, tentu berharap model akan bisa memprediksi dengan lebih baik.\n",
    "\n",
    "Mari kita gabungkan dataset training dan validasi menjadi satu dataset."
   ]
  },
  {
   "cell_type": "code",
   "execution_count": 13,
   "metadata": {},
   "outputs": [
    {
     "name": "stdout",
     "output_type": "stream",
     "text": [
      "New Dataset: (2249, 5)\n"
     ]
    },
    {
     "data": {
      "text/plain": [
       "RandomForestClassifier(max_depth=9, n_estimators=13, random_state=155)"
      ]
     },
     "execution_count": 13,
     "metadata": {},
     "output_type": "execute_result"
    }
   ],
   "source": [
    "# melatih model menggunakan dataset training dan validasi untuk mendapatkan hasil yang lebih akurat menggunakan random forest\n",
    "\n",
    "# menggabungkan dataset training dan validasi\n",
    "merge_df = pd.concat([df_train,df_validation],axis=0)\n",
    "print('New Dataset:',merge_df.shape)\n",
    "\n",
    "# membagi dataset akhir menjadi fitur dan target\n",
    "features = merge_df.drop(['is_ultra'],axis=1)\n",
    "target = merge_df['is_ultra']\n",
    "\n",
    "# max_depth = 9\n",
    "# n_estimators = 13\n",
    "best_model = RandomForestClassifier(random_state=155, n_estimators=13, max_depth=9)\n",
    "\n",
    "# melatih model terbaik\n",
    "best_model.fit(features,target)"
   ]
  },
  {
   "cell_type": "markdown",
   "metadata": {},
   "source": [
    "#### Menguji Kelayakan Model (Sanity Check)"
   ]
  },
  {
   "cell_type": "markdown",
   "metadata": {},
   "source": [
    "Mari kita uji kelayakanya `sanity check` menggunakan `dataset testing` yang sudah dibuat sebelumnya dimana jawaban yang benar tidak dimasukan pada saat pelatihan model terbaik."
   ]
  },
  {
   "cell_type": "code",
   "execution_count": 14,
   "metadata": {},
   "outputs": [
    {
     "name": "stdout",
     "output_type": "stream",
     "text": [
      "Akurasi best_model: 0.8103626943005181\n"
     ]
    }
   ],
   "source": [
    "# uji kelayakan model (sanity check)\n",
    "accuracy = best_model.score(features_test,target_test)\n",
    "\n",
    "# menampilkan output\n",
    "print(\"Akurasi best_model:\",accuracy)"
   ]
  },
  {
   "cell_type": "markdown",
   "metadata": {},
   "source": [
    "Bisa dilihat ternyata akurasinya masih bertahan disekitar `81%` dan masih diatas ambang batas akurasi skor `75%`."
   ]
  },
  {
   "cell_type": "markdown",
   "metadata": {},
   "source": [
    "### Aplikasi Model Machine Learning"
   ]
  },
  {
   "cell_type": "markdown",
   "metadata": {},
   "source": [
    "Disini kita akan membuat sembarang dataset dimana kita akan mengetahui paket mana yang cocok jika kita memiliki fitur-fitur seperti berikut."
   ]
  },
  {
   "cell_type": "code",
   "execution_count": 15,
   "metadata": {},
   "outputs": [
    {
     "data": {
      "text/html": [
       "<div>\n",
       "<style scoped>\n",
       "    .dataframe tbody tr th:only-of-type {\n",
       "        vertical-align: middle;\n",
       "    }\n",
       "\n",
       "    .dataframe tbody tr th {\n",
       "        vertical-align: top;\n",
       "    }\n",
       "\n",
       "    .dataframe thead th {\n",
       "        text-align: right;\n",
       "    }\n",
       "</style>\n",
       "<table border=\"1\" class=\"dataframe\">\n",
       "  <thead>\n",
       "    <tr style=\"text-align: right;\">\n",
       "      <th></th>\n",
       "      <th>calls</th>\n",
       "      <th>minutes</th>\n",
       "      <th>messages</th>\n",
       "      <th>mb_used</th>\n",
       "    </tr>\n",
       "  </thead>\n",
       "  <tbody>\n",
       "    <tr>\n",
       "      <th>0</th>\n",
       "      <td>70</td>\n",
       "      <td>100</td>\n",
       "      <td>50</td>\n",
       "      <td>10000</td>\n",
       "    </tr>\n",
       "    <tr>\n",
       "      <th>1</th>\n",
       "      <td>20</td>\n",
       "      <td>85</td>\n",
       "      <td>35</td>\n",
       "      <td>500</td>\n",
       "    </tr>\n",
       "    <tr>\n",
       "      <th>2</th>\n",
       "      <td>50</td>\n",
       "      <td>300</td>\n",
       "      <td>300</td>\n",
       "      <td>7000</td>\n",
       "    </tr>\n",
       "    <tr>\n",
       "      <th>3</th>\n",
       "      <td>100</td>\n",
       "      <td>250</td>\n",
       "      <td>60</td>\n",
       "      <td>3000</td>\n",
       "    </tr>\n",
       "    <tr>\n",
       "      <th>4</th>\n",
       "      <td>90</td>\n",
       "      <td>30</td>\n",
       "      <td>500</td>\n",
       "      <td>1000</td>\n",
       "    </tr>\n",
       "  </tbody>\n",
       "</table>\n",
       "</div>"
      ],
      "text/plain": [
       "   calls  minutes  messages  mb_used\n",
       "0     70      100        50    10000\n",
       "1     20       85        35      500\n",
       "2     50      300       300     7000\n",
       "3    100      250        60     3000\n",
       "4     90       30       500     1000"
      ]
     },
     "execution_count": 15,
     "metadata": {},
     "output_type": "execute_result"
    }
   ],
   "source": [
    "# membuat sembarang dataframe untuk menguji model yang terpilih\n",
    "data_test = pd.DataFrame({\n",
    "    'calls':[70,20,50,100,90],\n",
    "    'minutes':[100,85,300,250,30],\n",
    "    'messages':[50,35,300,60,500],\n",
    "    'mb_used':[10000,500,7000,3000,1000]\n",
    "})\n",
    "\n",
    "# menampilkan dataframe\n",
    "data_test"
   ]
  },
  {
   "cell_type": "markdown",
   "metadata": {},
   "source": [
    "Mari kita prediksi paketnya untuk kelima pengguna tersebut."
   ]
  },
  {
   "cell_type": "code",
   "execution_count": 16,
   "metadata": {},
   "outputs": [
    {
     "data": {
      "text/plain": [
       "array([0, 0, 1, 1, 1])"
      ]
     },
     "execution_count": 16,
     "metadata": {},
     "output_type": "execute_result"
    }
   ],
   "source": [
    "# memprediksi data_test\n",
    "best_model.predict(data_test)"
   ]
  },
  {
   "cell_type": "markdown",
   "metadata": {},
   "source": [
    "Bisa dilihat kita bisa memprediksi user yang menggunakan paket `smart` sebanyak 2 user dan paket `ultra` sebanyak 3 user."
   ]
  },
  {
   "cell_type": "markdown",
   "metadata": {},
   "source": [
    "### Kesimpulan Umum"
   ]
  },
  {
   "cell_type": "markdown",
   "metadata": {},
   "source": [
    "Dari projek ini kita sudah memuat library yang diperlukan, mempersiapkan dataset, membagi dataset, melatih serta menguji `model machine learning` untuk memprediksi paket yang direkomendasikan kepada user berdasarkan prilaku user.\n",
    "\n",
    "Dan didapatkan kesimpulan sebagai berikut:\n",
    "- Pembagian dataset untuk melatih serta menguji `model machine learning` dibagi menjadi `60%` untuk `training`, `20%` untuk `validasi` dan `20%` untuk `testing`.\n",
    "- Algoritma yang diujikan diantaranya: `Klasifikasi Decision Tree`, `Klasifikasi Random Forest` dan `Regresi Logistik`.\n",
    "- Algoritma terbaik dengan `hyperparameter`nya adalah `Algoritma Klasifikasi Random Forest` dengan kedalaman pohon `depth` sebanyak `9` dan jumlah pohon sebanyak `13` menghasilkan akurasi skor `82.16%`.\n",
    "- Pengujian kelayakan `Sanity Check` dilakukan dan model mampu mempertahankan akurasi skornya sebesar `81.03%`."
   ]
  },
  {
   "cell_type": "markdown",
   "metadata": {},
   "source": [
    "<div class=\"alert alert-success\">\n",
    "<b>Chamdani's comment v.1</b> <a class=\"tocSkip\"></a>\n",
    "\n",
    "Hebat, Kerja bagus!\n",
    "\n",
    "</div>"
   ]
  }
 ],
 "metadata": {
  "kernelspec": {
   "display_name": "Python 3 (ipykernel)",
   "language": "python",
   "name": "python3"
  },
  "language_info": {
   "codemirror_mode": {
    "name": "ipython",
    "version": 3
   },
   "file_extension": ".py",
   "mimetype": "text/x-python",
   "name": "python",
   "nbconvert_exporter": "python",
   "pygments_lexer": "ipython3",
   "version": "3.9.19"
  },
  "toc": {
   "base_numbering": 1,
   "nav_menu": {},
   "number_sections": true,
   "sideBar": true,
   "skip_h1_title": true,
   "title_cell": "Table of Contents",
   "title_sidebar": "Contents",
   "toc_cell": false,
   "toc_position": {},
   "toc_section_display": true,
   "toc_window_display": true
  }
 },
 "nbformat": 4,
 "nbformat_minor": 2
}
