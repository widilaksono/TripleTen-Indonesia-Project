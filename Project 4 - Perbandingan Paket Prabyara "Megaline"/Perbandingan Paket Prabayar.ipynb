{
 "cells": [
  {
   "cell_type": "markdown",
   "metadata": {},
   "source": [
    "# Studi Perbandingan Paket Prabayar: Surf vs. Ultimate di Perusahaan Megaline\n",
    "\n",
    "Sebagai seorang analis di perusahaan operator telekomunikasi bernama `Megaline`. Perusahaan tersebut menawarkan kliennya dua jenis paket prabayar, yaitu `paket Surf dan paket Ultimate`. Departemen periklanan ingin mengetahui paket prabayar mana yang menghasilkan lebih banyak pendapatan, sehingga mereka bisa membuat anggaran iklan yang sesuai.\n",
    "\n",
    "Kita akan melakukan analisis awal untuk paket-paket prabayar tersebut berdasarkan sampel klien yang berukuran relatif kecil. Anda memiliki `500 data klien Megaline`, yang berisi informasi seperti: siapa mereka, dari mana asalnya, jenis paket apa yang mereka gunakan, serta jumlah panggilan dan pesan yang mereka kirim di tahun 2018. Tugas kita adalah untuk menganalisis perilaku para pengguna, lalu menentukan paket prabayar manakah yang lebih menguntungkan."
   ]
  },
  {
   "cell_type": "markdown",
   "metadata": {},
   "source": [
    "## Tujuan Proyek\n",
    "1. Menentukan Paket Prabayar mana yang Lebih Menguntungkan"
   ]
  },
  {
   "cell_type": "markdown",
   "metadata": {},
   "source": [
    "## Hipotesis\n",
    "1. Apakah benar rata-rata pendapatan dari pengguna `paket telepon Ultimate dan Surf` berbeda?\n",
    "2. Apakah rata-rata pendapatan dari pengguna di `wilayah NY-NJ` berbeda dengan pendapatan pengguna dari `wilayah lain`?"
   ]
  },
  {
   "cell_type": "markdown",
   "metadata": {},
   "source": [
    "# Konten <a id='back'></a>\n",
    "\n",
    "* [1.Studi Perbandingan Paket Prabayar: Surf vs. Ultimate di Perusahaan Megaline](#intro)\n",
    "    * [1.1 Tujuan Proyek](#cont_1)\n",
    "    * [1.2 Hipotesis](#cont_2)\n",
    "* [2. Konten](#cont_3)\n",
    "    * [2.1 Inisialisasi](#cont_4)\n",
    "    * [2.2 Memuat Data](#cont_8)\n",
    "    * [2.3 Mempersiapkan Data](#cont_14)\n",
    "    * [2.4 Users](#cont_15)\n",
    "      * [2.4.1 Memperbaiki Data](#cont_15)\n",
    "      * [2.4.2 Memperkaya Kualitas Data](#cont_15)\n",
    "    * [2.5 Plans](#cont_20)\n",
    "    * [2.6 Calls](#cont_22)\n",
    "      * [2.6.1 Memperbaiki Data](#cont_25)\n",
    "      * [2.6.2 Memperkaya Kualitas Data](#cont_26)   \n",
    "    * [2.7 Messages](#cont_23)\n",
    "      * [2.7.1 Memperbaiki Data](#cont_25)\n",
    "      * [2.7.2 Memperkaya Kualitas Data](#cont_26)   \n",
    "    * [2.8 Internet](#cont_24)\n",
    "      * [2.8.1 Memperbaiki Data](#cont_25)\n",
    "      * [2.8.2 Memperkaya Kualitas Data](#cont_26)\n",
    "    * [2.9 Mempelajari Syarat dan Kondisi Terkait Paket Prabayar](#cont_26)\n",
    "    * [2.10 Mengagregasi Data per Pengguna](#cont_26)\n",
    "    * [2.11 Mempelajari Perilaku Pengguna](#cont_26)\n",
    "      * [2.11.1 Panggilan](#cont_26)\n",
    "      * [2.11.2 Pesan/SMS](#cont_26)\n",
    "      * [2.11.3 Internet](#cont_26)\n",
    "    * [2.12 Pendapatan](#cont_26)\n",
    "    * [2.13 Menguji Hipotesis Statistik](#cont_26)\n",
    "      * [2.13.1 Pengujian Hipotesis 1: Pendapatan Rata-rata dari Pengguna Paket Prabayar Ultimate dan Surf Berbeda](#cont_26)\n",
    "      * [2.13.2 Pengujian Hipotesis 2: Pendapatan Rata-rata dari Pengguna di Wilayah NY-NJ Berbeda dengan Pendapatan Pengguna dari Wilayah Lain](#cont_26)\n",
    "    * [2.14 Kesimpulan Umum](#cont_26)"
   ]
  },
  {
   "cell_type": "markdown",
   "metadata": {},
   "source": [
    "## Inisialisasi"
   ]
  },
  {
   "cell_type": "markdown",
   "metadata": {},
   "source": [
    "Kita akan menggunakan beberapa library untuk menganalisa data saat ini yaitu `pandas`, `numpy`, `matplotlib`, `seaborn`, `math`, dan `scipy`."
   ]
  },
  {
   "cell_type": "code",
   "execution_count": 1,
   "metadata": {},
   "outputs": [],
   "source": [
    "# Muat semua library\n",
    "\n",
    "import pandas as pd # memproses dataframe\n",
    "import numpy as np # memproses statistik deskriptif\n",
    "import matplotlib.pyplot as plt # memvisualisasikan data\n",
    "import seaborn as sns # memvisualisasikan data\n",
    "import math as mt # menambahkan fungsi matematika\n",
    "from scipy import stats as st # memproses hipotesis"
   ]
  },
  {
   "cell_type": "markdown",
   "metadata": {},
   "source": [
    "## Memuat Data"
   ]
  },
  {
   "cell_type": "markdown",
   "metadata": {},
   "source": [
    "Megaline membagi data kedalam beberapa frame yaitu `calls`, `internet`, `messages`, `plans`, dan `users`, mari kita muat datanya terlebih dahulu."
   ]
  },
  {
   "cell_type": "code",
   "execution_count": 2,
   "metadata": {},
   "outputs": [],
   "source": [
    "# Muat file data ke dalam DataFrame yang berbeda\n",
    "calls = pd.read_csv('/datasets/megaline_calls.csv')\n",
    "internet = pd.read_csv('/datasets/megaline_internet.csv')\n",
    "messages = pd.read_csv('/datasets/megaline_messages.csv')\n",
    "plans = pd.read_csv('/datasets/megaline_plans.csv')\n",
    "users = pd.read_csv('/datasets/megaline_users.csv')"
   ]
  },
  {
   "cell_type": "markdown",
   "metadata": {},
   "source": [
    "## Mempersiapkan Data"
   ]
  },
  {
   "cell_type": "markdown",
   "metadata": {},
   "source": [
    "Selanjutnya kita cek terlebih dahulu apakah ada `data yang hilang` pada setiap file data."
   ]
  },
  {
   "cell_type": "markdown",
   "metadata": {},
   "source": [
    "Cek data yang hilang pada `calls`"
   ]
  },
  {
   "cell_type": "code",
   "execution_count": 3,
   "metadata": {},
   "outputs": [
    {
     "data": {
      "text/html": [
       "<div>\n",
       "<style scoped>\n",
       "    .dataframe tbody tr th:only-of-type {\n",
       "        vertical-align: middle;\n",
       "    }\n",
       "\n",
       "    .dataframe tbody tr th {\n",
       "        vertical-align: top;\n",
       "    }\n",
       "\n",
       "    .dataframe thead th {\n",
       "        text-align: right;\n",
       "    }\n",
       "</style>\n",
       "<table border=\"1\" class=\"dataframe\">\n",
       "  <thead>\n",
       "    <tr style=\"text-align: right;\">\n",
       "      <th></th>\n",
       "      <th>missing_values</th>\n",
       "      <th>% of total</th>\n",
       "    </tr>\n",
       "  </thead>\n",
       "  <tbody>\n",
       "    <tr>\n",
       "      <th>id</th>\n",
       "      <td>0</td>\n",
       "      <td>0.0</td>\n",
       "    </tr>\n",
       "    <tr>\n",
       "      <th>user_id</th>\n",
       "      <td>0</td>\n",
       "      <td>0.0</td>\n",
       "    </tr>\n",
       "    <tr>\n",
       "      <th>call_date</th>\n",
       "      <td>0</td>\n",
       "      <td>0.0</td>\n",
       "    </tr>\n",
       "    <tr>\n",
       "      <th>duration</th>\n",
       "      <td>0</td>\n",
       "      <td>0.0</td>\n",
       "    </tr>\n",
       "  </tbody>\n",
       "</table>\n",
       "</div>"
      ],
      "text/plain": [
       "           missing_values  % of total\n",
       "id                      0         0.0\n",
       "user_id                 0         0.0\n",
       "call_date               0         0.0\n",
       "duration                0         0.0"
      ]
     },
     "execution_count": 3,
     "metadata": {},
     "output_type": "execute_result"
    }
   ],
   "source": [
    "# Melakukan pengecekan apakah ada nilai yang hilang pada dataset\n",
    "calls_missed = calls.isna().sum().to_frame()\n",
    "calls_missed = calls_missed.rename(columns={0: 'missing_values'})\n",
    "calls_missed['% of total'] = (calls_missed['missing_values'] / calls.shape[0]).round(2)\n",
    "calls_missed.sort_values(by='missing_values', ascending=False)"
   ]
  },
  {
   "cell_type": "markdown",
   "metadata": {},
   "source": [
    "Tidak ada data yang hilang pada `calls`"
   ]
  },
  {
   "cell_type": "markdown",
   "metadata": {},
   "source": [
    "Cek data yang hilang pada `internet`"
   ]
  },
  {
   "cell_type": "code",
   "execution_count": 4,
   "metadata": {},
   "outputs": [
    {
     "data": {
      "text/html": [
       "<div>\n",
       "<style scoped>\n",
       "    .dataframe tbody tr th:only-of-type {\n",
       "        vertical-align: middle;\n",
       "    }\n",
       "\n",
       "    .dataframe tbody tr th {\n",
       "        vertical-align: top;\n",
       "    }\n",
       "\n",
       "    .dataframe thead th {\n",
       "        text-align: right;\n",
       "    }\n",
       "</style>\n",
       "<table border=\"1\" class=\"dataframe\">\n",
       "  <thead>\n",
       "    <tr style=\"text-align: right;\">\n",
       "      <th></th>\n",
       "      <th>missing_values</th>\n",
       "      <th>% of total</th>\n",
       "    </tr>\n",
       "  </thead>\n",
       "  <tbody>\n",
       "    <tr>\n",
       "      <th>id</th>\n",
       "      <td>0</td>\n",
       "      <td>0.0</td>\n",
       "    </tr>\n",
       "    <tr>\n",
       "      <th>user_id</th>\n",
       "      <td>0</td>\n",
       "      <td>0.0</td>\n",
       "    </tr>\n",
       "    <tr>\n",
       "      <th>session_date</th>\n",
       "      <td>0</td>\n",
       "      <td>0.0</td>\n",
       "    </tr>\n",
       "    <tr>\n",
       "      <th>mb_used</th>\n",
       "      <td>0</td>\n",
       "      <td>0.0</td>\n",
       "    </tr>\n",
       "  </tbody>\n",
       "</table>\n",
       "</div>"
      ],
      "text/plain": [
       "              missing_values  % of total\n",
       "id                         0         0.0\n",
       "user_id                    0         0.0\n",
       "session_date               0         0.0\n",
       "mb_used                    0         0.0"
      ]
     },
     "execution_count": 4,
     "metadata": {},
     "output_type": "execute_result"
    }
   ],
   "source": [
    "# Melakukan pengecekan apakah ada nilai yang hilang pada dataset\n",
    "internet_missed = internet.isna().sum().to_frame()\n",
    "internet_missed = internet_missed.rename(columns={0: 'missing_values'})\n",
    "internet_missed['% of total'] = (internet_missed['missing_values'] / internet.shape[0]).round(2)\n",
    "internet_missed.sort_values(by='missing_values', ascending=False)"
   ]
  },
  {
   "cell_type": "markdown",
   "metadata": {},
   "source": [
    "Tidak ada data yang hilang pada `internet`"
   ]
  },
  {
   "cell_type": "markdown",
   "metadata": {},
   "source": [
    "Cek data yang hilang pada `messages`"
   ]
  },
  {
   "cell_type": "code",
   "execution_count": 5,
   "metadata": {},
   "outputs": [
    {
     "data": {
      "text/html": [
       "<div>\n",
       "<style scoped>\n",
       "    .dataframe tbody tr th:only-of-type {\n",
       "        vertical-align: middle;\n",
       "    }\n",
       "\n",
       "    .dataframe tbody tr th {\n",
       "        vertical-align: top;\n",
       "    }\n",
       "\n",
       "    .dataframe thead th {\n",
       "        text-align: right;\n",
       "    }\n",
       "</style>\n",
       "<table border=\"1\" class=\"dataframe\">\n",
       "  <thead>\n",
       "    <tr style=\"text-align: right;\">\n",
       "      <th></th>\n",
       "      <th>missing_values</th>\n",
       "      <th>% of total</th>\n",
       "    </tr>\n",
       "  </thead>\n",
       "  <tbody>\n",
       "    <tr>\n",
       "      <th>id</th>\n",
       "      <td>0</td>\n",
       "      <td>0.0</td>\n",
       "    </tr>\n",
       "    <tr>\n",
       "      <th>user_id</th>\n",
       "      <td>0</td>\n",
       "      <td>0.0</td>\n",
       "    </tr>\n",
       "    <tr>\n",
       "      <th>message_date</th>\n",
       "      <td>0</td>\n",
       "      <td>0.0</td>\n",
       "    </tr>\n",
       "  </tbody>\n",
       "</table>\n",
       "</div>"
      ],
      "text/plain": [
       "              missing_values  % of total\n",
       "id                         0         0.0\n",
       "user_id                    0         0.0\n",
       "message_date               0         0.0"
      ]
     },
     "execution_count": 5,
     "metadata": {},
     "output_type": "execute_result"
    }
   ],
   "source": [
    "# Melakukan pengecekan apakah ada nilai yang hilang pada dataset\n",
    "messages_missed = messages.isna().sum().to_frame()\n",
    "messages_missed = messages_missed.rename(columns={0: 'missing_values'})\n",
    "messages_missed['% of total'] = (messages_missed['missing_values'] / messages.shape[0]).round(2)\n",
    "messages_missed.sort_values(by='missing_values', ascending=False)"
   ]
  },
  {
   "cell_type": "markdown",
   "metadata": {},
   "source": [
    "Tidak ada yang hilang pada `messages`"
   ]
  },
  {
   "cell_type": "markdown",
   "metadata": {},
   "source": [
    "Cek data yang hilang pada `plans`"
   ]
  },
  {
   "cell_type": "code",
   "execution_count": 6,
   "metadata": {},
   "outputs": [
    {
     "data": {
      "text/html": [
       "<div>\n",
       "<style scoped>\n",
       "    .dataframe tbody tr th:only-of-type {\n",
       "        vertical-align: middle;\n",
       "    }\n",
       "\n",
       "    .dataframe tbody tr th {\n",
       "        vertical-align: top;\n",
       "    }\n",
       "\n",
       "    .dataframe thead th {\n",
       "        text-align: right;\n",
       "    }\n",
       "</style>\n",
       "<table border=\"1\" class=\"dataframe\">\n",
       "  <thead>\n",
       "    <tr style=\"text-align: right;\">\n",
       "      <th></th>\n",
       "      <th>missing_values</th>\n",
       "      <th>% of total</th>\n",
       "    </tr>\n",
       "  </thead>\n",
       "  <tbody>\n",
       "    <tr>\n",
       "      <th>messages_included</th>\n",
       "      <td>0</td>\n",
       "      <td>0.0</td>\n",
       "    </tr>\n",
       "    <tr>\n",
       "      <th>mb_per_month_included</th>\n",
       "      <td>0</td>\n",
       "      <td>0.0</td>\n",
       "    </tr>\n",
       "    <tr>\n",
       "      <th>minutes_included</th>\n",
       "      <td>0</td>\n",
       "      <td>0.0</td>\n",
       "    </tr>\n",
       "    <tr>\n",
       "      <th>usd_monthly_pay</th>\n",
       "      <td>0</td>\n",
       "      <td>0.0</td>\n",
       "    </tr>\n",
       "    <tr>\n",
       "      <th>usd_per_gb</th>\n",
       "      <td>0</td>\n",
       "      <td>0.0</td>\n",
       "    </tr>\n",
       "    <tr>\n",
       "      <th>usd_per_message</th>\n",
       "      <td>0</td>\n",
       "      <td>0.0</td>\n",
       "    </tr>\n",
       "    <tr>\n",
       "      <th>usd_per_minute</th>\n",
       "      <td>0</td>\n",
       "      <td>0.0</td>\n",
       "    </tr>\n",
       "    <tr>\n",
       "      <th>plan_name</th>\n",
       "      <td>0</td>\n",
       "      <td>0.0</td>\n",
       "    </tr>\n",
       "  </tbody>\n",
       "</table>\n",
       "</div>"
      ],
      "text/plain": [
       "                       missing_values  % of total\n",
       "messages_included                   0         0.0\n",
       "mb_per_month_included               0         0.0\n",
       "minutes_included                    0         0.0\n",
       "usd_monthly_pay                     0         0.0\n",
       "usd_per_gb                          0         0.0\n",
       "usd_per_message                     0         0.0\n",
       "usd_per_minute                      0         0.0\n",
       "plan_name                           0         0.0"
      ]
     },
     "execution_count": 6,
     "metadata": {},
     "output_type": "execute_result"
    }
   ],
   "source": [
    "# Melakukan pengecekan apakah ada nilai yang hilang pada dataset\n",
    "plans_missed = plans.isna().sum().to_frame()\n",
    "plans_missed = plans_missed.rename(columns={0: 'missing_values'})\n",
    "plans_missed['% of total'] = (plans_missed['missing_values'] / plans.shape[0]).round(2)\n",
    "plans_missed.sort_values(by='missing_values', ascending=False)"
   ]
  },
  {
   "cell_type": "markdown",
   "metadata": {},
   "source": [
    "Tidak ada yang hilang pada `plans`"
   ]
  },
  {
   "cell_type": "markdown",
   "metadata": {},
   "source": [
    "Cek data yang hilang pada `users`"
   ]
  },
  {
   "cell_type": "code",
   "execution_count": 7,
   "metadata": {},
   "outputs": [
    {
     "data": {
      "text/html": [
       "<div>\n",
       "<style scoped>\n",
       "    .dataframe tbody tr th:only-of-type {\n",
       "        vertical-align: middle;\n",
       "    }\n",
       "\n",
       "    .dataframe tbody tr th {\n",
       "        vertical-align: top;\n",
       "    }\n",
       "\n",
       "    .dataframe thead th {\n",
       "        text-align: right;\n",
       "    }\n",
       "</style>\n",
       "<table border=\"1\" class=\"dataframe\">\n",
       "  <thead>\n",
       "    <tr style=\"text-align: right;\">\n",
       "      <th></th>\n",
       "      <th>missing_values</th>\n",
       "      <th>% of total</th>\n",
       "    </tr>\n",
       "  </thead>\n",
       "  <tbody>\n",
       "    <tr>\n",
       "      <th>churn_date</th>\n",
       "      <td>466</td>\n",
       "      <td>0.93</td>\n",
       "    </tr>\n",
       "    <tr>\n",
       "      <th>user_id</th>\n",
       "      <td>0</td>\n",
       "      <td>0.00</td>\n",
       "    </tr>\n",
       "    <tr>\n",
       "      <th>first_name</th>\n",
       "      <td>0</td>\n",
       "      <td>0.00</td>\n",
       "    </tr>\n",
       "    <tr>\n",
       "      <th>last_name</th>\n",
       "      <td>0</td>\n",
       "      <td>0.00</td>\n",
       "    </tr>\n",
       "    <tr>\n",
       "      <th>age</th>\n",
       "      <td>0</td>\n",
       "      <td>0.00</td>\n",
       "    </tr>\n",
       "    <tr>\n",
       "      <th>city</th>\n",
       "      <td>0</td>\n",
       "      <td>0.00</td>\n",
       "    </tr>\n",
       "    <tr>\n",
       "      <th>reg_date</th>\n",
       "      <td>0</td>\n",
       "      <td>0.00</td>\n",
       "    </tr>\n",
       "    <tr>\n",
       "      <th>plan</th>\n",
       "      <td>0</td>\n",
       "      <td>0.00</td>\n",
       "    </tr>\n",
       "  </tbody>\n",
       "</table>\n",
       "</div>"
      ],
      "text/plain": [
       "            missing_values  % of total\n",
       "churn_date             466        0.93\n",
       "user_id                  0        0.00\n",
       "first_name               0        0.00\n",
       "last_name                0        0.00\n",
       "age                      0        0.00\n",
       "city                     0        0.00\n",
       "reg_date                 0        0.00\n",
       "plan                     0        0.00"
      ]
     },
     "execution_count": 7,
     "metadata": {},
     "output_type": "execute_result"
    }
   ],
   "source": [
    "# Melakukan pengecekan apakah ada nilai yang hilang pada dataset\n",
    "users_missed = users.isna().sum().to_frame()\n",
    "users_missed = users_missed.rename(columns={0: 'missing_values'})\n",
    "users_missed['% of total'] = (users_missed['missing_values'] / users.shape[0]).round(2)\n",
    "users_missed.sort_values(by='missing_values', ascending=False)"
   ]
  },
  {
   "cell_type": "markdown",
   "metadata": {},
   "source": [
    "Terdapat data yang hilang pada `users`, dan pada kolom `churn_date`. kita akan perbaiki data yang hilang ini pada bab berikutnya."
   ]
  },
  {
   "cell_type": "markdown",
   "metadata": {},
   "source": [
    "## Users"
   ]
  },
  {
   "cell_type": "markdown",
   "metadata": {},
   "source": [
    "Kita akan melanjutkan analisa data dengan semua data yang ada, dan kita mulai dengan `users` dahulu, yang mempunyai data yang hilang."
   ]
  },
  {
   "cell_type": "code",
   "execution_count": 8,
   "metadata": {},
   "outputs": [
    {
     "name": "stdout",
     "output_type": "stream",
     "text": [
      "<class 'pandas.core.frame.DataFrame'>\n",
      "RangeIndex: 500 entries, 0 to 499\n",
      "Data columns (total 8 columns):\n",
      " #   Column      Non-Null Count  Dtype \n",
      "---  ------      --------------  ----- \n",
      " 0   user_id     500 non-null    int64 \n",
      " 1   first_name  500 non-null    object\n",
      " 2   last_name   500 non-null    object\n",
      " 3   age         500 non-null    int64 \n",
      " 4   city        500 non-null    object\n",
      " 5   reg_date    500 non-null    object\n",
      " 6   plan        500 non-null    object\n",
      " 7   churn_date  34 non-null     object\n",
      "dtypes: int64(2), object(6)\n",
      "memory usage: 31.4+ KB\n"
     ]
    }
   ],
   "source": [
    "# Tampilkan informasi/rangkuman umum tentang users\n",
    "users.info()\n"
   ]
  },
  {
   "cell_type": "markdown",
   "metadata": {},
   "source": [
    "Dalam type data ada satu tipe data yang salah, yaitu pada `reg_date`. Dimana kita perlu mengubahnya ke type `objek` menjadi `datetime`."
   ]
  },
  {
   "cell_type": "code",
   "execution_count": 9,
   "metadata": {},
   "outputs": [
    {
     "data": {
      "text/html": [
       "<div>\n",
       "<style scoped>\n",
       "    .dataframe tbody tr th:only-of-type {\n",
       "        vertical-align: middle;\n",
       "    }\n",
       "\n",
       "    .dataframe tbody tr th {\n",
       "        vertical-align: top;\n",
       "    }\n",
       "\n",
       "    .dataframe thead th {\n",
       "        text-align: right;\n",
       "    }\n",
       "</style>\n",
       "<table border=\"1\" class=\"dataframe\">\n",
       "  <thead>\n",
       "    <tr style=\"text-align: right;\">\n",
       "      <th></th>\n",
       "      <th>user_id</th>\n",
       "      <th>first_name</th>\n",
       "      <th>last_name</th>\n",
       "      <th>age</th>\n",
       "      <th>city</th>\n",
       "      <th>reg_date</th>\n",
       "      <th>plan</th>\n",
       "      <th>churn_date</th>\n",
       "    </tr>\n",
       "  </thead>\n",
       "  <tbody>\n",
       "    <tr>\n",
       "      <th>23</th>\n",
       "      <td>1023</td>\n",
       "      <td>Jack</td>\n",
       "      <td>Delaney</td>\n",
       "      <td>70</td>\n",
       "      <td>Omaha-Council Bluffs, NE-IA MSA</td>\n",
       "      <td>2018-07-06</td>\n",
       "      <td>surf</td>\n",
       "      <td>NaN</td>\n",
       "    </tr>\n",
       "    <tr>\n",
       "      <th>195</th>\n",
       "      <td>1195</td>\n",
       "      <td>Roy</td>\n",
       "      <td>Velez</td>\n",
       "      <td>60</td>\n",
       "      <td>Portland-Vancouver-Hillsboro, OR-WA MSA</td>\n",
       "      <td>2018-06-09</td>\n",
       "      <td>surf</td>\n",
       "      <td>NaN</td>\n",
       "    </tr>\n",
       "    <tr>\n",
       "      <th>353</th>\n",
       "      <td>1353</td>\n",
       "      <td>Emerson</td>\n",
       "      <td>Whitfield</td>\n",
       "      <td>56</td>\n",
       "      <td>North Port-Sarasota-Bradenton, FL MSA</td>\n",
       "      <td>2018-03-27</td>\n",
       "      <td>surf</td>\n",
       "      <td>NaN</td>\n",
       "    </tr>\n",
       "    <tr>\n",
       "      <th>88</th>\n",
       "      <td>1088</td>\n",
       "      <td>Paris</td>\n",
       "      <td>Robertson</td>\n",
       "      <td>64</td>\n",
       "      <td>Phoenix-Mesa-Chandler, AZ MSA</td>\n",
       "      <td>2018-05-27</td>\n",
       "      <td>ultimate</td>\n",
       "      <td>NaN</td>\n",
       "    </tr>\n",
       "    <tr>\n",
       "      <th>275</th>\n",
       "      <td>1275</td>\n",
       "      <td>Elvie</td>\n",
       "      <td>Velazquez</td>\n",
       "      <td>33</td>\n",
       "      <td>New York-Newark-Jersey City, NY-NJ-PA MSA</td>\n",
       "      <td>2018-11-29</td>\n",
       "      <td>ultimate</td>\n",
       "      <td>NaN</td>\n",
       "    </tr>\n",
       "  </tbody>\n",
       "</table>\n",
       "</div>"
      ],
      "text/plain": [
       "     user_id first_name  last_name  age  \\\n",
       "23      1023       Jack    Delaney   70   \n",
       "195     1195        Roy      Velez   60   \n",
       "353     1353    Emerson  Whitfield   56   \n",
       "88      1088      Paris  Robertson   64   \n",
       "275     1275      Elvie  Velazquez   33   \n",
       "\n",
       "                                          city    reg_date      plan  \\\n",
       "23             Omaha-Council Bluffs, NE-IA MSA  2018-07-06      surf   \n",
       "195    Portland-Vancouver-Hillsboro, OR-WA MSA  2018-06-09      surf   \n",
       "353      North Port-Sarasota-Bradenton, FL MSA  2018-03-27      surf   \n",
       "88               Phoenix-Mesa-Chandler, AZ MSA  2018-05-27  ultimate   \n",
       "275  New York-Newark-Jersey City, NY-NJ-PA MSA  2018-11-29  ultimate   \n",
       "\n",
       "    churn_date  \n",
       "23         NaN  \n",
       "195        NaN  \n",
       "353        NaN  \n",
       "88         NaN  \n",
       "275        NaN  "
      ]
     },
     "execution_count": 9,
     "metadata": {},
     "output_type": "execute_result"
    }
   ],
   "source": [
    "# cek sampel data\n",
    "users.sample(5)"
   ]
  },
  {
   "cell_type": "code",
   "execution_count": 10,
   "metadata": {},
   "outputs": [
    {
     "data": {
      "text/plain": [
       "0"
      ]
     },
     "execution_count": 10,
     "metadata": {},
     "output_type": "execute_result"
    }
   ],
   "source": [
    "# cek duplikat data\n",
    "users.duplicated().sum()"
   ]
  },
  {
   "cell_type": "markdown",
   "metadata": {},
   "source": [
    "Terbukti bahwa ada data yang hilang pada users, kolom `churn_date`, dan tidak ditemukan data yang duplikat pada `users`. Selanjutnya mari kita rubah tipe data pada `reg_date` dan mengatasai nilai yang hilang pada `churn_date`"
   ]
  },
  {
   "cell_type": "markdown",
   "metadata": {},
   "source": [
    "### Memperbaiki Data"
   ]
  },
  {
   "cell_type": "markdown",
   "metadata": {},
   "source": [
    "Kita akan memulai dengan mengubah tipe data pada `reg_date` dari `object` menjadi `datetime`."
   ]
  },
  {
   "cell_type": "markdown",
   "metadata": {},
   "source": [
    "Dari sampel data tidak terlihat ada data yang hilang, mari kita cek duplikatnya."
   ]
  },
  {
   "cell_type": "code",
   "execution_count": 11,
   "metadata": {},
   "outputs": [
    {
     "name": "stdout",
     "output_type": "stream",
     "text": [
      "<class 'pandas.core.frame.DataFrame'>\n",
      "RangeIndex: 500 entries, 0 to 499\n",
      "Data columns (total 8 columns):\n",
      " #   Column      Non-Null Count  Dtype         \n",
      "---  ------      --------------  -----         \n",
      " 0   user_id     500 non-null    int64         \n",
      " 1   first_name  500 non-null    object        \n",
      " 2   last_name   500 non-null    object        \n",
      " 3   age         500 non-null    int64         \n",
      " 4   city        500 non-null    object        \n",
      " 5   reg_date    500 non-null    datetime64[ns]\n",
      " 6   plan        500 non-null    object        \n",
      " 7   churn_date  34 non-null     object        \n",
      "dtypes: datetime64[ns](1), int64(2), object(5)\n",
      "memory usage: 31.4+ KB\n"
     ]
    }
   ],
   "source": [
    "# memperbaiki tipe data yang salah pada kolom 'reg_date'\n",
    "# merubah tipe data `objek` menjadi `datetime`\n",
    "users['reg_date'] = pd.to_datetime(users['reg_date'], format = '%Y-%m-%d')\n",
    "\n",
    "# menampilkan informasi `users`\n",
    "users.info()\n"
   ]
  },
  {
   "cell_type": "markdown",
   "metadata": {},
   "source": [
    "Kita sudah berhasil mengubah tipe data pada `reg_date`. Sekarang kita lanjutkan mengatasi nilai yang hilang pada kolom `churn_date`."
   ]
  },
  {
   "cell_type": "markdown",
   "metadata": {},
   "source": [
    "Dikarenakan data yang hilang berarti customer ada kemungkinan belum melakukan churn, maka kita akan biarkan saja data tersebut tetap null. Namun, kita akan rubah formatnya dari `object` menjadi `datetime`."
   ]
  },
  {
   "cell_type": "code",
   "execution_count": 12,
   "metadata": {},
   "outputs": [
    {
     "name": "stdout",
     "output_type": "stream",
     "text": [
      "<class 'pandas.core.frame.DataFrame'>\n",
      "RangeIndex: 500 entries, 0 to 499\n",
      "Data columns (total 8 columns):\n",
      " #   Column      Non-Null Count  Dtype         \n",
      "---  ------      --------------  -----         \n",
      " 0   user_id     500 non-null    int64         \n",
      " 1   first_name  500 non-null    object        \n",
      " 2   last_name   500 non-null    object        \n",
      " 3   age         500 non-null    int64         \n",
      " 4   city        500 non-null    object        \n",
      " 5   reg_date    500 non-null    datetime64[ns]\n",
      " 6   plan        500 non-null    object        \n",
      " 7   churn_date  34 non-null     datetime64[ns]\n",
      "dtypes: datetime64[ns](2), int64(2), object(4)\n",
      "memory usage: 31.4+ KB\n"
     ]
    }
   ],
   "source": [
    "# Mengubah tipe data `churn_date` menjadi `datetime`\n",
    "users['churn_date'] = pd.to_datetime(users['churn_date'], format='%Y-%m-%d')\n",
    "\n",
    "# Menampilkan informasi `users`\n",
    "users.info()"
   ]
  },
  {
   "cell_type": "code",
   "execution_count": 13,
   "metadata": {},
   "outputs": [
    {
     "data": {
      "text/html": [
       "<div>\n",
       "<style scoped>\n",
       "    .dataframe tbody tr th:only-of-type {\n",
       "        vertical-align: middle;\n",
       "    }\n",
       "\n",
       "    .dataframe tbody tr th {\n",
       "        vertical-align: top;\n",
       "    }\n",
       "\n",
       "    .dataframe thead th {\n",
       "        text-align: right;\n",
       "    }\n",
       "</style>\n",
       "<table border=\"1\" class=\"dataframe\">\n",
       "  <thead>\n",
       "    <tr style=\"text-align: right;\">\n",
       "      <th></th>\n",
       "      <th>user_id</th>\n",
       "      <th>first_name</th>\n",
       "      <th>last_name</th>\n",
       "      <th>age</th>\n",
       "      <th>city</th>\n",
       "      <th>reg_date</th>\n",
       "      <th>plan</th>\n",
       "      <th>churn_date</th>\n",
       "    </tr>\n",
       "  </thead>\n",
       "  <tbody>\n",
       "    <tr>\n",
       "      <th>367</th>\n",
       "      <td>1367</td>\n",
       "      <td>Minh</td>\n",
       "      <td>Fischer</td>\n",
       "      <td>18</td>\n",
       "      <td>Baltimore-Columbia-Towson, MD MSA</td>\n",
       "      <td>2018-07-23</td>\n",
       "      <td>surf</td>\n",
       "      <td>NaT</td>\n",
       "    </tr>\n",
       "    <tr>\n",
       "      <th>311</th>\n",
       "      <td>1311</td>\n",
       "      <td>Cherlyn</td>\n",
       "      <td>Saunders</td>\n",
       "      <td>69</td>\n",
       "      <td>Memphis, TN-MS-AR MSA</td>\n",
       "      <td>2018-06-27</td>\n",
       "      <td>ultimate</td>\n",
       "      <td>NaT</td>\n",
       "    </tr>\n",
       "    <tr>\n",
       "      <th>269</th>\n",
       "      <td>1269</td>\n",
       "      <td>Irving</td>\n",
       "      <td>Thompson</td>\n",
       "      <td>39</td>\n",
       "      <td>Dallas-Fort Worth-Arlington, TX MSA</td>\n",
       "      <td>2018-09-13</td>\n",
       "      <td>ultimate</td>\n",
       "      <td>2018-12-15</td>\n",
       "    </tr>\n",
       "    <tr>\n",
       "      <th>75</th>\n",
       "      <td>1075</td>\n",
       "      <td>Salena</td>\n",
       "      <td>Bates</td>\n",
       "      <td>35</td>\n",
       "      <td>Philadelphia-Camden-Wilmington, PA-NJ-DE-MD MSA</td>\n",
       "      <td>2018-08-06</td>\n",
       "      <td>surf</td>\n",
       "      <td>NaT</td>\n",
       "    </tr>\n",
       "    <tr>\n",
       "      <th>289</th>\n",
       "      <td>1289</td>\n",
       "      <td>Steve</td>\n",
       "      <td>Blair</td>\n",
       "      <td>47</td>\n",
       "      <td>Detroit-Warren-Dearborn, MI MSA</td>\n",
       "      <td>2018-11-12</td>\n",
       "      <td>ultimate</td>\n",
       "      <td>NaT</td>\n",
       "    </tr>\n",
       "  </tbody>\n",
       "</table>\n",
       "</div>"
      ],
      "text/plain": [
       "     user_id first_name last_name  age  \\\n",
       "367     1367       Minh   Fischer   18   \n",
       "311     1311    Cherlyn  Saunders   69   \n",
       "269     1269     Irving  Thompson   39   \n",
       "75      1075     Salena     Bates   35   \n",
       "289     1289      Steve     Blair   47   \n",
       "\n",
       "                                                city   reg_date      plan  \\\n",
       "367                Baltimore-Columbia-Towson, MD MSA 2018-07-23      surf   \n",
       "311                            Memphis, TN-MS-AR MSA 2018-06-27  ultimate   \n",
       "269              Dallas-Fort Worth-Arlington, TX MSA 2018-09-13  ultimate   \n",
       "75   Philadelphia-Camden-Wilmington, PA-NJ-DE-MD MSA 2018-08-06      surf   \n",
       "289                  Detroit-Warren-Dearborn, MI MSA 2018-11-12  ultimate   \n",
       "\n",
       "    churn_date  \n",
       "367        NaT  \n",
       "311        NaT  \n",
       "269 2018-12-15  \n",
       "75         NaT  \n",
       "289        NaT  "
      ]
     },
     "execution_count": 13,
     "metadata": {},
     "output_type": "execute_result"
    }
   ],
   "source": [
    "users.sample(5)"
   ]
  },
  {
   "cell_type": "markdown",
   "metadata": {},
   "source": [
    "Sekarang, `users` hanya mempunyai data yang hilang pada `churn_date` karena kita membiarkan nilai null, yang artinya customer belum melakukan churn, serta kita juga sudah berhasil mengubah tipe datanya."
   ]
  },
  {
   "cell_type": "markdown",
   "metadata": {},
   "source": [
    "### Memperkaya Kualitas Data"
   ]
  },
  {
   "cell_type": "markdown",
   "metadata": {},
   "source": [
    "Untuk mempermudah analisa data, kita akan pisahkan kolom `churn_date`,  berdasarkan `tanggal`, `bulan`, `tahun`. Kemudian dilanjutkan pembuatan kolom region yang berisi apakah kota berasal dari wilayah '`NY-NJ'` atau bukan `'other'`."
   ]
  },
  {
   "cell_type": "code",
   "execution_count": 14,
   "metadata": {},
   "outputs": [
    {
     "data": {
      "text/html": [
       "<div>\n",
       "<style scoped>\n",
       "    .dataframe tbody tr th:only-of-type {\n",
       "        vertical-align: middle;\n",
       "    }\n",
       "\n",
       "    .dataframe tbody tr th {\n",
       "        vertical-align: top;\n",
       "    }\n",
       "\n",
       "    .dataframe thead th {\n",
       "        text-align: right;\n",
       "    }\n",
       "</style>\n",
       "<table border=\"1\" class=\"dataframe\">\n",
       "  <thead>\n",
       "    <tr style=\"text-align: right;\">\n",
       "      <th></th>\n",
       "      <th>user_id</th>\n",
       "      <th>first_name</th>\n",
       "      <th>last_name</th>\n",
       "      <th>age</th>\n",
       "      <th>city</th>\n",
       "      <th>reg_date</th>\n",
       "      <th>plan</th>\n",
       "      <th>churn_date</th>\n",
       "      <th>date</th>\n",
       "      <th>month</th>\n",
       "      <th>year</th>\n",
       "    </tr>\n",
       "  </thead>\n",
       "  <tbody>\n",
       "    <tr>\n",
       "      <th>0</th>\n",
       "      <td>1000</td>\n",
       "      <td>Anamaria</td>\n",
       "      <td>Bauer</td>\n",
       "      <td>45</td>\n",
       "      <td>Atlanta-Sandy Springs-Roswell, GA MSA</td>\n",
       "      <td>2018-12-24</td>\n",
       "      <td>ultimate</td>\n",
       "      <td>NaT</td>\n",
       "      <td>24</td>\n",
       "      <td>12</td>\n",
       "      <td>2018</td>\n",
       "    </tr>\n",
       "    <tr>\n",
       "      <th>1</th>\n",
       "      <td>1001</td>\n",
       "      <td>Mickey</td>\n",
       "      <td>Wilkerson</td>\n",
       "      <td>28</td>\n",
       "      <td>Seattle-Tacoma-Bellevue, WA MSA</td>\n",
       "      <td>2018-08-13</td>\n",
       "      <td>surf</td>\n",
       "      <td>NaT</td>\n",
       "      <td>13</td>\n",
       "      <td>8</td>\n",
       "      <td>2018</td>\n",
       "    </tr>\n",
       "    <tr>\n",
       "      <th>2</th>\n",
       "      <td>1002</td>\n",
       "      <td>Carlee</td>\n",
       "      <td>Hoffman</td>\n",
       "      <td>36</td>\n",
       "      <td>Las Vegas-Henderson-Paradise, NV MSA</td>\n",
       "      <td>2018-10-21</td>\n",
       "      <td>surf</td>\n",
       "      <td>NaT</td>\n",
       "      <td>21</td>\n",
       "      <td>10</td>\n",
       "      <td>2018</td>\n",
       "    </tr>\n",
       "    <tr>\n",
       "      <th>3</th>\n",
       "      <td>1003</td>\n",
       "      <td>Reynaldo</td>\n",
       "      <td>Jenkins</td>\n",
       "      <td>52</td>\n",
       "      <td>Tulsa, OK MSA</td>\n",
       "      <td>2018-01-28</td>\n",
       "      <td>surf</td>\n",
       "      <td>NaT</td>\n",
       "      <td>28</td>\n",
       "      <td>1</td>\n",
       "      <td>2018</td>\n",
       "    </tr>\n",
       "    <tr>\n",
       "      <th>4</th>\n",
       "      <td>1004</td>\n",
       "      <td>Leonila</td>\n",
       "      <td>Thompson</td>\n",
       "      <td>40</td>\n",
       "      <td>Seattle-Tacoma-Bellevue, WA MSA</td>\n",
       "      <td>2018-05-23</td>\n",
       "      <td>surf</td>\n",
       "      <td>NaT</td>\n",
       "      <td>23</td>\n",
       "      <td>5</td>\n",
       "      <td>2018</td>\n",
       "    </tr>\n",
       "  </tbody>\n",
       "</table>\n",
       "</div>"
      ],
      "text/plain": [
       "   user_id first_name  last_name  age                                   city  \\\n",
       "0     1000   Anamaria      Bauer   45  Atlanta-Sandy Springs-Roswell, GA MSA   \n",
       "1     1001     Mickey  Wilkerson   28        Seattle-Tacoma-Bellevue, WA MSA   \n",
       "2     1002     Carlee    Hoffman   36   Las Vegas-Henderson-Paradise, NV MSA   \n",
       "3     1003   Reynaldo    Jenkins   52                          Tulsa, OK MSA   \n",
       "4     1004    Leonila   Thompson   40        Seattle-Tacoma-Bellevue, WA MSA   \n",
       "\n",
       "    reg_date      plan churn_date  date  month  year  \n",
       "0 2018-12-24  ultimate        NaT    24     12  2018  \n",
       "1 2018-08-13      surf        NaT    13      8  2018  \n",
       "2 2018-10-21      surf        NaT    21     10  2018  \n",
       "3 2018-01-28      surf        NaT    28      1  2018  \n",
       "4 2018-05-23      surf        NaT    23      5  2018  "
      ]
     },
     "execution_count": 14,
     "metadata": {},
     "output_type": "execute_result"
    }
   ],
   "source": [
    "# memisahkan kolom datetime\n",
    "\n",
    "# membuat kolom tanggal\n",
    "users['date'] = users['reg_date'].dt.day\n",
    "\n",
    "# membuat kolom bulan\n",
    "users['month'] = users['reg_date'].dt.month\n",
    "\n",
    "# membuat kolom tahun\n",
    "users['year'] = users['reg_date'].dt.year\n",
    "\n",
    "# menampilkan sampel data\n",
    "users.head()"
   ]
  },
  {
   "cell_type": "code",
   "execution_count": 15,
   "metadata": {},
   "outputs": [
    {
     "data": {
      "text/plain": [
       "array(['Atlanta-Sandy Springs-Roswell, GA MSA',\n",
       "       'Seattle-Tacoma-Bellevue, WA MSA',\n",
       "       'Las Vegas-Henderson-Paradise, NV MSA', 'Tulsa, OK MSA',\n",
       "       'Dallas-Fort Worth-Arlington, TX MSA',\n",
       "       'San Francisco-Oakland-Berkeley, CA MSA',\n",
       "       'Grand Rapids-Kentwood, MI MSA',\n",
       "       'Orlando-Kissimmee-Sanford, FL MSA',\n",
       "       'San Jose-Sunnyvale-Santa Clara, CA MSA',\n",
       "       'Cleveland-Elyria, OH MSA',\n",
       "       'Chicago-Naperville-Elgin, IL-IN-WI MSA', 'Knoxville, TN MSA',\n",
       "       'New York-Newark-Jersey City, NY-NJ-PA MSA', 'Pittsburgh, PA MSA',\n",
       "       'Fresno, CA MSA',\n",
       "       'Washington-Arlington-Alexandria, DC-VA-MD-WV MSA',\n",
       "       'Indianapolis-Carmel-Anderson, IN MSA', 'Jacksonville, FL MSA',\n",
       "       'Los Angeles-Long Beach-Anaheim, CA MSA',\n",
       "       'Omaha-Council Bluffs, NE-IA MSA',\n",
       "       'Houston-The Woodlands-Sugar Land, TX MSA',\n",
       "       'Philadelphia-Camden-Wilmington, PA-NJ-DE-MD MSA',\n",
       "       'Tampa-St. Petersburg-Clearwater, FL MSA',\n",
       "       'Birmingham-Hoover, AL MSA', 'Oklahoma City, OK MSA',\n",
       "       'Charlotte-Concord-Gastonia, NC-SC MSA',\n",
       "       'Denver-Aurora-Lakewood, CO MSA',\n",
       "       'Nashville-Davidson–Murfreesboro–Franklin, TN MSA',\n",
       "       'Columbus, OH MSA', 'Albuquerque, NM MSA',\n",
       "       'Boston-Cambridge-Newton, MA-NH MSA',\n",
       "       'Miami-Fort Lauderdale-West Palm Beach, FL MSA',\n",
       "       'San Diego-Chula Vista-Carlsbad, CA MSA',\n",
       "       'Phoenix-Mesa-Chandler, AZ MSA',\n",
       "       'Portland-Vancouver-Hillsboro, OR-WA MSA',\n",
       "       'Cincinnati, OH-KY-IN MSA', 'Columbia, SC MSA',\n",
       "       'San Antonio-New Braunfels, TX MSA', 'Buffalo-Cheektowaga, NY MSA',\n",
       "       'Memphis, TN-MS-AR MSA',\n",
       "       'Riverside-San Bernardino-Ontario, CA MSA',\n",
       "       'Louisville/Jefferson County, KY-IN MSA',\n",
       "       'Albany-Schenectady-Troy, NY MSA', 'Providence-Warwick, RI-MA MSA',\n",
       "       'Salt Lake City, UT MSA', 'Urban Honolulu, HI MSA',\n",
       "       'El Paso, TX MSA', 'New Haven-Milford, CT MSA',\n",
       "       'North Port-Sarasota-Bradenton, FL MSA', 'Baton Rouge, LA MSA',\n",
       "       'New Orleans-Metairie, LA MSA',\n",
       "       'Bridgeport-Stamford-Norwalk, CT MSA',\n",
       "       'Virginia Beach-Norfolk-Newport News, VA-NC MSA',\n",
       "       'Baltimore-Columbia-Towson, MD MSA', 'Milwaukee-Waukesha, WI MSA',\n",
       "       'Oxnard-Thousand Oaks-Ventura, CA MSA',\n",
       "       'Sacramento–Roseville–Folsom, CA MSA',\n",
       "       'Austin-Round Rock-Georgetown, TX MSA', 'Richmond, VA MSA',\n",
       "       'St. Louis, MO-IL MSA',\n",
       "       'Minneapolis-St. Paul-Bloomington, MN-WI MSA',\n",
       "       'Dayton-Kettering, OH MSA', 'Bakersfield, CA MSA',\n",
       "       'Detroit-Warren-Dearborn, MI MSA', 'Kansas City, MO-KS MSA',\n",
       "       'Charleston-North Charleston, SC MSA', 'Rochester, NY MSA',\n",
       "       'Raleigh-Cary, NC MSA', 'Colorado Springs, CO MSA',\n",
       "       'Greensboro-High Point, NC MSA', 'Tucson, AZ MSA',\n",
       "       'Stockton, CA MSA', 'Cape Coral-Fort Myers, FL MSA'], dtype=object)"
      ]
     },
     "execution_count": 15,
     "metadata": {},
     "output_type": "execute_result"
    }
   ],
   "source": [
    "# membuat kolom untuk memisahkan region NY-NJ dari region lain\n",
    "# mengecek nilai unik pada kolom `city`\n",
    "users['city'].unique()"
   ]
  },
  {
   "cell_type": "code",
   "execution_count": 16,
   "metadata": {},
   "outputs": [
    {
     "data": {
      "text/plain": [
       "other    420\n",
       "NY-NJ     80\n",
       "Name: region, dtype: int64"
      ]
     },
     "execution_count": 16,
     "metadata": {},
     "output_type": "execute_result"
    }
   ],
   "source": [
    "# membuat kolom region NY-NJ\n",
    "\n",
    "# membuat fungsi pengecekan apakah berasal dari region `NY-NJ` atau bukan\n",
    "def split_region(data):\n",
    "    if ('NY-NJ' in data)|(data == 'NY')|(data == 'NJ'):\n",
    "        return 'NY-NJ'\n",
    "    else:\n",
    "        return 'other'\n",
    "\n",
    "# membuat kolom region menggunakan fungsi yang sudah dibuat\n",
    "users['region'] = users['city'].apply(split_region)\n",
    "\n",
    "# menampilkan value_counts dari kolom `region`\n",
    "users['region'].value_counts()"
   ]
  },
  {
   "cell_type": "code",
   "execution_count": 17,
   "metadata": {},
   "outputs": [
    {
     "data": {
      "text/html": [
       "<div>\n",
       "<style scoped>\n",
       "    .dataframe tbody tr th:only-of-type {\n",
       "        vertical-align: middle;\n",
       "    }\n",
       "\n",
       "    .dataframe tbody tr th {\n",
       "        vertical-align: top;\n",
       "    }\n",
       "\n",
       "    .dataframe thead th {\n",
       "        text-align: right;\n",
       "    }\n",
       "</style>\n",
       "<table border=\"1\" class=\"dataframe\">\n",
       "  <thead>\n",
       "    <tr style=\"text-align: right;\">\n",
       "      <th></th>\n",
       "      <th>user_id</th>\n",
       "      <th>first_name</th>\n",
       "      <th>last_name</th>\n",
       "      <th>age</th>\n",
       "      <th>city</th>\n",
       "      <th>reg_date</th>\n",
       "      <th>plan</th>\n",
       "      <th>churn_date</th>\n",
       "      <th>date</th>\n",
       "      <th>month</th>\n",
       "      <th>year</th>\n",
       "      <th>region</th>\n",
       "    </tr>\n",
       "  </thead>\n",
       "  <tbody>\n",
       "    <tr>\n",
       "      <th>415</th>\n",
       "      <td>1415</td>\n",
       "      <td>Rosette</td>\n",
       "      <td>Mendez</td>\n",
       "      <td>56</td>\n",
       "      <td>Boston-Cambridge-Newton, MA-NH MSA</td>\n",
       "      <td>2018-02-27</td>\n",
       "      <td>surf</td>\n",
       "      <td>NaT</td>\n",
       "      <td>27</td>\n",
       "      <td>2</td>\n",
       "      <td>2018</td>\n",
       "      <td>other</td>\n",
       "    </tr>\n",
       "    <tr>\n",
       "      <th>311</th>\n",
       "      <td>1311</td>\n",
       "      <td>Cherlyn</td>\n",
       "      <td>Saunders</td>\n",
       "      <td>69</td>\n",
       "      <td>Memphis, TN-MS-AR MSA</td>\n",
       "      <td>2018-06-27</td>\n",
       "      <td>ultimate</td>\n",
       "      <td>NaT</td>\n",
       "      <td>27</td>\n",
       "      <td>6</td>\n",
       "      <td>2018</td>\n",
       "      <td>other</td>\n",
       "    </tr>\n",
       "    <tr>\n",
       "      <th>47</th>\n",
       "      <td>1047</td>\n",
       "      <td>Yuk</td>\n",
       "      <td>French</td>\n",
       "      <td>22</td>\n",
       "      <td>Indianapolis-Carmel-Anderson, IN MSA</td>\n",
       "      <td>2018-06-16</td>\n",
       "      <td>ultimate</td>\n",
       "      <td>NaT</td>\n",
       "      <td>16</td>\n",
       "      <td>6</td>\n",
       "      <td>2018</td>\n",
       "      <td>other</td>\n",
       "    </tr>\n",
       "    <tr>\n",
       "      <th>181</th>\n",
       "      <td>1181</td>\n",
       "      <td>Ron</td>\n",
       "      <td>Kaufman</td>\n",
       "      <td>47</td>\n",
       "      <td>New York-Newark-Jersey City, NY-NJ-PA MSA</td>\n",
       "      <td>2018-04-13</td>\n",
       "      <td>surf</td>\n",
       "      <td>NaT</td>\n",
       "      <td>13</td>\n",
       "      <td>4</td>\n",
       "      <td>2018</td>\n",
       "      <td>NY-NJ</td>\n",
       "    </tr>\n",
       "    <tr>\n",
       "      <th>401</th>\n",
       "      <td>1401</td>\n",
       "      <td>Charmain</td>\n",
       "      <td>Bryant</td>\n",
       "      <td>67</td>\n",
       "      <td>Richmond, VA MSA</td>\n",
       "      <td>2018-08-24</td>\n",
       "      <td>ultimate</td>\n",
       "      <td>NaT</td>\n",
       "      <td>24</td>\n",
       "      <td>8</td>\n",
       "      <td>2018</td>\n",
       "      <td>other</td>\n",
       "    </tr>\n",
       "    <tr>\n",
       "      <th>339</th>\n",
       "      <td>1339</td>\n",
       "      <td>Mariette</td>\n",
       "      <td>Mclean</td>\n",
       "      <td>27</td>\n",
       "      <td>Charlotte-Concord-Gastonia, NC-SC MSA</td>\n",
       "      <td>2018-03-03</td>\n",
       "      <td>surf</td>\n",
       "      <td>NaT</td>\n",
       "      <td>3</td>\n",
       "      <td>3</td>\n",
       "      <td>2018</td>\n",
       "      <td>other</td>\n",
       "    </tr>\n",
       "    <tr>\n",
       "      <th>478</th>\n",
       "      <td>1478</td>\n",
       "      <td>Elane</td>\n",
       "      <td>David</td>\n",
       "      <td>51</td>\n",
       "      <td>Portland-Vancouver-Hillsboro, OR-WA MSA</td>\n",
       "      <td>2018-06-28</td>\n",
       "      <td>ultimate</td>\n",
       "      <td>NaT</td>\n",
       "      <td>28</td>\n",
       "      <td>6</td>\n",
       "      <td>2018</td>\n",
       "      <td>other</td>\n",
       "    </tr>\n",
       "    <tr>\n",
       "      <th>417</th>\n",
       "      <td>1417</td>\n",
       "      <td>Jorge</td>\n",
       "      <td>Madden</td>\n",
       "      <td>51</td>\n",
       "      <td>Minneapolis-St. Paul-Bloomington, MN-WI MSA</td>\n",
       "      <td>2018-06-22</td>\n",
       "      <td>ultimate</td>\n",
       "      <td>NaT</td>\n",
       "      <td>22</td>\n",
       "      <td>6</td>\n",
       "      <td>2018</td>\n",
       "      <td>other</td>\n",
       "    </tr>\n",
       "    <tr>\n",
       "      <th>449</th>\n",
       "      <td>1449</td>\n",
       "      <td>Boyd</td>\n",
       "      <td>Kelley</td>\n",
       "      <td>39</td>\n",
       "      <td>Seattle-Tacoma-Bellevue, WA MSA</td>\n",
       "      <td>2018-10-04</td>\n",
       "      <td>surf</td>\n",
       "      <td>NaT</td>\n",
       "      <td>4</td>\n",
       "      <td>10</td>\n",
       "      <td>2018</td>\n",
       "      <td>other</td>\n",
       "    </tr>\n",
       "    <tr>\n",
       "      <th>319</th>\n",
       "      <td>1319</td>\n",
       "      <td>Eliseo</td>\n",
       "      <td>Carson</td>\n",
       "      <td>21</td>\n",
       "      <td>Colorado Springs, CO MSA</td>\n",
       "      <td>2018-06-17</td>\n",
       "      <td>surf</td>\n",
       "      <td>NaT</td>\n",
       "      <td>17</td>\n",
       "      <td>6</td>\n",
       "      <td>2018</td>\n",
       "      <td>other</td>\n",
       "    </tr>\n",
       "  </tbody>\n",
       "</table>\n",
       "</div>"
      ],
      "text/plain": [
       "     user_id first_name last_name  age  \\\n",
       "415     1415    Rosette    Mendez   56   \n",
       "311     1311    Cherlyn  Saunders   69   \n",
       "47      1047        Yuk    French   22   \n",
       "181     1181        Ron   Kaufman   47   \n",
       "401     1401   Charmain    Bryant   67   \n",
       "339     1339   Mariette    Mclean   27   \n",
       "478     1478      Elane     David   51   \n",
       "417     1417      Jorge    Madden   51   \n",
       "449     1449       Boyd    Kelley   39   \n",
       "319     1319     Eliseo    Carson   21   \n",
       "\n",
       "                                            city   reg_date      plan  \\\n",
       "415           Boston-Cambridge-Newton, MA-NH MSA 2018-02-27      surf   \n",
       "311                        Memphis, TN-MS-AR MSA 2018-06-27  ultimate   \n",
       "47          Indianapolis-Carmel-Anderson, IN MSA 2018-06-16  ultimate   \n",
       "181    New York-Newark-Jersey City, NY-NJ-PA MSA 2018-04-13      surf   \n",
       "401                             Richmond, VA MSA 2018-08-24  ultimate   \n",
       "339        Charlotte-Concord-Gastonia, NC-SC MSA 2018-03-03      surf   \n",
       "478      Portland-Vancouver-Hillsboro, OR-WA MSA 2018-06-28  ultimate   \n",
       "417  Minneapolis-St. Paul-Bloomington, MN-WI MSA 2018-06-22  ultimate   \n",
       "449              Seattle-Tacoma-Bellevue, WA MSA 2018-10-04      surf   \n",
       "319                     Colorado Springs, CO MSA 2018-06-17      surf   \n",
       "\n",
       "    churn_date  date  month  year region  \n",
       "415        NaT    27      2  2018  other  \n",
       "311        NaT    27      6  2018  other  \n",
       "47         NaT    16      6  2018  other  \n",
       "181        NaT    13      4  2018  NY-NJ  \n",
       "401        NaT    24      8  2018  other  \n",
       "339        NaT     3      3  2018  other  \n",
       "478        NaT    28      6  2018  other  \n",
       "417        NaT    22      6  2018  other  \n",
       "449        NaT     4     10  2018  other  \n",
       "319        NaT    17      6  2018  other  "
      ]
     },
     "execution_count": 17,
     "metadata": {},
     "output_type": "execute_result"
    }
   ],
   "source": [
    "users.sample(10)"
   ]
  },
  {
   "cell_type": "markdown",
   "metadata": {},
   "source": [
    "Sekarang kita sudah berhasil menambahkan kolom-kolom yang kita inginkan, kita lanjutkan ke data selanjutnya."
   ]
  },
  {
   "cell_type": "markdown",
   "metadata": {},
   "source": [
    "## Plans"
   ]
  },
  {
   "cell_type": "markdown",
   "metadata": {},
   "source": [
    "Kita lanjutkan dengan mengecek data pada `Plans`"
   ]
  },
  {
   "cell_type": "code",
   "execution_count": 18,
   "metadata": {},
   "outputs": [
    {
     "name": "stdout",
     "output_type": "stream",
     "text": [
      "<class 'pandas.core.frame.DataFrame'>\n",
      "RangeIndex: 2 entries, 0 to 1\n",
      "Data columns (total 8 columns):\n",
      " #   Column                 Non-Null Count  Dtype  \n",
      "---  ------                 --------------  -----  \n",
      " 0   messages_included      2 non-null      int64  \n",
      " 1   mb_per_month_included  2 non-null      int64  \n",
      " 2   minutes_included       2 non-null      int64  \n",
      " 3   usd_monthly_pay        2 non-null      int64  \n",
      " 4   usd_per_gb             2 non-null      int64  \n",
      " 5   usd_per_message        2 non-null      float64\n",
      " 6   usd_per_minute         2 non-null      float64\n",
      " 7   plan_name              2 non-null      object \n",
      "dtypes: float64(2), int64(5), object(1)\n",
      "memory usage: 256.0+ bytes\n"
     ]
    }
   ],
   "source": [
    "# Cek info type data pada plans\n",
    "plans.info()"
   ]
  },
  {
   "cell_type": "code",
   "execution_count": 19,
   "metadata": {
    "scrolled": true
   },
   "outputs": [
    {
     "data": {
      "text/html": [
       "<div>\n",
       "<style scoped>\n",
       "    .dataframe tbody tr th:only-of-type {\n",
       "        vertical-align: middle;\n",
       "    }\n",
       "\n",
       "    .dataframe tbody tr th {\n",
       "        vertical-align: top;\n",
       "    }\n",
       "\n",
       "    .dataframe thead th {\n",
       "        text-align: right;\n",
       "    }\n",
       "</style>\n",
       "<table border=\"1\" class=\"dataframe\">\n",
       "  <thead>\n",
       "    <tr style=\"text-align: right;\">\n",
       "      <th></th>\n",
       "      <th>messages_included</th>\n",
       "      <th>mb_per_month_included</th>\n",
       "      <th>minutes_included</th>\n",
       "      <th>usd_monthly_pay</th>\n",
       "      <th>usd_per_gb</th>\n",
       "      <th>usd_per_message</th>\n",
       "      <th>usd_per_minute</th>\n",
       "      <th>plan_name</th>\n",
       "    </tr>\n",
       "  </thead>\n",
       "  <tbody>\n",
       "    <tr>\n",
       "      <th>1</th>\n",
       "      <td>1000</td>\n",
       "      <td>30720</td>\n",
       "      <td>3000</td>\n",
       "      <td>70</td>\n",
       "      <td>7</td>\n",
       "      <td>0.01</td>\n",
       "      <td>0.01</td>\n",
       "      <td>ultimate</td>\n",
       "    </tr>\n",
       "    <tr>\n",
       "      <th>0</th>\n",
       "      <td>50</td>\n",
       "      <td>15360</td>\n",
       "      <td>500</td>\n",
       "      <td>20</td>\n",
       "      <td>10</td>\n",
       "      <td>0.03</td>\n",
       "      <td>0.03</td>\n",
       "      <td>surf</td>\n",
       "    </tr>\n",
       "  </tbody>\n",
       "</table>\n",
       "</div>"
      ],
      "text/plain": [
       "   messages_included  mb_per_month_included  minutes_included  \\\n",
       "1               1000                  30720              3000   \n",
       "0                 50                  15360               500   \n",
       "\n",
       "   usd_monthly_pay  usd_per_gb  usd_per_message  usd_per_minute plan_name  \n",
       "1               70           7             0.01            0.01  ultimate  \n",
       "0               20          10             0.03            0.03      surf  "
      ]
     },
     "execution_count": 19,
     "metadata": {},
     "output_type": "execute_result"
    }
   ],
   "source": [
    "# Cek sampel data pada plans\n",
    "plans.sample(2)"
   ]
  },
  {
   "cell_type": "code",
   "execution_count": 20,
   "metadata": {},
   "outputs": [
    {
     "data": {
      "text/plain": [
       "0"
      ]
     },
     "execution_count": 20,
     "metadata": {},
     "output_type": "execute_result"
    }
   ],
   "source": [
    "# Cek data duplikat pada plans\n",
    "plans.duplicated().sum()"
   ]
  },
  {
   "cell_type": "markdown",
   "metadata": {},
   "source": [
    "Pada data `Plans` tidak terdapat kesalahan pada tipe data dan tidak ada data duplikat. Mari kita lanjutkan ke data selanjutnya."
   ]
  },
  {
   "cell_type": "markdown",
   "metadata": {},
   "source": [
    "## Calls"
   ]
  },
  {
   "cell_type": "markdown",
   "metadata": {},
   "source": [
    "Kita lanjutkan dengan mengecek data pada `Calls`."
   ]
  },
  {
   "cell_type": "code",
   "execution_count": 21,
   "metadata": {},
   "outputs": [
    {
     "name": "stdout",
     "output_type": "stream",
     "text": [
      "<class 'pandas.core.frame.DataFrame'>\n",
      "RangeIndex: 137735 entries, 0 to 137734\n",
      "Data columns (total 4 columns):\n",
      " #   Column     Non-Null Count   Dtype  \n",
      "---  ------     --------------   -----  \n",
      " 0   id         137735 non-null  object \n",
      " 1   user_id    137735 non-null  int64  \n",
      " 2   call_date  137735 non-null  object \n",
      " 3   duration   137735 non-null  float64\n",
      "dtypes: float64(1), int64(1), object(2)\n",
      "memory usage: 4.2+ MB\n"
     ]
    }
   ],
   "source": [
    "# Cek type data dari Calls\n",
    "calls.info()"
   ]
  },
  {
   "cell_type": "code",
   "execution_count": 22,
   "metadata": {},
   "outputs": [
    {
     "data": {
      "text/html": [
       "<div>\n",
       "<style scoped>\n",
       "    .dataframe tbody tr th:only-of-type {\n",
       "        vertical-align: middle;\n",
       "    }\n",
       "\n",
       "    .dataframe tbody tr th {\n",
       "        vertical-align: top;\n",
       "    }\n",
       "\n",
       "    .dataframe thead th {\n",
       "        text-align: right;\n",
       "    }\n",
       "</style>\n",
       "<table border=\"1\" class=\"dataframe\">\n",
       "  <thead>\n",
       "    <tr style=\"text-align: right;\">\n",
       "      <th></th>\n",
       "      <th>id</th>\n",
       "      <th>user_id</th>\n",
       "      <th>call_date</th>\n",
       "      <th>duration</th>\n",
       "    </tr>\n",
       "  </thead>\n",
       "  <tbody>\n",
       "    <tr>\n",
       "      <th>13062</th>\n",
       "      <td>1056_205</td>\n",
       "      <td>1056</td>\n",
       "      <td>2018-11-19</td>\n",
       "      <td>0.00</td>\n",
       "    </tr>\n",
       "    <tr>\n",
       "      <th>16832</th>\n",
       "      <td>1065_200</td>\n",
       "      <td>1065</td>\n",
       "      <td>2018-10-11</td>\n",
       "      <td>5.51</td>\n",
       "    </tr>\n",
       "    <tr>\n",
       "      <th>122643</th>\n",
       "      <td>1433_214</td>\n",
       "      <td>1433</td>\n",
       "      <td>2018-11-15</td>\n",
       "      <td>14.90</td>\n",
       "    </tr>\n",
       "    <tr>\n",
       "      <th>28291</th>\n",
       "      <td>1106_758</td>\n",
       "      <td>1106</td>\n",
       "      <td>2018-07-14</td>\n",
       "      <td>0.00</td>\n",
       "    </tr>\n",
       "    <tr>\n",
       "      <th>57232</th>\n",
       "      <td>1203_623</td>\n",
       "      <td>1203</td>\n",
       "      <td>2018-10-18</td>\n",
       "      <td>3.85</td>\n",
       "    </tr>\n",
       "  </tbody>\n",
       "</table>\n",
       "</div>"
      ],
      "text/plain": [
       "              id  user_id   call_date  duration\n",
       "13062   1056_205     1056  2018-11-19      0.00\n",
       "16832   1065_200     1065  2018-10-11      5.51\n",
       "122643  1433_214     1433  2018-11-15     14.90\n",
       "28291   1106_758     1106  2018-07-14      0.00\n",
       "57232   1203_623     1203  2018-10-18      3.85"
      ]
     },
     "execution_count": 22,
     "metadata": {},
     "output_type": "execute_result"
    }
   ],
   "source": [
    "# Cek sampel data dari Calls\n",
    "calls.sample(5)"
   ]
  },
  {
   "cell_type": "code",
   "execution_count": 23,
   "metadata": {},
   "outputs": [
    {
     "data": {
      "text/plain": [
       "0"
      ]
     },
     "execution_count": 23,
     "metadata": {},
     "output_type": "execute_result"
    }
   ],
   "source": [
    "# Cek duplikat data dari calls\n",
    "calls.duplicated().sum()"
   ]
  },
  {
   "cell_type": "markdown",
   "metadata": {},
   "source": [
    "Dari pengecekan tidak ditemukan adanya data duplikat pada `Calls`. Namun, kita perlu mengubah tipe data pada kolom `call_date` dari `object` menjadi `datetime`."
   ]
  },
  {
   "cell_type": "markdown",
   "metadata": {},
   "source": [
    "### Memperbaiki Data"
   ]
  },
  {
   "cell_type": "markdown",
   "metadata": {},
   "source": [
    "Mengubah tipe data pada kolom call_date dari `object` menjadi `datetime`."
   ]
  },
  {
   "cell_type": "code",
   "execution_count": 24,
   "metadata": {},
   "outputs": [
    {
     "name": "stdout",
     "output_type": "stream",
     "text": [
      "<class 'pandas.core.frame.DataFrame'>\n",
      "RangeIndex: 137735 entries, 0 to 137734\n",
      "Data columns (total 4 columns):\n",
      " #   Column     Non-Null Count   Dtype         \n",
      "---  ------     --------------   -----         \n",
      " 0   id         137735 non-null  object        \n",
      " 1   user_id    137735 non-null  int64         \n",
      " 2   call_date  137735 non-null  datetime64[ns]\n",
      " 3   duration   137735 non-null  float64       \n",
      "dtypes: datetime64[ns](1), float64(1), int64(1), object(1)\n",
      "memory usage: 4.2+ MB\n"
     ]
    }
   ],
   "source": [
    "# Mengubah tipe data pada kolom call date\n",
    "calls['call_date']= pd.to_datetime(calls['call_date'], format = '%Y-%m-%d')\n",
    "\n",
    "#cek tipe data kembali \n",
    "calls.info()\n"
   ]
  },
  {
   "cell_type": "markdown",
   "metadata": {},
   "source": [
    "Kita sudah berhasil mengubah tipe data pada `call_date` dari `object` menjadi `datetime`."
   ]
  },
  {
   "cell_type": "markdown",
   "metadata": {},
   "source": [
    "\n",
    "### Memperkaya Kualitas Data"
   ]
  },
  {
   "cell_type": "markdown",
   "metadata": {},
   "source": [
    "Untuk mempermudah analia, kita akan menambahkan beberapa kolom dari `call_date`, dengan memisahkan `tanggal`, `bulan`, dan `tahun`."
   ]
  },
  {
   "cell_type": "code",
   "execution_count": 25,
   "metadata": {},
   "outputs": [
    {
     "data": {
      "text/html": [
       "<div>\n",
       "<style scoped>\n",
       "    .dataframe tbody tr th:only-of-type {\n",
       "        vertical-align: middle;\n",
       "    }\n",
       "\n",
       "    .dataframe tbody tr th {\n",
       "        vertical-align: top;\n",
       "    }\n",
       "\n",
       "    .dataframe thead th {\n",
       "        text-align: right;\n",
       "    }\n",
       "</style>\n",
       "<table border=\"1\" class=\"dataframe\">\n",
       "  <thead>\n",
       "    <tr style=\"text-align: right;\">\n",
       "      <th></th>\n",
       "      <th>id</th>\n",
       "      <th>user_id</th>\n",
       "      <th>call_date</th>\n",
       "      <th>duration</th>\n",
       "      <th>date</th>\n",
       "      <th>month</th>\n",
       "      <th>year</th>\n",
       "    </tr>\n",
       "  </thead>\n",
       "  <tbody>\n",
       "    <tr>\n",
       "      <th>120022</th>\n",
       "      <td>1417_832</td>\n",
       "      <td>1417</td>\n",
       "      <td>2018-07-25</td>\n",
       "      <td>0.00</td>\n",
       "      <td>25</td>\n",
       "      <td>7</td>\n",
       "      <td>2018</td>\n",
       "    </tr>\n",
       "    <tr>\n",
       "      <th>107942</th>\n",
       "      <td>1382_897</td>\n",
       "      <td>1382</td>\n",
       "      <td>2018-10-02</td>\n",
       "      <td>8.87</td>\n",
       "      <td>2</td>\n",
       "      <td>10</td>\n",
       "      <td>2018</td>\n",
       "    </tr>\n",
       "    <tr>\n",
       "      <th>132538</th>\n",
       "      <td>1477_94</td>\n",
       "      <td>1477</td>\n",
       "      <td>2018-12-25</td>\n",
       "      <td>5.97</td>\n",
       "      <td>25</td>\n",
       "      <td>12</td>\n",
       "      <td>2018</td>\n",
       "    </tr>\n",
       "    <tr>\n",
       "      <th>111779</th>\n",
       "      <td>1392_189</td>\n",
       "      <td>1392</td>\n",
       "      <td>2018-08-27</td>\n",
       "      <td>15.59</td>\n",
       "      <td>27</td>\n",
       "      <td>8</td>\n",
       "      <td>2018</td>\n",
       "    </tr>\n",
       "    <tr>\n",
       "      <th>49208</th>\n",
       "      <td>1178_112</td>\n",
       "      <td>1178</td>\n",
       "      <td>2018-10-17</td>\n",
       "      <td>8.91</td>\n",
       "      <td>17</td>\n",
       "      <td>10</td>\n",
       "      <td>2018</td>\n",
       "    </tr>\n",
       "  </tbody>\n",
       "</table>\n",
       "</div>"
      ],
      "text/plain": [
       "              id  user_id  call_date  duration  date  month  year\n",
       "120022  1417_832     1417 2018-07-25      0.00    25      7  2018\n",
       "107942  1382_897     1382 2018-10-02      8.87     2     10  2018\n",
       "132538   1477_94     1477 2018-12-25      5.97    25     12  2018\n",
       "111779  1392_189     1392 2018-08-27     15.59    27      8  2018\n",
       "49208   1178_112     1178 2018-10-17      8.91    17     10  2018"
      ]
     },
     "execution_count": 25,
     "metadata": {},
     "output_type": "execute_result"
    }
   ],
   "source": [
    "# membuat kolom tambahan\n",
    "\n",
    "# membuat kolom tanggal\n",
    "calls['date'] = calls['call_date'].dt.day\n",
    "\n",
    "# membuat kolom bulan\n",
    "calls['month'] = calls['call_date'].dt.month\n",
    "\n",
    "# membuat kolom tahun\n",
    "calls['year'] = calls['call_date'].dt.year\n",
    "\n",
    "# cek sampel data\n",
    "calls.sample(5)\n"
   ]
  },
  {
   "cell_type": "markdown",
   "metadata": {},
   "source": [
    "Penambhan kolom berhasil kita tambahkan. Mari kita lanjutkan data selanjutnya."
   ]
  },
  {
   "cell_type": "markdown",
   "metadata": {},
   "source": [
    "## Messages"
   ]
  },
  {
   "cell_type": "markdown",
   "metadata": {},
   "source": [
    "Kita lanjutkan pada data `messages`"
   ]
  },
  {
   "cell_type": "code",
   "execution_count": 26,
   "metadata": {},
   "outputs": [
    {
     "name": "stdout",
     "output_type": "stream",
     "text": [
      "<class 'pandas.core.frame.DataFrame'>\n",
      "RangeIndex: 76051 entries, 0 to 76050\n",
      "Data columns (total 3 columns):\n",
      " #   Column        Non-Null Count  Dtype \n",
      "---  ------        --------------  ----- \n",
      " 0   id            76051 non-null  object\n",
      " 1   user_id       76051 non-null  int64 \n",
      " 2   message_date  76051 non-null  object\n",
      "dtypes: int64(1), object(2)\n",
      "memory usage: 1.7+ MB\n"
     ]
    }
   ],
   "source": [
    "# Cek tipe data pada messages\n",
    "messages.info()"
   ]
  },
  {
   "cell_type": "code",
   "execution_count": 27,
   "metadata": {},
   "outputs": [
    {
     "data": {
      "text/html": [
       "<div>\n",
       "<style scoped>\n",
       "    .dataframe tbody tr th:only-of-type {\n",
       "        vertical-align: middle;\n",
       "    }\n",
       "\n",
       "    .dataframe tbody tr th {\n",
       "        vertical-align: top;\n",
       "    }\n",
       "\n",
       "    .dataframe thead th {\n",
       "        text-align: right;\n",
       "    }\n",
       "</style>\n",
       "<table border=\"1\" class=\"dataframe\">\n",
       "  <thead>\n",
       "    <tr style=\"text-align: right;\">\n",
       "      <th></th>\n",
       "      <th>id</th>\n",
       "      <th>user_id</th>\n",
       "      <th>message_date</th>\n",
       "    </tr>\n",
       "  </thead>\n",
       "  <tbody>\n",
       "    <tr>\n",
       "      <th>33464</th>\n",
       "      <td>1211_140</td>\n",
       "      <td>1211</td>\n",
       "      <td>2018-10-10</td>\n",
       "    </tr>\n",
       "    <tr>\n",
       "      <th>64070</th>\n",
       "      <td>1408_195</td>\n",
       "      <td>1408</td>\n",
       "      <td>2018-04-03</td>\n",
       "    </tr>\n",
       "    <tr>\n",
       "      <th>61393</th>\n",
       "      <td>1384_512</td>\n",
       "      <td>1384</td>\n",
       "      <td>2018-07-13</td>\n",
       "    </tr>\n",
       "    <tr>\n",
       "      <th>73774</th>\n",
       "      <td>1474_98</td>\n",
       "      <td>1474</td>\n",
       "      <td>2018-09-12</td>\n",
       "    </tr>\n",
       "    <tr>\n",
       "      <th>47518</th>\n",
       "      <td>1324_233</td>\n",
       "      <td>1324</td>\n",
       "      <td>2018-07-16</td>\n",
       "    </tr>\n",
       "  </tbody>\n",
       "</table>\n",
       "</div>"
      ],
      "text/plain": [
       "             id  user_id message_date\n",
       "33464  1211_140     1211   2018-10-10\n",
       "64070  1408_195     1408   2018-04-03\n",
       "61393  1384_512     1384   2018-07-13\n",
       "73774   1474_98     1474   2018-09-12\n",
       "47518  1324_233     1324   2018-07-16"
      ]
     },
     "execution_count": 27,
     "metadata": {},
     "output_type": "execute_result"
    }
   ],
   "source": [
    "# Cek sampel data\n",
    "messages.sample(5)"
   ]
  },
  {
   "cell_type": "code",
   "execution_count": 28,
   "metadata": {},
   "outputs": [
    {
     "data": {
      "text/plain": [
       "0"
      ]
     },
     "execution_count": 28,
     "metadata": {},
     "output_type": "execute_result"
    }
   ],
   "source": [
    "# Cek duplikat data\n",
    "messages.duplicated().sum()"
   ]
  },
  {
   "cell_type": "markdown",
   "metadata": {},
   "source": [
    "Dari pengecekan data, tidak ditemukan data yang duplikat, namun kita perlu mengubah type data dari `message_date` dari `object` menjadi `datetime`."
   ]
  },
  {
   "cell_type": "markdown",
   "metadata": {},
   "source": [
    "### Memperbaiki Data"
   ]
  },
  {
   "cell_type": "markdown",
   "metadata": {},
   "source": [
    "Mengubah type data dari `message_date` dari `object` menjadi `datetime`."
   ]
  },
  {
   "cell_type": "code",
   "execution_count": 29,
   "metadata": {},
   "outputs": [
    {
     "name": "stdout",
     "output_type": "stream",
     "text": [
      "<class 'pandas.core.frame.DataFrame'>\n",
      "RangeIndex: 76051 entries, 0 to 76050\n",
      "Data columns (total 3 columns):\n",
      " #   Column        Non-Null Count  Dtype         \n",
      "---  ------        --------------  -----         \n",
      " 0   id            76051 non-null  object        \n",
      " 1   user_id       76051 non-null  int64         \n",
      " 2   message_date  76051 non-null  datetime64[ns]\n",
      "dtypes: datetime64[ns](1), int64(1), object(1)\n",
      "memory usage: 1.7+ MB\n"
     ]
    }
   ],
   "source": [
    "# Mengubah tipe data pada kolom message_date\n",
    "messages['message_date'] = pd.to_datetime(messages['message_date'], format = '%Y-%m-%d')\n",
    "\n",
    "# Cek kembali type data\n",
    "messages.info()"
   ]
  },
  {
   "cell_type": "markdown",
   "metadata": {},
   "source": [
    "Kita sudah berhasil mengubah tipe data `message_date` dari `object` menjadi `datetime`."
   ]
  },
  {
   "cell_type": "markdown",
   "metadata": {},
   "source": [
    "### Memperkaya Kualitas Data"
   ]
  },
  {
   "cell_type": "markdown",
   "metadata": {},
   "source": [
    "Untuk mempermudah analisa, kita akan menambahkan beberapa kolom tambahan dari `message_date`, dengan memisahkan `tanggal`, `bulan`, dan `tahun`."
   ]
  },
  {
   "cell_type": "code",
   "execution_count": 30,
   "metadata": {},
   "outputs": [
    {
     "data": {
      "text/html": [
       "<div>\n",
       "<style scoped>\n",
       "    .dataframe tbody tr th:only-of-type {\n",
       "        vertical-align: middle;\n",
       "    }\n",
       "\n",
       "    .dataframe tbody tr th {\n",
       "        vertical-align: top;\n",
       "    }\n",
       "\n",
       "    .dataframe thead th {\n",
       "        text-align: right;\n",
       "    }\n",
       "</style>\n",
       "<table border=\"1\" class=\"dataframe\">\n",
       "  <thead>\n",
       "    <tr style=\"text-align: right;\">\n",
       "      <th></th>\n",
       "      <th>id</th>\n",
       "      <th>user_id</th>\n",
       "      <th>message_date</th>\n",
       "      <th>date</th>\n",
       "      <th>month</th>\n",
       "      <th>year</th>\n",
       "    </tr>\n",
       "  </thead>\n",
       "  <tbody>\n",
       "    <tr>\n",
       "      <th>38479</th>\n",
       "      <td>1253_13</td>\n",
       "      <td>1253</td>\n",
       "      <td>2018-09-01</td>\n",
       "      <td>1</td>\n",
       "      <td>9</td>\n",
       "      <td>2018</td>\n",
       "    </tr>\n",
       "    <tr>\n",
       "      <th>66415</th>\n",
       "      <td>1433_355</td>\n",
       "      <td>1433</td>\n",
       "      <td>2018-10-21</td>\n",
       "      <td>21</td>\n",
       "      <td>10</td>\n",
       "      <td>2018</td>\n",
       "    </tr>\n",
       "    <tr>\n",
       "      <th>18665</th>\n",
       "      <td>1120_530</td>\n",
       "      <td>1120</td>\n",
       "      <td>2018-06-11</td>\n",
       "      <td>11</td>\n",
       "      <td>6</td>\n",
       "      <td>2018</td>\n",
       "    </tr>\n",
       "    <tr>\n",
       "      <th>51280</th>\n",
       "      <td>1333_19</td>\n",
       "      <td>1333</td>\n",
       "      <td>2018-12-05</td>\n",
       "      <td>5</td>\n",
       "      <td>12</td>\n",
       "      <td>2018</td>\n",
       "    </tr>\n",
       "    <tr>\n",
       "      <th>28897</th>\n",
       "      <td>1176_38</td>\n",
       "      <td>1176</td>\n",
       "      <td>2018-11-27</td>\n",
       "      <td>27</td>\n",
       "      <td>11</td>\n",
       "      <td>2018</td>\n",
       "    </tr>\n",
       "  </tbody>\n",
       "</table>\n",
       "</div>"
      ],
      "text/plain": [
       "             id  user_id message_date  date  month  year\n",
       "38479   1253_13     1253   2018-09-01     1      9  2018\n",
       "66415  1433_355     1433   2018-10-21    21     10  2018\n",
       "18665  1120_530     1120   2018-06-11    11      6  2018\n",
       "51280   1333_19     1333   2018-12-05     5     12  2018\n",
       "28897   1176_38     1176   2018-11-27    27     11  2018"
      ]
     },
     "execution_count": 30,
     "metadata": {},
     "output_type": "execute_result"
    }
   ],
   "source": [
    "# Membuat kolom tambahan\n",
    "\n",
    "# Membuat kolom tanggal\n",
    "messages['date'] = messages['message_date'].dt.day\n",
    "\n",
    "# Membuat kolom bulan\n",
    "messages['month'] = messages['message_date'].dt.month\n",
    "\n",
    "# Membuat kolom tahun\n",
    "messages['year'] = messages['message_date'].dt.year\n",
    "\n",
    "# Cek kembali sampel data\n",
    "messages.sample(5)"
   ]
  },
  {
   "cell_type": "markdown",
   "metadata": {},
   "source": [
    "Kita sudah berhasil membuat kolom tambahan. Mari kita lanjutkan ke data terakhir selanjutnya."
   ]
  },
  {
   "cell_type": "markdown",
   "metadata": {},
   "source": [
    "## Internet"
   ]
  },
  {
   "cell_type": "markdown",
   "metadata": {},
   "source": [
    "Kita lanjutkan pada data `internet`."
   ]
  },
  {
   "cell_type": "code",
   "execution_count": 31,
   "metadata": {},
   "outputs": [
    {
     "name": "stdout",
     "output_type": "stream",
     "text": [
      "<class 'pandas.core.frame.DataFrame'>\n",
      "RangeIndex: 104825 entries, 0 to 104824\n",
      "Data columns (total 4 columns):\n",
      " #   Column        Non-Null Count   Dtype  \n",
      "---  ------        --------------   -----  \n",
      " 0   id            104825 non-null  object \n",
      " 1   user_id       104825 non-null  int64  \n",
      " 2   session_date  104825 non-null  object \n",
      " 3   mb_used       104825 non-null  float64\n",
      "dtypes: float64(1), int64(1), object(2)\n",
      "memory usage: 3.2+ MB\n"
     ]
    }
   ],
   "source": [
    "# Cek tipe info data\n",
    "internet.info()\n",
    "\n"
   ]
  },
  {
   "cell_type": "code",
   "execution_count": 32,
   "metadata": {},
   "outputs": [
    {
     "data": {
      "text/html": [
       "<div>\n",
       "<style scoped>\n",
       "    .dataframe tbody tr th:only-of-type {\n",
       "        vertical-align: middle;\n",
       "    }\n",
       "\n",
       "    .dataframe tbody tr th {\n",
       "        vertical-align: top;\n",
       "    }\n",
       "\n",
       "    .dataframe thead th {\n",
       "        text-align: right;\n",
       "    }\n",
       "</style>\n",
       "<table border=\"1\" class=\"dataframe\">\n",
       "  <thead>\n",
       "    <tr style=\"text-align: right;\">\n",
       "      <th></th>\n",
       "      <th>id</th>\n",
       "      <th>user_id</th>\n",
       "      <th>session_date</th>\n",
       "      <th>mb_used</th>\n",
       "    </tr>\n",
       "  </thead>\n",
       "  <tbody>\n",
       "    <tr>\n",
       "      <th>49285</th>\n",
       "      <td>1220_307</td>\n",
       "      <td>1220</td>\n",
       "      <td>2018-08-02</td>\n",
       "      <td>490.40</td>\n",
       "    </tr>\n",
       "    <tr>\n",
       "      <th>40281</th>\n",
       "      <td>1181_483</td>\n",
       "      <td>1181</td>\n",
       "      <td>2018-07-14</td>\n",
       "      <td>365.82</td>\n",
       "    </tr>\n",
       "    <tr>\n",
       "      <th>18586</th>\n",
       "      <td>1082_332</td>\n",
       "      <td>1082</td>\n",
       "      <td>2018-07-15</td>\n",
       "      <td>0.00</td>\n",
       "    </tr>\n",
       "    <tr>\n",
       "      <th>89693</th>\n",
       "      <td>1414_149</td>\n",
       "      <td>1414</td>\n",
       "      <td>2018-10-08</td>\n",
       "      <td>75.69</td>\n",
       "    </tr>\n",
       "    <tr>\n",
       "      <th>53497</th>\n",
       "      <td>1240_469</td>\n",
       "      <td>1240</td>\n",
       "      <td>2018-10-15</td>\n",
       "      <td>560.79</td>\n",
       "    </tr>\n",
       "  </tbody>\n",
       "</table>\n",
       "</div>"
      ],
      "text/plain": [
       "             id  user_id session_date  mb_used\n",
       "49285  1220_307     1220   2018-08-02   490.40\n",
       "40281  1181_483     1181   2018-07-14   365.82\n",
       "18586  1082_332     1082   2018-07-15     0.00\n",
       "89693  1414_149     1414   2018-10-08    75.69\n",
       "53497  1240_469     1240   2018-10-15   560.79"
      ]
     },
     "execution_count": 32,
     "metadata": {},
     "output_type": "execute_result"
    }
   ],
   "source": [
    "# Cek sampel data\n",
    "internet.sample(5)"
   ]
  },
  {
   "cell_type": "code",
   "execution_count": 33,
   "metadata": {},
   "outputs": [
    {
     "data": {
      "text/plain": [
       "0"
      ]
     },
     "execution_count": 33,
     "metadata": {},
     "output_type": "execute_result"
    }
   ],
   "source": [
    "# Cek duplikat data\n",
    "internet.duplicated().sum()\n",
    "\n"
   ]
  },
  {
   "cell_type": "markdown",
   "metadata": {},
   "source": [
    " Dari pengecekan data, tidak ditemukan data duplikat pada data `intenet`, namun kita perlu mengubah tipe data pada kolom `session_date` dari `object` menjadi `datetime`."
   ]
  },
  {
   "cell_type": "markdown",
   "metadata": {},
   "source": [
    "### Memperbaiki Data"
   ]
  },
  {
   "cell_type": "markdown",
   "metadata": {},
   "source": [
    "Mengubah tipe data pada kolom `session_date` dari `object` menjadi `datetime`."
   ]
  },
  {
   "cell_type": "code",
   "execution_count": 34,
   "metadata": {},
   "outputs": [
    {
     "name": "stdout",
     "output_type": "stream",
     "text": [
      "<class 'pandas.core.frame.DataFrame'>\n",
      "RangeIndex: 104825 entries, 0 to 104824\n",
      "Data columns (total 4 columns):\n",
      " #   Column        Non-Null Count   Dtype         \n",
      "---  ------        --------------   -----         \n",
      " 0   id            104825 non-null  object        \n",
      " 1   user_id       104825 non-null  int64         \n",
      " 2   session_date  104825 non-null  datetime64[ns]\n",
      " 3   mb_used       104825 non-null  float64       \n",
      "dtypes: datetime64[ns](1), float64(1), int64(1), object(1)\n",
      "memory usage: 3.2+ MB\n"
     ]
    }
   ],
   "source": [
    "# Mengubah tipe data\n",
    "internet['session_date'] = pd.to_datetime(internet['session_date'], format = '%Y-%m-%d')\n",
    "\n",
    "# Cek tipe data kembali\n",
    "internet.info()"
   ]
  },
  {
   "cell_type": "markdown",
   "metadata": {},
   "source": [
    "Kita telah berhasil mengubah tipe data `session_date` dari `object` menjadi `datetime`."
   ]
  },
  {
   "cell_type": "markdown",
   "metadata": {},
   "source": [
    "### Memperkaya Kualitas Data"
   ]
  },
  {
   "cell_type": "markdown",
   "metadata": {},
   "source": [
    "Untuk mempermudah analisa data, kita akan menambahkan kolom, dari kolom `session_date`, dengan memisahkan `tanggal`, `bulan`, dan `tahun`."
   ]
  },
  {
   "cell_type": "code",
   "execution_count": 35,
   "metadata": {},
   "outputs": [
    {
     "data": {
      "text/html": [
       "<div>\n",
       "<style scoped>\n",
       "    .dataframe tbody tr th:only-of-type {\n",
       "        vertical-align: middle;\n",
       "    }\n",
       "\n",
       "    .dataframe tbody tr th {\n",
       "        vertical-align: top;\n",
       "    }\n",
       "\n",
       "    .dataframe thead th {\n",
       "        text-align: right;\n",
       "    }\n",
       "</style>\n",
       "<table border=\"1\" class=\"dataframe\">\n",
       "  <thead>\n",
       "    <tr style=\"text-align: right;\">\n",
       "      <th></th>\n",
       "      <th>id</th>\n",
       "      <th>user_id</th>\n",
       "      <th>session_date</th>\n",
       "      <th>mb_used</th>\n",
       "      <th>date</th>\n",
       "      <th>month</th>\n",
       "      <th>year</th>\n",
       "    </tr>\n",
       "  </thead>\n",
       "  <tbody>\n",
       "    <tr>\n",
       "      <th>41324</th>\n",
       "      <td>1185_361</td>\n",
       "      <td>1185</td>\n",
       "      <td>2018-06-08</td>\n",
       "      <td>722.58</td>\n",
       "      <td>8</td>\n",
       "      <td>6</td>\n",
       "      <td>2018</td>\n",
       "    </tr>\n",
       "    <tr>\n",
       "      <th>68420</th>\n",
       "      <td>1320_84</td>\n",
       "      <td>1320</td>\n",
       "      <td>2018-11-28</td>\n",
       "      <td>665.86</td>\n",
       "      <td>28</td>\n",
       "      <td>11</td>\n",
       "      <td>2018</td>\n",
       "    </tr>\n",
       "    <tr>\n",
       "      <th>35122</th>\n",
       "      <td>1158_160</td>\n",
       "      <td>1158</td>\n",
       "      <td>2018-12-05</td>\n",
       "      <td>297.05</td>\n",
       "      <td>5</td>\n",
       "      <td>12</td>\n",
       "      <td>2018</td>\n",
       "    </tr>\n",
       "    <tr>\n",
       "      <th>10819</th>\n",
       "      <td>1054_355</td>\n",
       "      <td>1054</td>\n",
       "      <td>2018-10-14</td>\n",
       "      <td>98.80</td>\n",
       "      <td>14</td>\n",
       "      <td>10</td>\n",
       "      <td>2018</td>\n",
       "    </tr>\n",
       "    <tr>\n",
       "      <th>26665</th>\n",
       "      <td>1123_160</td>\n",
       "      <td>1123</td>\n",
       "      <td>2018-08-29</td>\n",
       "      <td>48.07</td>\n",
       "      <td>29</td>\n",
       "      <td>8</td>\n",
       "      <td>2018</td>\n",
       "    </tr>\n",
       "  </tbody>\n",
       "</table>\n",
       "</div>"
      ],
      "text/plain": [
       "             id  user_id session_date  mb_used  date  month  year\n",
       "41324  1185_361     1185   2018-06-08   722.58     8      6  2018\n",
       "68420   1320_84     1320   2018-11-28   665.86    28     11  2018\n",
       "35122  1158_160     1158   2018-12-05   297.05     5     12  2018\n",
       "10819  1054_355     1054   2018-10-14    98.80    14     10  2018\n",
       "26665  1123_160     1123   2018-08-29    48.07    29      8  2018"
      ]
     },
     "execution_count": 35,
     "metadata": {},
     "output_type": "execute_result"
    }
   ],
   "source": [
    "# Membuat kolom tambahan\n",
    "\n",
    "# Membuat kolom tanggal\n",
    "internet['date'] = internet['session_date'].dt.day\n",
    "\n",
    "# Membuat kolom bulan\n",
    "internet['month'] = internet['session_date'].dt.month\n",
    "\n",
    "# Membuat kolom tahun\n",
    "internet['year'] = internet['session_date'].dt.year\n",
    "\n",
    "# Meengecek sampel data\n",
    "internet.sample(5)"
   ]
  },
  {
   "cell_type": "markdown",
   "metadata": {},
   "source": [
    "Kita telah berhasil menambahkan kolom tambahan."
   ]
  },
  {
   "cell_type": "markdown",
   "metadata": {},
   "source": [
    "## Mempelajari Syarat dan Kondisi Terkait Paket Prabayar"
   ]
  },
  {
   "cell_type": "markdown",
   "metadata": {},
   "source": [
    "Mari kita cek kembali, syarat dan kondisi paket prabayar dari data `plans`. Kita tampilkan ulang kembali datanya."
   ]
  },
  {
   "cell_type": "code",
   "execution_count": 36,
   "metadata": {},
   "outputs": [
    {
     "data": {
      "text/html": [
       "<div>\n",
       "<style scoped>\n",
       "    .dataframe tbody tr th:only-of-type {\n",
       "        vertical-align: middle;\n",
       "    }\n",
       "\n",
       "    .dataframe tbody tr th {\n",
       "        vertical-align: top;\n",
       "    }\n",
       "\n",
       "    .dataframe thead th {\n",
       "        text-align: right;\n",
       "    }\n",
       "</style>\n",
       "<table border=\"1\" class=\"dataframe\">\n",
       "  <thead>\n",
       "    <tr style=\"text-align: right;\">\n",
       "      <th></th>\n",
       "      <th>messages_included</th>\n",
       "      <th>mb_per_month_included</th>\n",
       "      <th>minutes_included</th>\n",
       "      <th>usd_monthly_pay</th>\n",
       "      <th>usd_per_gb</th>\n",
       "      <th>usd_per_message</th>\n",
       "      <th>usd_per_minute</th>\n",
       "      <th>plan_name</th>\n",
       "    </tr>\n",
       "  </thead>\n",
       "  <tbody>\n",
       "    <tr>\n",
       "      <th>0</th>\n",
       "      <td>50</td>\n",
       "      <td>15360</td>\n",
       "      <td>500</td>\n",
       "      <td>20</td>\n",
       "      <td>10</td>\n",
       "      <td>0.03</td>\n",
       "      <td>0.03</td>\n",
       "      <td>surf</td>\n",
       "    </tr>\n",
       "    <tr>\n",
       "      <th>1</th>\n",
       "      <td>1000</td>\n",
       "      <td>30720</td>\n",
       "      <td>3000</td>\n",
       "      <td>70</td>\n",
       "      <td>7</td>\n",
       "      <td>0.01</td>\n",
       "      <td>0.01</td>\n",
       "      <td>ultimate</td>\n",
       "    </tr>\n",
       "  </tbody>\n",
       "</table>\n",
       "</div>"
      ],
      "text/plain": [
       "   messages_included  mb_per_month_included  minutes_included  \\\n",
       "0                 50                  15360               500   \n",
       "1               1000                  30720              3000   \n",
       "\n",
       "   usd_monthly_pay  usd_per_gb  usd_per_message  usd_per_minute plan_name  \n",
       "0               20          10             0.03            0.03      surf  \n",
       "1               70           7             0.01            0.01  ultimate  "
      ]
     },
     "execution_count": 36,
     "metadata": {},
     "output_type": "execute_result"
    }
   ],
   "source": [
    "# Tampilkan persyaratan paket prabayar dan pastikan Anda memahaminya\n",
    "plans\n"
   ]
  },
  {
   "cell_type": "markdown",
   "metadata": {},
   "source": [
    "Dari data di atas, kita dapat mengambil kesimpulan bahwa:\n",
    "1. Paket terdiri dari dua paket, yaitu `surf` dan `ultimate\n",
    "2. Masing-masing paket memilki fasilitas yang tersedia saat kita membeli paket tersebut dan jika fasilitas tersebut habis maka akan dikenakan `biaya tambahan` yang dihitung berdasarkan `biaya unit pemakaian dikalikan dengan jumlah penggunaan`.\n",
    "3. Beberapa fasilitas dan jumlah yang disediakan ketika kita memilih paket prabayar tercantum pada `kolom messages_included, mb_per_month_included dan minutes_included`.\n",
    "4. Biaya paket bulanan tercantum dalam `kolom usd_monthly_pay`.\n",
    "5. Biaya tambahan yang dikenakan jika fasilitas utama telah habis digunakan berdasarkan kategorinya dengan mengalikan jumlah penggunaan kategori dengan unit satuan kategori yang dikenakan tercantum dalam `kolom usd_per_gb, usd_per_message dan usd_per_minute`.\n",
    "\n"
   ]
  },
  {
   "cell_type": "markdown",
   "metadata": {},
   "source": [
    "## Mengagregasi Data per Pengguna\n",
    "\n",
    "Setelah melewati data `pre-processing` di atas. Maka kita akan melanjutkan analisa yang lebih lanjut dengan mengagregasi data, dengan beberapa langkah berikut:\n",
    "\n",
    "1. Agregasi data menggunakan dataframe dari `user_id` meliputi jumlah yang dilakukan pengguna selama tahun 2018.\n",
    "2. Memisahkan jumlah dari setiap-setiap data yang ada per bulan.\n",
    "3. Menggabungkan data-data ynag sudah dikumpulkan untuk dapat mengetahui pemndapatan bulanan untuk setiap pengguna.\n"
   ]
  },
  {
   "cell_type": "code",
   "execution_count": 37,
   "metadata": {},
   "outputs": [
    {
     "data": {
      "text/html": [
       "<div>\n",
       "<style scoped>\n",
       "    .dataframe tbody tr th:only-of-type {\n",
       "        vertical-align: middle;\n",
       "    }\n",
       "\n",
       "    .dataframe tbody tr th {\n",
       "        vertical-align: top;\n",
       "    }\n",
       "\n",
       "    .dataframe thead th {\n",
       "        text-align: right;\n",
       "    }\n",
       "</style>\n",
       "<table border=\"1\" class=\"dataframe\">\n",
       "  <thead>\n",
       "    <tr style=\"text-align: right;\">\n",
       "      <th></th>\n",
       "      <th>count_call</th>\n",
       "      <th>call_month</th>\n",
       "      <th>call_per_month</th>\n",
       "    </tr>\n",
       "    <tr>\n",
       "      <th>user_id</th>\n",
       "      <th></th>\n",
       "      <th></th>\n",
       "      <th></th>\n",
       "    </tr>\n",
       "  </thead>\n",
       "  <tbody>\n",
       "    <tr>\n",
       "      <th>1000</th>\n",
       "      <td>16</td>\n",
       "      <td>1</td>\n",
       "      <td>16</td>\n",
       "    </tr>\n",
       "    <tr>\n",
       "      <th>1001</th>\n",
       "      <td>261</td>\n",
       "      <td>5</td>\n",
       "      <td>53</td>\n",
       "    </tr>\n",
       "    <tr>\n",
       "      <th>1002</th>\n",
       "      <td>113</td>\n",
       "      <td>3</td>\n",
       "      <td>38</td>\n",
       "    </tr>\n",
       "    <tr>\n",
       "      <th>1003</th>\n",
       "      <td>149</td>\n",
       "      <td>1</td>\n",
       "      <td>149</td>\n",
       "    </tr>\n",
       "    <tr>\n",
       "      <th>1004</th>\n",
       "      <td>370</td>\n",
       "      <td>8</td>\n",
       "      <td>47</td>\n",
       "    </tr>\n",
       "  </tbody>\n",
       "</table>\n",
       "</div>"
      ],
      "text/plain": [
       "         count_call  call_month  call_per_month\n",
       "user_id                                        \n",
       "1000             16           1              16\n",
       "1001            261           5              53\n",
       "1002            113           3              38\n",
       "1003            149           1             149\n",
       "1004            370           8              47"
      ]
     },
     "execution_count": 37,
     "metadata": {},
     "output_type": "execute_result"
    }
   ],
   "source": [
    "# Hitung jumlah panggilan yang dilakukan oleh setiap pengguna per bulan.\n",
    "\n",
    "# membuat pivot_table untuk jumlah panggilan yang dilakukan pengguna di tahun 2018\n",
    "call_count = pd.pivot_table(calls, index = 'user_id', values = 'call_date', aggfunc = 'count').reset_index()\n",
    "\n",
    "# membuat fungsi untuk menghitung jumlah bulan-bulan yang aktif per pengguna\n",
    "def month_calls(user):\n",
    "    slicer = calls.query('user_id == @user')\n",
    "    total = len(slicer['month'].unique())\n",
    "    return total\n",
    "\n",
    "# menerapkan fungsi menghitung jumlah bulan-bulan yang aktif setiap pengguna ke dalam kolom baru\n",
    "call_count['call_month'] = call_count['user_id'].apply(month_calls)\n",
    "\n",
    "# menghitung jumlah panggilan pengguna selama satu bulan\n",
    "call_count['call_per_month'] = call_count['call_date']/call_count['call_month']\n",
    "\n",
    "# membulatkan jumlah panggilan pengguna selama satu bulan\n",
    "call_count['call_per_month'] = call_count['call_per_month'].apply(lambda x: mt.ceil(x))\n",
    "\n",
    "# mengubah nama kolom `call_date` menjadi nama kolom `count_call`\n",
    "call_count.rename(columns={'call_date':'count_call'},inplace=True)\n",
    "\n",
    "# menjadikan kolom `user_id` sebagai index\n",
    "call_count.set_index('user_id',inplace = True)\n",
    "\n",
    "# menampilkan sampel data\n",
    "call_count.head()"
   ]
  },
  {
   "cell_type": "code",
   "execution_count": 38,
   "metadata": {},
   "outputs": [
    {
     "data": {
      "text/html": [
       "<div>\n",
       "<style scoped>\n",
       "    .dataframe tbody tr th:only-of-type {\n",
       "        vertical-align: middle;\n",
       "    }\n",
       "\n",
       "    .dataframe tbody tr th {\n",
       "        vertical-align: top;\n",
       "    }\n",
       "\n",
       "    .dataframe thead th {\n",
       "        text-align: right;\n",
       "    }\n",
       "</style>\n",
       "<table border=\"1\" class=\"dataframe\">\n",
       "  <thead>\n",
       "    <tr style=\"text-align: right;\">\n",
       "      <th></th>\n",
       "      <th>user_id</th>\n",
       "      <th>month</th>\n",
       "      <th>sum_duration</th>\n",
       "      <th>count_calls</th>\n",
       "    </tr>\n",
       "  </thead>\n",
       "  <tbody>\n",
       "    <tr>\n",
       "      <th>0</th>\n",
       "      <td>1000</td>\n",
       "      <td>12</td>\n",
       "      <td>116.83</td>\n",
       "      <td>16</td>\n",
       "    </tr>\n",
       "    <tr>\n",
       "      <th>1</th>\n",
       "      <td>1001</td>\n",
       "      <td>8</td>\n",
       "      <td>171.14</td>\n",
       "      <td>27</td>\n",
       "    </tr>\n",
       "    <tr>\n",
       "      <th>2</th>\n",
       "      <td>1001</td>\n",
       "      <td>9</td>\n",
       "      <td>297.69</td>\n",
       "      <td>49</td>\n",
       "    </tr>\n",
       "    <tr>\n",
       "      <th>3</th>\n",
       "      <td>1001</td>\n",
       "      <td>10</td>\n",
       "      <td>374.11</td>\n",
       "      <td>65</td>\n",
       "    </tr>\n",
       "    <tr>\n",
       "      <th>4</th>\n",
       "      <td>1001</td>\n",
       "      <td>11</td>\n",
       "      <td>404.59</td>\n",
       "      <td>64</td>\n",
       "    </tr>\n",
       "  </tbody>\n",
       "</table>\n",
       "</div>"
      ],
      "text/plain": [
       "   user_id  month  sum_duration  count_calls\n",
       "0     1000     12        116.83           16\n",
       "1     1001      8        171.14           27\n",
       "2     1001      9        297.69           49\n",
       "3     1001     10        374.11           65\n",
       "4     1001     11        404.59           64"
      ]
     },
     "execution_count": 38,
     "metadata": {},
     "output_type": "execute_result"
    }
   ],
   "source": [
    "# Gabung tabel durasi dan jumlah panggilan per bulan\n",
    "pivot_calls = calls.pivot_table(index=['user_id', 'month'], values=['duration'], aggfunc=['sum', 'count']).reset_index()\n",
    "\n",
    "# Ubah nama kolom\n",
    "pivot_calls.columns = ['user_id', 'month', 'sum_duration', 'count_calls']\n",
    "\n",
    "# Menampilkan sampel data\n",
    "pivot_calls.head()"
   ]
  },
  {
   "cell_type": "code",
   "execution_count": 39,
   "metadata": {},
   "outputs": [
    {
     "data": {
      "text/html": [
       "<div>\n",
       "<style scoped>\n",
       "    .dataframe tbody tr th:only-of-type {\n",
       "        vertical-align: middle;\n",
       "    }\n",
       "\n",
       "    .dataframe tbody tr th {\n",
       "        vertical-align: top;\n",
       "    }\n",
       "\n",
       "    .dataframe thead th {\n",
       "        text-align: right;\n",
       "    }\n",
       "</style>\n",
       "<table border=\"1\" class=\"dataframe\">\n",
       "  <thead>\n",
       "    <tr style=\"text-align: right;\">\n",
       "      <th></th>\n",
       "      <th>user_id</th>\n",
       "      <th>month</th>\n",
       "      <th>count_sms</th>\n",
       "    </tr>\n",
       "  </thead>\n",
       "  <tbody>\n",
       "    <tr>\n",
       "      <th>0</th>\n",
       "      <td>1000</td>\n",
       "      <td>12</td>\n",
       "      <td>11</td>\n",
       "    </tr>\n",
       "    <tr>\n",
       "      <th>1</th>\n",
       "      <td>1001</td>\n",
       "      <td>8</td>\n",
       "      <td>30</td>\n",
       "    </tr>\n",
       "    <tr>\n",
       "      <th>2</th>\n",
       "      <td>1001</td>\n",
       "      <td>9</td>\n",
       "      <td>44</td>\n",
       "    </tr>\n",
       "    <tr>\n",
       "      <th>3</th>\n",
       "      <td>1001</td>\n",
       "      <td>10</td>\n",
       "      <td>53</td>\n",
       "    </tr>\n",
       "    <tr>\n",
       "      <th>4</th>\n",
       "      <td>1001</td>\n",
       "      <td>11</td>\n",
       "      <td>36</td>\n",
       "    </tr>\n",
       "  </tbody>\n",
       "</table>\n",
       "</div>"
      ],
      "text/plain": [
       "   user_id  month  count_sms\n",
       "0     1000     12         11\n",
       "1     1001      8         30\n",
       "2     1001      9         44\n",
       "3     1001     10         53\n",
       "4     1001     11         36"
      ]
     },
     "execution_count": 39,
     "metadata": {},
     "output_type": "execute_result"
    }
   ],
   "source": [
    "# Membuat pivot_table untuk jumlah SMS yang dikirim pengguna per bulan\n",
    "pivot_msg = messages.pivot_table(index=['user_id', 'month'], values=['id'], aggfunc='count').reset_index()\n",
    "\n",
    "# Ubah nama kolom\n",
    "pivot_msg.columns = ['user_id', 'month', 'count_sms']\n",
    "\n",
    "# Menampilkan sampel data\n",
    "pivot_msg.head()"
   ]
  },
  {
   "cell_type": "code",
   "execution_count": 40,
   "metadata": {},
   "outputs": [
    {
     "data": {
      "text/html": [
       "<div>\n",
       "<style scoped>\n",
       "    .dataframe tbody tr th:only-of-type {\n",
       "        vertical-align: middle;\n",
       "    }\n",
       "\n",
       "    .dataframe tbody tr th {\n",
       "        vertical-align: top;\n",
       "    }\n",
       "\n",
       "    .dataframe thead th {\n",
       "        text-align: right;\n",
       "    }\n",
       "</style>\n",
       "<table border=\"1\" class=\"dataframe\">\n",
       "  <thead>\n",
       "    <tr style=\"text-align: right;\">\n",
       "      <th></th>\n",
       "      <th>user_id</th>\n",
       "      <th>month</th>\n",
       "      <th>total_mb_used</th>\n",
       "    </tr>\n",
       "  </thead>\n",
       "  <tbody>\n",
       "    <tr>\n",
       "      <th>0</th>\n",
       "      <td>1000</td>\n",
       "      <td>12</td>\n",
       "      <td>1901.47</td>\n",
       "    </tr>\n",
       "    <tr>\n",
       "      <th>1</th>\n",
       "      <td>1001</td>\n",
       "      <td>8</td>\n",
       "      <td>6919.15</td>\n",
       "    </tr>\n",
       "    <tr>\n",
       "      <th>2</th>\n",
       "      <td>1001</td>\n",
       "      <td>9</td>\n",
       "      <td>13314.82</td>\n",
       "    </tr>\n",
       "    <tr>\n",
       "      <th>3</th>\n",
       "      <td>1001</td>\n",
       "      <td>10</td>\n",
       "      <td>22330.49</td>\n",
       "    </tr>\n",
       "    <tr>\n",
       "      <th>4</th>\n",
       "      <td>1001</td>\n",
       "      <td>11</td>\n",
       "      <td>18504.30</td>\n",
       "    </tr>\n",
       "  </tbody>\n",
       "</table>\n",
       "</div>"
      ],
      "text/plain": [
       "   user_id  month  total_mb_used\n",
       "0     1000     12        1901.47\n",
       "1     1001      8        6919.15\n",
       "2     1001      9       13314.82\n",
       "3     1001     10       22330.49\n",
       "4     1001     11       18504.30"
      ]
     },
     "execution_count": 40,
     "metadata": {},
     "output_type": "execute_result"
    }
   ],
   "source": [
    "# Membuat pivot_table untuk jumlah data internet yang digunakan pengguna per bulan\n",
    "pivot_internet = internet.pivot_table(index=['user_id', 'month'], values=['mb_used'], aggfunc='sum').reset_index()\n",
    "\n",
    "# Ubah nama kolom\n",
    "pivot_internet.columns = ['user_id', 'month', 'total_mb_used']\n",
    "\n",
    "# Menampilkan sampel data\n",
    "pivot_internet.head()\n"
   ]
  },
  {
   "cell_type": "markdown",
   "metadata": {},
   "source": [
    "Setelah proses agregasi, selanjutnya kita lakukan data yang sudah di agregasi menjadi satu dataframe, untuk memudahkan analisa lanjutan."
   ]
  },
  {
   "cell_type": "code",
   "execution_count": 76,
   "metadata": {},
   "outputs": [
    {
     "data": {
      "text/html": [
       "<div>\n",
       "<style scoped>\n",
       "    .dataframe tbody tr th:only-of-type {\n",
       "        vertical-align: middle;\n",
       "    }\n",
       "\n",
       "    .dataframe tbody tr th {\n",
       "        vertical-align: top;\n",
       "    }\n",
       "\n",
       "    .dataframe thead th {\n",
       "        text-align: right;\n",
       "    }\n",
       "</style>\n",
       "<table border=\"1\" class=\"dataframe\">\n",
       "  <thead>\n",
       "    <tr style=\"text-align: right;\">\n",
       "      <th></th>\n",
       "      <th>user_id</th>\n",
       "      <th>month</th>\n",
       "      <th>sum_duration</th>\n",
       "      <th>count_calls</th>\n",
       "      <th>count_sms</th>\n",
       "      <th>total_mb_used</th>\n",
       "    </tr>\n",
       "  </thead>\n",
       "  <tbody>\n",
       "    <tr>\n",
       "      <th>0</th>\n",
       "      <td>1000</td>\n",
       "      <td>12</td>\n",
       "      <td>116.83</td>\n",
       "      <td>16.0</td>\n",
       "      <td>11.0</td>\n",
       "      <td>1901.47</td>\n",
       "    </tr>\n",
       "    <tr>\n",
       "      <th>1</th>\n",
       "      <td>1001</td>\n",
       "      <td>8</td>\n",
       "      <td>171.14</td>\n",
       "      <td>27.0</td>\n",
       "      <td>30.0</td>\n",
       "      <td>6919.15</td>\n",
       "    </tr>\n",
       "    <tr>\n",
       "      <th>2</th>\n",
       "      <td>1001</td>\n",
       "      <td>9</td>\n",
       "      <td>297.69</td>\n",
       "      <td>49.0</td>\n",
       "      <td>44.0</td>\n",
       "      <td>13314.82</td>\n",
       "    </tr>\n",
       "    <tr>\n",
       "      <th>3</th>\n",
       "      <td>1001</td>\n",
       "      <td>10</td>\n",
       "      <td>374.11</td>\n",
       "      <td>65.0</td>\n",
       "      <td>53.0</td>\n",
       "      <td>22330.49</td>\n",
       "    </tr>\n",
       "    <tr>\n",
       "      <th>4</th>\n",
       "      <td>1001</td>\n",
       "      <td>11</td>\n",
       "      <td>404.59</td>\n",
       "      <td>64.0</td>\n",
       "      <td>36.0</td>\n",
       "      <td>18504.30</td>\n",
       "    </tr>\n",
       "    <tr>\n",
       "      <th>...</th>\n",
       "      <td>...</td>\n",
       "      <td>...</td>\n",
       "      <td>...</td>\n",
       "      <td>...</td>\n",
       "      <td>...</td>\n",
       "      <td>...</td>\n",
       "    </tr>\n",
       "    <tr>\n",
       "      <th>2288</th>\n",
       "      <td>1349</td>\n",
       "      <td>12</td>\n",
       "      <td>NaN</td>\n",
       "      <td>NaN</td>\n",
       "      <td>61.0</td>\n",
       "      <td>13039.91</td>\n",
       "    </tr>\n",
       "    <tr>\n",
       "      <th>2289</th>\n",
       "      <td>1361</td>\n",
       "      <td>5</td>\n",
       "      <td>NaN</td>\n",
       "      <td>NaN</td>\n",
       "      <td>2.0</td>\n",
       "      <td>1519.69</td>\n",
       "    </tr>\n",
       "    <tr>\n",
       "      <th>2290</th>\n",
       "      <td>1482</td>\n",
       "      <td>10</td>\n",
       "      <td>NaN</td>\n",
       "      <td>NaN</td>\n",
       "      <td>2.0</td>\n",
       "      <td>NaN</td>\n",
       "    </tr>\n",
       "    <tr>\n",
       "      <th>2291</th>\n",
       "      <td>1108</td>\n",
       "      <td>12</td>\n",
       "      <td>NaN</td>\n",
       "      <td>NaN</td>\n",
       "      <td>NaN</td>\n",
       "      <td>233.17</td>\n",
       "    </tr>\n",
       "    <tr>\n",
       "      <th>2292</th>\n",
       "      <td>1311</td>\n",
       "      <td>6</td>\n",
       "      <td>NaN</td>\n",
       "      <td>NaN</td>\n",
       "      <td>NaN</td>\n",
       "      <td>1498.83</td>\n",
       "    </tr>\n",
       "  </tbody>\n",
       "</table>\n",
       "<p>2293 rows × 6 columns</p>\n",
       "</div>"
      ],
      "text/plain": [
       "      user_id  month  sum_duration  count_calls  count_sms  total_mb_used\n",
       "0        1000     12        116.83         16.0       11.0        1901.47\n",
       "1        1001      8        171.14         27.0       30.0        6919.15\n",
       "2        1001      9        297.69         49.0       44.0       13314.82\n",
       "3        1001     10        374.11         65.0       53.0       22330.49\n",
       "4        1001     11        404.59         64.0       36.0       18504.30\n",
       "...       ...    ...           ...          ...        ...            ...\n",
       "2288     1349     12           NaN          NaN       61.0       13039.91\n",
       "2289     1361      5           NaN          NaN        2.0        1519.69\n",
       "2290     1482     10           NaN          NaN        2.0            NaN\n",
       "2291     1108     12           NaN          NaN        NaN         233.17\n",
       "2292     1311      6           NaN          NaN        NaN        1498.83\n",
       "\n",
       "[2293 rows x 6 columns]"
      ]
     },
     "execution_count": 76,
     "metadata": {},
     "output_type": "execute_result"
    }
   ],
   "source": [
    "merged_data"
   ]
  },
  {
   "cell_type": "code",
   "execution_count": 41,
   "metadata": {},
   "outputs": [
    {
     "data": {
      "text/html": [
       "<div>\n",
       "<style scoped>\n",
       "    .dataframe tbody tr th:only-of-type {\n",
       "        vertical-align: middle;\n",
       "    }\n",
       "\n",
       "    .dataframe tbody tr th {\n",
       "        vertical-align: top;\n",
       "    }\n",
       "\n",
       "    .dataframe thead th {\n",
       "        text-align: right;\n",
       "    }\n",
       "</style>\n",
       "<table border=\"1\" class=\"dataframe\">\n",
       "  <thead>\n",
       "    <tr style=\"text-align: right;\">\n",
       "      <th></th>\n",
       "      <th>user_id</th>\n",
       "      <th>region</th>\n",
       "      <th>month</th>\n",
       "      <th>sum_duration</th>\n",
       "      <th>count_calls</th>\n",
       "      <th>count_sms</th>\n",
       "      <th>total_mb_used</th>\n",
       "    </tr>\n",
       "  </thead>\n",
       "  <tbody>\n",
       "    <tr>\n",
       "      <th>0</th>\n",
       "      <td>1000</td>\n",
       "      <td>other</td>\n",
       "      <td>12.0</td>\n",
       "      <td>116.83</td>\n",
       "      <td>16.0</td>\n",
       "      <td>11.0</td>\n",
       "      <td>1901.47</td>\n",
       "    </tr>\n",
       "    <tr>\n",
       "      <th>1</th>\n",
       "      <td>1001</td>\n",
       "      <td>other</td>\n",
       "      <td>8.0</td>\n",
       "      <td>171.14</td>\n",
       "      <td>27.0</td>\n",
       "      <td>30.0</td>\n",
       "      <td>6919.15</td>\n",
       "    </tr>\n",
       "    <tr>\n",
       "      <th>2</th>\n",
       "      <td>1001</td>\n",
       "      <td>other</td>\n",
       "      <td>9.0</td>\n",
       "      <td>297.69</td>\n",
       "      <td>49.0</td>\n",
       "      <td>44.0</td>\n",
       "      <td>13314.82</td>\n",
       "    </tr>\n",
       "    <tr>\n",
       "      <th>3</th>\n",
       "      <td>1001</td>\n",
       "      <td>other</td>\n",
       "      <td>10.0</td>\n",
       "      <td>374.11</td>\n",
       "      <td>65.0</td>\n",
       "      <td>53.0</td>\n",
       "      <td>22330.49</td>\n",
       "    </tr>\n",
       "    <tr>\n",
       "      <th>4</th>\n",
       "      <td>1001</td>\n",
       "      <td>other</td>\n",
       "      <td>11.0</td>\n",
       "      <td>404.59</td>\n",
       "      <td>64.0</td>\n",
       "      <td>36.0</td>\n",
       "      <td>18504.30</td>\n",
       "    </tr>\n",
       "  </tbody>\n",
       "</table>\n",
       "</div>"
      ],
      "text/plain": [
       "   user_id region  month  sum_duration  count_calls  count_sms  total_mb_used\n",
       "0     1000  other   12.0        116.83         16.0       11.0        1901.47\n",
       "1     1001  other    8.0        171.14         27.0       30.0        6919.15\n",
       "2     1001  other    9.0        297.69         49.0       44.0       13314.82\n",
       "3     1001  other   10.0        374.11         65.0       53.0       22330.49\n",
       "4     1001  other   11.0        404.59         64.0       36.0       18504.30"
      ]
     },
     "execution_count": 41,
     "metadata": {},
     "output_type": "execute_result"
    }
   ],
   "source": [
    "# Menggabungkan data panggilan, pesan SMS, dan penggunaan internet berdasarkan user_id dan month (bulan)\n",
    "merged_data = pivot_calls.merge(pivot_msg, on=['user_id', 'month'], how='outer').merge(pivot_internet, on=['user_id', 'month'], how='outer')\n",
    "\n",
    "# Memeriksa apakah kolom 'user_id' adalah bagian dari indeks di dataframe 'users'\n",
    "if 'user_id' in users.index.names:\n",
    "    # Jika iya, reset indeks agar 'user_id' tidak menjadi indeks\n",
    "    users.reset_index(inplace=True)\n",
    "    \n",
    "# Menggabungkan data pengguna (users) dengan data yang telah digabungkan di atas\n",
    "user_usage = users[['user_id', 'region']].merge(merged_data, on='user_id', how='left')\n",
    "\n",
    "# Menampilkan sampel dataframe baru\n",
    "user_usage.head()"
   ]
  },
  {
   "cell_type": "markdown",
   "metadata": {},
   "source": [
    "Selanjutnya kita akan menambahkan informasi paket `prabayar` yang telah dibeli oleh masing masing pengguna ke dalam dataframe. Dan kita perlu melakukan duplikasi data `user_id`, agar data `user_id` tidak hilang saat melakukan set index."
   ]
  },
  {
   "cell_type": "code",
   "execution_count": 42,
   "metadata": {},
   "outputs": [
    {
     "data": {
      "text/html": [
       "<div>\n",
       "<style scoped>\n",
       "    .dataframe tbody tr th:only-of-type {\n",
       "        vertical-align: middle;\n",
       "    }\n",
       "\n",
       "    .dataframe tbody tr th {\n",
       "        vertical-align: top;\n",
       "    }\n",
       "\n",
       "    .dataframe thead th {\n",
       "        text-align: right;\n",
       "    }\n",
       "</style>\n",
       "<table border=\"1\" class=\"dataframe\">\n",
       "  <thead>\n",
       "    <tr style=\"text-align: right;\">\n",
       "      <th></th>\n",
       "      <th>region</th>\n",
       "      <th>month</th>\n",
       "      <th>sum_duration</th>\n",
       "      <th>count_calls</th>\n",
       "      <th>count_sms</th>\n",
       "      <th>total_mb_used</th>\n",
       "      <th>user_id_index</th>\n",
       "      <th>plan</th>\n",
       "    </tr>\n",
       "    <tr>\n",
       "      <th>user_id</th>\n",
       "      <th></th>\n",
       "      <th></th>\n",
       "      <th></th>\n",
       "      <th></th>\n",
       "      <th></th>\n",
       "      <th></th>\n",
       "      <th></th>\n",
       "      <th></th>\n",
       "    </tr>\n",
       "  </thead>\n",
       "  <tbody>\n",
       "    <tr>\n",
       "      <th>1000</th>\n",
       "      <td>other</td>\n",
       "      <td>12.0</td>\n",
       "      <td>116.83</td>\n",
       "      <td>16.0</td>\n",
       "      <td>11.0</td>\n",
       "      <td>1901.47</td>\n",
       "      <td>1000</td>\n",
       "      <td>ultimate</td>\n",
       "    </tr>\n",
       "    <tr>\n",
       "      <th>1001</th>\n",
       "      <td>other</td>\n",
       "      <td>8.0</td>\n",
       "      <td>171.14</td>\n",
       "      <td>27.0</td>\n",
       "      <td>30.0</td>\n",
       "      <td>6919.15</td>\n",
       "      <td>1001</td>\n",
       "      <td>surf</td>\n",
       "    </tr>\n",
       "    <tr>\n",
       "      <th>1001</th>\n",
       "      <td>other</td>\n",
       "      <td>9.0</td>\n",
       "      <td>297.69</td>\n",
       "      <td>49.0</td>\n",
       "      <td>44.0</td>\n",
       "      <td>13314.82</td>\n",
       "      <td>1001</td>\n",
       "      <td>surf</td>\n",
       "    </tr>\n",
       "    <tr>\n",
       "      <th>1001</th>\n",
       "      <td>other</td>\n",
       "      <td>10.0</td>\n",
       "      <td>374.11</td>\n",
       "      <td>65.0</td>\n",
       "      <td>53.0</td>\n",
       "      <td>22330.49</td>\n",
       "      <td>1001</td>\n",
       "      <td>surf</td>\n",
       "    </tr>\n",
       "    <tr>\n",
       "      <th>1001</th>\n",
       "      <td>other</td>\n",
       "      <td>11.0</td>\n",
       "      <td>404.59</td>\n",
       "      <td>64.0</td>\n",
       "      <td>36.0</td>\n",
       "      <td>18504.30</td>\n",
       "      <td>1001</td>\n",
       "      <td>surf</td>\n",
       "    </tr>\n",
       "  </tbody>\n",
       "</table>\n",
       "</div>"
      ],
      "text/plain": [
       "        region  month  sum_duration  count_calls  count_sms  total_mb_used  \\\n",
       "user_id                                                                      \n",
       "1000     other   12.0        116.83         16.0       11.0        1901.47   \n",
       "1001     other    8.0        171.14         27.0       30.0        6919.15   \n",
       "1001     other    9.0        297.69         49.0       44.0       13314.82   \n",
       "1001     other   10.0        374.11         65.0       53.0       22330.49   \n",
       "1001     other   11.0        404.59         64.0       36.0       18504.30   \n",
       "\n",
       "         user_id_index      plan  \n",
       "user_id                           \n",
       "1000              1000  ultimate  \n",
       "1001              1001      surf  \n",
       "1001              1001      surf  \n",
       "1001              1001      surf  \n",
       "1001              1001      surf  "
      ]
     },
     "execution_count": 42,
     "metadata": {},
     "output_type": "execute_result"
    }
   ],
   "source": [
    "# Tambahkan informasi paket prabayarnya\n",
    "# menduplikasi dataset 'user_id' yang akan dijadikan sebagai indeks\n",
    "user_usage['user_id_index'] = user_usage['user_id']\n",
    "\n",
    "# menjadikan kolom `user_id` sebagai index pada dataframe `users` dan `user_usage`\n",
    "users.set_index('user_id',inplace = True)\n",
    "user_usage.set_index('user_id',inplace = True)\n",
    "\n",
    "# melakukan penggabungan dataset yang dipilih dari dataframe lain kedalam dataframe yang baru \n",
    "user_usage['plan'] = users['plan']\n",
    "\n",
    "# menampilkan sampel dataframe baru\n",
    "user_usage.head()"
   ]
  },
  {
   "cell_type": "markdown",
   "metadata": {},
   "source": [
    "Selanjutnya kita akan mengecek nilai yang hilang pada data agregasi yang sudah digabungkan."
   ]
  },
  {
   "cell_type": "code",
   "execution_count": 43,
   "metadata": {},
   "outputs": [
    {
     "data": {
      "text/plain": [
       "region             0\n",
       "month             10\n",
       "sum_duration      45\n",
       "count_calls       45\n",
       "count_sms        497\n",
       "total_mb_used     26\n",
       "user_id_index      0\n",
       "plan               0\n",
       "dtype: int64"
      ]
     },
     "execution_count": 43,
     "metadata": {},
     "output_type": "execute_result"
    }
   ],
   "source": [
    "user_usage.isna().sum()"
   ]
  },
  {
   "cell_type": "markdown",
   "metadata": {},
   "source": [
    "Terdapat nilai yang hilang pada `month`, `sum_duration`, `count_calls`, `count_sms`, `total_mb_used`. Mari kita atasi nilai yang hilang terlebih dahulu dengan mengisi nilai yang hilang dengan angka `0`."
   ]
  },
  {
   "cell_type": "code",
   "execution_count": 44,
   "metadata": {},
   "outputs": [
    {
     "data": {
      "text/plain": [
       "region           0\n",
       "month            0\n",
       "sum_duration     0\n",
       "count_calls      0\n",
       "count_sms        0\n",
       "total_mb_used    0\n",
       "user_id_index    0\n",
       "plan             0\n",
       "dtype: int64"
      ]
     },
     "execution_count": 44,
     "metadata": {},
     "output_type": "execute_result"
    }
   ],
   "source": [
    "# memperbaiki nilai yang hilang\n",
    "user_usage.fillna(0,inplace = True)\n",
    "\n",
    "#cek kembali nilai yang hilang\n",
    "user_usage.isna().sum()"
   ]
  },
  {
   "cell_type": "markdown",
   "metadata": {},
   "source": [
    "Kita sudah berhasil mengatasi nilai yang hilang, sekarang kita lanjutkan dengang mengecek type data dari `user_usage`"
   ]
  },
  {
   "cell_type": "code",
   "execution_count": 45,
   "metadata": {},
   "outputs": [
    {
     "name": "stdout",
     "output_type": "stream",
     "text": [
      "<class 'pandas.core.frame.DataFrame'>\n",
      "Int64Index: 2303 entries, 1000 to 1499\n",
      "Data columns (total 8 columns):\n",
      " #   Column         Non-Null Count  Dtype  \n",
      "---  ------         --------------  -----  \n",
      " 0   region         2303 non-null   object \n",
      " 1   month          2303 non-null   float64\n",
      " 2   sum_duration   2303 non-null   float64\n",
      " 3   count_calls    2303 non-null   float64\n",
      " 4   count_sms      2303 non-null   float64\n",
      " 5   total_mb_used  2303 non-null   float64\n",
      " 6   user_id_index  2303 non-null   int64  \n",
      " 7   plan           2303 non-null   object \n",
      "dtypes: float64(5), int64(1), object(2)\n",
      "memory usage: 161.9+ KB\n"
     ]
    }
   ],
   "source": [
    "user_usage.info()"
   ]
  },
  {
   "cell_type": "markdown",
   "metadata": {},
   "source": [
    "Selanjutnya, kita akan mengubah type data `count_calls` dan `count_sms` dari `float` menjadi `integer`, agar tampilan data lebih baik."
   ]
  },
  {
   "cell_type": "code",
   "execution_count": 46,
   "metadata": {},
   "outputs": [
    {
     "data": {
      "text/html": [
       "<div>\n",
       "<style scoped>\n",
       "    .dataframe tbody tr th:only-of-type {\n",
       "        vertical-align: middle;\n",
       "    }\n",
       "\n",
       "    .dataframe tbody tr th {\n",
       "        vertical-align: top;\n",
       "    }\n",
       "\n",
       "    .dataframe thead th {\n",
       "        text-align: right;\n",
       "    }\n",
       "</style>\n",
       "<table border=\"1\" class=\"dataframe\">\n",
       "  <thead>\n",
       "    <tr style=\"text-align: right;\">\n",
       "      <th></th>\n",
       "      <th>region</th>\n",
       "      <th>month</th>\n",
       "      <th>sum_duration</th>\n",
       "      <th>count_calls</th>\n",
       "      <th>count_sms</th>\n",
       "      <th>total_mb_used</th>\n",
       "      <th>user_id_index</th>\n",
       "      <th>plan</th>\n",
       "    </tr>\n",
       "    <tr>\n",
       "      <th>user_id</th>\n",
       "      <th></th>\n",
       "      <th></th>\n",
       "      <th></th>\n",
       "      <th></th>\n",
       "      <th></th>\n",
       "      <th></th>\n",
       "      <th></th>\n",
       "      <th></th>\n",
       "    </tr>\n",
       "  </thead>\n",
       "  <tbody>\n",
       "    <tr>\n",
       "      <th>1000</th>\n",
       "      <td>other</td>\n",
       "      <td>12.0</td>\n",
       "      <td>116.83</td>\n",
       "      <td>16</td>\n",
       "      <td>11</td>\n",
       "      <td>1901.47</td>\n",
       "      <td>1000</td>\n",
       "      <td>ultimate</td>\n",
       "    </tr>\n",
       "    <tr>\n",
       "      <th>1001</th>\n",
       "      <td>other</td>\n",
       "      <td>8.0</td>\n",
       "      <td>171.14</td>\n",
       "      <td>27</td>\n",
       "      <td>30</td>\n",
       "      <td>6919.15</td>\n",
       "      <td>1001</td>\n",
       "      <td>surf</td>\n",
       "    </tr>\n",
       "    <tr>\n",
       "      <th>1001</th>\n",
       "      <td>other</td>\n",
       "      <td>9.0</td>\n",
       "      <td>297.69</td>\n",
       "      <td>49</td>\n",
       "      <td>44</td>\n",
       "      <td>13314.82</td>\n",
       "      <td>1001</td>\n",
       "      <td>surf</td>\n",
       "    </tr>\n",
       "    <tr>\n",
       "      <th>1001</th>\n",
       "      <td>other</td>\n",
       "      <td>10.0</td>\n",
       "      <td>374.11</td>\n",
       "      <td>65</td>\n",
       "      <td>53</td>\n",
       "      <td>22330.49</td>\n",
       "      <td>1001</td>\n",
       "      <td>surf</td>\n",
       "    </tr>\n",
       "    <tr>\n",
       "      <th>1001</th>\n",
       "      <td>other</td>\n",
       "      <td>11.0</td>\n",
       "      <td>404.59</td>\n",
       "      <td>64</td>\n",
       "      <td>36</td>\n",
       "      <td>18504.30</td>\n",
       "      <td>1001</td>\n",
       "      <td>surf</td>\n",
       "    </tr>\n",
       "  </tbody>\n",
       "</table>\n",
       "</div>"
      ],
      "text/plain": [
       "        region  month  sum_duration  count_calls  count_sms  total_mb_used  \\\n",
       "user_id                                                                      \n",
       "1000     other   12.0        116.83           16         11        1901.47   \n",
       "1001     other    8.0        171.14           27         30        6919.15   \n",
       "1001     other    9.0        297.69           49         44       13314.82   \n",
       "1001     other   10.0        374.11           65         53       22330.49   \n",
       "1001     other   11.0        404.59           64         36       18504.30   \n",
       "\n",
       "         user_id_index      plan  \n",
       "user_id                           \n",
       "1000              1000  ultimate  \n",
       "1001              1001      surf  \n",
       "1001              1001      surf  \n",
       "1001              1001      surf  \n",
       "1001              1001      surf  "
      ]
     },
     "execution_count": 46,
     "metadata": {},
     "output_type": "execute_result"
    }
   ],
   "source": [
    "# mengubah tipe data dari `float` menjadi `integer` untuk sms dan jumlah panggilan\n",
    "user_usage['count_calls'] = user_usage['count_calls'].astype('int')\n",
    "user_usage['count_sms'] = user_usage['count_sms'].astype('int')\n",
    "\n",
    "# menampilkan sampel data\n",
    "user_usage.head()"
   ]
  },
  {
   "cell_type": "markdown",
   "metadata": {},
   "source": [
    "Dataframe saat ini sudah terlihat cukup baik, untuk `total_mb_used` kita akan melakukan pembulatannya nanti."
   ]
  },
  {
   "cell_type": "markdown",
   "metadata": {},
   "source": [
    "Selanjutnya kita akan menghitung pendapatan bulanan dari setiap pengguna dan juga biaya tambahannya jika paket yang digunakan telah habis."
   ]
  },
  {
   "cell_type": "code",
   "execution_count": 47,
   "metadata": {},
   "outputs": [
    {
     "data": {
      "text/html": [
       "<div>\n",
       "<style scoped>\n",
       "    .dataframe tbody tr th:only-of-type {\n",
       "        vertical-align: middle;\n",
       "    }\n",
       "\n",
       "    .dataframe tbody tr th {\n",
       "        vertical-align: top;\n",
       "    }\n",
       "\n",
       "    .dataframe thead th {\n",
       "        text-align: right;\n",
       "    }\n",
       "</style>\n",
       "<table border=\"1\" class=\"dataframe\">\n",
       "  <thead>\n",
       "    <tr style=\"text-align: right;\">\n",
       "      <th></th>\n",
       "      <th>region</th>\n",
       "      <th>month</th>\n",
       "      <th>sum_duration</th>\n",
       "      <th>count_calls</th>\n",
       "      <th>count_sms</th>\n",
       "      <th>total_mb_used</th>\n",
       "      <th>plan</th>\n",
       "      <th>minutes_included</th>\n",
       "      <th>messages_included</th>\n",
       "      <th>mb_per_month_included</th>\n",
       "      <th>usd_monthly_pay</th>\n",
       "      <th>usd_per_minute</th>\n",
       "      <th>usd_per_message</th>\n",
       "      <th>usd_per_gb</th>\n",
       "    </tr>\n",
       "    <tr>\n",
       "      <th>user_id</th>\n",
       "      <th></th>\n",
       "      <th></th>\n",
       "      <th></th>\n",
       "      <th></th>\n",
       "      <th></th>\n",
       "      <th></th>\n",
       "      <th></th>\n",
       "      <th></th>\n",
       "      <th></th>\n",
       "      <th></th>\n",
       "      <th></th>\n",
       "      <th></th>\n",
       "      <th></th>\n",
       "      <th></th>\n",
       "    </tr>\n",
       "  </thead>\n",
       "  <tbody>\n",
       "    <tr>\n",
       "      <th>1000</th>\n",
       "      <td>other</td>\n",
       "      <td>12.0</td>\n",
       "      <td>116.83</td>\n",
       "      <td>16</td>\n",
       "      <td>11</td>\n",
       "      <td>1901.47</td>\n",
       "      <td>ultimate</td>\n",
       "      <td>3000</td>\n",
       "      <td>1000</td>\n",
       "      <td>30720</td>\n",
       "      <td>70</td>\n",
       "      <td>0.01</td>\n",
       "      <td>0.01</td>\n",
       "      <td>7</td>\n",
       "    </tr>\n",
       "    <tr>\n",
       "      <th>1001</th>\n",
       "      <td>other</td>\n",
       "      <td>8.0</td>\n",
       "      <td>171.14</td>\n",
       "      <td>27</td>\n",
       "      <td>30</td>\n",
       "      <td>6919.15</td>\n",
       "      <td>surf</td>\n",
       "      <td>500</td>\n",
       "      <td>50</td>\n",
       "      <td>15360</td>\n",
       "      <td>20</td>\n",
       "      <td>0.03</td>\n",
       "      <td>0.03</td>\n",
       "      <td>10</td>\n",
       "    </tr>\n",
       "    <tr>\n",
       "      <th>1001</th>\n",
       "      <td>other</td>\n",
       "      <td>9.0</td>\n",
       "      <td>297.69</td>\n",
       "      <td>49</td>\n",
       "      <td>44</td>\n",
       "      <td>13314.82</td>\n",
       "      <td>surf</td>\n",
       "      <td>500</td>\n",
       "      <td>50</td>\n",
       "      <td>15360</td>\n",
       "      <td>20</td>\n",
       "      <td>0.03</td>\n",
       "      <td>0.03</td>\n",
       "      <td>10</td>\n",
       "    </tr>\n",
       "    <tr>\n",
       "      <th>1001</th>\n",
       "      <td>other</td>\n",
       "      <td>10.0</td>\n",
       "      <td>374.11</td>\n",
       "      <td>65</td>\n",
       "      <td>53</td>\n",
       "      <td>22330.49</td>\n",
       "      <td>surf</td>\n",
       "      <td>500</td>\n",
       "      <td>50</td>\n",
       "      <td>15360</td>\n",
       "      <td>20</td>\n",
       "      <td>0.03</td>\n",
       "      <td>0.03</td>\n",
       "      <td>10</td>\n",
       "    </tr>\n",
       "    <tr>\n",
       "      <th>1001</th>\n",
       "      <td>other</td>\n",
       "      <td>11.0</td>\n",
       "      <td>404.59</td>\n",
       "      <td>64</td>\n",
       "      <td>36</td>\n",
       "      <td>18504.30</td>\n",
       "      <td>surf</td>\n",
       "      <td>500</td>\n",
       "      <td>50</td>\n",
       "      <td>15360</td>\n",
       "      <td>20</td>\n",
       "      <td>0.03</td>\n",
       "      <td>0.03</td>\n",
       "      <td>10</td>\n",
       "    </tr>\n",
       "  </tbody>\n",
       "</table>\n",
       "</div>"
      ],
      "text/plain": [
       "        region  month  sum_duration  count_calls  count_sms  total_mb_used  \\\n",
       "user_id                                                                      \n",
       "1000     other   12.0        116.83           16         11        1901.47   \n",
       "1001     other    8.0        171.14           27         30        6919.15   \n",
       "1001     other    9.0        297.69           49         44       13314.82   \n",
       "1001     other   10.0        374.11           65         53       22330.49   \n",
       "1001     other   11.0        404.59           64         36       18504.30   \n",
       "\n",
       "             plan  minutes_included  messages_included  mb_per_month_included  \\\n",
       "user_id                                                                         \n",
       "1000     ultimate              3000               1000                  30720   \n",
       "1001         surf               500                 50                  15360   \n",
       "1001         surf               500                 50                  15360   \n",
       "1001         surf               500                 50                  15360   \n",
       "1001         surf               500                 50                  15360   \n",
       "\n",
       "         usd_monthly_pay  usd_per_minute  usd_per_message  usd_per_gb  \n",
       "user_id                                                                \n",
       "1000                  70            0.01             0.01           7  \n",
       "1001                  20            0.03             0.03          10  \n",
       "1001                  20            0.03             0.03          10  \n",
       "1001                  20            0.03             0.03          10  \n",
       "1001                  20            0.03             0.03          10  "
      ]
     },
     "execution_count": 47,
     "metadata": {},
     "output_type": "execute_result"
    }
   ],
   "source": [
    "# Hitung pendapatan bulanan untuk setiap pengguna\n",
    "# membuat duplikasi kolom 'plan' untuk mencegah kehilangan kolom akibat dari set_index\n",
    "user_usage['plan_index'] = user_usage['plan']\n",
    "\n",
    "# mengubah indeks pada dataset user_usage dan plans\n",
    "user_usage.set_index('plan', inplace = True)\n",
    "plans.set_index('plan_name', inplace = True)\n",
    "\n",
    "# menggabungkan durasi panggilan, sms dan data gratis dari paket yang tersedia ke dalam dataframe baru\n",
    "user_usage['minutes_included'] = plans['minutes_included']\n",
    "user_usage['messages_included'] = plans['messages_included']\n",
    "user_usage['mb_per_month_included'] = plans['mb_per_month_included']\n",
    "\n",
    "# menggabungkan biaya tambahan untuk durasi panggilan, sms dan data ke dalam dataframe baru\n",
    "user_usage['usd_monthly_pay'] = plans['usd_monthly_pay']\n",
    "user_usage['usd_per_minute'] = plans['usd_per_minute']\n",
    "user_usage['usd_per_message'] = plans['usd_per_message']\n",
    "user_usage['usd_per_gb'] = plans['usd_per_gb']\n",
    "\n",
    "# mengubah nama kolom dari 'user_id_index' menjadi 'user_id' dan 'plan_index' menjadi 'plan'\n",
    "user_usage.rename(columns={\n",
    "    'user_id_index':'user_id',\n",
    "    'plan_index':'plan'\n",
    "    },inplace = True)\n",
    "\n",
    "# menjadikan kolom `user_id` sebagai index\n",
    "user_usage.set_index('user_id',inplace = True)\n",
    "\n",
    "# menampilkan sampel data\n",
    "user_usage.head()"
   ]
  },
  {
   "cell_type": "code",
   "execution_count": 48,
   "metadata": {},
   "outputs": [
    {
     "data": {
      "text/html": [
       "<div>\n",
       "<style scoped>\n",
       "    .dataframe tbody tr th:only-of-type {\n",
       "        vertical-align: middle;\n",
       "    }\n",
       "\n",
       "    .dataframe tbody tr th {\n",
       "        vertical-align: top;\n",
       "    }\n",
       "\n",
       "    .dataframe thead th {\n",
       "        text-align: right;\n",
       "    }\n",
       "</style>\n",
       "<table border=\"1\" class=\"dataframe\">\n",
       "  <thead>\n",
       "    <tr style=\"text-align: right;\">\n",
       "      <th></th>\n",
       "      <th>region</th>\n",
       "      <th>month</th>\n",
       "      <th>sum_duration</th>\n",
       "      <th>count_calls</th>\n",
       "      <th>count_sms</th>\n",
       "      <th>total_mb_used</th>\n",
       "      <th>plan</th>\n",
       "      <th>minutes_included</th>\n",
       "      <th>messages_included</th>\n",
       "      <th>mb_per_month_included</th>\n",
       "      <th>usd_monthly_pay</th>\n",
       "      <th>usd_per_minute</th>\n",
       "      <th>usd_per_message</th>\n",
       "      <th>usd_per_gb</th>\n",
       "      <th>add_price_call</th>\n",
       "      <th>add_price_message</th>\n",
       "      <th>add_price_internet</th>\n",
       "      <th>gb_per_month</th>\n",
       "    </tr>\n",
       "    <tr>\n",
       "      <th>user_id</th>\n",
       "      <th></th>\n",
       "      <th></th>\n",
       "      <th></th>\n",
       "      <th></th>\n",
       "      <th></th>\n",
       "      <th></th>\n",
       "      <th></th>\n",
       "      <th></th>\n",
       "      <th></th>\n",
       "      <th></th>\n",
       "      <th></th>\n",
       "      <th></th>\n",
       "      <th></th>\n",
       "      <th></th>\n",
       "      <th></th>\n",
       "      <th></th>\n",
       "      <th></th>\n",
       "      <th></th>\n",
       "    </tr>\n",
       "  </thead>\n",
       "  <tbody>\n",
       "    <tr>\n",
       "      <th>1000</th>\n",
       "      <td>other</td>\n",
       "      <td>12.0</td>\n",
       "      <td>116.83</td>\n",
       "      <td>16</td>\n",
       "      <td>11</td>\n",
       "      <td>1901.47</td>\n",
       "      <td>ultimate</td>\n",
       "      <td>3000</td>\n",
       "      <td>1000</td>\n",
       "      <td>30720</td>\n",
       "      <td>70</td>\n",
       "      <td>0.01</td>\n",
       "      <td>0.01</td>\n",
       "      <td>7</td>\n",
       "      <td>0.0</td>\n",
       "      <td>0.00</td>\n",
       "      <td>0</td>\n",
       "      <td>2</td>\n",
       "    </tr>\n",
       "    <tr>\n",
       "      <th>1001</th>\n",
       "      <td>other</td>\n",
       "      <td>8.0</td>\n",
       "      <td>171.14</td>\n",
       "      <td>27</td>\n",
       "      <td>30</td>\n",
       "      <td>6919.15</td>\n",
       "      <td>surf</td>\n",
       "      <td>500</td>\n",
       "      <td>50</td>\n",
       "      <td>15360</td>\n",
       "      <td>20</td>\n",
       "      <td>0.03</td>\n",
       "      <td>0.03</td>\n",
       "      <td>10</td>\n",
       "      <td>0.0</td>\n",
       "      <td>0.00</td>\n",
       "      <td>0</td>\n",
       "      <td>7</td>\n",
       "    </tr>\n",
       "    <tr>\n",
       "      <th>1001</th>\n",
       "      <td>other</td>\n",
       "      <td>9.0</td>\n",
       "      <td>297.69</td>\n",
       "      <td>49</td>\n",
       "      <td>44</td>\n",
       "      <td>13314.82</td>\n",
       "      <td>surf</td>\n",
       "      <td>500</td>\n",
       "      <td>50</td>\n",
       "      <td>15360</td>\n",
       "      <td>20</td>\n",
       "      <td>0.03</td>\n",
       "      <td>0.03</td>\n",
       "      <td>10</td>\n",
       "      <td>0.0</td>\n",
       "      <td>0.00</td>\n",
       "      <td>0</td>\n",
       "      <td>14</td>\n",
       "    </tr>\n",
       "    <tr>\n",
       "      <th>1001</th>\n",
       "      <td>other</td>\n",
       "      <td>10.0</td>\n",
       "      <td>374.11</td>\n",
       "      <td>65</td>\n",
       "      <td>53</td>\n",
       "      <td>22330.49</td>\n",
       "      <td>surf</td>\n",
       "      <td>500</td>\n",
       "      <td>50</td>\n",
       "      <td>15360</td>\n",
       "      <td>20</td>\n",
       "      <td>0.03</td>\n",
       "      <td>0.03</td>\n",
       "      <td>10</td>\n",
       "      <td>0.0</td>\n",
       "      <td>0.09</td>\n",
       "      <td>70</td>\n",
       "      <td>22</td>\n",
       "    </tr>\n",
       "    <tr>\n",
       "      <th>1001</th>\n",
       "      <td>other</td>\n",
       "      <td>11.0</td>\n",
       "      <td>404.59</td>\n",
       "      <td>64</td>\n",
       "      <td>36</td>\n",
       "      <td>18504.30</td>\n",
       "      <td>surf</td>\n",
       "      <td>500</td>\n",
       "      <td>50</td>\n",
       "      <td>15360</td>\n",
       "      <td>20</td>\n",
       "      <td>0.03</td>\n",
       "      <td>0.03</td>\n",
       "      <td>10</td>\n",
       "      <td>0.0</td>\n",
       "      <td>0.00</td>\n",
       "      <td>40</td>\n",
       "      <td>19</td>\n",
       "    </tr>\n",
       "  </tbody>\n",
       "</table>\n",
       "</div>"
      ],
      "text/plain": [
       "        region  month  sum_duration  count_calls  count_sms  total_mb_used  \\\n",
       "user_id                                                                      \n",
       "1000     other   12.0        116.83           16         11        1901.47   \n",
       "1001     other    8.0        171.14           27         30        6919.15   \n",
       "1001     other    9.0        297.69           49         44       13314.82   \n",
       "1001     other   10.0        374.11           65         53       22330.49   \n",
       "1001     other   11.0        404.59           64         36       18504.30   \n",
       "\n",
       "             plan  minutes_included  messages_included  mb_per_month_included  \\\n",
       "user_id                                                                         \n",
       "1000     ultimate              3000               1000                  30720   \n",
       "1001         surf               500                 50                  15360   \n",
       "1001         surf               500                 50                  15360   \n",
       "1001         surf               500                 50                  15360   \n",
       "1001         surf               500                 50                  15360   \n",
       "\n",
       "         usd_monthly_pay  usd_per_minute  usd_per_message  usd_per_gb  \\\n",
       "user_id                                                                 \n",
       "1000                  70            0.01             0.01           7   \n",
       "1001                  20            0.03             0.03          10   \n",
       "1001                  20            0.03             0.03          10   \n",
       "1001                  20            0.03             0.03          10   \n",
       "1001                  20            0.03             0.03          10   \n",
       "\n",
       "         add_price_call  add_price_message  add_price_internet  gb_per_month  \n",
       "user_id                                                                       \n",
       "1000                0.0               0.00                   0             2  \n",
       "1001                0.0               0.00                   0             7  \n",
       "1001                0.0               0.00                   0            14  \n",
       "1001                0.0               0.09                  70            22  \n",
       "1001                0.0               0.00                  40            19  "
      ]
     },
     "execution_count": 48,
     "metadata": {},
     "output_type": "execute_result"
    }
   ],
   "source": [
    "# membuat rincian biaya tambahan diluar paket\n",
    "\n",
    "# biaya tambahan untuk durasi panggilan per pengguna per bulan\n",
    "user_usage['add_price_call'] = (user_usage['count_calls'] - user_usage['minutes_included']) * user_usage['usd_per_minute']\n",
    "\n",
    "# biaya tambahan untuk jumlah sms per pengguna per bulan\n",
    "user_usage['add_price_message'] = (user_usage['count_sms'] - user_usage['messages_included']) * user_usage['usd_per_message']\n",
    "\n",
    "# biaya tambahan untuk jumlah data internet per pengguna per bulan\n",
    "# menghitung selisih dan mengkonversi jumlah data dari MB ke GB\n",
    "# 1 GB = 1024 MB\n",
    "user_usage['add_price_internet'] = (user_usage['total_mb_used'] - user_usage['mb_per_month_included'])/1024\n",
    "# pembulatan jumlah data internet pengguna per bulan\n",
    "user_usage['add_price_internet'] = user_usage['add_price_internet'].apply(lambda x: mt.ceil(x))\n",
    "# menghitung biaya tambahan data internet pengguna per bulan\n",
    "user_usage['add_price_internet'] = user_usage['add_price_internet'] * user_usage['usd_per_gb']\n",
    "\n",
    "# menghilangkan biaya negatif menjadi 0, kita mengambil biaya positif\n",
    "user_usage.loc[user_usage['add_price_call'] < 0,'add_price_call'] = 0\n",
    "user_usage.loc[user_usage['add_price_message'] < 0, 'add_price_message'] = 0\n",
    "user_usage.loc[user_usage['add_price_internet'] < 0, 'add_price_internet'] = 0\n",
    "\n",
    "# membuat kolom data internet 'gb_per_month'\n",
    "# 1 GB = 1024 MB\n",
    "user_usage['gb_per_month'] = user_usage['total_mb_used']/1024\n",
    "user_usage['gb_per_month'] = user_usage['gb_per_month'].apply(lambda x: mt.ceil(x))\n",
    "\n",
    "# membulatkan durasi panggilan 'count_calls'\n",
    "user_usage['count_calls'] = user_usage['count_calls'].apply(lambda x: mt.ceil(x))\n",
    "\n",
    "user_usage.head()"
   ]
  },
  {
   "cell_type": "markdown",
   "metadata": {},
   "source": [
    "Selanjutnya kita jumlahkan seluruh pendapatan dari masing-masing pengguna berdasarkan kebutuhanya per bulan. Kemudian dilanjutkan dengan memfilter kolom dataframe berdasarkan kolom yang diperlukan untuk analisis lebih lanjut.\n",
    "\n",
    "\n"
   ]
  },
  {
   "cell_type": "code",
   "execution_count": 49,
   "metadata": {},
   "outputs": [
    {
     "data": {
      "text/html": [
       "<div>\n",
       "<style scoped>\n",
       "    .dataframe tbody tr th:only-of-type {\n",
       "        vertical-align: middle;\n",
       "    }\n",
       "\n",
       "    .dataframe tbody tr th {\n",
       "        vertical-align: top;\n",
       "    }\n",
       "\n",
       "    .dataframe thead th {\n",
       "        text-align: right;\n",
       "    }\n",
       "</style>\n",
       "<table border=\"1\" class=\"dataframe\">\n",
       "  <thead>\n",
       "    <tr style=\"text-align: right;\">\n",
       "      <th></th>\n",
       "      <th>region</th>\n",
       "      <th>sum_duration</th>\n",
       "      <th>count_calls</th>\n",
       "      <th>count_sms</th>\n",
       "      <th>gb_per_month</th>\n",
       "      <th>plan</th>\n",
       "      <th>user_amount</th>\n",
       "    </tr>\n",
       "    <tr>\n",
       "      <th>user_id</th>\n",
       "      <th></th>\n",
       "      <th></th>\n",
       "      <th></th>\n",
       "      <th></th>\n",
       "      <th></th>\n",
       "      <th></th>\n",
       "      <th></th>\n",
       "    </tr>\n",
       "  </thead>\n",
       "  <tbody>\n",
       "    <tr>\n",
       "      <th>1000</th>\n",
       "      <td>other</td>\n",
       "      <td>116.83</td>\n",
       "      <td>16</td>\n",
       "      <td>11</td>\n",
       "      <td>2</td>\n",
       "      <td>ultimate</td>\n",
       "      <td>70.00</td>\n",
       "    </tr>\n",
       "    <tr>\n",
       "      <th>1001</th>\n",
       "      <td>other</td>\n",
       "      <td>171.14</td>\n",
       "      <td>27</td>\n",
       "      <td>30</td>\n",
       "      <td>7</td>\n",
       "      <td>surf</td>\n",
       "      <td>20.00</td>\n",
       "    </tr>\n",
       "    <tr>\n",
       "      <th>1001</th>\n",
       "      <td>other</td>\n",
       "      <td>297.69</td>\n",
       "      <td>49</td>\n",
       "      <td>44</td>\n",
       "      <td>14</td>\n",
       "      <td>surf</td>\n",
       "      <td>20.00</td>\n",
       "    </tr>\n",
       "    <tr>\n",
       "      <th>1001</th>\n",
       "      <td>other</td>\n",
       "      <td>374.11</td>\n",
       "      <td>65</td>\n",
       "      <td>53</td>\n",
       "      <td>22</td>\n",
       "      <td>surf</td>\n",
       "      <td>90.09</td>\n",
       "    </tr>\n",
       "    <tr>\n",
       "      <th>1001</th>\n",
       "      <td>other</td>\n",
       "      <td>404.59</td>\n",
       "      <td>64</td>\n",
       "      <td>36</td>\n",
       "      <td>19</td>\n",
       "      <td>surf</td>\n",
       "      <td>60.00</td>\n",
       "    </tr>\n",
       "  </tbody>\n",
       "</table>\n",
       "</div>"
      ],
      "text/plain": [
       "        region  sum_duration  count_calls  count_sms  gb_per_month      plan  \\\n",
       "user_id                                                                        \n",
       "1000     other        116.83           16         11             2  ultimate   \n",
       "1001     other        171.14           27         30             7      surf   \n",
       "1001     other        297.69           49         44            14      surf   \n",
       "1001     other        374.11           65         53            22      surf   \n",
       "1001     other        404.59           64         36            19      surf   \n",
       "\n",
       "         user_amount  \n",
       "user_id               \n",
       "1000           70.00  \n",
       "1001           20.00  \n",
       "1001           20.00  \n",
       "1001           90.09  \n",
       "1001           60.00  "
      ]
     },
     "execution_count": 49,
     "metadata": {},
     "output_type": "execute_result"
    }
   ],
   "source": [
    "# menjumlahkan semua pendapatan total dari pengguna per bulanya\n",
    "user_usage['user_amount'] = user_usage['usd_monthly_pay'] + user_usage['add_price_call'] + user_usage['add_price_message'] + user_usage['add_price_internet']\n",
    "\n",
    "# memfilter dataframe untuk kolom yang dibutuhkan untuk analisis lebih lanjut\n",
    "user_usage = user_usage[['region','sum_duration','count_calls','count_sms','gb_per_month','plan','user_amount']]\n",
    "\n",
    "# menampilkan sampel data\n",
    "user_usage.head()"
   ]
  },
  {
   "cell_type": "markdown",
   "metadata": {},
   "source": [
    "Dataframe yang baru sudah sangat baik untuk melihat kebutuhan pengguna perbulan beserta pendapatan yang kita terima perbulanya dari masing-masing pengguna. Namun kita tidak bisa melihat perilaku pengguna serta menentukan `Paket Prabayar` mana yang lebih baik. Mari kita lakukan analisis lebih lanjut."
   ]
  },
  {
   "cell_type": "markdown",
   "metadata": {},
   "source": [
    "## Mempelajari Perilaku Pengguna"
   ]
  },
  {
   "cell_type": "markdown",
   "metadata": {},
   "source": [
    "Selanjutnya kita akan melakukan pengolahan data untuk mendapatkan gambaran dari perilaku pengguna berdasarkan beberapa kategori diantaranya berdasarkan `Panggilan`, `SMS`, `Internet` dan `Pendapatan` terhadap `Paket Prabayar` yang digunakan."
   ]
  },
  {
   "cell_type": "markdown",
   "metadata": {},
   "source": [
    "### Panggilan"
   ]
  },
  {
   "cell_type": "code",
   "execution_count": 50,
   "metadata": {},
   "outputs": [
    {
     "data": {
      "text/plain": [
       "<Figure size 504x360 with 0 Axes>"
      ]
     },
     "metadata": {},
     "output_type": "display_data"
    },
    {
     "data": {
      "image/png": "[encoded data removed]",
      "text/plain": [
       "<Figure size 432x288 with 1 Axes>"
      ]
     },
     "metadata": {
      "needs_background": "light"
     },
     "output_type": "display_data"
    }
   ],
   "source": [
    "# Membuat pivot table untuk merangkum rata-rata dataset durasi panggilan berdasarkan jenis paket yang digunakan\n",
    "package_call = pd.pivot_table(user_usage, index='plan', values='sum_duration', aggfunc='mean')\n",
    "\n",
    "# Membuat diagram batang dari pivot table\n",
    "plt.figure(figsize=(7, 5))\n",
    "ax = package_call.plot(kind='bar', rot=0, color = 'magenta')\n",
    "\n",
    "# Menentukan batas limit sumbu-y\n",
    "plt.ylim(350, 420)\n",
    "\n",
    "# Mendefinisikan label sumbu-x dan sumbu-y\n",
    "plt.xlabel('Plans')\n",
    "plt.ylabel('Rata-Rata Panggilan (min)')\n",
    "\n",
    "# Menambahkan anotasi pada bar chart\n",
    "for i, val in enumerate(package_call['sum_duration']):\n",
    "    ax.annotate(f'{val:.2f}', xy=(i, val), xytext=(i, val + 1),\n",
    "                ha='center', fontsize=10,\n",
    "                arrowprops=dict(arrowstyle='->', lw=1, color='red'))\n",
    "\n",
    "# Menampilkan bar chart\n",
    "plt.show()"
   ]
  },
  {
   "cell_type": "markdown",
   "metadata": {},
   "source": [
    "Dari grafik diatas terlihat bahwa pengguna `Paket Ultimate` memiliki durasi panggilan pengguna per bulan yang `sedikit lebih tinggi` dari pengguna `Paket Surf` dengan besar masing-masing rata-rata durasi `403.95 menit (Ultimate)` dan `403.22 menit (Surf)`.\n",
    "\n"
   ]
  },
  {
   "cell_type": "markdown",
   "metadata": {},
   "source": [
    "Selanjutnya kita akan melihat distribusi durasi panggilan pengguna per bulan per paketnya menggunagan grafik histogram seperti berikut:"
   ]
  },
  {
   "cell_type": "code",
   "execution_count": 51,
   "metadata": {},
   "outputs": [],
   "source": [
    "# mengelompokan jenis paket untuk kategori 'min_per_call' untuk jenis paket `surf` dan `ultimate`\n",
    "surf = user_usage[user_usage['plan'] == 'surf']\n",
    "ultimate = user_usage[user_usage['plan'] == 'ultimate']"
   ]
  },
  {
   "cell_type": "code",
   "execution_count": 52,
   "metadata": {},
   "outputs": [
    {
     "data": {
      "image/png": "[encoded data removed]",
      "text/plain": [
       "<Figure size 576x360 with 1 Axes>"
      ]
     },
     "metadata": {
      "needs_background": "light"
     },
     "output_type": "display_data"
    }
   ],
   "source": [
    "# Bandingkan jumlah menit yang dibutuhkan pengguna tiap paket per bulannya. Buatlah sebuah histogram.\n",
    "# membandingkan jumlah menit yang dibutuhkan pengguna tiap paket per bulannya. \n",
    "# kita akan membuat sebuah histogram.\n",
    "\n",
    "# membuat histogram dari paket `surf` dan paket 'ultimate'\n",
    "surf['sum_duration'].hist(bins=15, label = 'Paket Surf',figsize=(8,5), color = 'magenta')\n",
    "ultimate['sum_duration'].hist(bins=15, label = 'Paket Ultimate',color = 'grey')\n",
    "\n",
    "# mendefinisikan title histogram\n",
    "plt.title('Distribusi Durasi Menit Pengguna (min)')\n",
    "\n",
    "# mendefinisikan letak legend\n",
    "plt.legend(loc='upper right')\n",
    "\n",
    "# menampilkan histogram chart\n",
    "plt.show()"
   ]
  },
  {
   "cell_type": "markdown",
   "metadata": {},
   "source": [
    "Dari kedua histogram tersebut menunjukan bahwa:\n",
    "\n",
    "1. Untuk `Paket Surf` memiliki distribusi data yang tersebar pada kisaran antara `200 hingga 600 menit` dengan puncak berada pada kisaran `400 menit`.\n",
    "\n",
    "2. Untuk `Paket Ultimate` memiliki distribusi data yang tersebar pada kisaran antara `180 hingga 500 menit` dengan puncak berada pada kisaran `300 menit`.\n",
    "\n",
    "3. Pemakaian fitur panggilan untuk `paket surf lebih sering digunakan daripada paket ultimate`."
   ]
  },
  {
   "cell_type": "code",
   "execution_count": 53,
   "metadata": {},
   "outputs": [
    {
     "name": "stdout",
     "output_type": "stream",
     "text": [
      "Rata-rata Durasi Panggilan Pengguna Paket Surf\t   : 403.22 menit\n",
      "Rata-rata Durasi Panggilan Pengguna Paket Ultimate : 403.95 menit\n"
     ]
    }
   ],
   "source": [
    "# Hitung rata-rata dan varians dari durasi panggilan bulanan\n",
    "# menghitung rata-rata dan varians dari durasi panggilan bulanan\n",
    "\n",
    "# menghitung rata-rata \n",
    "mean_surf_calls = surf['sum_duration'].mean()\n",
    "mean_ultimate_calls = ultimate['sum_duration'].mean()\n",
    "\n",
    "# menampilkan output\n",
    "print('Rata-rata Durasi Panggilan Pengguna Paket Surf\\t   :',f'{mean_surf_calls:.2f}','menit')\n",
    "print('Rata-rata Durasi Panggilan Pengguna Paket Ultimate :',f'{mean_ultimate_calls:.2f}','menit')"
   ]
  },
  {
   "cell_type": "code",
   "execution_count": 54,
   "metadata": {},
   "outputs": [
    {
     "name": "stdout",
     "output_type": "stream",
     "text": [
      "Varians Durasi Panggilan Pengguna Paket Surf\t : 49537.46 menit kuadrat\n",
      "Varians Durasi Panggilan Pengguna Paket Ultimate : 52190.86 menit kuadrat\n"
     ]
    }
   ],
   "source": [
    "# menghitung varians\n",
    "varians_surf_calls = np.var(surf[['sum_duration']])\n",
    "varians_ultimate_calls = np.var(ultimate[['sum_duration']])\n",
    "\n",
    "# ekstraksi value dari varians\n",
    "tmp_surf = varians_surf_calls['sum_duration']\n",
    "tmp_ultimate = varians_ultimate_calls['sum_duration']\n",
    "\n",
    "# menampilkan output\n",
    "print('Varians Durasi Panggilan Pengguna Paket Surf\\t :',f'{tmp_surf:.2f}','menit kuadrat')\n",
    "print('Varians Durasi Panggilan Pengguna Paket Ultimate :',f'{tmp_ultimate:.2f}','menit kuadrat')"
   ]
  },
  {
   "cell_type": "code",
   "execution_count": 55,
   "metadata": {},
   "outputs": [
    {
     "data": {
      "image/png": "[encoded data removed]",
      "text/plain": [
       "<Figure size 504x360 with 1 Axes>"
      ]
     },
     "metadata": {
      "needs_background": "light"
     },
     "output_type": "display_data"
    }
   ],
   "source": [
    "# membuat grafik boxplot untuk memvisualisasikan distribusi durasi panggilan bulanan\n",
    "\n",
    "# Menggabungkan dua dataframe 'surf' dan 'ultimate' ke dalam satu dataframe menggunakan metode join\n",
    "merging_package = surf.join(ultimate, how='outer', lsuffix='_surf', rsuffix='_ultimate')\n",
    "\n",
    "# Membuat palet warna khusus dengan warna magenta dan kuning\n",
    "colors = [\"magenta\", \"yellow\"]\n",
    "\n",
    "# Membuat boxplot untuk durasi panggilan bulanan dengan palet warna yang telah ditentukan\n",
    "plt.figure(figsize=(7, 5))\n",
    "sns.boxplot(data=merging_package[['sum_duration_surf', 'sum_duration_ultimate']], palette=colors)\n",
    "\n",
    "# Mendefinisikan judul boxplot\n",
    "plt.title('Distribusi Durasi Menit Pengguna (min)')\n",
    "\n",
    "# Menampilkan boxplot\n",
    "plt.show()"
   ]
  },
  {
   "cell_type": "markdown",
   "metadata": {},
   "source": [
    "Dari analisis rata-rata, `varians dan visualisasi boxplot` untuk masing-masing paket data terlihat bahwa perilaku pengguna terhadap `durasi panggilan` pada `Paket Surf memiliki perilaku yang hampir sama dengan prilaku Paket Ultimate` namun `perilaku Paket Surf lebih mengungguli daripada Paket Ultimate`."
   ]
  },
  {
   "cell_type": "markdown",
   "metadata": {},
   "source": [
    " "
   ]
  },
  {
   "cell_type": "markdown",
   "metadata": {},
   "source": [
    "### Pesan/SMS"
   ]
  },
  {
   "cell_type": "code",
   "execution_count": 56,
   "metadata": {},
   "outputs": [
    {
     "data": {
      "text/plain": [
       "<Figure size 504x360 with 0 Axes>"
      ]
     },
     "metadata": {},
     "output_type": "display_data"
    },
    {
     "data": {
      "image/png": "[encoded data removed]",
      "text/plain": [
       "<Figure size 432x288 with 1 Axes>"
      ]
     },
     "metadata": {
      "needs_background": "light"
     },
     "output_type": "display_data"
    }
   ],
   "source": [
    "# Membuat pivot table untuk merangkum rata-rata dataset jumlah SMS berdasarkan jenis paket yang digunakan\n",
    "package_sms = pd.pivot_table(user_usage, index='plan', values='count_sms', aggfunc='mean')\n",
    "\n",
    "# Membuat bar chart dari pivot table dengan warna yang sesuai\n",
    "plt.figure(figsize=(7, 5))\n",
    "ax = package_sms.plot(kind='bar', rot=0, color='orange')\n",
    "\n",
    "# Menentukan batas limit sumbu-y\n",
    "plt.ylim(0, 50)\n",
    "\n",
    "# Mendefinisikan label sumbu-x dan sumbu-y\n",
    "plt.xlabel('Plans')\n",
    "plt.ylabel('Rata-Rata SMS (qty)')\n",
    "\n",
    "# Menambahkan anotasi pada bar chart\n",
    "for i, val in enumerate(package_sms['count_sms']):\n",
    "    ax.annotate(f'{val:.0f}', xy=(i, val), xytext=(i, val + 1),\n",
    "                ha='center', fontsize=10,\n",
    "                arrowprops=dict(arrowstyle='->', lw=1, color='red'))\n",
    "\n",
    "# Menampilkan bar chart\n",
    "plt.show()"
   ]
  },
  {
   "cell_type": "markdown",
   "metadata": {},
   "source": [
    "Dari grafik diatas terlihat bahwa pengguna `Paket Ultimate memiliki jumlah sms pengguna per bulan yang lebih tinggi dari pengguna Paket Surf` dengan besar masing-masing rata-rata `jumlah sms 31 qty (Surf) dan 37 qty (Ultimate)`.\n",
    "\n"
   ]
  },
  {
   "cell_type": "markdown",
   "metadata": {},
   "source": [
    "Selanjutnya kita akan melihat distribusi jumlah sms pengguna per bulan per paketnya menggunagan grafik histogram seperti berikut:"
   ]
  },
  {
   "cell_type": "code",
   "execution_count": 57,
   "metadata": {},
   "outputs": [
    {
     "data": {
      "image/png": "[encoded data removed]",
      "text/plain": [
       "<Figure size 576x360 with 1 Axes>"
      ]
     },
     "metadata": {
      "needs_background": "light"
     },
     "output_type": "display_data"
    }
   ],
   "source": [
    "# membandingkan jumlah sms yang dibutuhkan pengguna tiap paket per bulannya. \n",
    "# kita akan membuat sebuah histogram.\n",
    "\n",
    "# membuat histogram dari paket `surf` dan paket 'ultimate'\n",
    "surf['count_sms'].hist(bins=15, label = 'Paket Surf',figsize=(8,5))\n",
    "ultimate['count_sms'].hist(bins=15, label = 'Paket Ultimate')\n",
    "\n",
    "# mendefinisikan title histogram\n",
    "plt.title('Distribusi Jumlah SMS Pengguna (qty)')\n",
    "\n",
    "# mendefinisikan letak legend\n",
    "plt.legend(loc='upper right')\n",
    "\n",
    "# menampilkan histogram chart\n",
    "plt.show()"
   ]
  },
  {
   "cell_type": "markdown",
   "metadata": {},
   "source": [
    "Dari kedua histogram tersebut menunjukan bahwa:\n",
    "\n",
    "1. Untuk Paket Surf dan Paket Ultimate memiliki distribusi jumlah sms yang tersebar pada kisaran antara `0 hingga 30 qty` dengan puncak berada pada `kisaran 5 qty`.\n",
    "\n",
    "2. Kedua histogram menunjukan bahwa tidak banyak pengguna yang sering menggunakan SMS dimana grafik landai ke kanan.\n",
    "\n",
    "3. Pemakaian fitur sms untuk `paket surf lebih sering digunakan daripada paket ultimate`."
   ]
  },
  {
   "cell_type": "code",
   "execution_count": 58,
   "metadata": {},
   "outputs": [
    {
     "name": "stdout",
     "output_type": "stream",
     "text": [
      "Rata-rata SMS Pengguna Paket Surf     : 31.04 sms\n",
      "Rata-rata SMS Pengguna Paket Ultimate : 37.34 sms\n"
     ]
    }
   ],
   "source": [
    "# menghitung rata-rata dan varians dari jumlah sms bulanan\n",
    "\n",
    "# menghitung rata-rata \n",
    "mean_surf_sms = surf['count_sms'].mean()\n",
    "mean_ultimate_sms = ultimate['count_sms'].mean()\n",
    "\n",
    "# menampilkan output\n",
    "print('Rata-rata SMS Pengguna Paket Surf     :',f'{mean_surf_sms:.2f}','sms')\n",
    "print('Rata-rata SMS Pengguna Paket Ultimate :',f'{mean_ultimate_sms:.2f}','sms')"
   ]
  },
  {
   "cell_type": "code",
   "execution_count": 59,
   "metadata": {},
   "outputs": [
    {
     "name": "stdout",
     "output_type": "stream",
     "text": [
      "Varians SMS Pengguna Paket Surf     : 1125.40 qty kuadrat\n",
      "Varians SMS Pengguna Paket Ultimate : 1208.16 qty kuadrat\n"
     ]
    }
   ],
   "source": [
    "# menghitung varians\n",
    "varians_surf_sms = np.var(surf[['count_sms']])\n",
    "varians_ultimate_sms = np.var(ultimate[['count_sms']])\n",
    "\n",
    "# ekstraksi value dari varians\n",
    "tmp_surf = varians_surf_sms['count_sms']\n",
    "tmp_ultimate = varians_ultimate_sms['count_sms']\n",
    "\n",
    "# menampilkan output\n",
    "print('Varians SMS Pengguna Paket Surf     :',f'{tmp_surf:.2f}','qty kuadrat')\n",
    "print('Varians SMS Pengguna Paket Ultimate :',f'{tmp_ultimate:.2f}','qty kuadrat')"
   ]
  },
  {
   "cell_type": "code",
   "execution_count": 60,
   "metadata": {},
   "outputs": [
    {
     "data": {
      "image/png": "[encoded data removed]",
      "text/plain": [
       "<Figure size 504x360 with 1 Axes>"
      ]
     },
     "metadata": {
      "needs_background": "light"
     },
     "output_type": "display_data"
    }
   ],
   "source": [
    "# membuat grafik boxplot untuk memvisualisasikan distribusi jumlah sms bulanan\n",
    "\n",
    "# menampilkan boxplot jumlah sms berdasarkan paket-paketnya\n",
    "plt.figure(figsize=(7,5))\n",
    "sns.boxplot(data=merging_package[['count_sms_surf','count_sms_ultimate']])\n",
    "\n",
    "# mendefinisikan title boxplot\n",
    "plt.title('Distribusi Jumlah SMS Pengguna (qty)')\n",
    "\n",
    "# menampilkan boxplot\n",
    "plt.show()"
   ]
  },
  {
   "cell_type": "markdown",
   "metadata": {},
   "source": [
    "Dari analisis rata-rata, varians dan visualisasi boxplot untuk masing-masing paket data terlihat bahwa perilaku pengguna terhadap jumlah sms pada `Paket Surf memiliki perilaku yang berbeda dengan perilaku Paket Ultimate` dimana distribusi datanya berada ditempat yang berbeda. `Paket Ultimate memiliki nilai yang lebih tinggi jika dibandingkan dengan Paket Surf`."
   ]
  },
  {
   "cell_type": "markdown",
   "metadata": {},
   "source": [
    " "
   ]
  },
  {
   "cell_type": "markdown",
   "metadata": {},
   "source": [
    "### Internet"
   ]
  },
  {
   "cell_type": "code",
   "execution_count": 61,
   "metadata": {},
   "outputs": [
    {
     "data": {
      "text/plain": [
       "<Figure size 504x360 with 0 Axes>"
      ]
     },
     "metadata": {},
     "output_type": "display_data"
    },
    {
     "data": {
      "image/png": "[encoded data removed]",
      "text/plain": [
       "<Figure size 432x288 with 1 Axes>"
      ]
     },
     "metadata": {
      "needs_background": "light"
     },
     "output_type": "display_data"
    }
   ],
   "source": [
    "# Membuat pivot table untuk merangkum rata-rata dataset jumlah data berdasarkan jenis paket yang digunakan\n",
    "package_internet = pd.pivot_table(user_usage, index='plan', values='gb_per_month', aggfunc='mean')\n",
    "\n",
    "# Membuat bar chart dari pivot table dengan warna yang sesuai\n",
    "plt.figure(figsize=(7, 5))\n",
    "ax = package_internet.plot(kind='bar', rot=0, color='pink')\n",
    "\n",
    "# Menentukan batas limit sumbu-y\n",
    "plt.ylim(10, 20)\n",
    "\n",
    "# Mendefinisikan label sumbu-x dan sumbu-y\n",
    "plt.xlabel('Plans')\n",
    "plt.ylabel('Rata-Rata Data (GB)')\n",
    "\n",
    "# Menambahkan anotasi pada bar chart\n",
    "for i, val in enumerate(package_internet['gb_per_month']):\n",
    "    ax.annotate(f'{val:.2f}', xy=(i, val), xytext=(i, val + 0.1),\n",
    "                ha='center', fontsize=10,\n",
    "                arrowprops=dict(arrowstyle='->', lw=1, color='red'))\n",
    "\n",
    "# Menampilkan bar chart\n",
    "plt.show()"
   ]
  },
  {
   "cell_type": "markdown",
   "metadata": {},
   "source": [
    "Dari grafik diatas terlihat bahwa pengguna `Paket Ultimate memiliki jumlah data internet pengguna per bulan yang sedikit lebih tinggi dari pengguna Paket Surf` dengan besar masing-masing rata-rata jumlah data internet `16.61 Gb (Surf) dan 17.21 Gb (Ultimate)`."
   ]
  },
  {
   "cell_type": "markdown",
   "metadata": {},
   "source": [
    "Selanjutnya kita akan melihat distribusi jumlah data internet pengguna per bulan per paketnya menggunagan grafik histogram seperti berikut:\n",
    "\n"
   ]
  },
  {
   "cell_type": "code",
   "execution_count": 62,
   "metadata": {},
   "outputs": [
    {
     "data": {
      "image/png": "[encoded data removed]",
      "text/plain": [
       "<Figure size 576x360 with 1 Axes>"
      ]
     },
     "metadata": {
      "needs_background": "light"
     },
     "output_type": "display_data"
    }
   ],
   "source": [
    "# membandingkan jumlah data yang dibutuhkan pengguna tiap paket per bulannya. \n",
    "# kita akan membuat sebuah histogram.\n",
    "\n",
    "# membuat histogram dari paket `surf` dan paket 'ultimate'\n",
    "surf['gb_per_month'].hist(bins=15, label = 'Paket Surf', figsize=(8,5), color = 'pink')\n",
    "ultimate['gb_per_month'].hist(bins=15, label = 'Paket Ultimate', color = 'black')\n",
    "\n",
    "# mendefinisikan title histogram\n",
    "plt.title('Distribusi Jumlah Data (Gb) Pengguna')\n",
    "\n",
    "# mendefinisikan letak legend\n",
    "plt.legend(loc='upper right')\n",
    "\n",
    "# menampilkan histogram chart\n",
    "plt.show()"
   ]
  },
  {
   "cell_type": "markdown",
   "metadata": {},
   "source": [
    "Dari kedua histogram tersebut menunjukan bahwa:\n",
    "\n",
    "1. Untuk `Paket Surf` memiliki distribusi data yang tersebar pada kisaran antara `15 hingga 22 Gb` dengan puncak berada pada `kisaran 17 Gb`.\n",
    "\n",
    "2. Untuk `Paket Ultimate` memiliki distribusi data yang tersebar pada kisaran antara `13 hingga 21 Gb` dengan puncak berada pada `kisaran 15 Gb`.\n",
    "\n",
    "3. Pemakaian fitur Jumlah Data Internet untuk `paket surf lebih sering digunakan daripada paket ultimate`."
   ]
  },
  {
   "cell_type": "code",
   "execution_count": 63,
   "metadata": {},
   "outputs": [
    {
     "name": "stdout",
     "output_type": "stream",
     "text": [
      "Rata-rata Jumlah Data Internet Pengguna Paket Surf     : 16.61 gb\n",
      "Rata-rata Jumlah Data Internet Pengguna Paket Ultimate : 17.21 gb\n"
     ]
    }
   ],
   "source": [
    "# menghitung rata-rata dan varians dari jumlah data (gb) bulanan\n",
    "\n",
    "# menghitung rata-rata \n",
    "mean_surf_internet = surf['gb_per_month'].mean()\n",
    "mean_ultimate_internet = ultimate['gb_per_month'].mean()\n",
    "\n",
    "# menampilkan output\n",
    "print('Rata-rata Jumlah Data Internet Pengguna Paket Surf     :',f'{mean_surf_internet:.2f}','gb')\n",
    "print('Rata-rata Jumlah Data Internet Pengguna Paket Ultimate :',f'{mean_ultimate_internet:.2f}','gb')"
   ]
  },
  {
   "cell_type": "code",
   "execution_count": 64,
   "metadata": {},
   "outputs": [
    {
     "name": "stdout",
     "output_type": "stream",
     "text": [
      "Varians Jumlah Data Internet Pengguna Paket Surf     : 62.36 gb kuadrat\n",
      "Varians Jumlah Data Internet Pengguna Paket Ultimate : 60.07 gb kuadrat\n"
     ]
    }
   ],
   "source": [
    "# menghitung varians\n",
    "varians_surf_gb = np.var(surf[['gb_per_month']])\n",
    "varians_ultimate_gb = np.var(ultimate[['gb_per_month']])\n",
    "\n",
    "# ekstraksi value dari varians\n",
    "tmp_surf = varians_surf_gb['gb_per_month']\n",
    "tmp_ultimate = varians_ultimate_gb['gb_per_month']\n",
    "\n",
    "# menampilkan output\n",
    "print('Varians Jumlah Data Internet Pengguna Paket Surf     :',f'{tmp_surf:.2f}','gb kuadrat')\n",
    "print('Varians Jumlah Data Internet Pengguna Paket Ultimate :',f'{tmp_ultimate:.2f}','gb kuadrat')"
   ]
  },
  {
   "cell_type": "code",
   "execution_count": 65,
   "metadata": {},
   "outputs": [
    {
     "data": {
      "image/png": "[encoded data removed]",
      "text/plain": [
       "<Figure size 504x360 with 1 Axes>"
      ]
     },
     "metadata": {
      "needs_background": "light"
     },
     "output_type": "display_data"
    }
   ],
   "source": [
    "# membuat grafik boxplot untuk memvisualisasikan distribusi jumlah data (gb) bulanan\n",
    "# menampilkan boxplot jumlah sms berdasarkan paket-paketnya\n",
    "\n",
    "# Membuat palet warna khusus dengan warna pink dan hitam\n",
    "colors = [\"pink\", \"black\"]\n",
    "\n",
    "plt.figure(figsize=(7,5))\n",
    "sns.boxplot(data=merging_package[['gb_per_month_surf','gb_per_month_ultimate']], palette=colors)\n",
    "\n",
    "# mendefinisikan title boxplot\n",
    "plt.title('Distribusi Jumlah Data (Gb) Pengguna')\n",
    "\n",
    "# menampilkan boxplot\n",
    "plt.show()"
   ]
  },
  {
   "cell_type": "markdown",
   "metadata": {},
   "source": [
    "Dari analisis rata-rata, varians dan visualisasi boxplot untuk masing-masing paket data terlihat bahwa perilaku pengguna terhadap `jumlah data internet pada Paket Surf memiliki perilaku yang sedikit berbeda dengan perilaku Paket Ultimate` dimana distribusi datanya berada ditempat yang sedikit berbeda. `Paket Ultimate memiliki nilai yang lebih tinggi jika dibandingkan dengan Paket Surf`.\n"
   ]
  },
  {
   "cell_type": "markdown",
   "metadata": {},
   "source": [
    "## Pendapatan"
   ]
  },
  {
   "cell_type": "markdown",
   "metadata": {},
   "source": [
    "Selanjutnya kita hitung pendapatan dari masing-masing prabayar."
   ]
  },
  {
   "cell_type": "code",
   "execution_count": 66,
   "metadata": {},
   "outputs": [
    {
     "data": {
      "text/plain": [
       "<Figure size 504x360 with 0 Axes>"
      ]
     },
     "metadata": {},
     "output_type": "display_data"
    },
    {
     "data": {
      "image/png": "[encoded data removed]",
      "text/plain": [
       "<Figure size 432x288 with 1 Axes>"
      ]
     },
     "metadata": {
      "needs_background": "light"
     },
     "output_type": "display_data"
    }
   ],
   "source": [
    "# Membuat pivot table untuk merangkum rata-rata dataset jumlah pendapatan berdasarkan jenis paket yang digunakan\n",
    "package_amount = pd.pivot_table(user_usage, index='plan', values='user_amount', aggfunc='mean')\n",
    "\n",
    "# Membuat bar chart dari pivot table\n",
    "plt.figure(figsize=(7, 5))\n",
    "ax = package_amount.plot(kind='bar', rot=0, color = 'green')\n",
    "\n",
    "# Menentukan batas limit sumbu-y\n",
    "plt.ylim(0, 100)\n",
    "\n",
    "# Mendefinisikan label sumbu-x dan sumbu-y\n",
    "plt.xlabel('Plans')\n",
    "plt.ylabel('Rata-Rata user_amount (USD)')\n",
    "\n",
    "# Menambahkan anotasi pada bar chart\n",
    "for i, val in enumerate(package_amount['user_amount']):\n",
    "    ax.annotate(f'{val:.2f}', xy=(i, val), xytext=(i, val + 2),\n",
    "                ha='center', fontsize=10,\n",
    "                arrowprops=dict(arrowstyle='->', lw=1, color='red'))\n",
    "\n",
    "# Menampilkan bar chart\n",
    "plt.show()"
   ]
  },
  {
   "cell_type": "markdown",
   "metadata": {},
   "source": [
    "Dari grafik diatas terlihat bahwa pengguna `Paket Ultimate memberikan jumlah pendapatan dari pengguna per bulan yang lebih tinggi dari pengguna Paket Surf` dengan besar masing-masing rata-rata `jumlah pendapatan 58.71 USD (Surf) dan 72.30 USD (Ultimate)`."
   ]
  },
  {
   "cell_type": "code",
   "execution_count": 67,
   "metadata": {},
   "outputs": [
    {
     "data": {
      "image/png": "[encoded data removed]",
      "text/plain": [
       "<Figure size 576x360 with 1 Axes>"
      ]
     },
     "metadata": {
      "needs_background": "light"
     },
     "output_type": "display_data"
    }
   ],
   "source": [
    "# membandingkan jumlah pendapatan dari pengguna tiap paket per bulannya. \n",
    "# kita akan membuat sebuah histogram.\n",
    "\n",
    "# membuat histogram dari paket `surf` dan paket 'ultimate'\n",
    "surf['user_amount'].hist(bins=15, label = 'Paket Surf',figsize=(8,5), color ='green')\n",
    "ultimate['user_amount'].hist(bins=3, label = 'Paket Ultimate', alpha = 0.8, color = 'pink')\n",
    "\n",
    "# mendefinisikan title histogram\n",
    "plt.title('Distribusi Jumlah Pendapatan (USD) Pengguna')\n",
    "\n",
    "# mendefinisikan letak legend\n",
    "plt.legend(loc='upper right')\n",
    "\n",
    "# menampilkan histogram chart\n",
    "plt.show()"
   ]
  },
  {
   "cell_type": "markdown",
   "metadata": {},
   "source": [
    "Dari kedua histogram tersebut menunjukan bahwa:\n",
    "\n",
    "1. Untuk `Paket Surf` memiliki distribusi data yang tersebar pada kisaran antara 25 hingga 90 USD dengan puncak berada pada kisaran 30 USD.\n",
    "\n",
    "2. Untuk `Paket Ultimate` memiliki distribusi data yang terpusat pada kisaran 70 USD.\n",
    "\n",
    "3. Pemakaian Jenis `Paket untuk paket surf lebih sering digunakan daripada paket ultimate`.\n",
    "\n",
    "4. Kedua grafik memiliki bentuk yang landai kekanan `(Positive Skew)`."
   ]
  },
  {
   "cell_type": "code",
   "execution_count": 68,
   "metadata": {},
   "outputs": [
    {
     "name": "stdout",
     "output_type": "stream",
     "text": [
      "Rata-rata Jumlah Pendapatan dari Pengguna Paket Surf     : 58.71 USD\n",
      "Rata-rata Jumlah Pendapatan dari Pengguna Paket Ultimate : 72.30 USD\n"
     ]
    }
   ],
   "source": [
    "# menghitung rata-rata dan varians dari jumlah pendapatan dari pelanggan bulanan\n",
    "\n",
    "# menghitung rata-rata \n",
    "mean_surf_amount = surf['user_amount'].mean()\n",
    "mean_ultimate_amount = ultimate['user_amount'].mean()\n",
    "\n",
    "# menampilkan output\n",
    "print('Rata-rata Jumlah Pendapatan dari Pengguna Paket Surf     :',f'{mean_surf_amount:.2f}','USD')\n",
    "print('Rata-rata Jumlah Pendapatan dari Pengguna Paket Ultimate :',f'{mean_ultimate_amount:.2f}','USD')"
   ]
  },
  {
   "cell_type": "code",
   "execution_count": 69,
   "metadata": {},
   "outputs": [
    {
     "name": "stdout",
     "output_type": "stream",
     "text": [
      "Varians Jumlah Pendapatan dari Pengguna Paket Surf     : 2968.12 USD kuadrat\n",
      "Varians Jumlah Pendapatan dari Pengguna Paket Ultimate : 128.98 USD kuadrat\n"
     ]
    }
   ],
   "source": [
    "# menghitung varians\n",
    "varians_surf_amount = np.var(surf[['user_amount']])\n",
    "varians_ultimate_amount = np.var(ultimate[['user_amount']])\n",
    "\n",
    "# ekstraksi value dari varians\n",
    "tmp_surf = varians_surf_amount['user_amount']\n",
    "tmp_ultimate = varians_ultimate_amount['user_amount']\n",
    "\n",
    "# menampilkan output\n",
    "print('Varians Jumlah Pendapatan dari Pengguna Paket Surf     :',f'{tmp_surf:.2f}','USD kuadrat')\n",
    "print('Varians Jumlah Pendapatan dari Pengguna Paket Ultimate :',f'{tmp_ultimate:.2f}','USD kuadrat')"
   ]
  },
  {
   "cell_type": "code",
   "execution_count": 70,
   "metadata": {},
   "outputs": [
    {
     "data": {
      "image/png": "[encoded data removed]",
      "text/plain": [
       "<Figure size 504x360 with 1 Axes>"
      ]
     },
     "metadata": {
      "needs_background": "light"
     },
     "output_type": "display_data"
    }
   ],
   "source": [
    "# membuat grafik boxplot untuk memvisualisasikan distribusi jumlah pendapatan dari pelanggan bulanan\n",
    "\n",
    "# menampilkan boxplot jumlah sms berdasarkan paket-paketnya\n",
    "plt.figure(figsize=(7,5))\n",
    "sns.boxplot(data=merging_package[['user_amount_surf','user_amount_ultimate']])\n",
    "\n",
    "# mendefinisikan title boxplot\n",
    "plt.title('Distribusi Jumlah Pendapatan (USD) Pengguna')\n",
    "\n",
    "# menampilkan boxplot\n",
    "plt.show()"
   ]
  },
  {
   "cell_type": "markdown",
   "metadata": {},
   "source": [
    "Dari analisis rata-rata, varians dan visualisasi boxplot untuk masing-masing pendapatan dari pengguna terlihat `bahwa pendapatan bulanan dari paket surf dan paket ultimate memberikan hasil pendapatan yang berbeda`dimana pada `paket ultimate memberikan pendapatan bulanan yang lebih tinggi dibandingkan dengan pendapatan dari paket surf`."
   ]
  },
  {
   "cell_type": "markdown",
   "metadata": {},
   "source": [
    "## Menguji Hipotesis Statistik"
   ]
  },
  {
   "cell_type": "markdown",
   "metadata": {},
   "source": [
    "### Pengujian Hipotesis 1: Pendapatan Rata-rata dari Pengguna Paket Prabayar Ultimate dan Surf Berbeda"
   ]
  },
  {
   "cell_type": "markdown",
   "metadata": {},
   "source": [
    "Selanjutnya kita akan menguji suatu hipotesis yang menyatakan bahwa `Pendapatan Rata-rata dari Pengguna Paket Prabayar Ultimate dan Surf Berbeda`. Mari kita rangkum hipotesisnya sebagai berikut:\n",
    "\n",
    "1. Hipotesis Nol: `Pendapatan Rata-rata dari Pengguna Paket Prabayar Ultimate dan Surf Sama`\n",
    "2. Hipotesis Alternatif: `Pendapatan Rata-rata dari Pengguna Paket Prabayar Ultimate dan Surf Berbeda`\n",
    "\n",
    "Mari kita uji menggunakan library scipy."
   ]
  },
  {
   "cell_type": "code",
   "execution_count": 71,
   "metadata": {},
   "outputs": [
    {
     "name": "stdout",
     "output_type": "stream",
     "text": [
      "p-value 8.382041210755051e-21\n",
      "Kita menolak hipotesis nol\n"
     ]
    }
   ],
   "source": [
    "# menguji hipotesis 1:\n",
    "# mendefinisikan signifikasi sebesar 5%\n",
    "alpha = 0.05\n",
    "\n",
    "# menguji apakah pendapatan pada paket `surf` dan paket `ultimate` memiliki kesamaan menggunakan `ttest_ind`\n",
    "results = st.ttest_ind(surf['user_amount'],ultimate['user_amount'],equal_var=False)\n",
    "\n",
    "# menampilkan p-value\n",
    "print('p-value',results.pvalue)\n",
    "\n",
    "# pengujian hipotesis\n",
    "if results.pvalue < alpha:\n",
    "    # hipotesis alternatif = \"Pendapatan Rata-rata dari Pengguna Paket Prabayar Ultimate dan Surf Berbeda\" \n",
    "    print('Kita menolak hipotesis nol')\n",
    "else:\n",
    "    # hipotesis nol = \"Pendapatan Rata-rata dari Pengguna Paket Prabayar Ultimate dan Surf Sama\"\n",
    "    print('Kita tidak dapat menolak hipotesis nol')\n"
   ]
  },
  {
   "cell_type": "markdown",
   "metadata": {},
   "source": [
    "Dari hasil pengujian hipotesis menunjukan `'Penolakan terhadap Hipotesis Nol'` dimana `'Hipotesis Alternatif yang Disetujui'` yang berarti bahwa `\"Pendapatan Rata-rata dari Pengguna Paket Prabayar Ultimate dan Surf Berbeda\"`. Hal ini sesuai dengan analisis pendapatan dari pengguna pada pembahasan sebelumnya bahwa `'Pendapatan dari Paket Ultimate Lebih Besar dari Paket Surf'`. Maka, Hipotesis 1, terbukti."
   ]
  },
  {
   "cell_type": "markdown",
   "metadata": {},
   "source": [
    "### Pengujian Hipotesis 2: Pendapatan Rata-rata dari Pengguna di Wilayah NY-NJ Berbeda dengan Pendapatan Pengguna dari Wilayah Lain"
   ]
  },
  {
   "cell_type": "markdown",
   "metadata": {},
   "source": [
    "Selanjutnya kita akan menguji suatu hipotesis yang menyatakan bahwa `Pendapatan Rata-rata dari Pengguna di Wilayah NY-NJ Berbeda dengan Pendapatan Pengguna dari Wilayah Lain`. Mari kita rangkum hipotesisnya sebagai berikut:\n",
    "\n",
    "1. Hipotesis Nol: `Pendapatan Rata-rata dari Pengguna di Wilayah NY-NJ dengan Wilayah Lain adalah Sama`\n",
    "2. Hipotesis Alternatif: `Pendapatan Rata-rata dari Pengguna di Wilayah NY-NJ dengan Wilayah Lain adalah Berbeda`\n",
    "\n",
    "Mari kita uji menggunakan library scipy."
   ]
  },
  {
   "cell_type": "code",
   "execution_count": 72,
   "metadata": {},
   "outputs": [],
   "source": [
    "# membuat filter pendapatan berdasarkan region 'NY-NJ' dengan region 'other'\n",
    "ny_nj_amount = user_usage[user_usage['region'] == 'NY-NJ']\n",
    "other_amount = user_usage[user_usage['region'] == 'other']"
   ]
  },
  {
   "cell_type": "code",
   "execution_count": 73,
   "metadata": {},
   "outputs": [
    {
     "name": "stdout",
     "output_type": "stream",
     "text": [
      "p-value 0.03327457489162227\n",
      "Kita menolak hipotesis nol\n"
     ]
    }
   ],
   "source": [
    "# menguji hipotesis 2:\n",
    "# mendefinisikan signifikasi sebesar 5%\n",
    "alpha = 0.05\n",
    "\n",
    "# menguji apakah pendapatan pada region `NY-NJ` dan region `Other` memiliki kesamaan menggunakan `ttest_ind`\n",
    "results = st.ttest_ind(ny_nj_amount['user_amount'],other_amount['user_amount'],equal_var=False)\n",
    "\n",
    "# menampilkan p-value\n",
    "print('p-value',results.pvalue)\n",
    "\n",
    "# pengujian hipotesis\n",
    "if results.pvalue < alpha:\n",
    "    # hipotesis alternatif = \"Pendapatan Rata-rata dari Pengguna di Wilayah NY-NJ dengan Wilayah Lain adalah Berbeda\" \n",
    "    print('Kita menolak hipotesis nol')\n",
    "else:\n",
    "    # hipotesis nol = \"Pendapatan Rata-rata dari Pengguna di Wilayah NY-NJ dengan Wilayah Lain adalah Sama\"\n",
    "    print('Kita tidak dapat menolak hipotesis nol')"
   ]
  },
  {
   "cell_type": "markdown",
   "metadata": {},
   "source": [
    "Dari hasil pengujian hipotesis menunjukan `'Kita tidak dapat menolak Hipotesis Nol'` dimana `'Hipotesis Alternatif yang Ditolak'` yang berarti bahwa `\"Pendapatan Rata-rata dari Pengguna di Wilayah NY-NJ dengan Wilayah Lain adalah Sama\"`. Maka, Hipotesis 2 ini tidak terbukti.\n",
    "\n"
   ]
  },
  {
   "cell_type": "markdown",
   "metadata": {},
   "source": [
    "## Kesimpulan Umum\n",
    "\n",
    "\n",
    "Untuk menentukan paket prabayar yang lebih menguntungkan, kita melakukan analisis yang meliputi tahap persiapan data hingga analisis mendalam. Proses ini juga mencakup pengujian hipotesis. Berikut ringkasan hasil analisis:"
   ]
  },
  {
   "cell_type": "markdown",
   "metadata": {},
   "source": [
    "**Tahap Persiapan Data:**\n",
    "\n",
    "1. Data dari berbagai dataframe seperti `'calls', 'internet', 'messages', 'plans', dan 'users'` telah disiapkan untuk analisis.\n",
    "2. Data dibersihkan dengan mengatasi tipe data yang tidak sesuai, mengelola nilai yang hilang, mengidentifikasi dan menghapus duplikasi, serta memperkaya data dengan memisahkan datetime menjadi kolom terpisah (tanggal, bulan, tahun)."
   ]
  },
  {
   "cell_type": "markdown",
   "metadata": {},
   "source": [
    "**Tahap Analisis Perilaku Pengguna:**\n",
    "\n",
    "Kita menganalisis perilaku pengguna berdasarkan beberapa kategori utama, seperti:\n",
    "\n",
    "1. **Durasi Panggilan**: Paket Prabayar Surf memiliki rata-rata durasi panggilan sebesar **403.22 menit**, sedangkan Paket Prabayar Ultimate sebesar **403.95 menit**.\n",
    "\n",
    "2. **Jumlah SMS**: Paket Prabayar Ultimate lebih unggul dengan rata-rata **37 SMS**, sedangkan Paket Prabayar Surf hanya memiliki rata-rata **31 SMS**.\n",
    "\n",
    "3. **Penggunaan Data Internet**: Paket Prabayar Ultimate dan Paket Prabayar Surf hampir sama dalam penggunaan data internet, dengan sedikit keunggulan untuk Paket Prabayar Ultimate (**17.21 GB** vs. **16.61 GB**).\n",
    "\n",
    "4. **Pendapatan**: Pendapatan rata-rata per bulan dari pengguna Paket Prabayar Ultimate **72.30 USD** jauh lebih tinggi daripada Paket Prabayar Surf **58.71 USD**."
   ]
  },
  {
   "cell_type": "markdown",
   "metadata": {},
   "source": [
    "**Pengujian Hipotesis**:\n",
    "\n",
    "Kita melakukan dua pengujian hipotesis:\n",
    "\n",
    "1. **Hipotesis Pendapatan**: Pendapatan rata-rata dari pengguna Paket Prabayar Ultimate dan Surf berbeda secara signifikan.\n",
    "2. **Hipotesis Wilayah**: Pendapatan rata-rata dari pengguna di Wilayah NY-NJ dengan wilayah lain tidak berbeda secara signifikan."
   ]
  },
  {
   "cell_type": "markdown",
   "metadata": {},
   "source": [
    "**Kesimpulan**:\n",
    "\n",
    "Berdasarkan analisis, **`Paket Prabayar Ultimate cenderung lebih menguntungkan dari segi pendapatan dan memiliki keunggulan dalam jumlah SMS`**. Meskipun terdapat perbedaan dalam durasi panggilan dan penggunaan data internet, perbedaan ini tidak signifikan. Dengan demikian, **`Paket Prabayar Ultimate menjadi pilihan yang lebih baik bagi pengguna yang mencari pendapatan lebih tinggi dan lebih banyak SMS`**."
   ]
  }
 ],
 "metadata": {
  "ExecuteTimeLog": [
   {
    "duration": 828,
    "start_time": "2021-11-16T09:21:11.304Z"
   },
   {
    "duration": 893,
    "start_time": "2021-11-16T09:21:17.728Z"
   },
   {
    "duration": 1150,
    "start_time": "2021-11-16T09:21:29.568Z"
   },
   {
    "duration": 3,
    "start_time": "2021-11-16T09:24:14.495Z"
   },
   {
    "duration": 120,
    "start_time": "2021-11-16T09:24:46.630Z"
   },
   {
    "duration": 3,
    "start_time": "2021-11-16T09:28:27.882Z"
   },
   {
    "duration": 4,
    "start_time": "2021-11-16T09:29:54.281Z"
   },
   {
    "duration": 3,
    "start_time": "2021-11-16T09:30:45.936Z"
   },
   {
    "duration": 4,
    "start_time": "2021-11-16T09:31:06.300Z"
   },
   {
    "duration": 113,
    "start_time": "2021-11-16T09:31:37.208Z"
   },
   {
    "duration": 143,
    "start_time": "2021-11-16T09:31:48.656Z"
   },
   {
    "duration": 98,
    "start_time": "2021-11-16T09:31:55.678Z"
   },
   {
    "duration": 3,
    "start_time": "2021-11-16T09:32:08.535Z"
   },
   {
    "duration": 111,
    "start_time": "2021-11-16T09:32:10.120Z"
   },
   {
    "duration": 3,
    "start_time": "2021-11-16T09:32:15.732Z"
   },
   {
    "duration": 4,
    "start_time": "2021-11-16T09:32:29.423Z"
   },
   {
    "duration": 3,
    "start_time": "2021-11-16T10:03:03.074Z"
   },
   {
    "duration": 3,
    "start_time": "2021-11-16T10:10:01.288Z"
   },
   {
    "duration": 3,
    "start_time": "2021-11-16T10:10:46.923Z"
   },
   {
    "duration": 121,
    "start_time": "2021-11-16T10:37:46.494Z"
   },
   {
    "duration": 125,
    "start_time": "2021-11-16T10:38:20.632Z"
   },
   {
    "duration": 112,
    "start_time": "2021-11-16T10:46:53.001Z"
   },
   {
    "duration": 110,
    "start_time": "2021-11-16T10:48:25.775Z"
   },
   {
    "duration": 3,
    "start_time": "2021-11-16T10:50:18.720Z"
   },
   {
    "duration": 4,
    "start_time": "2021-11-16T10:50:37.649Z"
   },
   {
    "duration": 2,
    "start_time": "2021-11-16T10:50:51.884Z"
   },
   {
    "duration": 3,
    "start_time": "2021-11-16T10:51:56.237Z"
   },
   {
    "duration": 101,
    "start_time": "2021-11-16T10:53:13.791Z"
   },
   {
    "duration": 3,
    "start_time": "2021-11-16T10:55:59.186Z"
   },
   {
    "duration": 3,
    "start_time": "2021-11-16T10:56:10.751Z"
   },
   {
    "duration": 3,
    "start_time": "2021-11-16T10:56:49.038Z"
   },
   {
    "duration": 3,
    "start_time": "2021-11-16T10:56:49.174Z"
   },
   {
    "duration": 4,
    "start_time": "2021-11-16T10:56:49.414Z"
   },
   {
    "duration": 3,
    "start_time": "2021-11-16T10:56:49.680Z"
   },
   {
    "duration": 3,
    "start_time": "2021-11-16T10:56:50.370Z"
   },
   {
    "duration": 114,
    "start_time": "2021-11-16T10:59:34.518Z"
   },
   {
    "duration": 3,
    "start_time": "2021-11-16T11:01:41.201Z"
   },
   {
    "duration": 116,
    "start_time": "2021-11-16T11:01:48.754Z"
   },
   {
    "duration": 3,
    "start_time": "2021-11-16T11:02:16.685Z"
   },
   {
    "duration": 3,
    "start_time": "2021-11-16T11:02:19.479Z"
   },
   {
    "duration": 3,
    "start_time": "2021-11-16T11:02:47.067Z"
   },
   {
    "duration": 3,
    "start_time": "2021-11-16T11:02:49.353Z"
   },
   {
    "duration": 3,
    "start_time": "2021-11-16T11:03:07.835Z"
   },
   {
    "duration": 3,
    "start_time": "2021-11-16T11:03:07.953Z"
   },
   {
    "duration": 112,
    "start_time": "2021-11-16T11:07:52.072Z"
   },
   {
    "duration": 187,
    "start_time": "2021-11-16T11:09:23.468Z"
   },
   {
    "duration": 4,
    "start_time": "2021-11-16T11:10:01.455Z"
   },
   {
    "duration": 3,
    "start_time": "2021-11-16T11:10:05.069Z"
   },
   {
    "duration": 4,
    "start_time": "2021-11-16T11:10:13.376Z"
   },
   {
    "duration": 3,
    "start_time": "2021-11-16T11:10:14.434Z"
   },
   {
    "duration": 3,
    "start_time": "2021-11-16T11:10:22.853Z"
   },
   {
    "duration": 4,
    "start_time": "2021-11-16T11:27:29.279Z"
   },
   {
    "duration": 4,
    "start_time": "2021-11-16T11:29:08.919Z"
   },
   {
    "duration": 118,
    "start_time": "2021-11-16T11:29:46.703Z"
   },
   {
    "duration": 437,
    "start_time": "2021-11-16T11:36:02.181Z"
   },
   {
    "duration": 157,
    "start_time": "2021-11-16T11:36:14.388Z"
   },
   {
    "duration": 207,
    "start_time": "2021-11-16T11:47:15.898Z"
   },
   {
    "duration": 3,
    "start_time": "2021-11-16T11:53:52.092Z"
   },
   {
    "duration": 3,
    "start_time": "2021-11-16T11:53:52.236Z"
   },
   {
    "duration": 3,
    "start_time": "2021-11-16T11:59:12.005Z"
   },
   {
    "duration": 112,
    "start_time": "2021-11-16T12:00:33.446Z"
   },
   {
    "duration": 3,
    "start_time": "2021-11-16T12:02:14.453Z"
   },
   {
    "duration": 3,
    "start_time": "2021-11-16T12:02:39.512Z"
   },
   {
    "duration": 106,
    "start_time": "2021-11-16T12:03:03.460Z"
   },
   {
    "duration": 3,
    "start_time": "2021-11-17T20:37:21.139Z"
   },
   {
    "duration": 3,
    "start_time": "2021-11-17T20:37:22.229Z"
   },
   {
    "duration": 3,
    "start_time": "2021-11-17T20:38:38.806Z"
   },
   {
    "duration": 3,
    "start_time": "2021-11-17T20:38:41.958Z"
   },
   {
    "duration": 3,
    "start_time": "2021-11-17T20:43:46.551Z"
   },
   {
    "duration": 4,
    "start_time": "2021-11-17T20:58:21.835Z"
   },
   {
    "duration": 3,
    "start_time": "2021-11-17T20:59:21.872Z"
   },
   {
    "duration": 4,
    "start_time": "2021-11-17T20:59:45.352Z"
   },
   {
    "duration": 4,
    "start_time": "2021-11-17T20:59:49.646Z"
   },
   {
    "duration": 159,
    "start_time": "2021-11-17T21:02:26.949Z"
   },
   {
    "duration": 3,
    "start_time": "2021-11-17T21:03:53.461Z"
   },
   {
    "duration": 3,
    "start_time": "2021-11-17T21:03:53.694Z"
   },
   {
    "duration": 3,
    "start_time": "2021-11-17T21:05:28.145Z"
   },
   {
    "duration": 116,
    "start_time": "2021-11-17T21:05:57.787Z"
   },
   {
    "duration": 3,
    "start_time": "2021-11-17T21:06:37.993Z"
   },
   {
    "duration": 3,
    "start_time": "2021-11-17T21:06:38.261Z"
   },
   {
    "duration": 3,
    "start_time": "2021-11-17T21:11:54.358Z"
   },
   {
    "duration": 3,
    "start_time": "2021-11-17T21:12:43.846Z"
   },
   {
    "duration": 4,
    "start_time": "2021-11-17T21:13:08.773Z"
   },
   {
    "duration": 3,
    "start_time": "2021-11-17T21:14:44.441Z"
   },
   {
    "duration": 3,
    "start_time": "2021-11-17T21:15:42.059Z"
   },
   {
    "duration": 4,
    "start_time": "2021-11-17T21:15:51.995Z"
   },
   {
    "duration": 3,
    "start_time": "2021-11-17T21:15:53.923Z"
   },
   {
    "duration": 3,
    "start_time": "2021-11-17T21:15:55.282Z"
   },
   {
    "duration": 3,
    "start_time": "2021-11-17T21:16:28.492Z"
   },
   {
    "duration": 3,
    "start_time": "2021-11-17T21:16:32.603Z"
   },
   {
    "duration": 3,
    "start_time": "2021-11-17T21:17:06.941Z"
   },
   {
    "duration": 98,
    "start_time": "2021-11-17T21:18:05.733Z"
   },
   {
    "duration": 4,
    "start_time": "2021-11-17T21:21:35.255Z"
   },
   {
    "duration": 3,
    "start_time": "2021-11-17T21:21:37.804Z"
   },
   {
    "duration": 4,
    "start_time": "2021-11-17T21:23:06.071Z"
   },
   {
    "duration": 3,
    "start_time": "2021-11-17T21:23:24.799Z"
   },
   {
    "duration": 3,
    "start_time": "2021-11-17T21:23:32.591Z"
   },
   {
    "duration": 98,
    "start_time": "2021-11-17T21:28:31.559Z"
   },
   {
    "duration": 3,
    "start_time": "2021-11-17T21:28:45.448Z"
   },
   {
    "duration": 3,
    "start_time": "2021-11-17T21:29:17.303Z"
   },
   {
    "duration": 3,
    "start_time": "2021-11-17T21:29:29.617Z"
   },
   {
    "duration": 3,
    "start_time": "2021-11-17T21:29:32.681Z"
   },
   {
    "duration": 3,
    "start_time": "2021-11-17T21:36:11.474Z"
   },
   {
    "duration": 3,
    "start_time": "2021-11-17T21:36:14.791Z"
   },
   {
    "duration": 3,
    "start_time": "2021-11-17T21:36:53.943Z"
   },
   {
    "duration": 3,
    "start_time": "2021-11-17T21:36:56.165Z"
   },
   {
    "duration": 4,
    "start_time": "2021-11-17T21:37:16.590Z"
   },
   {
    "duration": 3,
    "start_time": "2021-11-17T21:37:22.702Z"
   },
   {
    "duration": 4,
    "start_time": "2021-11-17T21:38:03.479Z"
   },
   {
    "duration": 3,
    "start_time": "2021-11-17T21:38:08.601Z"
   },
   {
    "duration": 3,
    "start_time": "2021-11-17T21:38:12.928Z"
   },
   {
    "duration": 3,
    "start_time": "2021-11-17T21:38:48.896Z"
   },
   {
    "duration": 2,
    "start_time": "2021-11-17T21:38:49.171Z"
   },
   {
    "duration": 4,
    "start_time": "2021-11-17T21:39:57.889Z"
   },
   {
    "duration": 3,
    "start_time": "2021-11-17T21:39:58.057Z"
   },
   {
    "duration": 3,
    "start_time": "2021-11-17T21:41:20.108Z"
   },
   {
    "duration": 3,
    "start_time": "2021-11-17T21:41:20.629Z"
   },
   {
    "duration": 3,
    "start_time": "2021-11-17T21:42:49.136Z"
   },
   {
    "duration": 3,
    "start_time": "2021-11-17T21:43:15.137Z"
   },
   {
    "duration": 4,
    "start_time": "2021-11-17T21:43:16.766Z"
   },
   {
    "duration": 4,
    "start_time": "2021-11-17T21:43:31.711Z"
   },
   {
    "duration": 3,
    "start_time": "2021-11-17T21:43:36.312Z"
   },
   {
    "duration": 4,
    "start_time": "2021-11-17T21:45:08.825Z"
   },
   {
    "duration": 4,
    "start_time": "2021-11-17T21:45:10.119Z"
   },
   {
    "duration": 4,
    "start_time": "2021-11-17T21:45:13.748Z"
   },
   {
    "duration": 3,
    "start_time": "2021-11-17T21:45:22.219Z"
   },
   {
    "duration": 3,
    "start_time": "2021-11-17T21:45:33.412Z"
   },
   {
    "duration": 2,
    "start_time": "2021-11-17T21:46:01.885Z"
   },
   {
    "duration": 3,
    "start_time": "2021-11-17T21:46:03.628Z"
   },
   {
    "duration": 107,
    "start_time": "2021-11-17T21:47:32.512Z"
   },
   {
    "duration": 103,
    "start_time": "2021-11-17T21:50:36.243Z"
   },
   {
    "duration": 3,
    "start_time": "2021-11-18T06:28:31.440Z"
   },
   {
    "duration": 3,
    "start_time": "2021-11-18T06:29:00.168Z"
   },
   {
    "duration": 3,
    "start_time": "2021-11-18T06:31:27.008Z"
   },
   {
    "duration": 2,
    "start_time": "2021-11-18T06:35:34.288Z"
   },
   {
    "duration": 2,
    "start_time": "2021-11-18T06:38:04.527Z"
   }
  ],
  "kernelspec": {
   "display_name": "Python 3 (ipykernel)",
   "language": "python",
   "name": "python3"
  },
  "language_info": {
   "codemirror_mode": {
    "name": "ipython",
    "version": 3
   },
   "file_extension": ".py",
   "mimetype": "text/x-python",
   "name": "python",
   "nbconvert_exporter": "python",
   "pygments_lexer": "ipython3",
   "version": "3.9.19"
  },
  "toc": {
   "base_numbering": 1,
   "nav_menu": {},
   "number_sections": true,
   "sideBar": true,
   "skip_h1_title": false,
   "title_cell": "Table of Contents",
   "title_sidebar": "Contents",
   "toc_cell": false,
   "toc_position": {
    "height": "calc(100% - 180px)",
    "left": "10px",
    "top": "150px",
    "width": "368px"
   },
   "toc_section_display": true,
   "toc_window_display": true
  }
 },
 "nbformat": 4,
 "nbformat_minor": 2
}
