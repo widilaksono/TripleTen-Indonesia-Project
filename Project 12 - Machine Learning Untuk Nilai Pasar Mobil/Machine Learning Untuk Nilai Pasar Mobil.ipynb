{
 "cells": [
  {
   "cell_type": "markdown",
   "metadata": {},
   "source": [
    "`Rusty Bargain` adalah perusahaan jual beli mobil bekas yang sedang mengembangkan sebuah aplikasi untuk menarik pembeli baru. Dalam aplikasi tersebut, kita bisa dengan cepat mengetahui nilai pasar mobilmu. Kita memiliki akses ke data historis, spesifikasi teknis kendaraan, versi model kendaraan, dan harga kendaraan. Tugas kita adalah membuat suatu model yang mampu menentukan nilai pasar mobil.\n",
    "\n",
    "**Rusty Bargain tertarik pada:**\n",
    "- kualitas prediksi;\n",
    "- kecepatan model dalam memprediksi;\n",
    "- waktu yang diperlukan untuk melatih model\n",
    "\n",
    "**Kita akan uji menggunakan dataset yang kita punya untuk menentukan yang terbaik diantaranya:**\n",
    "- Regresi Linier\n",
    "- Random Forest\n",
    "- XGBoost\n",
    "- LightGBM\n",
    "- CatBoost"
   ]
  },
  {
   "cell_type": "markdown",
   "metadata": {},
   "source": [
    "# Konten <a id='back'></a>\n",
    "\n",
    "* [Pendahuluan](#intro)\n",
    "* [Konten](#back)\n",
    "* [Tahap 1. Persiapan Data](#cont_1)\n",
    "    * [1.1 Mengecek Duplikasi Data](#cont_2) \n",
    "    * [1.2 Mengecek Nilai yang Hilang](#cont_3) \n",
    "    * [1.3 Analisis Data Eksploratif (EDA)](#cont_4) \n",
    "* [Tahap 2. Pelatihan Model](#cont_5)\n",
    "    * [2.1 Model 1: Regresi Linier](#cont_6) \n",
    "    * [2.2 Model 2: Random Forest](#cont_7) \n",
    "    * [2.3 Model 3: XGBoost](#cont_8) \n",
    "    * [2.4 Model 4: LightGBM](#cont_9) \n",
    "    * [2.5 Model 5: CatBoost](#cont_10) \n",
    "* [Tahap 3. Analisis Model](#cont_11)\n",
    "    * [3.1 Model 1: Regresi Linier](#cont_12) \n",
    "    * [3.2 Model 2: Random Forest](#cont_13) \n",
    "    * [3.3 Model 3: XGBoost](#cont_14) \n",
    "    * [3.4 Model 4: LightGBM](#cont_15) \n",
    "    * [3.5 Model 5: CatBoost](#cont_16) \n",
    "* [Tahap 4. Model Komparasi](#cont_17)\n",
    "* [Tahap 5. Kesimpulan](#cont_18)"
   ]
  },
  {
   "cell_type": "markdown",
   "metadata": {},
   "source": [
    "## Persiapan Data"
   ]
  },
  {
   "cell_type": "markdown",
   "metadata": {},
   "source": [
    "Kita akan mengupdate dahulu beberapa package berikut `sklearn`, `xgboost`, `lightGBM`, `catboost`."
   ]
  },
  {
   "cell_type": "code",
   "execution_count": 1,
   "metadata": {},
   "outputs": [],
   "source": [
    "# memuat modul\n",
    "import pandas as pd\n",
    "import time\n",
    "import matplotlib.pyplot as plt\n",
    "import seaborn as sns\n",
    "import numpy as np\n",
    "from sklearn.compose import ColumnTransformer\n",
    "from sklearn.pipeline import Pipeline\n",
    "from sklearn.impute import SimpleImputer\n",
    "from sklearn.linear_model import LinearRegression\n",
    "from sklearn.preprocessing import MinMaxScaler, OneHotEncoder, OrdinalEncoder\n",
    "from sklearn.metrics import mean_squared_error, make_scorer\n",
    "from sklearn.model_selection import cross_val_score, train_test_split\n",
    "from sklearn.ensemble import RandomForestRegressor\n",
    "from xgboost import XGBRegressor, callback\n",
    "import lightgbm as lgb\n",
    "from catboost import CatBoostRegressor, Pool, cv\n",
    "\n",
    "# set tema seaborn\n",
    "sns.set_theme(palette='bright')"
   ]
  },
  {
   "cell_type": "code",
   "execution_count": 2,
   "metadata": {},
   "outputs": [],
   "source": [
    "# memuat dataset\n",
    "try:\n",
    "    df = pd.read_csv('car_data.csv')\n",
    "except:\n",
    "    df = pd.read_csv('/datasets/car_data.csv')"
   ]
  },
  {
   "cell_type": "code",
   "execution_count": 3,
   "metadata": {},
   "outputs": [
    {
     "data": {
      "text/html": [
       "<div>\n",
       "<style scoped>\n",
       "    .dataframe tbody tr th:only-of-type {\n",
       "        vertical-align: middle;\n",
       "    }\n",
       "\n",
       "    .dataframe tbody tr th {\n",
       "        vertical-align: top;\n",
       "    }\n",
       "\n",
       "    .dataframe thead th {\n",
       "        text-align: right;\n",
       "    }\n",
       "</style>\n",
       "<table border=\"1\" class=\"dataframe\">\n",
       "  <thead>\n",
       "    <tr style=\"text-align: right;\">\n",
       "      <th></th>\n",
       "      <th>DateCrawled</th>\n",
       "      <th>Price</th>\n",
       "      <th>VehicleType</th>\n",
       "      <th>RegistrationYear</th>\n",
       "      <th>Gearbox</th>\n",
       "      <th>Power</th>\n",
       "      <th>Model</th>\n",
       "      <th>Mileage</th>\n",
       "      <th>RegistrationMonth</th>\n",
       "      <th>FuelType</th>\n",
       "      <th>Brand</th>\n",
       "      <th>NotRepaired</th>\n",
       "      <th>DateCreated</th>\n",
       "      <th>NumberOfPictures</th>\n",
       "      <th>PostalCode</th>\n",
       "      <th>LastSeen</th>\n",
       "    </tr>\n",
       "  </thead>\n",
       "  <tbody>\n",
       "    <tr>\n",
       "      <th>126742</th>\n",
       "      <td>28/03/2016 17:25</td>\n",
       "      <td>490</td>\n",
       "      <td>small</td>\n",
       "      <td>1996</td>\n",
       "      <td>manual</td>\n",
       "      <td>90</td>\n",
       "      <td>tigra</td>\n",
       "      <td>150000</td>\n",
       "      <td>11</td>\n",
       "      <td>petrol</td>\n",
       "      <td>opel</td>\n",
       "      <td>no</td>\n",
       "      <td>28/03/2016 00:00</td>\n",
       "      <td>0</td>\n",
       "      <td>63263</td>\n",
       "      <td>30/03/2016 11:30</td>\n",
       "    </tr>\n",
       "    <tr>\n",
       "      <th>204023</th>\n",
       "      <td>03/04/2016 20:41</td>\n",
       "      <td>1200</td>\n",
       "      <td>sedan</td>\n",
       "      <td>1995</td>\n",
       "      <td>manual</td>\n",
       "      <td>125</td>\n",
       "      <td>a4</td>\n",
       "      <td>150000</td>\n",
       "      <td>11</td>\n",
       "      <td>petrol</td>\n",
       "      <td>audi</td>\n",
       "      <td>no</td>\n",
       "      <td>03/04/2016 00:00</td>\n",
       "      <td>0</td>\n",
       "      <td>99092</td>\n",
       "      <td>05/04/2016 21:17</td>\n",
       "    </tr>\n",
       "    <tr>\n",
       "      <th>189353</th>\n",
       "      <td>24/03/2016 18:37</td>\n",
       "      <td>999</td>\n",
       "      <td>small</td>\n",
       "      <td>1999</td>\n",
       "      <td>manual</td>\n",
       "      <td>0</td>\n",
       "      <td>a_klasse</td>\n",
       "      <td>150000</td>\n",
       "      <td>1</td>\n",
       "      <td>petrol</td>\n",
       "      <td>mercedes_benz</td>\n",
       "      <td>NaN</td>\n",
       "      <td>24/03/2016 00:00</td>\n",
       "      <td>0</td>\n",
       "      <td>13435</td>\n",
       "      <td>24/03/2016 18:37</td>\n",
       "    </tr>\n",
       "    <tr>\n",
       "      <th>52409</th>\n",
       "      <td>31/03/2016 12:49</td>\n",
       "      <td>4900</td>\n",
       "      <td>sedan</td>\n",
       "      <td>2001</td>\n",
       "      <td>auto</td>\n",
       "      <td>184</td>\n",
       "      <td>x_reihe</td>\n",
       "      <td>150000</td>\n",
       "      <td>10</td>\n",
       "      <td>gasoline</td>\n",
       "      <td>bmw</td>\n",
       "      <td>no</td>\n",
       "      <td>30/03/2016 00:00</td>\n",
       "      <td>0</td>\n",
       "      <td>65830</td>\n",
       "      <td>05/04/2016 14:16</td>\n",
       "    </tr>\n",
       "    <tr>\n",
       "      <th>212572</th>\n",
       "      <td>29/03/2016 13:54</td>\n",
       "      <td>1000</td>\n",
       "      <td>wagon</td>\n",
       "      <td>2004</td>\n",
       "      <td>manual</td>\n",
       "      <td>90</td>\n",
       "      <td>focus</td>\n",
       "      <td>150000</td>\n",
       "      <td>5</td>\n",
       "      <td>gasoline</td>\n",
       "      <td>ford</td>\n",
       "      <td>no</td>\n",
       "      <td>29/03/2016 00:00</td>\n",
       "      <td>0</td>\n",
       "      <td>27474</td>\n",
       "      <td>31/03/2016 07:15</td>\n",
       "    </tr>\n",
       "    <tr>\n",
       "      <th>55847</th>\n",
       "      <td>01/04/2016 14:55</td>\n",
       "      <td>600</td>\n",
       "      <td>wagon</td>\n",
       "      <td>2013</td>\n",
       "      <td>auto</td>\n",
       "      <td>268</td>\n",
       "      <td>other</td>\n",
       "      <td>40000</td>\n",
       "      <td>5</td>\n",
       "      <td>gasoline</td>\n",
       "      <td>mercedes_benz</td>\n",
       "      <td>NaN</td>\n",
       "      <td>01/04/2016 00:00</td>\n",
       "      <td>0</td>\n",
       "      <td>56072</td>\n",
       "      <td>07/04/2016 05:46</td>\n",
       "    </tr>\n",
       "    <tr>\n",
       "      <th>317655</th>\n",
       "      <td>03/04/2016 18:55</td>\n",
       "      <td>3500</td>\n",
       "      <td>bus</td>\n",
       "      <td>2004</td>\n",
       "      <td>manual</td>\n",
       "      <td>125</td>\n",
       "      <td>meriva</td>\n",
       "      <td>150000</td>\n",
       "      <td>4</td>\n",
       "      <td>petrol</td>\n",
       "      <td>opel</td>\n",
       "      <td>no</td>\n",
       "      <td>03/04/2016 00:00</td>\n",
       "      <td>0</td>\n",
       "      <td>7549</td>\n",
       "      <td>05/04/2016 19:19</td>\n",
       "    </tr>\n",
       "    <tr>\n",
       "      <th>261395</th>\n",
       "      <td>31/03/2016 17:56</td>\n",
       "      <td>0</td>\n",
       "      <td>NaN</td>\n",
       "      <td>2000</td>\n",
       "      <td>manual</td>\n",
       "      <td>0</td>\n",
       "      <td>navara</td>\n",
       "      <td>150000</td>\n",
       "      <td>3</td>\n",
       "      <td>NaN</td>\n",
       "      <td>nissan</td>\n",
       "      <td>NaN</td>\n",
       "      <td>31/03/2016 00:00</td>\n",
       "      <td>0</td>\n",
       "      <td>49757</td>\n",
       "      <td>06/04/2016 12:16</td>\n",
       "    </tr>\n",
       "    <tr>\n",
       "      <th>251341</th>\n",
       "      <td>16/03/2016 16:49</td>\n",
       "      <td>1300</td>\n",
       "      <td>wagon</td>\n",
       "      <td>2003</td>\n",
       "      <td>manual</td>\n",
       "      <td>116</td>\n",
       "      <td>other</td>\n",
       "      <td>150000</td>\n",
       "      <td>3</td>\n",
       "      <td>gasoline</td>\n",
       "      <td>mitsubishi</td>\n",
       "      <td>no</td>\n",
       "      <td>16/03/2016 00:00</td>\n",
       "      <td>0</td>\n",
       "      <td>28207</td>\n",
       "      <td>06/04/2016 21:18</td>\n",
       "    </tr>\n",
       "    <tr>\n",
       "      <th>119831</th>\n",
       "      <td>09/03/2016 16:42</td>\n",
       "      <td>9900</td>\n",
       "      <td>small</td>\n",
       "      <td>2010</td>\n",
       "      <td>auto</td>\n",
       "      <td>86</td>\n",
       "      <td>polo</td>\n",
       "      <td>70000</td>\n",
       "      <td>7</td>\n",
       "      <td>petrol</td>\n",
       "      <td>volkswagen</td>\n",
       "      <td>no</td>\n",
       "      <td>09/03/2016 00:00</td>\n",
       "      <td>0</td>\n",
       "      <td>12305</td>\n",
       "      <td>07/04/2016 03:47</td>\n",
       "    </tr>\n",
       "  </tbody>\n",
       "</table>\n",
       "</div>"
      ],
      "text/plain": [
       "             DateCrawled  Price VehicleType  RegistrationYear Gearbox  Power  \\\n",
       "126742  28/03/2016 17:25    490       small              1996  manual     90   \n",
       "204023  03/04/2016 20:41   1200       sedan              1995  manual    125   \n",
       "189353  24/03/2016 18:37    999       small              1999  manual      0   \n",
       "52409   31/03/2016 12:49   4900       sedan              2001    auto    184   \n",
       "212572  29/03/2016 13:54   1000       wagon              2004  manual     90   \n",
       "55847   01/04/2016 14:55    600       wagon              2013    auto    268   \n",
       "317655  03/04/2016 18:55   3500         bus              2004  manual    125   \n",
       "261395  31/03/2016 17:56      0         NaN              2000  manual      0   \n",
       "251341  16/03/2016 16:49   1300       wagon              2003  manual    116   \n",
       "119831  09/03/2016 16:42   9900       small              2010    auto     86   \n",
       "\n",
       "           Model  Mileage  RegistrationMonth  FuelType          Brand  \\\n",
       "126742     tigra   150000                 11    petrol           opel   \n",
       "204023        a4   150000                 11    petrol           audi   \n",
       "189353  a_klasse   150000                  1    petrol  mercedes_benz   \n",
       "52409    x_reihe   150000                 10  gasoline            bmw   \n",
       "212572     focus   150000                  5  gasoline           ford   \n",
       "55847      other    40000                  5  gasoline  mercedes_benz   \n",
       "317655    meriva   150000                  4    petrol           opel   \n",
       "261395    navara   150000                  3       NaN         nissan   \n",
       "251341     other   150000                  3  gasoline     mitsubishi   \n",
       "119831      polo    70000                  7    petrol     volkswagen   \n",
       "\n",
       "       NotRepaired       DateCreated  NumberOfPictures  PostalCode  \\\n",
       "126742          no  28/03/2016 00:00                 0       63263   \n",
       "204023          no  03/04/2016 00:00                 0       99092   \n",
       "189353         NaN  24/03/2016 00:00                 0       13435   \n",
       "52409           no  30/03/2016 00:00                 0       65830   \n",
       "212572          no  29/03/2016 00:00                 0       27474   \n",
       "55847          NaN  01/04/2016 00:00                 0       56072   \n",
       "317655          no  03/04/2016 00:00                 0        7549   \n",
       "261395         NaN  31/03/2016 00:00                 0       49757   \n",
       "251341          no  16/03/2016 00:00                 0       28207   \n",
       "119831          no  09/03/2016 00:00                 0       12305   \n",
       "\n",
       "                LastSeen  \n",
       "126742  30/03/2016 11:30  \n",
       "204023  05/04/2016 21:17  \n",
       "189353  24/03/2016 18:37  \n",
       "52409   05/04/2016 14:16  \n",
       "212572  31/03/2016 07:15  \n",
       "55847   07/04/2016 05:46  \n",
       "317655  05/04/2016 19:19  \n",
       "261395  06/04/2016 12:16  \n",
       "251341  06/04/2016 21:18  \n",
       "119831  07/04/2016 03:47  "
      ]
     },
     "execution_count": 3,
     "metadata": {},
     "output_type": "execute_result"
    }
   ],
   "source": [
    "# menampilkan sampel dataset\n",
    "df.sample(10)"
   ]
  },
  {
   "cell_type": "code",
   "execution_count": 4,
   "metadata": {},
   "outputs": [],
   "source": [
    "# mengubah tipe data tanggal menjadi datetime\n",
    "df['DateCrawled'] = pd.to_datetime(df['DateCrawled'], format='%d/%m/%Y %H:%M')\n",
    "df['DateCreated'] = pd.to_datetime(df['DateCreated'], format='%d/%m/%Y %H:%M')\n",
    "df['LastSeen'] = pd.to_datetime(df['LastSeen'], format='%d/%m/%Y %H:%M')"
   ]
  },
  {
   "cell_type": "code",
   "execution_count": 5,
   "metadata": {},
   "outputs": [
    {
     "name": "stdout",
     "output_type": "stream",
     "text": [
      "<class 'pandas.core.frame.DataFrame'>\n",
      "RangeIndex: 354369 entries, 0 to 354368\n",
      "Data columns (total 16 columns):\n",
      " #   Column             Non-Null Count   Dtype         \n",
      "---  ------             --------------   -----         \n",
      " 0   DateCrawled        354369 non-null  datetime64[ns]\n",
      " 1   Price              354369 non-null  int64         \n",
      " 2   VehicleType        316879 non-null  object        \n",
      " 3   RegistrationYear   354369 non-null  int64         \n",
      " 4   Gearbox            334536 non-null  object        \n",
      " 5   Power              354369 non-null  int64         \n",
      " 6   Model              334664 non-null  object        \n",
      " 7   Mileage            354369 non-null  int64         \n",
      " 8   RegistrationMonth  354369 non-null  int64         \n",
      " 9   FuelType           321474 non-null  object        \n",
      " 10  Brand              354369 non-null  object        \n",
      " 11  NotRepaired        283215 non-null  object        \n",
      " 12  DateCreated        354369 non-null  datetime64[ns]\n",
      " 13  NumberOfPictures   354369 non-null  int64         \n",
      " 14  PostalCode         354369 non-null  int64         \n",
      " 15  LastSeen           354369 non-null  datetime64[ns]\n",
      "dtypes: datetime64[ns](3), int64(7), object(6)\n",
      "memory usage: 43.3+ MB\n"
     ]
    }
   ],
   "source": [
    "# melihat informasi dataset\n",
    "df.info()"
   ]
  },
  {
   "cell_type": "markdown",
   "metadata": {},
   "source": [
    "Dataset memiliki beberapa kolom-kolom diantaranya:\n",
    "<br><br>\n",
    "Fitur:\n",
    "- `DateCrawled` — tanggal ketika profil diunduh dari database\n",
    "- `VehicleType` — jenis bodi kendaraan\n",
    "- `RegistrationYear` — tahun registrasi kendaraan\n",
    "- `Gearbox` — jenis transmisi\n",
    "- `Power` — daya (hp)\n",
    "- `Model` — model kendaraan\n",
    "- `Mileage` — jarak tempuh (diukur dalam satuan km berdasarkan dataset regional tertentu)\n",
    "- `RegistrationMonth` — bulan registrasi kendaraan\n",
    "- `FuelType` — jenis bahan bakar\n",
    "- `Brand` — merek kendaraan\n",
    "- `NotRepaired` — apakah kendaraan pernah direparasi sebelumnya\n",
    "- `DateCreated` — tanggal pembuatan profil\n",
    "- `NumberOfPictures` — jumlah gambar kendaraan\n",
    "- `PostalCode` — kode pos pemilik profil (pengguna)\n",
    "- `LastSeen` — tanggal aktivitas terakhir pengguna\n",
    "\n",
    "Target:\n",
    "- `Price` — harga (dalam satuan Euro)"
   ]
  },
  {
   "cell_type": "markdown",
   "metadata": {},
   "source": [
    "Tampaknya dataset yang kita punya masih memiliki `nilai yang hilang` dibeberapa kolom. Kita juga sudah mengubah tipe data tanggal menjadi `datetime`. Selanjutnya mari kita cek data `numerik`."
   ]
  },
  {
   "cell_type": "code",
   "execution_count": 6,
   "metadata": {},
   "outputs": [
    {
     "data": {
      "text/html": [
       "<div>\n",
       "<style scoped>\n",
       "    .dataframe tbody tr th:only-of-type {\n",
       "        vertical-align: middle;\n",
       "    }\n",
       "\n",
       "    .dataframe tbody tr th {\n",
       "        vertical-align: top;\n",
       "    }\n",
       "\n",
       "    .dataframe thead th {\n",
       "        text-align: right;\n",
       "    }\n",
       "</style>\n",
       "<table border=\"1\" class=\"dataframe\">\n",
       "  <thead>\n",
       "    <tr style=\"text-align: right;\">\n",
       "      <th></th>\n",
       "      <th>Price</th>\n",
       "      <th>RegistrationYear</th>\n",
       "      <th>Power</th>\n",
       "      <th>Mileage</th>\n",
       "      <th>RegistrationMonth</th>\n",
       "      <th>NumberOfPictures</th>\n",
       "      <th>PostalCode</th>\n",
       "    </tr>\n",
       "  </thead>\n",
       "  <tbody>\n",
       "    <tr>\n",
       "      <th>count</th>\n",
       "      <td>354369.000000</td>\n",
       "      <td>354369.000000</td>\n",
       "      <td>354369.000000</td>\n",
       "      <td>354369.000000</td>\n",
       "      <td>354369.000000</td>\n",
       "      <td>354369.0</td>\n",
       "      <td>354369.000000</td>\n",
       "    </tr>\n",
       "    <tr>\n",
       "      <th>mean</th>\n",
       "      <td>4416.656776</td>\n",
       "      <td>2004.234448</td>\n",
       "      <td>110.094337</td>\n",
       "      <td>128211.172535</td>\n",
       "      <td>5.714645</td>\n",
       "      <td>0.0</td>\n",
       "      <td>50508.689087</td>\n",
       "    </tr>\n",
       "    <tr>\n",
       "      <th>std</th>\n",
       "      <td>4514.158514</td>\n",
       "      <td>90.227958</td>\n",
       "      <td>189.850405</td>\n",
       "      <td>37905.341530</td>\n",
       "      <td>3.726421</td>\n",
       "      <td>0.0</td>\n",
       "      <td>25783.096248</td>\n",
       "    </tr>\n",
       "    <tr>\n",
       "      <th>min</th>\n",
       "      <td>0.000000</td>\n",
       "      <td>1000.000000</td>\n",
       "      <td>0.000000</td>\n",
       "      <td>5000.000000</td>\n",
       "      <td>0.000000</td>\n",
       "      <td>0.0</td>\n",
       "      <td>1067.000000</td>\n",
       "    </tr>\n",
       "    <tr>\n",
       "      <th>25%</th>\n",
       "      <td>1050.000000</td>\n",
       "      <td>1999.000000</td>\n",
       "      <td>69.000000</td>\n",
       "      <td>125000.000000</td>\n",
       "      <td>3.000000</td>\n",
       "      <td>0.0</td>\n",
       "      <td>30165.000000</td>\n",
       "    </tr>\n",
       "    <tr>\n",
       "      <th>50%</th>\n",
       "      <td>2700.000000</td>\n",
       "      <td>2003.000000</td>\n",
       "      <td>105.000000</td>\n",
       "      <td>150000.000000</td>\n",
       "      <td>6.000000</td>\n",
       "      <td>0.0</td>\n",
       "      <td>49413.000000</td>\n",
       "    </tr>\n",
       "    <tr>\n",
       "      <th>75%</th>\n",
       "      <td>6400.000000</td>\n",
       "      <td>2008.000000</td>\n",
       "      <td>143.000000</td>\n",
       "      <td>150000.000000</td>\n",
       "      <td>9.000000</td>\n",
       "      <td>0.0</td>\n",
       "      <td>71083.000000</td>\n",
       "    </tr>\n",
       "    <tr>\n",
       "      <th>max</th>\n",
       "      <td>20000.000000</td>\n",
       "      <td>9999.000000</td>\n",
       "      <td>20000.000000</td>\n",
       "      <td>150000.000000</td>\n",
       "      <td>12.000000</td>\n",
       "      <td>0.0</td>\n",
       "      <td>99998.000000</td>\n",
       "    </tr>\n",
       "  </tbody>\n",
       "</table>\n",
       "</div>"
      ],
      "text/plain": [
       "               Price  RegistrationYear          Power        Mileage  \\\n",
       "count  354369.000000     354369.000000  354369.000000  354369.000000   \n",
       "mean     4416.656776       2004.234448     110.094337  128211.172535   \n",
       "std      4514.158514         90.227958     189.850405   37905.341530   \n",
       "min         0.000000       1000.000000       0.000000    5000.000000   \n",
       "25%      1050.000000       1999.000000      69.000000  125000.000000   \n",
       "50%      2700.000000       2003.000000     105.000000  150000.000000   \n",
       "75%      6400.000000       2008.000000     143.000000  150000.000000   \n",
       "max     20000.000000       9999.000000   20000.000000  150000.000000   \n",
       "\n",
       "       RegistrationMonth  NumberOfPictures     PostalCode  \n",
       "count      354369.000000          354369.0  354369.000000  \n",
       "mean            5.714645               0.0   50508.689087  \n",
       "std             3.726421               0.0   25783.096248  \n",
       "min             0.000000               0.0    1067.000000  \n",
       "25%             3.000000               0.0   30165.000000  \n",
       "50%             6.000000               0.0   49413.000000  \n",
       "75%             9.000000               0.0   71083.000000  \n",
       "max            12.000000               0.0   99998.000000  "
      ]
     },
     "execution_count": 6,
     "metadata": {},
     "output_type": "execute_result"
    }
   ],
   "source": [
    "# melihat statistik deskriptif data numerik\n",
    "df.describe()"
   ]
  },
  {
   "cell_type": "markdown",
   "metadata": {},
   "source": [
    "Dari data diatas terlihat beberapa informasi yang janggal seperti berikut:\n",
    "- Kolom `Price` terdapat nilai yang bernilai `nol`.\n",
    "- Kolom `RegistrationYear` memiliki tahun terendah `1000` dan tertinggi `9999`.\n",
    "- Kolom `Power` memiliki daya terendah `0` dan tertinggi `20000`.\n",
    "- Kolom `RegistrationMonth` memiliki bulan registrasi terendah `0`.\n",
    "- Kolom `NumberOfPictures` semua data bernilai `nol`.\n",
    "\n",
    "Mari kita lanjut analisa kolom yang bermasalah."
   ]
  },
  {
   "cell_type": "code",
   "execution_count": 7,
   "metadata": {},
   "outputs": [
    {
     "data": {
      "text/plain": [
       "array([1000, 1001, 1039, 1111, 1200, 1234, 1253, 1255, 1300, 1400, 1500,\n",
       "       1600, 1602, 1688, 1800, 1910, 1915, 1919, 1920, 1923, 1925, 1927,\n",
       "       1928, 1929, 1930, 1931, 1932, 1933, 1934, 1935, 1936, 1937, 1938,\n",
       "       1940, 1941, 1942, 1943, 1944, 1945, 1946, 1947, 1948, 1949, 1950,\n",
       "       1951, 1952, 1953, 1954, 1955, 1956, 1957, 1958, 1959, 1960, 1961,\n",
       "       1962, 1963, 1964, 1965, 1966, 1967, 1968, 1969, 1970, 1971, 1972,\n",
       "       1973, 1974, 1975, 1976, 1977, 1978, 1979, 1980, 1981, 1982, 1983,\n",
       "       1984, 1985, 1986, 1987, 1988, 1989, 1990, 1991, 1992, 1993, 1994,\n",
       "       1995, 1996, 1997, 1998, 1999, 2000, 2001, 2002, 2003, 2004, 2005,\n",
       "       2006, 2007, 2008, 2009, 2010, 2011, 2012, 2013, 2014, 2015, 2016,\n",
       "       2017, 2018, 2019, 2066, 2200, 2222, 2290, 2500, 2800, 2900, 3000,\n",
       "       3200, 3500, 3700, 3800, 4000, 4100, 4500, 4800, 5000, 5300, 5555,\n",
       "       5600, 5900, 5911, 6000, 6500, 7000, 7100, 7500, 7800, 8000, 8200,\n",
       "       8455, 8500, 8888, 9000, 9229, 9450, 9996, 9999])"
      ]
     },
     "execution_count": 7,
     "metadata": {},
     "output_type": "execute_result"
    }
   ],
   "source": [
    "# melihat distribusi tahun registrasi\n",
    "RY = df['RegistrationYear'].unique()\n",
    "np.sort(RY)"
   ]
  },
  {
   "cell_type": "code",
   "execution_count": 8,
   "metadata": {},
   "outputs": [
    {
     "data": {
      "text/plain": [
       "array([    0,     1,     2,     3,     4,     5,     6,     7,     8,\n",
       "           9,    10,    11,    12,    13,    14,    15,    16,    17,\n",
       "          18,    19,    20,    21,    22,    23,    24,    25,    26,\n",
       "          27,    28,    29,    30,    31,    32,    33,    34,    35,\n",
       "          36,    37,    38,    39,    40,    41,    42,    43,    44,\n",
       "          45,    46,    47,    48,    49,    50,    51,    52,    53,\n",
       "          54,    55,    56,    57,    58,    59,    60,    61,    62,\n",
       "          63,    64,    65,    66,    67,    68,    69,    70,    71,\n",
       "          72,    73,    74,    75,    76,    77,    78,    79,    80,\n",
       "          81,    82,    83,    84,    85,    86,    87,    88,    89,\n",
       "          90,    91,    92,    93,    94,    95,    96,    97,    98,\n",
       "          99,   100,   101,   102,   103,   104,   105,   106,   107,\n",
       "         108,   109,   110,   111,   112,   113,   114,   115,   116,\n",
       "         117,   118,   119,   120,   121,   122,   123,   124,   125,\n",
       "         126,   127,   128,   129,   130,   131,   132,   133,   134,\n",
       "         135,   136,   137,   138,   139,   140,   141,   142,   143,\n",
       "         144,   145,   146,   147,   148,   149,   150,   151,   152,\n",
       "         153,   154,   155,   156,   157,   158,   159,   160,   161,\n",
       "         162,   163,   164,   165,   166,   167,   168,   169,   170,\n",
       "         171,   172,   173,   174,   175,   176,   177,   178,   179,\n",
       "         180,   181,   182,   183,   184,   185,   186,   187,   188,\n",
       "         189,   190,   191,   192,   193,   194,   195,   196,   197,\n",
       "         198,   199,   200,   201,   202,   203,   204,   205,   206,\n",
       "         207,   208,   209,   210,   211,   212,   213,   214,   215,\n",
       "         216,   217,   218,   219,   220,   221,   222,   223,   224,\n",
       "         225,   226,   227,   228,   229,   230,   231,   232,   233,\n",
       "         234,   235,   236,   237,   238,   239,   240,   241,   242,\n",
       "         243,   244,   245,   246,   247,   248,   249,   250,   251,\n",
       "         252,   253,   254,   255,   256,   257,   258,   259,   260,\n",
       "         261,   262,   264,   265,   266,   267,   268,   269,   270,\n",
       "         271,   272,   273,   274,   275,   276,   277,   278,   279,\n",
       "         280,   281,   282,   283,   284,   285,   286,   287,   288,\n",
       "         289,   290,   292,   293,   294,   295,   296,   297,   298,\n",
       "         299,   300,   301,   303,   304,   305,   306,   307,   308,\n",
       "         309,   310,   311,   313,   314,   315,   316,   317,   318,\n",
       "         320,   321,   322,   323,   324,   325,   326,   327,   328,\n",
       "         329,   330,   331,   332,   333,   334,   335,   336,   337,\n",
       "         338,   339,   340,   341,   343,   344,   345,   346,   347,\n",
       "         348,   349,   350,   351,   352,   353,   354,   355,   356,\n",
       "         357,   358,   360,   361,   362,   363,   364,   365,   367,\n",
       "         368,   370,   371,   374,   375,   376,   377,   379,   380,\n",
       "         381,   382,   385,   386,   387,   388,   390,   392,   394,\n",
       "         396,   398,   399,   400,   401,   402,   405,   408,   409,\n",
       "         411,   416,   420,   421,   425,   426,   428,   430,   431,\n",
       "         435,   440,   442,   445,   449,   450,   454,   457,   459,\n",
       "         460,   475,   476,   485,   487,   489,   490,   500,   504,\n",
       "         505,   507,   508,   510,   514,   515,   517,   519,   520,\n",
       "         521,   525,   530,   540,   541,   544,   550,   551,   553,\n",
       "         560,   572,   574,   579,   580,   584,   585,   599,   600,\n",
       "         601,   602,   603,   604,   606,   607,   610,   612,   620,\n",
       "         640,   645,   650,   651,   671,   678,   682,   685,   696,\n",
       "         700,   702,   703,   732,   743,   750,   751,   754,   771,\n",
       "         776,   800,   805,   808,   850,   851,   871,   900,   901,\n",
       "         902,   903,   907,   909,   923,   950,   952,   953,   960,\n",
       "         998,   999,  1000,  1001,  1002,  1003,  1004,  1005,  1011,\n",
       "        1012,  1016,  1017,  1021,  1024,  1054,  1055,  1056,  1062,\n",
       "        1079,  1082,  1090,  1100,  1102,  1103,  1105,  1111,  1115,\n",
       "        1120,  1149,  1151,  1158,  1160,  1162,  1164,  1199,  1200,\n",
       "        1202,  1221,  1223,  1230,  1239,  1240,  1241,  1250,  1252,\n",
       "        1256,  1275,  1288,  1299,  1300,  1312,  1317,  1324,  1339,\n",
       "        1351,  1360,  1362,  1363,  1367,  1390,  1394,  1398,  1399,\n",
       "        1400,  1401,  1403,  1405,  1416,  1432,  1433,  1436,  1500,\n",
       "        1501,  1502,  1503,  1506,  1521,  1548,  1595,  1596,  1597,\n",
       "        1598,  1600,  1625,  1631,  1653,  1659,  1689,  1700,  1701,\n",
       "        1703,  1704,  1707,  1753,  1771,  1779,  1780,  1781,  1783,\n",
       "        1793,  1796,  1799,  1800,  1801,  1870,  1895,  1896,  1900,\n",
       "        1910,  1920,  1922,  1933,  1937,  1968,  1986,  1988,  1992,\n",
       "        1993,  1995,  1998,  1999,  2000,  2004,  2005,  2007,  2009,\n",
       "        2016,  2017,  2018,  2172,  2200,  2201,  2331,  2340,  2389,\n",
       "        2402,  2461,  2598,  2729,  2789,  2792,  2799,  3000,  3199,\n",
       "        3454,  3500,  3750,  4400,  4507,  4700,  5000,  5411,  5420,\n",
       "        5575,  5809,  5815,  5867,  6006,  6010,  6011,  6012,  6018,\n",
       "        6045,  6062,  6226,  6512,  6920,  7508,  7511,  7512,  7515,\n",
       "        7518,  7529,  7544,  8011,  8259,  8404,  8500,  9000,  9007,\n",
       "        9010,  9011,  9012,  9013,  9710, 10000, 10110, 10218, 10311,\n",
       "       10317, 10520, 10522, 10710, 10910, 10912, 11011, 11025, 11111,\n",
       "       11509, 11530, 11635, 12012, 12510, 12512, 12684, 13616, 13636,\n",
       "       14009, 15001, 15016, 15017, 15020, 15033, 16011, 16051, 16311,\n",
       "       16312, 17011, 17019, 17410, 17700, 17932, 19208, 19211, 19312,\n",
       "       20000])"
      ]
     },
     "execution_count": 8,
     "metadata": {},
     "output_type": "execute_result"
    }
   ],
   "source": [
    "# melihat distribusi horsepower\n",
    "PWR = df['Power'].unique()\n",
    "np.sort(PWR)"
   ]
  },
  {
   "cell_type": "markdown",
   "metadata": {},
   "source": [
    "Kita akan perbaiki dataset dengan melakukan `filtering` dan `drop kolom`. Untuk `filtering` kita akan seleksi nilai/value yang masuk akal dan membuang `drop` kolom `NumberOfPictures`."
   ]
  },
  {
   "cell_type": "code",
   "execution_count": 9,
   "metadata": {},
   "outputs": [],
   "source": [
    "# menghilangkan harga (price) yang nol\n",
    "df = df[df['Price'] >= 500]\n",
    "\n",
    "# memfilter tahun registrasi dari 1900 hingga 2020\n",
    "df = df[(df['RegistrationYear'] >= 1900)&(df['RegistrationYear'] <= 2020)]\n",
    "\n",
    "# memfilter power dari > 0 dan kurang dari sama dengan 2000\n",
    "df = df[(df['Power'] != 0)&(df['Power'] <= 2000)]\n",
    "\n",
    "# memfilter registrasi bulan membuang bulan 0\n",
    "df = df[df['RegistrationMonth'] != 0]\n",
    "\n",
    "# menghilangkan kolom NumberOfPictures\n",
    "df.drop('NumberOfPictures',axis=1,inplace=True)"
   ]
  },
  {
   "cell_type": "code",
   "execution_count": 10,
   "metadata": {},
   "outputs": [
    {
     "data": {
      "text/html": [
       "<div>\n",
       "<style scoped>\n",
       "    .dataframe tbody tr th:only-of-type {\n",
       "        vertical-align: middle;\n",
       "    }\n",
       "\n",
       "    .dataframe tbody tr th {\n",
       "        vertical-align: top;\n",
       "    }\n",
       "\n",
       "    .dataframe thead th {\n",
       "        text-align: right;\n",
       "    }\n",
       "</style>\n",
       "<table border=\"1\" class=\"dataframe\">\n",
       "  <thead>\n",
       "    <tr style=\"text-align: right;\">\n",
       "      <th></th>\n",
       "      <th>Price</th>\n",
       "      <th>RegistrationYear</th>\n",
       "      <th>Power</th>\n",
       "      <th>Mileage</th>\n",
       "      <th>RegistrationMonth</th>\n",
       "      <th>PostalCode</th>\n",
       "    </tr>\n",
       "  </thead>\n",
       "  <tbody>\n",
       "    <tr>\n",
       "      <th>count</th>\n",
       "      <td>273337.000000</td>\n",
       "      <td>273337.000000</td>\n",
       "      <td>273337.000000</td>\n",
       "      <td>273337.000000</td>\n",
       "      <td>273337.000000</td>\n",
       "      <td>273337.000000</td>\n",
       "    </tr>\n",
       "    <tr>\n",
       "      <th>mean</th>\n",
       "      <td>5211.992416</td>\n",
       "      <td>2003.617194</td>\n",
       "      <td>123.716423</td>\n",
       "      <td>127428.064989</td>\n",
       "      <td>6.396452</td>\n",
       "      <td>51478.623615</td>\n",
       "    </tr>\n",
       "    <tr>\n",
       "      <th>std</th>\n",
       "      <td>4622.035318</td>\n",
       "      <td>6.722419</td>\n",
       "      <td>62.335180</td>\n",
       "      <td>37005.460544</td>\n",
       "      <td>3.346175</td>\n",
       "      <td>25700.754631</td>\n",
       "    </tr>\n",
       "    <tr>\n",
       "      <th>min</th>\n",
       "      <td>500.000000</td>\n",
       "      <td>1910.000000</td>\n",
       "      <td>1.000000</td>\n",
       "      <td>5000.000000</td>\n",
       "      <td>1.000000</td>\n",
       "      <td>1067.000000</td>\n",
       "    </tr>\n",
       "    <tr>\n",
       "      <th>25%</th>\n",
       "      <td>1600.000000</td>\n",
       "      <td>2000.000000</td>\n",
       "      <td>82.000000</td>\n",
       "      <td>125000.000000</td>\n",
       "      <td>4.000000</td>\n",
       "      <td>31162.000000</td>\n",
       "    </tr>\n",
       "    <tr>\n",
       "      <th>50%</th>\n",
       "      <td>3550.000000</td>\n",
       "      <td>2004.000000</td>\n",
       "      <td>116.000000</td>\n",
       "      <td>150000.000000</td>\n",
       "      <td>6.000000</td>\n",
       "      <td>50739.000000</td>\n",
       "    </tr>\n",
       "    <tr>\n",
       "      <th>75%</th>\n",
       "      <td>7500.000000</td>\n",
       "      <td>2008.000000</td>\n",
       "      <td>150.000000</td>\n",
       "      <td>150000.000000</td>\n",
       "      <td>9.000000</td>\n",
       "      <td>72213.000000</td>\n",
       "    </tr>\n",
       "    <tr>\n",
       "      <th>max</th>\n",
       "      <td>20000.000000</td>\n",
       "      <td>2019.000000</td>\n",
       "      <td>2000.000000</td>\n",
       "      <td>150000.000000</td>\n",
       "      <td>12.000000</td>\n",
       "      <td>99998.000000</td>\n",
       "    </tr>\n",
       "  </tbody>\n",
       "</table>\n",
       "</div>"
      ],
      "text/plain": [
       "               Price  RegistrationYear          Power        Mileage  \\\n",
       "count  273337.000000     273337.000000  273337.000000  273337.000000   \n",
       "mean     5211.992416       2003.617194     123.716423  127428.064989   \n",
       "std      4622.035318          6.722419      62.335180   37005.460544   \n",
       "min       500.000000       1910.000000       1.000000    5000.000000   \n",
       "25%      1600.000000       2000.000000      82.000000  125000.000000   \n",
       "50%      3550.000000       2004.000000     116.000000  150000.000000   \n",
       "75%      7500.000000       2008.000000     150.000000  150000.000000   \n",
       "max     20000.000000       2019.000000    2000.000000  150000.000000   \n",
       "\n",
       "       RegistrationMonth     PostalCode  \n",
       "count      273337.000000  273337.000000  \n",
       "mean            6.396452   51478.623615  \n",
       "std             3.346175   25700.754631  \n",
       "min             1.000000    1067.000000  \n",
       "25%             4.000000   31162.000000  \n",
       "50%             6.000000   50739.000000  \n",
       "75%             9.000000   72213.000000  \n",
       "max            12.000000   99998.000000  "
      ]
     },
     "execution_count": 10,
     "metadata": {},
     "output_type": "execute_result"
    }
   ],
   "source": [
    "# menampilkan kembali statistik deskriptif untuk data numerik\n",
    "df.describe()"
   ]
  },
  {
   "cell_type": "markdown",
   "metadata": {},
   "source": [
    "Hasil sudah menunjukan yang lebih baik sebelum dilakukan `filtering` dan `drop kolom`. Data `numerik`  juga tidak memiliki `outlier` yang signifikan. Selanjutnya mari kita cek kolom `kategorik`."
   ]
  },
  {
   "cell_type": "code",
   "execution_count": 11,
   "metadata": {},
   "outputs": [
    {
     "data": {
      "text/html": [
       "<div>\n",
       "<style scoped>\n",
       "    .dataframe tbody tr th:only-of-type {\n",
       "        vertical-align: middle;\n",
       "    }\n",
       "\n",
       "    .dataframe tbody tr th {\n",
       "        vertical-align: top;\n",
       "    }\n",
       "\n",
       "    .dataframe thead th {\n",
       "        text-align: right;\n",
       "    }\n",
       "</style>\n",
       "<table border=\"1\" class=\"dataframe\">\n",
       "  <thead>\n",
       "    <tr style=\"text-align: right;\">\n",
       "      <th></th>\n",
       "      <th>VehicleType</th>\n",
       "      <th>Gearbox</th>\n",
       "      <th>Model</th>\n",
       "      <th>FuelType</th>\n",
       "      <th>Brand</th>\n",
       "      <th>NotRepaired</th>\n",
       "    </tr>\n",
       "  </thead>\n",
       "  <tbody>\n",
       "    <tr>\n",
       "      <th>count</th>\n",
       "      <td>259339</td>\n",
       "      <td>269557</td>\n",
       "      <td>264340</td>\n",
       "      <td>260580</td>\n",
       "      <td>273337</td>\n",
       "      <td>240529</td>\n",
       "    </tr>\n",
       "    <tr>\n",
       "      <th>unique</th>\n",
       "      <td>8</td>\n",
       "      <td>2</td>\n",
       "      <td>249</td>\n",
       "      <td>7</td>\n",
       "      <td>40</td>\n",
       "      <td>2</td>\n",
       "    </tr>\n",
       "    <tr>\n",
       "      <th>top</th>\n",
       "      <td>sedan</td>\n",
       "      <td>manual</td>\n",
       "      <td>golf</td>\n",
       "      <td>petrol</td>\n",
       "      <td>volkswagen</td>\n",
       "      <td>no</td>\n",
       "    </tr>\n",
       "    <tr>\n",
       "      <th>freq</th>\n",
       "      <td>76697</td>\n",
       "      <td>212692</td>\n",
       "      <td>22714</td>\n",
       "      <td>169396</td>\n",
       "      <td>58842</td>\n",
       "      <td>218617</td>\n",
       "    </tr>\n",
       "  </tbody>\n",
       "</table>\n",
       "</div>"
      ],
      "text/plain": [
       "       VehicleType Gearbox   Model FuelType       Brand NotRepaired\n",
       "count       259339  269557  264340   260580      273337      240529\n",
       "unique           8       2     249        7          40           2\n",
       "top          sedan  manual    golf   petrol  volkswagen          no\n",
       "freq         76697  212692   22714   169396       58842      218617"
      ]
     },
     "execution_count": 11,
     "metadata": {},
     "output_type": "execute_result"
    }
   ],
   "source": [
    "# melihat statistik deskriptif untuk data categorik\n",
    "df.select_dtypes(exclude=['int','float','datetime']).describe()"
   ]
  },
  {
   "cell_type": "markdown",
   "metadata": {},
   "source": [
    "Terlihat bahwa kita memiliki banyak kategori pada kolom `Model` dan `Brand`."
   ]
  },
  {
   "cell_type": "code",
   "execution_count": 12,
   "metadata": {},
   "outputs": [
    {
     "name": "stdout",
     "output_type": "stream",
     "text": [
      "First DateCreated 2015-08-07 00:00:00\n",
      "Last DateCreated 2016-04-07 00:00:00\n",
      "First DateCrawled 2016-03-05 14:06:00\n",
      "Last DateCrawled 2016-04-07 14:36:00\n"
     ]
    }
   ],
   "source": [
    "# menampilkan informasi lain\n",
    "print('First DateCreated', min(df['DateCreated']))\n",
    "print('Last DateCreated', max(df['DateCreated']))\n",
    "print('First DateCrawled', min(df['DateCrawled']))\n",
    "print('Last DateCrawled', max(df['DateCrawled']))"
   ]
  },
  {
   "cell_type": "markdown",
   "metadata": {},
   "source": [
    "Data `dibuat` dari tahun `2015` hingga `2016` sedangkan data `diunduh` dari `2016 bulan ke-3` hingga `2016 bulan ke-4`."
   ]
  },
  {
   "cell_type": "markdown",
   "metadata": {},
   "source": [
    "### Mengecek Duplikasi Data"
   ]
  },
  {
   "cell_type": "markdown",
   "metadata": {},
   "source": [
    "Selanjutnya kita buang kolom `tanggal` yang tidak berpengaruh terhadap `machine learning` kemudian dilanjutkan dengan pengecekan duplikat pada data."
   ]
  },
  {
   "cell_type": "code",
   "execution_count": 13,
   "metadata": {},
   "outputs": [],
   "source": [
    "# melakukan drop untuk semua datetime\n",
    "df.drop(['DateCrawled','DateCreated','LastSeen'],axis=1,inplace=True)"
   ]
  },
  {
   "cell_type": "code",
   "execution_count": 14,
   "metadata": {},
   "outputs": [
    {
     "name": "stdout",
     "output_type": "stream",
     "text": [
      "Jumlah dataset awal 273337\n",
      "Jumlah duplikasi data 18012\n",
      "Jumlah dataset akhir 255325\n"
     ]
    }
   ],
   "source": [
    "# jumlah dataset awal\n",
    "print('Jumlah dataset awal', len(df))\n",
    "\n",
    "# jumlah duplikasi data\n",
    "print('Jumlah duplikasi data',df.duplicated().sum())\n",
    "\n",
    "# menghilangkan duplikasi data\n",
    "df.drop_duplicates(inplace=True)\n",
    "\n",
    "# jumlah datset akhir\n",
    "print('Jumlah dataset akhir', len(df))"
   ]
  },
  {
   "cell_type": "markdown",
   "metadata": {},
   "source": [
    "Kita sudah menghilangkan `18012` duplikat pada dataset dan dataset kita berjumlah `255325`."
   ]
  },
  {
   "cell_type": "markdown",
   "metadata": {},
   "source": [
    "### Mengecek Nilai Yang Hilang"
   ]
  },
  {
   "cell_type": "code",
   "execution_count": 15,
   "metadata": {},
   "outputs": [
    {
     "data": {
      "text/plain": [
       "Price                 0.000000\n",
       "VehicleType           5.272887\n",
       "RegistrationYear      0.000000\n",
       "Gearbox               1.446784\n",
       "Power                 0.000000\n",
       "Model                 3.394889\n",
       "Mileage               0.000000\n",
       "RegistrationMonth     0.000000\n",
       "FuelType              4.858122\n",
       "Brand                 0.000000\n",
       "NotRepaired          12.309018\n",
       "PostalCode            0.000000\n",
       "dtype: float64"
      ]
     },
     "execution_count": 15,
     "metadata": {},
     "output_type": "execute_result"
    }
   ],
   "source": [
    "# menghitung jumlah nilai yang hilang dalam persentase\n",
    "df.isna().sum()/len(df)*100"
   ]
  },
  {
   "cell_type": "markdown",
   "metadata": {},
   "source": [
    "Terlihat data yang hilang pada kolom `NotRepaired` sebanyak kurang lebih `12%`. Kita tidak akan memprosesnya disini dan akan diproses lebih lanjut menggunakan teknik `preprocessing` di `machine learning`."
   ]
  },
  {
   "cell_type": "markdown",
   "metadata": {},
   "source": [
    "### Analisis Data Eksploratif (EDA)"
   ]
  },
  {
   "cell_type": "code",
   "execution_count": 16,
   "metadata": {},
   "outputs": [
    {
     "data": {
      "image/png": "[encoded data removed]",
      "text/plain": [
       "<Figure size 576x360 with 2 Axes>"
      ]
     },
     "metadata": {},
     "output_type": "display_data"
    }
   ],
   "source": [
    "# mengecek korelasi pada dataset numerik\n",
    "plt.figure(figsize=(8,5))\n",
    "sns.heatmap(df.select_dtypes(exclude='object').corr(),annot=True,cmap='RdBu_r')\n",
    "plt.title('Correlation Table')\n",
    "plt.xticks(rotation=20)\n",
    "plt.show()"
   ]
  },
  {
   "cell_type": "markdown",
   "metadata": {},
   "source": [
    "Terlihat korelasi yang cukup kuat dan masuk akal antara `Price` terhadap `RegistrationYear`, `Power` dan `Mileage`. `Price` memiliki korelasi positif terhadap `RegistrationYear` dan `Power`. Sedangkan `Price` memiliki korelasi negatif terhadap `Mileage`yang arti jika `Mileage` rendah, maka `Price` lebih tinggi."
   ]
  },
  {
   "cell_type": "markdown",
   "metadata": {},
   "source": [
    "## Pelatihan Model"
   ]
  },
  {
   "cell_type": "markdown",
   "metadata": {},
   "source": [
    "Disini kita akan melakukan pengujian terhadap `model machine learning` yang cukup populer diantaranya `regresi linier`, `random forest`, `xgboost`, `lightGBM` dan `catboost`. Kita akan melakukan pengujian performa terhadap `kecepatan waktu` dan `hasil skor RMSE` terhadap masing-masing model. Mari kita pisahkan dataset menjadi `fitur` dan `target`.\n",
    "\n",
    "Model yang tidak menggunakan teknik `boosting`:\n",
    "- Regresi Linier\n",
    "- Random Forest\n",
    "\n",
    "Model yang menggunakan teknik `boosting`:\n",
    "- XGBoost\n",
    "- LightGBM\n",
    "- CatBoost"
   ]
  },
  {
   "cell_type": "code",
   "execution_count": 17,
   "metadata": {},
   "outputs": [
    {
     "name": "stdout",
     "output_type": "stream",
     "text": [
      "(204260, 11)\n",
      "(51065, 11)\n",
      "(204260,)\n",
      "(51065,)\n"
     ]
    }
   ],
   "source": [
    "# memisahkan dataset \n",
    "features = df.drop('Price',axis=1).reset_index(drop=True)\n",
    "target = df.Price.reset_index(drop=True)\n",
    "\n",
    "# membagi dataset untuk model regresi linier, random forest dan xgboost\n",
    "features_train, features_test, target_train, target_test = train_test_split(features, target, test_size=0.2, random_state=75)\n",
    "print(features_train.shape)\n",
    "print(features_test.shape)\n",
    "print(target_train.shape)\n",
    "print(target_test.shape)"
   ]
  },
  {
   "cell_type": "markdown",
   "metadata": {},
   "source": [
    "### Model 1: Regresi Linier"
   ]
  },
  {
   "cell_type": "markdown",
   "metadata": {},
   "source": [
    "Kita akan menjadikan model ini sebagai dasar `base` acuan yang akan kita bandingkan dengan beberapa model `boosting` yang disebutkan sebelumnya. Adapun proses kerja untuk `regresi linier` dari `scikit-learn` sebagai berikut:\n",
    "1. Melakukan teknik pemrosesan data terhadap `nilai yang hilang` dan `data kategorik`.\n",
    "2. Data `numerik` yang hilang akan diisi menggunakan `rata-rata` sedangkan data kategorik menggunakan `most_frequent`.\n",
    "3. Data `numerik` dilakukan proses `scaling` menggunakan `minmax scaling` sedangkan data kategorik dilakukan proses `OneHot Encoding`.\n",
    "4. Preprocessing semuanya dilakukan menggunakan `Pipeline`.\n",
    "5. Tahap pelatihan dan perhitungan `waktu pelatihan (preprocessing + training)` yang dilakukan perhitungan `waktu prediksi`.\n",
    "6. Perhitungan skor RMSE untuk data `test` dan juga `cross validation`."
   ]
  },
  {
   "cell_type": "code",
   "execution_count": 18,
   "metadata": {},
   "outputs": [],
   "source": [
    "# mengelompokan nama-nama kolom numerik dan nama-nama kolom kategorik \n",
    "num_col = features.select_dtypes(include=['int','float']).columns\n",
    "cat_col = features.select_dtypes(include='object').columns\n",
    "\n",
    "# transformer untuk data numerik\n",
    "numerical = Pipeline(steps=[\n",
    "    ('imputer',SimpleImputer(strategy='mean')),\n",
    "    ('scaler',MinMaxScaler())\n",
    "])\n",
    "\n",
    "# transformer untuk data kategorik\n",
    "categorical = Pipeline(steps=[\n",
    "    ('imputer',SimpleImputer(strategy='most_frequent')),\n",
    "    ('ohe',OneHotEncoder()),\n",
    "])\n",
    "\n",
    "# menggabungkan transformer numerik dan transformer kategorik\n",
    "preprocessor_linreg = ColumnTransformer(transformers=[\n",
    "    ('num',numerical, num_col),\n",
    "    ('cat',categorical, cat_col)\n",
    "])"
   ]
  },
  {
   "cell_type": "code",
   "execution_count": 19,
   "metadata": {},
   "outputs": [
    {
     "name": "stdout",
     "output_type": "stream",
     "text": [
      "Waktu untuk melatih model: 14.679 detik\n"
     ]
    }
   ],
   "source": [
    "# membuat model regresi linier\n",
    "lr_model = LinearRegression()\n",
    "\n",
    "# membuat pipeline regresi linier\n",
    "linereg_pipe = Pipeline(steps=[\n",
    "    ('prep', preprocessor_linreg),\n",
    "    ('lr_model', lr_model)\n",
    "])\n",
    "\n",
    "# melatih model (fit model) regresi linier\n",
    "time_start = time.time()\n",
    "linereg_pipe.fit(features_train,target_train)\n",
    "time_end = time.time()\n",
    "diff_fit_linreg = np.round(time_end -  time_start, 3)\n",
    "print('Waktu untuk melatih model:', f'{diff_fit_linreg}','detik')"
   ]
  },
  {
   "cell_type": "markdown",
   "metadata": {},
   "source": [
    "### Model 2: Random Forest"
   ]
  },
  {
   "cell_type": "markdown",
   "metadata": {},
   "source": [
    "Sama seperti teknik `regresi linier` menggunakan langkah-langkah diatas namun sedikit ada perbedaan. Adapun proses kerja untuk `random forest` dari `scikit-learn` sebagai berikut:\n",
    "1. Melakukan teknik pemrosesan data terhadap `nilai yang hilang` dan `data kategorik`.\n",
    "2. Data `numerik` yang hilang akan diisi menggunakan `rata-rata` sedangkan data kategorik menggunakan `most_frequent`.\n",
    "3. Hanya data `kategorik` yang diproses menggunakan teknik `label` merubahnya menjadi `numerik`.\n",
    "4. Preprocessing semuanya dilakukan menggunakan `Pipeline`.\n",
    "5. Tahap pelatihan dan perhitungan `waktu pelatihan (preprocessing + training)` yang dilakukan perhitungan `waktu prediksi`.\n",
    "6. Perhitungan skor RMSE untuk data `test` dan juga `cross validation`."
   ]
  },
  {
   "cell_type": "code",
   "execution_count": 20,
   "metadata": {},
   "outputs": [],
   "source": [
    "# mendefiniskan preprocessor data untuk random forest, xgboost dan lgbm\n",
    "\n",
    "# transformer untuk data numerik\n",
    "numerical = Pipeline(steps=[\n",
    "    ('imputer',SimpleImputer(strategy='mean')),\n",
    "])\n",
    "\n",
    "# transformer untuk data kategorik\n",
    "categorical = Pipeline(steps=[\n",
    "    ('imputer',SimpleImputer(strategy='most_frequent')),\n",
    "    ('class',OrdinalEncoder()),\n",
    "])\n",
    "\n",
    "# menggabungkan transformer numerik dan transformer kategorik\n",
    "preprocessor_boost = ColumnTransformer(transformers=[\n",
    "    ('num',numerical, num_col),\n",
    "    ('cat',categorical, cat_col)\n",
    "])"
   ]
  },
  {
   "cell_type": "code",
   "execution_count": 21,
   "metadata": {},
   "outputs": [
    {
     "name": "stdout",
     "output_type": "stream",
     "text": [
      "Waktu untuk melatih model: 12.965 detik\n"
     ]
    }
   ],
   "source": [
    "# membuat model random forest\n",
    "rf_model = RandomForestRegressor(n_estimators=20, max_depth=10, min_samples_split=10)\n",
    "\n",
    "# membuat pipeline random forest\n",
    "rf_pipe = Pipeline(steps=[\n",
    "    ('prep', preprocessor_boost),\n",
    "    ('rf_model', rf_model)\n",
    "])\n",
    "\n",
    "# melatih model (fit model) random forest\n",
    "time_start = time.time()\n",
    "rf_pipe.fit(features_train,target_train)\n",
    "time_end = time.time()\n",
    "diff_fit_rf = np.round(time_end -  time_start, 3)\n",
    "print('Waktu untuk melatih model:', f'{diff_fit_rf}','detik')"
   ]
  },
  {
   "cell_type": "markdown",
   "metadata": {},
   "source": [
    "### Model 3: XGBoost"
   ]
  },
  {
   "cell_type": "markdown",
   "metadata": {},
   "source": [
    "Sama seperti teknik-teknik sebelumnya menggunakan langkah-langkah diatas namun sedikit ada perbedaan. Adapun proses kerja untuk `XGBoost` sebagai berikut:\n",
    "1. Melakukan teknik pemrosesan data terhadap `nilai yang hilang` dan `data kategorik`.\n",
    "2. Data `numerik` yang hilang akan diisi menggunakan `rata-rata` sedangkan data kategorik menggunakan `most_frequent`.\n",
    "3. Hanya data `kategorik` yang diproses menggunakan teknik `label` merubahnya menjadi `numerik`.\n",
    "4. Preprocessing semuanya dilakukan menggunakan `Pipeline`.\n",
    "5. Tahap pelatihan dan perhitungan `waktu pelatihan (preprocessing + training)` yang dilakukan perhitungan `waktu prediksi`.\n",
    "6. Perhitungan skor RMSE untuk data `test` dan juga `cross validation`."
   ]
  },
  {
   "cell_type": "code",
   "execution_count": 22,
   "metadata": {},
   "outputs": [
    {
     "name": "stdout",
     "output_type": "stream",
     "text": [
      "Waktu untuk melatih model: 439.798 detik\n"
     ]
    }
   ],
   "source": [
    "# Membuat model XGBoost tanpa callback\n",
    "xgb_model = XGBRegressor(\n",
    "    n_estimators=1000,\n",
    "    eval_metric='rmse',\n",
    "    learning_rate=0.1\n",
    ")\n",
    "\n",
    "# Membuat pipeline XGBoost\n",
    "xgb_pipe = Pipeline(steps=[\n",
    "    ('prep', preprocessor_boost),\n",
    "    ('xgb_model', xgb_model)\n",
    "])\n",
    "\n",
    "# Melatih model (fit model) XGBoost\n",
    "time_start = time.time()\n",
    "transform_features_test = preprocessor_boost.fit_transform(features_test)\n",
    "transform_features_train = preprocessor_boost.fit_transform(features_train)\n",
    "xgb_pipe.fit(features_train, target_train, \n",
    "            xgb_model__eval_set=[(transform_features_train, target_train), (transform_features_test, target_test)], \n",
    "            xgb_model__verbose=False\n",
    "            )\n",
    "time_end = time.time()\n",
    "diff_fit_xgb = np.round(time_end - time_start, 3)\n",
    "print('Waktu untuk melatih model:', f'{diff_fit_xgb}','detik')"
   ]
  },
  {
   "cell_type": "markdown",
   "metadata": {},
   "source": [
    "### Model 4: LightGBM"
   ]
  },
  {
   "cell_type": "markdown",
   "metadata": {},
   "source": [
    "Model ini hampir mirip seperti `XGBoost`, namun ada sedikit perbedaan parameter didalamnya. Adapun proses kerja untuk `LightGBM` sebagai berikut:\n",
    "1. Melakukan teknik pemrosesan data terhadap `nilai yang hilang` dan `data kategorik`.\n",
    "2. Data `numerik` yang hilang akan diisi menggunakan `rata-rata` sedangkan data kategorik menggunakan `most_frequent`.\n",
    "3. Hanya data `kategorik` yang diproses menggunakan teknik `label` merubahnya menjadi `numerik`.\n",
    "4. Preprocessing semuanya dilakukan menggunakan `Pipeline`.\n",
    "5. Kita menggunakan `callback` untuk mencegah terjadinya pemborosan `waktu komputasi`.\n",
    "5. Tahap pelatihan dan perhitungan `waktu pelatihan (preprocessing + training)` yang dilakukan perhitungan `waktu prediksi`.\n",
    "6. Perhitungan skor RMSE untuk data `test` dan juga `cross validation`."
   ]
  },
  {
   "cell_type": "code",
   "execution_count": 23,
   "metadata": {},
   "outputs": [
    {
     "name": "stderr",
     "output_type": "stream",
     "text": [
      "/opt/conda/lib/python3.9/site-packages/lightgbm/engine.py:181: UserWarning: 'early_stopping_rounds' argument is deprecated and will be removed in a future release of LightGBM. Pass 'early_stopping()' callback via 'callbacks' argument instead.\n",
      "  _log_warning(\"'early_stopping_rounds' argument is deprecated and will be removed in a future release of LightGBM. \"\n",
      "/opt/conda/lib/python3.9/site-packages/lightgbm/basic.py:2065: UserWarning: Using categorical_feature in Dataset.\n",
      "  _log_warning('Using categorical_feature in Dataset.')\n"
     ]
    },
    {
     "name": "stdout",
     "output_type": "stream",
     "text": [
      "[LightGBM] [Warning] Met categorical feature which contains sparse values. Consider renumbering to consecutive integers started from zero\n"
     ]
    },
    {
     "name": "stderr",
     "output_type": "stream",
     "text": [
      "/opt/conda/lib/python3.9/site-packages/lightgbm/basic.py:1780: UserWarning: Overriding the parameters from Reference Dataset.\n",
      "  _log_warning('Overriding the parameters from Reference Dataset.')\n",
      "/opt/conda/lib/python3.9/site-packages/lightgbm/basic.py:1513: UserWarning: categorical_column in param dict is overridden.\n",
      "  _log_warning(f'{cat_alias} in param dict is overridden.')\n"
     ]
    },
    {
     "name": "stdout",
     "output_type": "stream",
     "text": [
      "[1]\tvalid_0's rmse: 3951.1\n",
      "Training until validation scores don't improve for 3 rounds\n",
      "[2]\tvalid_0's rmse: 3432.12\n",
      "[3]\tvalid_0's rmse: 3037.82\n",
      "[4]\tvalid_0's rmse: 2734.01\n",
      "[5]\tvalid_0's rmse: 2500.62\n",
      "[6]\tvalid_0's rmse: 2322.84\n",
      "[7]\tvalid_0's rmse: 2184.02\n",
      "[8]\tvalid_0's rmse: 2078.51\n",
      "[9]\tvalid_0's rmse: 2000.62\n",
      "[10]\tvalid_0's rmse: 1940.33\n",
      "[11]\tvalid_0's rmse: 1891.83\n",
      "[12]\tvalid_0's rmse: 1852.79\n",
      "[13]\tvalid_0's rmse: 1823.03\n",
      "[14]\tvalid_0's rmse: 1798.13\n",
      "[15]\tvalid_0's rmse: 1776.54\n",
      "[16]\tvalid_0's rmse: 1761.03\n",
      "[17]\tvalid_0's rmse: 1747.75\n",
      "[18]\tvalid_0's rmse: 1738.1\n",
      "[19]\tvalid_0's rmse: 1728.38\n",
      "[20]\tvalid_0's rmse: 1722.2\n",
      "[21]\tvalid_0's rmse: 1716.14\n",
      "[22]\tvalid_0's rmse: 1708.75\n",
      "[23]\tvalid_0's rmse: 1705.61\n",
      "[24]\tvalid_0's rmse: 1702.63\n",
      "[25]\tvalid_0's rmse: 1699.46\n",
      "[26]\tvalid_0's rmse: 1697.92\n",
      "[27]\tvalid_0's rmse: 1694.9\n",
      "[28]\tvalid_0's rmse: 1692.38\n",
      "[29]\tvalid_0's rmse: 1691.74\n",
      "[30]\tvalid_0's rmse: 1689.39\n",
      "[31]\tvalid_0's rmse: 1688.18\n",
      "[32]\tvalid_0's rmse: 1688.05\n",
      "[33]\tvalid_0's rmse: 1685.51\n",
      "[34]\tvalid_0's rmse: 1684.21\n",
      "[35]\tvalid_0's rmse: 1683.94\n",
      "[36]\tvalid_0's rmse: 1682.93\n",
      "[37]\tvalid_0's rmse: 1681.21\n",
      "[38]\tvalid_0's rmse: 1680.98\n",
      "[39]\tvalid_0's rmse: 1679.56\n",
      "[40]\tvalid_0's rmse: 1678.17\n",
      "[41]\tvalid_0's rmse: 1678.02\n",
      "[42]\tvalid_0's rmse: 1676.45\n",
      "[43]\tvalid_0's rmse: 1676.11\n",
      "[44]\tvalid_0's rmse: 1675.88\n",
      "[45]\tvalid_0's rmse: 1674.55\n",
      "[46]\tvalid_0's rmse: 1673.76\n",
      "[47]\tvalid_0's rmse: 1673.49\n",
      "[48]\tvalid_0's rmse: 1673.13\n",
      "[49]\tvalid_0's rmse: 1672.25\n",
      "[50]\tvalid_0's rmse: 1672.08\n",
      "[51]\tvalid_0's rmse: 1671.33\n",
      "[52]\tvalid_0's rmse: 1670.27\n",
      "[53]\tvalid_0's rmse: 1669.35\n",
      "[54]\tvalid_0's rmse: 1669.21\n",
      "[55]\tvalid_0's rmse: 1669.07\n",
      "[56]\tvalid_0's rmse: 1668.62\n",
      "[57]\tvalid_0's rmse: 1668.43\n",
      "[58]\tvalid_0's rmse: 1668.54\n",
      "[59]\tvalid_0's rmse: 1668.11\n",
      "[60]\tvalid_0's rmse: 1667.64\n",
      "[61]\tvalid_0's rmse: 1667.49\n",
      "[62]\tvalid_0's rmse: 1667.17\n",
      "[63]\tvalid_0's rmse: 1666.96\n",
      "[64]\tvalid_0's rmse: 1666.68\n",
      "[65]\tvalid_0's rmse: 1666.09\n",
      "[66]\tvalid_0's rmse: 1665.81\n",
      "[67]\tvalid_0's rmse: 1665.6\n",
      "[68]\tvalid_0's rmse: 1665.06\n",
      "[69]\tvalid_0's rmse: 1664.8\n",
      "[70]\tvalid_0's rmse: 1663.1\n",
      "[71]\tvalid_0's rmse: 1662.88\n",
      "[72]\tvalid_0's rmse: 1662.2\n",
      "[73]\tvalid_0's rmse: 1662.38\n",
      "[74]\tvalid_0's rmse: 1662.26\n",
      "[75]\tvalid_0's rmse: 1662.37\n",
      "Early stopping, best iteration is:\n",
      "[72]\tvalid_0's rmse: 1662.2\n",
      "Waktu untuk melatih model: 10.523 detik\n"
     ]
    }
   ],
   "source": [
    "# Waktu awal\n",
    "time_start = time.time()\n",
    "\n",
    "# Persiapkan preprocessor\n",
    "features_lgb = pd.DataFrame(preprocessor_boost.fit_transform(features), columns=features.columns)\n",
    "target_lgb = target.copy()\n",
    "\n",
    "# Bagi dataset untuk lgbm\n",
    "X_train_lgb, X_test_lgb, y_train_lgb, y_test_lgb = train_test_split(features_lgb, target_lgb, test_size=0.2, random_state=75)\n",
    "\n",
    "# Transformasi dataset ke format lgbm\n",
    "train_data = lgb.Dataset(data=X_train_lgb, label=y_train_lgb, feature_name=list(features_lgb.columns), categorical_feature=list(cat_col))\n",
    "test_data = lgb.Dataset(data=X_test_lgb, label=y_test_lgb, feature_name=list(features_lgb.columns), categorical_feature=list(cat_col))\n",
    "\n",
    "# Mendefinisikan parameter lgbm\n",
    "param_lgb = {\n",
    "    'objective': 'regression',\n",
    "    'metric': 'rmse',\n",
    "    'boosting_type': 'gbdt',\n",
    "    'num_leaves': 31,\n",
    "    'learning_rate': 0.2,\n",
    "    'verbose': -1\n",
    "}\n",
    "\n",
    "# Melatih model lgbm\n",
    "lgbm_model = lgb.train(\n",
    "    params=param_lgb,\n",
    "    train_set=train_data,\n",
    "    num_boost_round=200,\n",
    "    valid_sets=[test_data], \n",
    "    early_stopping_rounds=3\n",
    ")\n",
    "\n",
    "# Waktu akhir\n",
    "time_end = time.time()\n",
    "diff_fit_lgb = np.round(time_end - time_start, 3)\n",
    "print('Waktu untuk melatih model:', f'{diff_fit_lgb}', 'detik')"
   ]
  },
  {
   "cell_type": "markdown",
   "metadata": {},
   "source": [
    "### Model 5: CatBoost"
   ]
  },
  {
   "cell_type": "markdown",
   "metadata": {},
   "source": [
    "Model ini berbeda dari semua model yang ada dimana kita tidak perlu melakukan pengkategorian untuk data `kategori` maupun mengisi nilai yang hilang pada kolom `numerik`. Adapun proses kerja untuk `CatBoost` sebagai berikut:\n",
    "1. Melakukan teknik pemrosesan data terhadap `nilai yang hilang` dan `data kategorik`.\n",
    "2. Kita tidak perlu melakukan pengisian nilai yang hilang untuk data `numerik`, nilai yang hilang akan diproses secara otomatis di dalam `catboost`, sedangkan data `kategorik` kita perlu mendefinisikan secara manual menggunakan `most_frequent`.\n",
    "4. Preprocessing data `kategorik` dilakukan menggunakan `Pipeline`.\n",
    "5. Kita menggunakan `early_stopping` untuk mencegah terjadinya pemborosan `waktu komputasi`.\n",
    "5. Tahap pelatihan dan perhitungan `waktu pelatihan (preprocessing + training)` yang dilakukan perhitungan `waktu prediksi`.\n",
    "6. Perhitungan skor RMSE untuk data `test` dan juga `cross validation`."
   ]
  },
  {
   "cell_type": "code",
   "execution_count": 24,
   "metadata": {},
   "outputs": [
    {
     "data": {
      "application/vnd.jupyter.widget-view+json": {
       "model_id": "877aff90e30742b6a00aa8fd09440b76",
       "version_major": 2,
       "version_minor": 0
      },
      "text/plain": [
       "MetricVisualizer(layout=Layout(align_self='stretch', height='500px'))"
      ]
     },
     "metadata": {},
     "output_type": "display_data"
    },
    {
     "name": "stdout",
     "output_type": "stream",
     "text": [
      "0:\tlearn: 3781.4224099\ttest: 3790.4487217\tbest: 3790.4487217 (0)\ttotal: 456ms\tremaining: 7m 35s\n",
      "200:\tlearn: 1597.6977223\ttest: 1647.0286126\tbest: 1647.0286126 (200)\ttotal: 1m 1s\tremaining: 4m 5s\n",
      "400:\tlearn: 1530.9481012\ttest: 1615.1600499\tbest: 1615.1600499 (400)\ttotal: 2m 4s\tremaining: 3m 6s\n",
      "Stopped by overfitting detector  (3 iterations wait)\n",
      "\n",
      "bestTest = 1610.092539\n",
      "bestIteration = 460\n",
      "\n",
      "Shrink model to first 461 iterations.\n",
      "Waktu untuk melatih model: 147.708 detik\n"
     ]
    }
   ],
   "source": [
    "# transformasi untuk memperbaiki nilai yang hilang pada model catboost\n",
    "cat_cbt = Pipeline(steps=[('imputer',SimpleImputer(strategy='most_frequent')),])\n",
    "preprocessor_cat = ColumnTransformer(transformers=[('cat',cat_cbt, cat_col)])\n",
    "\n",
    "# start time\n",
    "time_start = time.time()\n",
    "\n",
    "# menduplikasi fitur dan target \n",
    "transformed = pd.DataFrame(preprocessor_cat.fit_transform(features),columns=cat_col)    # mengisi nilai kategorik yang hilang\n",
    "features_cbt = features.copy()                                                          # membuat duplikasi fitur\n",
    "for col in cat_col:                                                                     \n",
    "    features_cbt[col] = transformed[col]                                                # mereplace kolom kategorik pada duplikasi fitur\n",
    "    features_cbt[col] = features_cbt[col].astype('category')                            # mengubah tipe object menjadi category\n",
    "target_cbt = target.copy()                                                              # menduplikasi target\n",
    "\n",
    "# membagi dataset menjadi train dan test untuk catboost\n",
    "X_train_cbt, X_test_cbt, y_train_cbt, y_test_cbt = train_test_split(features_cbt, target_cbt, test_size=0.2, random_state=75)\n",
    "\n",
    "# melakukan pooling dataset\n",
    "full_pool = Pool(data=features_cbt, label=target_cbt, cat_features=list(cat_col))\n",
    "train_pool = Pool(data=X_train_cbt, label=y_train_cbt, cat_features=list(cat_col))\n",
    "test_pool = Pool(data=X_test_cbt, label=y_test_cbt, cat_features=list(cat_col))\n",
    "\n",
    "# mendefinisikan model catboost\n",
    "regcat_model = CatBoostRegressor(\n",
    "    iterations=1000,\n",
    "    learning_rate=0.3,\n",
    "    cat_features=list(cat_col),\n",
    "    objective='RMSE',\n",
    "    early_stopping_rounds=5,\n",
    "    verbose=200\n",
    ")\n",
    "\n",
    "# melatih model catboost\n",
    "regcat_model.fit(\n",
    "    train_pool,                 # fitur dan target train\n",
    "    eval_set=test_pool,         # fitur dan target test   \n",
    "    plot=True,\n",
    "    early_stopping_rounds=3\n",
    ")\n",
    "\n",
    "# end time\n",
    "time_end = time.time()\n",
    "diff_fit_cbt = np.round(time_end -  time_start, 3)\n",
    "print('Waktu untuk melatih model:', f'{diff_fit_cbt}','detik')"
   ]
  },
  {
   "cell_type": "markdown",
   "metadata": {},
   "source": [
    "## Analisis Model"
   ]
  },
  {
   "cell_type": "markdown",
   "metadata": {},
   "source": [
    "Pada sub pembahasan ini kita akan mengetahui `waktu prediksi`, `waktu pemrosesan total`, hasil `skor RMSE prediksi` menggunakan dataset `test` dan juga `hasil skor RMSE` menggunakan `cross validation`."
   ]
  },
  {
   "cell_type": "markdown",
   "metadata": {},
   "source": [
    "### Model 1: Regresi Linier"
   ]
  },
  {
   "cell_type": "code",
   "execution_count": 25,
   "metadata": {},
   "outputs": [],
   "source": [
    "# membuat skor RMSE\n",
    "def RMSE(true,pred):\n",
    "    mse = mean_squared_error(true,pred)\n",
    "    return np.sqrt(mse)\n",
    "\n",
    "RMSE_score = make_scorer(RMSE)"
   ]
  },
  {
   "cell_type": "code",
   "execution_count": 26,
   "metadata": {},
   "outputs": [
    {
     "name": "stdout",
     "output_type": "stream",
     "text": [
      "Waktu untuk predicting: 0.636 detik\n",
      "Total waktu linreg: 15.315 detik\n"
     ]
    }
   ],
   "source": [
    "# menghitung waktu untuk prediksi regresi linier\n",
    "time_start = time.time()\n",
    "predict_train_lr =  linereg_pipe.predict(features_train)\n",
    "predict_test_lr =  linereg_pipe.predict(features_test)\n",
    "time_end = time.time()\n",
    "diff_pred_linreg = np.round(time_end -  time_start, 3)\n",
    "total_linreg = np.round(diff_fit_linreg + diff_pred_linreg, 3) \n",
    "print('Waktu untuk predicting:', f'{diff_pred_linreg}','detik')\n",
    "print('Total waktu linreg:', f'{total_linreg}','detik')"
   ]
  },
  {
   "cell_type": "code",
   "execution_count": 27,
   "metadata": {},
   "outputs": [
    {
     "name": "stdout",
     "output_type": "stream",
     "text": [
      "RMSE test linreg: 2765.14\n",
      "RMSE cross linreg: 2790.6\n"
     ]
    }
   ],
   "source": [
    "# menghitung skor RMSE menggunakan cross validation\n",
    "cross_linreg = cross_val_score(lr_model,preprocessor_linreg.fit_transform(features),target,cv=3,scoring=RMSE_score)\n",
    "cross_linreg = np.mean(cross_linreg).round(2)\n",
    "pred_linreg = np.sqrt(mean_squared_error(target_test,predict_test_lr)).round(2)\n",
    "print('RMSE test linreg:',pred_linreg)\n",
    "print('RMSE cross linreg:',cross_linreg)"
   ]
  },
  {
   "cell_type": "markdown",
   "metadata": {},
   "source": [
    "### Model 2: Random Forest"
   ]
  },
  {
   "cell_type": "code",
   "execution_count": 28,
   "metadata": {},
   "outputs": [
    {
     "name": "stdout",
     "output_type": "stream",
     "text": [
      "Waktu untuk predicting: 1.145 detik\n",
      "Total waktu random forest: 14.11 detik\n"
     ]
    }
   ],
   "source": [
    "# menghitung waktu untuk prediksi random forest\n",
    "time_start = time.time()\n",
    "predict_train_rf =  rf_pipe.predict(features_train)\n",
    "predict_test_rf =  rf_pipe.predict(features_test)\n",
    "time_end = time.time()\n",
    "diff_pred_rf = np.round(time_end -  time_start, 3)\n",
    "total_rf = np.round(diff_fit_rf + diff_pred_rf, 3) \n",
    "print('Waktu untuk predicting:', f'{diff_pred_rf}','detik')\n",
    "print('Total waktu random forest:', f'{total_rf}','detik')"
   ]
  },
  {
   "cell_type": "code",
   "execution_count": 29,
   "metadata": {},
   "outputs": [
    {
     "name": "stdout",
     "output_type": "stream",
     "text": [
      "RMSE test rf: 1908.9\n",
      "RMSE cross rf: 1915.61\n"
     ]
    }
   ],
   "source": [
    "# menghitung skor RMSE menggunakan cross validation\n",
    "cross_rf = cross_val_score(rf_model,preprocessor_boost.fit_transform(features),target,cv=3,scoring=RMSE_score)\n",
    "cross_rf = np.mean(cross_rf).round(2)\n",
    "pred_rf = np.sqrt(mean_squared_error(target_test,predict_test_rf)).round(2)\n",
    "print('RMSE test rf:',pred_rf)\n",
    "print('RMSE cross rf:',cross_rf)"
   ]
  },
  {
   "cell_type": "markdown",
   "metadata": {},
   "source": [
    "### Model 3: XGBoost"
   ]
  },
  {
   "cell_type": "code",
   "execution_count": 30,
   "metadata": {},
   "outputs": [
    {
     "name": "stdout",
     "output_type": "stream",
     "text": [
      "Waktu untuk predicting: 12.062 detik\n",
      "Total waktu xgb: 451.86 detik\n"
     ]
    }
   ],
   "source": [
    "# menghitung waktu untuk prediksi xgboost\n",
    "time_start = time.time()\n",
    "predict_train_xgb =  xgb_pipe.predict(features_train)\n",
    "predict_test_xgb =  xgb_pipe.predict(features_test)\n",
    "time_end = time.time()\n",
    "diff_pred_xgb = np.round(time_end -  time_start, 3)\n",
    "total_xgb = np.round(diff_fit_xgb + diff_pred_xgb, 3)\n",
    "print('Waktu untuk predicting:', f'{diff_pred_xgb}','detik')\n",
    "print('Total waktu xgb:', f'{total_xgb}','detik')"
   ]
  },
  {
   "cell_type": "code",
   "execution_count": 31,
   "metadata": {},
   "outputs": [
    {
     "name": "stdout",
     "output_type": "stream",
     "text": [
      "RMSE test xgboost: 1579.07\n",
      "RMSE cross xgboost: 1583.94\n"
     ]
    }
   ],
   "source": [
    "# menghitung skor RMSE untuk dataset training dan dataset test menggunakan cross validation\n",
    "params = {\n",
    "        'eval_set':[(transform_features_train, target_train),(transform_features_test, target_test)], \n",
    "        'verbose': False\n",
    "}\n",
    "\n",
    "# menjalankan cross validation\n",
    "cross_xgb = cross_val_score(\n",
    "    XGBRegressor(learning_rate=0.1,n_estimators=xgb_model.best_ntree_limit,eval_metric='rmse'),\n",
    "    preprocessor_boost.fit_transform(features),\n",
    "    target,\n",
    "    cv=3,\n",
    "    fit_params=params,\n",
    "    scoring=RMSE_score)\n",
    "cross_xgb = np.mean(cross_xgb).round(2)\n",
    "pred_xgb = np.sqrt(mean_squared_error(target_test,predict_test_xgb)).round(2)\n",
    "print('RMSE test xgboost:',pred_xgb)\n",
    "print('RMSE cross xgboost:',cross_xgb)"
   ]
  },
  {
   "cell_type": "markdown",
   "metadata": {},
   "source": [
    "### Model 4: LightGBM"
   ]
  },
  {
   "cell_type": "code",
   "execution_count": 32,
   "metadata": {},
   "outputs": [
    {
     "name": "stdout",
     "output_type": "stream",
     "text": [
      "Waktu untuk predicting: 5.014 detik\n",
      "Total waktu lgbm: 15.537 detik\n"
     ]
    }
   ],
   "source": [
    "# menghitung waktu untuk prediksi lgbm\n",
    "time_start = time.time()\n",
    "predict_train_lgb =  lgbm_model.predict(X_train_lgb)\n",
    "predict_test_lgb =  lgbm_model.predict(X_test_lgb)\n",
    "time_end = time.time()\n",
    "diff_pred_lgb = np.round(time_end -  time_start, 3)\n",
    "total_lgb = np.round(diff_fit_lgb + diff_pred_lgb, 3)\n",
    "print('Waktu untuk predicting:', f'{diff_pred_lgb}','detik')\n",
    "print('Total waktu lgbm:', f'{total_lgb}','detik')"
   ]
  },
  {
   "cell_type": "code",
   "execution_count": 33,
   "metadata": {},
   "outputs": [
    {
     "name": "stderr",
     "output_type": "stream",
     "text": [
      "/opt/conda/lib/python3.9/site-packages/lightgbm/engine.py:181: UserWarning: 'early_stopping_rounds' argument is deprecated and will be removed in a future release of LightGBM. Pass 'early_stopping()' callback via 'callbacks' argument instead.\n",
      "  _log_warning(\"'early_stopping_rounds' argument is deprecated and will be removed in a future release of LightGBM. \"\n",
      "/opt/conda/lib/python3.9/site-packages/lightgbm/basic.py:2065: UserWarning: Using categorical_feature in Dataset.\n",
      "  _log_warning('Using categorical_feature in Dataset.')\n",
      "/opt/conda/lib/python3.9/site-packages/lightgbm/engine.py:239: UserWarning: 'verbose_eval' argument is deprecated and will be removed in a future release of LightGBM. Pass 'log_evaluation()' callback via 'callbacks' argument instead.\n",
      "  _log_warning(\"'verbose_eval' argument is deprecated and will be removed in a future release of LightGBM. \"\n"
     ]
    },
    {
     "name": "stdout",
     "output_type": "stream",
     "text": [
      "[LightGBM] [Warning] Met categorical feature which contains sparse values. Consider renumbering to consecutive integers started from zero\n"
     ]
    },
    {
     "name": "stderr",
     "output_type": "stream",
     "text": [
      "/opt/conda/lib/python3.9/site-packages/lightgbm/basic.py:1780: UserWarning: Overriding the parameters from Reference Dataset.\n",
      "  _log_warning('Overriding the parameters from Reference Dataset.')\n",
      "/opt/conda/lib/python3.9/site-packages/lightgbm/basic.py:1513: UserWarning: categorical_column in param dict is overridden.\n",
      "  _log_warning(f'{cat_alias} in param dict is overridden.')\n"
     ]
    },
    {
     "name": "stdout",
     "output_type": "stream",
     "text": [
      "Training until validation scores don't improve for 3 rounds\n",
      "Early stopping, best iteration is:\n",
      "[74]\tvalid_0's rmse: 1680.9\n"
     ]
    },
    {
     "name": "stderr",
     "output_type": "stream",
     "text": [
      "/opt/conda/lib/python3.9/site-packages/lightgbm/engine.py:181: UserWarning: 'early_stopping_rounds' argument is deprecated and will be removed in a future release of LightGBM. Pass 'early_stopping()' callback via 'callbacks' argument instead.\n",
      "  _log_warning(\"'early_stopping_rounds' argument is deprecated and will be removed in a future release of LightGBM. \"\n",
      "/opt/conda/lib/python3.9/site-packages/lightgbm/basic.py:2065: UserWarning: Using categorical_feature in Dataset.\n",
      "  _log_warning('Using categorical_feature in Dataset.')\n",
      "/opt/conda/lib/python3.9/site-packages/lightgbm/engine.py:239: UserWarning: 'verbose_eval' argument is deprecated and will be removed in a future release of LightGBM. Pass 'log_evaluation()' callback via 'callbacks' argument instead.\n",
      "  _log_warning(\"'verbose_eval' argument is deprecated and will be removed in a future release of LightGBM. \"\n"
     ]
    },
    {
     "name": "stdout",
     "output_type": "stream",
     "text": [
      "[LightGBM] [Warning] Met categorical feature which contains sparse values. Consider renumbering to consecutive integers started from zero\n"
     ]
    },
    {
     "name": "stderr",
     "output_type": "stream",
     "text": [
      "/opt/conda/lib/python3.9/site-packages/lightgbm/basic.py:1780: UserWarning: Overriding the parameters from Reference Dataset.\n",
      "  _log_warning('Overriding the parameters from Reference Dataset.')\n",
      "/opt/conda/lib/python3.9/site-packages/lightgbm/basic.py:1513: UserWarning: categorical_column in param dict is overridden.\n",
      "  _log_warning(f'{cat_alias} in param dict is overridden.')\n"
     ]
    },
    {
     "name": "stdout",
     "output_type": "stream",
     "text": [
      "Training until validation scores don't improve for 3 rounds\n",
      "Early stopping, best iteration is:\n",
      "[78]\tvalid_0's rmse: 1667.01\n"
     ]
    },
    {
     "name": "stderr",
     "output_type": "stream",
     "text": [
      "/opt/conda/lib/python3.9/site-packages/lightgbm/engine.py:181: UserWarning: 'early_stopping_rounds' argument is deprecated and will be removed in a future release of LightGBM. Pass 'early_stopping()' callback via 'callbacks' argument instead.\n",
      "  _log_warning(\"'early_stopping_rounds' argument is deprecated and will be removed in a future release of LightGBM. \"\n",
      "/opt/conda/lib/python3.9/site-packages/lightgbm/basic.py:2065: UserWarning: Using categorical_feature in Dataset.\n",
      "  _log_warning('Using categorical_feature in Dataset.')\n",
      "/opt/conda/lib/python3.9/site-packages/lightgbm/engine.py:239: UserWarning: 'verbose_eval' argument is deprecated and will be removed in a future release of LightGBM. Pass 'log_evaluation()' callback via 'callbacks' argument instead.\n",
      "  _log_warning(\"'verbose_eval' argument is deprecated and will be removed in a future release of LightGBM. \"\n"
     ]
    },
    {
     "name": "stdout",
     "output_type": "stream",
     "text": [
      "[LightGBM] [Warning] Met categorical feature which contains sparse values. Consider renumbering to consecutive integers started from zero\n"
     ]
    },
    {
     "name": "stderr",
     "output_type": "stream",
     "text": [
      "/opt/conda/lib/python3.9/site-packages/lightgbm/basic.py:1780: UserWarning: Overriding the parameters from Reference Dataset.\n",
      "  _log_warning('Overriding the parameters from Reference Dataset.')\n",
      "/opt/conda/lib/python3.9/site-packages/lightgbm/basic.py:1513: UserWarning: categorical_column in param dict is overridden.\n",
      "  _log_warning(f'{cat_alias} in param dict is overridden.')\n"
     ]
    },
    {
     "name": "stdout",
     "output_type": "stream",
     "text": [
      "Training until validation scores don't improve for 3 rounds\n",
      "Early stopping, best iteration is:\n",
      "[68]\tvalid_0's rmse: 1672.32\n",
      "RSME test lgbm: 1673.41\n",
      "RSME cross lgbm: [1680.898293668047, 1667.0084652093346, 1672.323637087767]\n"
     ]
    }
   ],
   "source": [
    "import lightgbm as lgb\n",
    "from sklearn.model_selection import KFold\n",
    "\n",
    "# Mendefinisikan parameter cross-validation\n",
    "param_lgb = {\n",
    "    'objective': 'regression',\n",
    "    'metric': 'rmse',\n",
    "    'boosting_type': 'gbdt',\n",
    "    'num_leaves': 31,\n",
    "    'learning_rate': 0.3,\n",
    "    'verbose': -1\n",
    "}\n",
    "\n",
    "# Menggunakan KFold sebagai metode cross-validation\n",
    "kf = KFold(n_splits=3, shuffle=True, random_state=42)\n",
    "\n",
    "# Inisialisasi variabel untuk menyimpan skor validasi\n",
    "cv_scores = []\n",
    "\n",
    "# Melakukan cross-validation\n",
    "for train_index, val_index in kf.split(features_lgb):\n",
    "    X_train, X_val = features_lgb.iloc[train_index], features_lgb.iloc[val_index]\n",
    "    y_train, y_val = target_lgb.iloc[train_index], target_lgb.iloc[val_index]\n",
    "    \n",
    "    # Transformasi dataset ke format lgbm\n",
    "    train_data = lgb.Dataset(data=X_train, label=y_train, feature_name=list(features_lgb.columns), categorical_feature=list(cat_col))\n",
    "    val_data = lgb.Dataset(data=X_val, label=y_val, feature_name=list(features_lgb.columns), categorical_feature=list(cat_col))\n",
    "\n",
    "    # Melatih model lgbm\n",
    "    lgbm_model = lgb.train(\n",
    "        params=param_lgb,\n",
    "        train_set=train_data,\n",
    "        num_boost_round=200,\n",
    "        valid_sets=[val_data],\n",
    "        early_stopping_rounds=3,\n",
    "        verbose_eval=100\n",
    "    )\n",
    "    \n",
    "    # Menghitung dan menyimpan skor validasi\n",
    "    val_preds = lgbm_model.predict(X_val, num_iteration=lgbm_model.best_iteration)\n",
    "    val_rmse = np.sqrt(mean_squared_error(y_val, val_preds))\n",
    "    cv_scores.append(val_rmse)\n",
    "\n",
    "# Menampilkan hasil cross-validation\n",
    "print('RSME test lgbm:', np.mean(cv_scores).round(2))\n",
    "print('RSME cross lgbm:', cv_scores)\n"
   ]
  },
  {
   "cell_type": "markdown",
   "metadata": {},
   "source": [
    "### Model 5: CatBoost"
   ]
  },
  {
   "cell_type": "code",
   "execution_count": 34,
   "metadata": {},
   "outputs": [
    {
     "name": "stdout",
     "output_type": "stream",
     "text": [
      "Waktu untuk predicting: 1.557 detik\n",
      "Total waktu cbt: 149.265 detik\n"
     ]
    }
   ],
   "source": [
    "# menghitung waktu untuk prediksi catboost\n",
    "time_start = time.time()\n",
    "predict_train_cbt =  regcat_model.predict(X_train_cbt)\n",
    "predict_test_cbt =  regcat_model.predict(X_test_cbt)\n",
    "time_end = time.time()\n",
    "diff_pred_cbt = np.round(time_end -  time_start, 3)\n",
    "total_cbt = np.round(diff_fit_cbt + diff_pred_cbt, 3)\n",
    "print('Waktu untuk predicting:', f'{diff_pred_cbt}','detik')\n",
    "print('Total waktu cbt:', f'{total_cbt}','detik')"
   ]
  },
  {
   "cell_type": "code",
   "execution_count": 35,
   "metadata": {},
   "outputs": [
    {
     "name": "stdout",
     "output_type": "stream",
     "text": [
      "Training on fold [0/3]\n",
      "0:\tlearn: 5244.3404763\ttest: 5227.5612082\tbest: 5227.5612082 (0)\ttotal: 374ms\tremaining: 6m 13s\n",
      "100:\tlearn: 1675.0418585\ttest: 1684.4172587\tbest: 1684.4172587 (100)\ttotal: 27.5s\tremaining: 4m 5s\n",
      "200:\tlearn: 1606.7409432\ttest: 1643.2233201\tbest: 1643.2233201 (200)\ttotal: 53.3s\tremaining: 3m 31s\n",
      "\n",
      "bestTest = 1636.291363\n",
      "bestIteration = 234\n",
      "\n",
      "Training on fold [1/3]\n",
      "0:\tlearn: 5228.8974149\ttest: 5250.5131649\tbest: 5250.5131649 (0)\ttotal: 350ms\tremaining: 5m 49s\n",
      "100:\tlearn: 1667.7263553\ttest: 1686.2819238\tbest: 1686.2819238 (100)\ttotal: 27.8s\tremaining: 4m 7s\n",
      "\n",
      "bestTest = 1657.78897\n",
      "bestIteration = 159\n",
      "\n",
      "Training on fold [2/3]\n",
      "0:\tlearn: 5237.3258842\ttest: 5231.5589844\tbest: 5231.5589844 (0)\ttotal: 342ms\tremaining: 5m 41s\n",
      "100:\tlearn: 1658.1383140\ttest: 1718.3373343\tbest: 1718.3373343 (100)\ttotal: 27.7s\tremaining: 4m 6s\n",
      "200:\tlearn: 1591.6210139\ttest: 1675.0887023\tbest: 1675.0887023 (200)\ttotal: 55s\tremaining: 3m 38s\n",
      "\n",
      "bestTest = 1664.55862\n",
      "bestIteration = 246\n",
      "\n"
     ]
    }
   ],
   "source": [
    "# mendefinisikan parameter cross validation\n",
    "param_cbt = {\n",
    "    'iterations': 1000,\n",
    "    'learning_rate': 0.3,\n",
    "    'loss_function': 'RMSE',\n",
    "    'eval_metric': 'RMSE',   \n",
    "    'cat_features': list(cat_col), \n",
    "    'early_stopping_rounds': 3, \n",
    "    'verbose': 100             \n",
    "}\n",
    "\n",
    "# menjalankan cross validation\n",
    "cross_cbt = cv(full_pool,nfold=3,params=param_cbt)"
   ]
  },
  {
   "cell_type": "code",
   "execution_count": 36,
   "metadata": {},
   "outputs": [
    {
     "name": "stdout",
     "output_type": "stream",
     "text": [
      "RMSE test catboost: 1610.09\n",
      "RMSE cross catboost: 1652.33\n"
     ]
    }
   ],
   "source": [
    "# menghitung skor RMSE untuk full data menggunakan cross validation\n",
    "ave_cross_cbt = np.mean([1636,1657,1664]).round(2)\n",
    "pred_cat = np.sqrt(mean_squared_error(y_test_cbt,predict_test_cbt)).round(2)\n",
    "print('RMSE test catboost:',pred_cat)\n",
    "print('RMSE cross catboost:',ave_cross_cbt)"
   ]
  },
  {
   "cell_type": "markdown",
   "metadata": {},
   "source": [
    "## Model Komparasi"
   ]
  },
  {
   "cell_type": "code",
   "execution_count": 38,
   "metadata": {},
   "outputs": [
    {
     "data": {
      "text/html": [
       "<div>\n",
       "<style scoped>\n",
       "    .dataframe tbody tr th:only-of-type {\n",
       "        vertical-align: middle;\n",
       "    }\n",
       "\n",
       "    .dataframe tbody tr th {\n",
       "        vertical-align: top;\n",
       "    }\n",
       "\n",
       "    .dataframe thead th {\n",
       "        text-align: right;\n",
       "    }\n",
       "</style>\n",
       "<table border=\"1\" class=\"dataframe\">\n",
       "  <thead>\n",
       "    <tr style=\"text-align: right;\">\n",
       "      <th></th>\n",
       "      <th>fit time</th>\n",
       "      <th>pred time</th>\n",
       "      <th>total time</th>\n",
       "      <th>RMSE-test</th>\n",
       "      <th>RMSE-crossval</th>\n",
       "    </tr>\n",
       "  </thead>\n",
       "  <tbody>\n",
       "    <tr>\n",
       "      <th>Linear Regression</th>\n",
       "      <td>14.679</td>\n",
       "      <td>1.557</td>\n",
       "      <td>15.315</td>\n",
       "      <td>2765.14</td>\n",
       "      <td>2790.600000</td>\n",
       "    </tr>\n",
       "    <tr>\n",
       "      <th>Random Forest</th>\n",
       "      <td>12.965</td>\n",
       "      <td>1.145</td>\n",
       "      <td>14.110</td>\n",
       "      <td>1908.9</td>\n",
       "      <td>1915.610000</td>\n",
       "    </tr>\n",
       "    <tr>\n",
       "      <th>XGBoost</th>\n",
       "      <td>439.798</td>\n",
       "      <td>12.062</td>\n",
       "      <td>451.860</td>\n",
       "      <td>1579.07</td>\n",
       "      <td>1583.940000</td>\n",
       "    </tr>\n",
       "    <tr>\n",
       "      <th>LightGBM</th>\n",
       "      <td>10.523</td>\n",
       "      <td>5.014</td>\n",
       "      <td>15.537</td>\n",
       "      <td>[2221.026254541418, 2517.850939551186, 2854.48...</td>\n",
       "      <td>1672.323637</td>\n",
       "    </tr>\n",
       "    <tr>\n",
       "      <th>CatBoost</th>\n",
       "      <td>147.708</td>\n",
       "      <td>1.557</td>\n",
       "      <td>149.265</td>\n",
       "      <td>1610.09</td>\n",
       "      <td>1652.330000</td>\n",
       "    </tr>\n",
       "  </tbody>\n",
       "</table>\n",
       "</div>"
      ],
      "text/plain": [
       "                   fit time  pred time  total time  \\\n",
       "Linear Regression    14.679      1.557      15.315   \n",
       "Random Forest        12.965      1.145      14.110   \n",
       "XGBoost             439.798     12.062     451.860   \n",
       "LightGBM             10.523      5.014      15.537   \n",
       "CatBoost            147.708      1.557     149.265   \n",
       "\n",
       "                                                           RMSE-test  \\\n",
       "Linear Regression                                            2765.14   \n",
       "Random Forest                                                 1908.9   \n",
       "XGBoost                                                      1579.07   \n",
       "LightGBM           [2221.026254541418, 2517.850939551186, 2854.48...   \n",
       "CatBoost                                                     1610.09   \n",
       "\n",
       "                   RMSE-crossval  \n",
       "Linear Regression    2790.600000  \n",
       "Random Forest        1915.610000  \n",
       "XGBoost              1583.940000  \n",
       "LightGBM             1672.323637  \n",
       "CatBoost             1652.330000  "
      ]
     },
     "execution_count": 38,
     "metadata": {},
     "output_type": "execute_result"
    }
   ],
   "source": [
    "# membuat tabel komparasi\n",
    "table_comp = pd.DataFrame(data = {\n",
    "    'fit time': [diff_fit_linreg, diff_fit_rf, diff_fit_xgb, diff_fit_lgb, diff_fit_cbt],\n",
    "    'pred time': [diff_pred_cbt, diff_pred_rf, diff_pred_xgb, diff_pred_lgb, diff_pred_cbt],\n",
    "    'total time': [total_linreg, total_rf, total_xgb, total_lgb, total_cbt],\n",
    "    'RMSE-test': [pred_linreg, pred_rf, pred_xgb, val_preds, pred_cat],\n",
    "    'RMSE-crossval': [cross_linreg, cross_rf, cross_xgb, val_rmse, ave_cross_cbt]\n",
    "}, index=['Linear Regression','Random Forest','XGBoost','LightGBM','CatBoost'])\n",
    "\n",
    "# menampilkan tabel komparasi\n",
    "table_comp"
   ]
  },
  {
   "cell_type": "markdown",
   "metadata": {},
   "source": [
    "Dari data terlihat bahwa:\n",
    "    \n",
    "**1. Linear Regression:**\n",
    "- Waktu Pelatihan (fit time): 15.377 detik\n",
    "- Waktu Prediksi (pred time): 1.580 detik\n",
    "- Total Waktu (total time): 16.003 detik\n",
    "- RMSE pada Data Uji (RMSE-test): 2765.14\n",
    "- RMSE pada Cross-Validation (RMSE-crossval): 2790.60\n",
    "\n",
    "**2. Random Forest:**\n",
    "- Waktu Pelatihan (fit time): 14.069 detik\n",
    "- Waktu Prediksi (pred time): 1.075 detik\n",
    "- Total Waktu (total time): 15.144 detik\n",
    "- RMSE pada Data Uji (RMSE-test): 1908.64\n",
    "- RMSE pada Cross-Validation (RMSE-crossval): 1914.71\n",
    "\n",
    "**3. XGBoost:**\n",
    "- Waktu Pelatihan (fit time): 345.668 detik\n",
    "- Waktu Prediksi (pred time): 11.965 detik\n",
    "- Total Waktu (total time): 357.633 detik\n",
    "- RMSE pada Data Uji (RMSE-test): 1579.07\n",
    "- RMSE pada Cross-Validation (RMSE-crossval): 1583.94\n",
    "\n",
    "**4. LightGBM:**\n",
    "- Waktu Pelatihan (fit time): 15.504 detik\n",
    "- Waktu Prediksi (pred time): 5.544 detik\n",
    "- Total Waktu (total time): 15.357 detik\n",
    "- RMSE pada Data Uji (RMSE-test): 1672.32\n",
    "- RMSE pada Cross-Validation (RMSE-crossval): 1722.31\n",
    "\n",
    "**5. CatBoost:**\n",
    "- Waktu Pelatihan (fit time): 147.883 detik\n",
    "- Waktu Prediksi (pred time): 1.580 detik\n",
    "- Total Waktu (total time): 149.463 detik\n",
    "- RMSE pada Data Uji (RMSE-test): 1610.09\n",
    "- RMSE pada Cross-Validation (RMSE-crossval): 1652.33\n",
    "\n",
    "**Ringkasan:**\n",
    "- Random Forest memiliki kinerja terbaik dalam hal RMSE pada data uji dan cross-validation, dengan waktu pelatihan yang relatif singkat.\n",
    "- LightGBM dan XGBoost memberikan hasil yang cukup baik, tetapi dengan waktu pelatihan yang lebih singkat dibandingkan dengan XGBoost.\n",
    "- Linear Regression memiliki RMSE yang lebih tinggi dan waktu pelatihan yang lebih cepat dibandingkan dengan model lainnya.\n",
    "- CatBoost menunjukkan performa yang baik tetapi dengan waktu pelatihan yang cukup tinggi.\n",
    "\n",
    "**Note: Hasil perhitungan bisa berubah ubah tergantung perangkat komputasinya**"
   ]
  },
  {
   "cell_type": "markdown",
   "metadata": {},
   "source": [
    "## Kesimpulan"
   ]
  },
  {
   "cell_type": "markdown",
   "metadata": {},
   "source": [
    "Setelah melakukan perbersihan data dan pengolahan data, dan mempertimbangkan hasil komparasi model maka dapat disimpulkan urutan model yang terbaik ke yang kurang baik nomor urut 1 - 5, sebagai berikut:\n",
    "\n",
    "**1. Random Forest:**\n",
    "- Kelebihan:\n",
    "  - Memberikan RMSE terendah pada data uji, menunjukkan kinerja prediksi yang baik.\n",
    "  - Waktu pelatihan yang relatif singkat, mengindikasikan efisiensi dalam pembelajaran.\n",
    "  \n",
    "- Catatan:\n",
    "Model Random Forest cenderung cocok untuk berbagai tipe data dan dapat memberikan hasil yang solid tanpa penyetelan parameter yang mendalam.\n",
    "\n",
    "**2. XGBoost:**\n",
    "- Kelebihan:\n",
    "  - Menyajikan RMSE yang baik pada data uji dan performa yang umumnya tinggi.\n",
    "  - Meskipun waktu pelatihan lebih lama dibandingkan dengan beberapa model lainnya, masih dapat dianggap efisien.\n",
    "\n",
    "- Catatan:\n",
    "XGBoost umumnya merupakan pilihan yang baik untuk masalah regresi dan klasifikasi, dengan kemampuan penanganan yang baik untuk dataset yang kompleks.\n",
    "\n",
    "**3. CatBoost:**\n",
    "- Kelebihan:\n",
    "  - Memberikan hasil yang baik pada data uji, menunjukkan kemampuan prediktif yang solid.\n",
    "  - Dapat menangani variabel kategorikal tanpa perlu pemrosesan tambahan.\n",
    "\n",
    "- Catatan:\n",
    "Meskipun memberikan hasil baik, waktu pelatihannya relatif lebih lama, yang mungkin menjadi pertimbangan terutama pada dataset besar.\n",
    "\n",
    "**4. LightGBM:**\n",
    "- Kelebihan:\n",
    "  - Menyajikan hasil yang cukup baik pada data uji.\n",
    "  - Memiliki keunggulan dalam kecepatan pelatihan karena struktur yang efisien.\n",
    "\n",
    "- Catatan:\n",
    "LightGBM sering digunakan pada dataset besar dan dalam skenario di mana efisiensi waktu pelatihan menjadi faktor kritis.\n",
    "\n",
    "**5. Linear Regression:**\n",
    "- Kelebihan:\n",
    "  - Memberikan hasil yang dapat diinterpretasikan dan memiliki waktu pelatihan yang cepat.\n",
    "\n",
    "- Catatan:\n",
    "RMSE yang lebih tinggi menunjukkan bahwa model ini mungkin kurang cocok untuk dataset yang kompleks atau non-linear."
   ]
  }
 ],
 "metadata": {
  "kernelspec": {
   "display_name": "Python 3 (ipykernel)",
   "language": "python",
   "name": "python3"
  },
  "language_info": {
   "codemirror_mode": {
    "name": "ipython",
    "version": 3
   },
   "file_extension": ".py",
   "mimetype": "text/x-python",
   "name": "python",
   "nbconvert_exporter": "python",
   "pygments_lexer": "ipython3",
   "version": "3.9.5"
  },
  "toc": {
   "base_numbering": 1,
   "nav_menu": {},
   "number_sections": true,
   "sideBar": true,
   "skip_h1_title": true,
   "title_cell": "Table of Contents",
   "title_sidebar": "Contents",
   "toc_cell": false,
   "toc_position": {
    "height": "calc(100% - 180px)",
    "left": "10px",
    "top": "150px",
    "width": "356px"
   },
   "toc_section_display": true,
   "toc_window_display": true
  }
 },
 "nbformat": 4,
 "nbformat_minor": 2
}
