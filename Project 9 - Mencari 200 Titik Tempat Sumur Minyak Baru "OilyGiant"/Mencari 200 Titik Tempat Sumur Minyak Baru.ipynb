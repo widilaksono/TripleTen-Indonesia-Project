{
 "cells": [
  {
   "cell_type": "markdown",
   "metadata": {},
   "source": [
    "## Pendahuluan"
   ]
  },
  {
   "cell_type": "markdown",
   "metadata": {},
   "source": [
    "**Study Case: Mencari Tempat Terbaik Untuk Mengembangkan 200 Titik Sumur Minyak Baru.**\n",
    "\n",
    "Saat ini,kami bekerja di perusahaan tambang OilyGiant. Dimana kami mempunyai tugas untuk mencari tempat terbaik guna mengembangkan 200 titik sumur minyak baru.\n",
    "\n",
    "Saat ini kami mempunyai sampel minyak dari tiga wilayah. Parameter setiap sumur minyak di wilayah tersebut sudah diketahui. \n",
    "\n",
    "Untuk menyelesaikan tugas ini, kami akan melakukan langkah-langkah berikut:\n",
    "- Membaca file dengan parameter yang dikumpulkan dari sumur-sumur minyak di wilayah terpilih: kualitas minyak dan volume cadangannya.\n",
    "- Buat sebuah model untuk memprediksi volume cadangan di sumur-sumur baru.\n",
    "- Pilih sumur minyak yang memiliki nilai estimasi tertinggi.\n",
    "- Pilih wilayah dengan total keuntungan tertinggi dari sumur minyak yang dipilih. (Menggunakan teknik bootstrapping)"
   ]
  },
  {
   "cell_type": "markdown",
   "metadata": {},
   "source": [
    "## Konten <a id='back'></a>\n",
    "\n",
    "* [1. Pendahuluan](#intro)\n",
    "* [2. Konten](#back)\n",
    "  * [2.1 Mempersiapkan Dataset](#cont_1)\n",
    "    * [2.1.1 Memuat Library](#cont_2) \n",
    "    * [2.1.2 Memuat Dataset](#cont_3)\n",
    "  * [2.2 Mengecek Nilai yang Hilang](#cont_4)\n",
    "  * [2.3 Mengecek Duplikasi Data](#cont_5)\n",
    "* [2.4 Pelatihan dan Uji Model](#cont_7)\n",
    "  * [2.4.1 Memisahkan Data Training Set dan Validation Set Ration 75:25](#cont_8)\n",
    "  * [2.4.2 Melatih Model dan Membuat Prediksi](#cont_9)\n",
    "  * [2.4.3 Menyimpan Prediksi dan Jawaban Yang Benar Untuk Validation Set](#cont_10)\n",
    "  * [2.4.4 Volume Rata-Rata dan RSME](#cont_11)\n",
    "  * [2.4.5 Hasil Analisa](#cont_12)\n",
    "* [2.5 Perhitungan Laba]((#cont_13) \n",
    "* [2.6 Menghitung Laba dari Masing-Masing Wilayah]((#cont_14)  \n",
    "* [2.7 Menghitung Risiko dan Keuntungan Setiap Wilayah](#cont_15)\n",
    "* [2.8 Kesimpulan Umum](#cont_16)"
   ]
  },
  {
   "cell_type": "markdown",
   "metadata": {},
   "source": [
    "### Mempersiapkan Dataset"
   ]
  },
  {
   "cell_type": "markdown",
   "metadata": {},
   "source": [
    "Tahap pertama yang perlu dilakukan adalah mempersiapkan dataset mulai dari memuat library yang diperlukan, memuat dataset , mengecek sampel data, mengecek nilai yang hilang, mengecek duplikat dan mengecek tipe data."
   ]
  },
  {
   "cell_type": "markdown",
   "metadata": {},
   "source": [
    "#### Memuat Library"
   ]
  },
  {
   "cell_type": "markdown",
   "metadata": {},
   "source": [
    "Sebelumnya kita akan menggunakan beberapa library berikut:\n",
    "- `Pandas`: Untuk manipulasi dan analisis data.\n",
    "- `Scikit-learn`: Untuk pemodelan dan evaluasi model.\n",
    "- `Matplotlib dan Seaborn`: Untuk visualisasi data.\n",
    "- `NumPy`: Untuk operasi matematika."
   ]
  },
  {
   "cell_type": "code",
   "execution_count": 118,
   "metadata": {},
   "outputs": [],
   "source": [
    "#Import Library\n",
    "import pandas as pd\n",
    "import numpy as np\n",
    "from sklearn.model_selection import train_test_split\n",
    "from sklearn.linear_model import LinearRegression\n",
    "from sklearn.metrics import mean_squared_error"
   ]
  },
  {
   "cell_type": "markdown",
   "metadata": {},
   "source": [
    "#### Memuat Dataset"
   ]
  },
  {
   "cell_type": "code",
   "execution_count": 119,
   "metadata": {},
   "outputs": [],
   "source": [
    "# Memuat Dataset\n",
    "data_0 = pd.read_csv('/datasets/geo_data_0.csv')\n",
    "data_1 = pd.read_csv('/datasets/geo_data_1.csv')\n",
    "data_2 = pd.read_csv('/datasets/geo_data_2.csv')\n"
   ]
  },
  {
   "cell_type": "code",
   "execution_count": 120,
   "metadata": {},
   "outputs": [
    {
     "name": "stdout",
     "output_type": "stream",
     "text": [
      "<class 'pandas.core.frame.DataFrame'>\n",
      "RangeIndex: 100000 entries, 0 to 99999\n",
      "Data columns (total 5 columns):\n",
      " #   Column   Non-Null Count   Dtype  \n",
      "---  ------   --------------   -----  \n",
      " 0   id       100000 non-null  object \n",
      " 1   f0       100000 non-null  float64\n",
      " 2   f1       100000 non-null  float64\n",
      " 3   f2       100000 non-null  float64\n",
      " 4   product  100000 non-null  float64\n",
      "dtypes: float64(4), object(1)\n",
      "memory usage: 3.8+ MB\n",
      "<class 'pandas.core.frame.DataFrame'>\n",
      "RangeIndex: 100000 entries, 0 to 99999\n",
      "Data columns (total 5 columns):\n",
      " #   Column   Non-Null Count   Dtype  \n",
      "---  ------   --------------   -----  \n",
      " 0   id       100000 non-null  object \n",
      " 1   f0       100000 non-null  float64\n",
      " 2   f1       100000 non-null  float64\n",
      " 3   f2       100000 non-null  float64\n",
      " 4   product  100000 non-null  float64\n",
      "dtypes: float64(4), object(1)\n",
      "memory usage: 3.8+ MB\n",
      "<class 'pandas.core.frame.DataFrame'>\n",
      "RangeIndex: 100000 entries, 0 to 99999\n",
      "Data columns (total 5 columns):\n",
      " #   Column   Non-Null Count   Dtype  \n",
      "---  ------   --------------   -----  \n",
      " 0   id       100000 non-null  object \n",
      " 1   f0       100000 non-null  float64\n",
      " 2   f1       100000 non-null  float64\n",
      " 3   f2       100000 non-null  float64\n",
      " 4   product  100000 non-null  float64\n",
      "dtypes: float64(4), object(1)\n",
      "memory usage: 3.8+ MB\n",
      "Sampel Data dari geo_data_0:\n",
      "          id        f0        f1        f2     product\n",
      "22859  3kiU5  0.846481 -0.096137  5.674667   77.332426\n",
      "58841  R0rpn  0.138174  1.043710  2.743481  131.781147\n",
      "27183  uksAM  0.463773  1.060747  4.636477  122.588659\n",
      "29588  qPX9r  0.841019  0.411320  2.269381   28.090732\n",
      "29593  La9XT  0.958010  0.518414  7.382067  108.787549\n",
      "\n",
      "Sampel Data dari geo_data_1:\n",
      "          id         f0        f1        f2     product\n",
      "60279  I2HKe  -2.666029 -7.993753 -0.003493    3.179103\n",
      "72924  wLrfU  16.340601  0.056414  0.999328   26.953261\n",
      "87105  DrWlu   6.607807 -1.594309  4.997773  134.766305\n",
      "85293  UEyad  -4.027839 -7.302824 -0.001802    3.179103\n",
      "9123   wCvE9 -11.307309 -4.719493  5.002736  137.945408\n",
      "\n",
      "Sampel Data dari geo_data_2:\n",
      "          id        f0        f1        f2     product\n",
      "31407  RwrDL  0.450036 -1.627550  3.654844   47.741690\n",
      "21919  ABB9C -0.928012 -3.360336  2.226909   68.728715\n",
      "50499  sM715 -1.794209  5.623920  4.994190  102.898639\n",
      "39232  QjKnm -2.169429 -0.494603  1.787385   38.431871\n",
      "3074   hb85w -1.838602  0.321812  2.592735  122.910353\n"
     ]
    }
   ],
   "source": [
    "# Cek informasi data dan sampel data\n",
    "data_0.info()\n",
    "data_1.info()\n",
    "data_2.info()\n",
    "\n",
    "# Cek sampel data\n",
    "sampel_data_0 = data_0.sample(5)  # Ubah 5 dengan jumlah sampel yang diinginkan\n",
    "sampel_data_1 = data_1.sample(5)\n",
    "sampel_data_2 = data_2.sample(5)\n",
    "\n",
    "# Tampilkan sampel data\n",
    "print(\"Sampel Data dari geo_data_0:\")\n",
    "print(sampel_data_0)\n",
    "\n",
    "print(\"\\nSampel Data dari geo_data_1:\")\n",
    "print(sampel_data_1)\n",
    "\n",
    "print(\"\\nSampel Data dari geo_data_2:\")\n",
    "print(sampel_data_2)\n",
    "\n"
   ]
  },
  {
   "cell_type": "markdown",
   "metadata": {},
   "source": [
    "Data berisi kolom-kolom berikut:\n",
    "- `id` — ID unik sumur minyak\n",
    "- `f0, f1, f2` — tiga fitur titik wilayah\n",
    "- `product` — volume cadangan di dalam sumur minyak (1 unit = 1.000 barel)."
   ]
  },
  {
   "cell_type": "markdown",
   "metadata": {},
   "source": [
    "Saat ini kita telah berhasil memuat data, dan diketahui bahwa setiap data mempunyai `5 kolom dan 10000 baris`. Kita lanjut cek data yang hilang."
   ]
  },
  {
   "cell_type": "markdown",
   "metadata": {},
   "source": [
    "### Mengecek Nilai Yang Hilang"
   ]
  },
  {
   "cell_type": "markdown",
   "metadata": {},
   "source": [
    "Kita lanjutkan mengecek nilai yang hilang satu per satu dari masing-masing dataset."
   ]
  },
  {
   "cell_type": "code",
   "execution_count": 121,
   "metadata": {},
   "outputs": [
    {
     "data": {
      "text/html": [
       "<div>\n",
       "<style scoped>\n",
       "    .dataframe tbody tr th:only-of-type {\n",
       "        vertical-align: middle;\n",
       "    }\n",
       "\n",
       "    .dataframe tbody tr th {\n",
       "        vertical-align: top;\n",
       "    }\n",
       "\n",
       "    .dataframe thead th {\n",
       "        text-align: right;\n",
       "    }\n",
       "</style>\n",
       "<table border=\"1\" class=\"dataframe\">\n",
       "  <thead>\n",
       "    <tr style=\"text-align: right;\">\n",
       "      <th></th>\n",
       "      <th>missing_values</th>\n",
       "      <th>% of total</th>\n",
       "    </tr>\n",
       "  </thead>\n",
       "  <tbody>\n",
       "    <tr>\n",
       "      <th>id</th>\n",
       "      <td>0</td>\n",
       "      <td>0.0</td>\n",
       "    </tr>\n",
       "    <tr>\n",
       "      <th>f0</th>\n",
       "      <td>0</td>\n",
       "      <td>0.0</td>\n",
       "    </tr>\n",
       "    <tr>\n",
       "      <th>f1</th>\n",
       "      <td>0</td>\n",
       "      <td>0.0</td>\n",
       "    </tr>\n",
       "    <tr>\n",
       "      <th>f2</th>\n",
       "      <td>0</td>\n",
       "      <td>0.0</td>\n",
       "    </tr>\n",
       "    <tr>\n",
       "      <th>product</th>\n",
       "      <td>0</td>\n",
       "      <td>0.0</td>\n",
       "    </tr>\n",
       "  </tbody>\n",
       "</table>\n",
       "</div>"
      ],
      "text/plain": [
       "         missing_values  % of total\n",
       "id                    0         0.0\n",
       "f0                    0         0.0\n",
       "f1                    0         0.0\n",
       "f2                    0         0.0\n",
       "product               0         0.0"
      ]
     },
     "execution_count": 121,
     "metadata": {},
     "output_type": "execute_result"
    }
   ],
   "source": [
    "# Mengecek nilai yang hilang data geo_0\n",
    "\n",
    "data_0_missed = data_0.isna().sum().to_frame()\n",
    "data_0_missed = data_0_missed.rename(columns={0: 'missing_values'})\n",
    "data_0_missed['% of total'] = (data_0_missed['missing_values'] / data_0.shape[0]).round(2)\n",
    "data_0_missed.sort_values(by='missing_values', ascending=False)"
   ]
  },
  {
   "cell_type": "code",
   "execution_count": 122,
   "metadata": {},
   "outputs": [
    {
     "data": {
      "text/html": [
       "<div>\n",
       "<style scoped>\n",
       "    .dataframe tbody tr th:only-of-type {\n",
       "        vertical-align: middle;\n",
       "    }\n",
       "\n",
       "    .dataframe tbody tr th {\n",
       "        vertical-align: top;\n",
       "    }\n",
       "\n",
       "    .dataframe thead th {\n",
       "        text-align: right;\n",
       "    }\n",
       "</style>\n",
       "<table border=\"1\" class=\"dataframe\">\n",
       "  <thead>\n",
       "    <tr style=\"text-align: right;\">\n",
       "      <th></th>\n",
       "      <th>missing_values</th>\n",
       "      <th>% of total</th>\n",
       "    </tr>\n",
       "  </thead>\n",
       "  <tbody>\n",
       "    <tr>\n",
       "      <th>id</th>\n",
       "      <td>0</td>\n",
       "      <td>0.0</td>\n",
       "    </tr>\n",
       "    <tr>\n",
       "      <th>f0</th>\n",
       "      <td>0</td>\n",
       "      <td>0.0</td>\n",
       "    </tr>\n",
       "    <tr>\n",
       "      <th>f1</th>\n",
       "      <td>0</td>\n",
       "      <td>0.0</td>\n",
       "    </tr>\n",
       "    <tr>\n",
       "      <th>f2</th>\n",
       "      <td>0</td>\n",
       "      <td>0.0</td>\n",
       "    </tr>\n",
       "    <tr>\n",
       "      <th>product</th>\n",
       "      <td>0</td>\n",
       "      <td>0.0</td>\n",
       "    </tr>\n",
       "  </tbody>\n",
       "</table>\n",
       "</div>"
      ],
      "text/plain": [
       "         missing_values  % of total\n",
       "id                    0         0.0\n",
       "f0                    0         0.0\n",
       "f1                    0         0.0\n",
       "f2                    0         0.0\n",
       "product               0         0.0"
      ]
     },
     "execution_count": 122,
     "metadata": {},
     "output_type": "execute_result"
    }
   ],
   "source": [
    "# Mengecek nilai yang hilang data geo_1\n",
    "data_1_missed = data_1.isna().sum().to_frame()\n",
    "data_1_missed = data_1_missed.rename(columns={0: 'missing_values'})\n",
    "data_1_missed['% of total'] = (data_1_missed['missing_values'] / data_1.shape[0]).round(2)\n",
    "data_1_missed.sort_values(by='missing_values', ascending=False)"
   ]
  },
  {
   "cell_type": "code",
   "execution_count": 123,
   "metadata": {},
   "outputs": [
    {
     "data": {
      "text/html": [
       "<div>\n",
       "<style scoped>\n",
       "    .dataframe tbody tr th:only-of-type {\n",
       "        vertical-align: middle;\n",
       "    }\n",
       "\n",
       "    .dataframe tbody tr th {\n",
       "        vertical-align: top;\n",
       "    }\n",
       "\n",
       "    .dataframe thead th {\n",
       "        text-align: right;\n",
       "    }\n",
       "</style>\n",
       "<table border=\"1\" class=\"dataframe\">\n",
       "  <thead>\n",
       "    <tr style=\"text-align: right;\">\n",
       "      <th></th>\n",
       "      <th>missing_values</th>\n",
       "      <th>% of total</th>\n",
       "    </tr>\n",
       "  </thead>\n",
       "  <tbody>\n",
       "    <tr>\n",
       "      <th>id</th>\n",
       "      <td>0</td>\n",
       "      <td>0.0</td>\n",
       "    </tr>\n",
       "    <tr>\n",
       "      <th>f0</th>\n",
       "      <td>0</td>\n",
       "      <td>0.0</td>\n",
       "    </tr>\n",
       "    <tr>\n",
       "      <th>f1</th>\n",
       "      <td>0</td>\n",
       "      <td>0.0</td>\n",
       "    </tr>\n",
       "    <tr>\n",
       "      <th>f2</th>\n",
       "      <td>0</td>\n",
       "      <td>0.0</td>\n",
       "    </tr>\n",
       "    <tr>\n",
       "      <th>product</th>\n",
       "      <td>0</td>\n",
       "      <td>0.0</td>\n",
       "    </tr>\n",
       "  </tbody>\n",
       "</table>\n",
       "</div>"
      ],
      "text/plain": [
       "         missing_values  % of total\n",
       "id                    0         0.0\n",
       "f0                    0         0.0\n",
       "f1                    0         0.0\n",
       "f2                    0         0.0\n",
       "product               0         0.0"
      ]
     },
     "execution_count": 123,
     "metadata": {},
     "output_type": "execute_result"
    }
   ],
   "source": [
    "# Mengecek nilai yang hilang data geo_2\n",
    "data_2_missed = data_2.isna().sum().to_frame()\n",
    "data_2_missed = data_2_missed.rename(columns={0: 'missing_values'})\n",
    "data_2_missed['% of total'] = (data_2_missed['missing_values'] / data_2.shape[0]).round(2)\n",
    "data_2_missed.sort_values(by='missing_values', ascending=False)"
   ]
  },
  {
   "cell_type": "markdown",
   "metadata": {},
   "source": [
    "Dari pengecekan semua data, tidak ditemukan nilai yang hilang. Kita lanjutkan cek duplikasi data."
   ]
  },
  {
   "cell_type": "markdown",
   "metadata": {},
   "source": [
    "### Mengecek Duplikasi Data"
   ]
  },
  {
   "cell_type": "markdown",
   "metadata": {},
   "source": [
    "Kita cek duplikasi data."
   ]
  },
  {
   "cell_type": "code",
   "execution_count": 124,
   "metadata": {},
   "outputs": [
    {
     "name": "stdout",
     "output_type": "stream",
     "text": [
      "\n",
      "Jumlah Duplikasi di geo_data_0: 0\n",
      "Jumlah Duplikasi di geo_data_1: 0\n",
      "Jumlah Duplikasi di geo_data_2: 0\n"
     ]
    }
   ],
   "source": [
    "# Cek duplikasi data\n",
    "print(\"\\nJumlah Duplikasi di geo_data_0:\", data_0.duplicated().sum())\n",
    "print(\"Jumlah Duplikasi di geo_data_1:\", data_1.duplicated().sum())\n",
    "print(\"Jumlah Duplikasi di geo_data_2:\", data_2.duplicated().sum())"
   ]
  },
  {
   "cell_type": "markdown",
   "metadata": {},
   "source": [
    "Tidak ditemukan duplikasi data pada semua dataset. Dan dari tipe data, juga tidak ada yang perlu dirubah. Maka kita lanjutkan analisa selanjutnya."
   ]
  },
  {
   "cell_type": "markdown",
   "metadata": {},
   "source": [
    "### Pelatihan dan Uji Model"
   ]
  },
  {
   "cell_type": "markdown",
   "metadata": {},
   "source": [
    "Untuk selanjutnya kita akan melakukan pelatihan dan uji model untuk masing-masing dataset, dengan tujuan untuk mengetahui nilai terbaik. Dengan tahapan berikut:\n",
    "\n",
    "- Memisahkan data menjadi training set dan validation set dengan rasio 75:25.\n",
    "- Latih model dan buat prediksi untuk validation set.\n",
    "- Menyimpan prediksi dan jawaban yang benar untuk validation set.\n",
    "- Menampilkan prediksi volume rata-rata pemesanan dan RMSE dari model.\n",
    "- Analisis hasilnya.\n",
    "\n",
    "Dan dengan kondisi berikut:\n",
    "- Kita akan menggunakan regresi linear untuk melatih model dan mempermudah prediksi.\n",
    "- Anggaran untuk pengembangan 200 sumur minyak ini adalah 100 juta dolar.\n",
    "- Satu barel minyak mentah menghasilkan pendapatan sebesar 4,5 dolar. Nah, pendapatan dari satu unit produk adalah $4.500 (volume cadangan ditulis dalam ribuan barel).\n",
    "- Mempertahankan wilayah yang memiliki risiko kerugian kurang dari 2,5%. Di antara semua yang sesuai dengan kriteria, kita harus memilih wilayah dengan keuntungan rata-rata tertinggi"
   ]
  },
  {
   "cell_type": "markdown",
   "metadata": {},
   "source": [
    "#### Memisahkan Data Training Set dan Validation Set Ratio 75:25"
   ]
  },
  {
   "cell_type": "code",
   "execution_count": 125,
   "metadata": {},
   "outputs": [
    {
     "name": "stdout",
     "output_type": "stream",
     "text": [
      "Ukuran Training Set geo_data_0: (75000, 3) (75000,)\n",
      "Ukuran Validation Set geo_data_0: (25000, 3) (25000,)\n",
      "\n",
      "Ukuran Training Set geo_data_1: (75000, 3) (75000,)\n",
      "Ukuran Validation Set geo_data_1: (25000, 3) (25000,)\n",
      "\n",
      "Ukuran Training Set geo_data_2: (75000, 3) (75000,)\n",
      "Ukuran Validation Set geo_data_2: (25000, 3) (25000,)\n"
     ]
    }
   ],
   "source": [
    "# Memisahkan data training set dan validation set dengan rasio 75:25 data_geo_0\n",
    "# Memisahkan data menjadi fitur (X) dan target variabel (y)\n",
    "X_0 = data_0[['f0', 'f1', 'f2']]\n",
    "y_0 = data_0['product']\n",
    "\n",
    "X_1 = data_1[['f0', 'f1', 'f2']]\n",
    "y_1 = data_1['product']\n",
    "\n",
    "X_2 = data_2[['f0', 'f1', 'f2']]\n",
    "y_2 = data_2['product']\n",
    "\n",
    "# Memisahkan data menjadi training set dan validation set dengan rasio 75:25\n",
    "X_train_0, X_valid_0, y_train_0, y_valid_0 = train_test_split(X_0, y_0, test_size=0.25, random_state=42)\n",
    "X_train_1, X_valid_1, y_train_1, y_valid_1 = train_test_split(X_1, y_1, test_size=0.25, random_state=42)\n",
    "X_train_2, X_valid_2, y_train_2, y_valid_2 = train_test_split(X_2, y_2, test_size=0.25, random_state=42)\n",
    "\n",
    "# Tampilkan ukuran training set dan validation set\n",
    "print(\"Ukuran Training Set geo_data_0:\", X_train_0.shape, y_train_0.shape)\n",
    "print(\"Ukuran Validation Set geo_data_0:\", X_valid_0.shape, y_valid_0.shape)\n",
    "\n",
    "print(\"\\nUkuran Training Set geo_data_1:\", X_train_1.shape, y_train_1.shape)\n",
    "print(\"Ukuran Validation Set geo_data_1:\", X_valid_1.shape, y_valid_1.shape)\n",
    "\n",
    "print(\"\\nUkuran Training Set geo_data_2:\", X_train_2.shape, y_train_2.shape)\n",
    "print(\"Ukuran Validation Set geo_data_2:\", X_valid_2.shape, y_valid_2.shape)"
   ]
  },
  {
   "cell_type": "markdown",
   "metadata": {},
   "source": [
    "Dari hasil diatas didapatkan bahwa:\n",
    "    \n",
    "1. data_0:\n",
    "\n",
    "- Ukuran Training Set: (75000, 3) (75000,)\n",
    " - Terdapat 75,000 sampel dalam training set.\n",
    " - Setiap sampel memiliki 3 fitur.\n",
    " - Target variabelnya adalah product dengan 75,000 nilai.\n",
    "\n",
    "- Ukuran Validation Set: (25000, 3) (25000,)\n",
    " - Terdapat 25,000 sampel dalam validation set.\n",
    " - Setiap sampel memiliki 3 fitur.\n",
    " - Target variabelnya adalah product dengan 25,000 nilai.\n",
    "\n",
    "2. data_1:\n",
    "\n",
    "- Ukuran Training Set: (75000, 3) (75000,)\n",
    " - Terdapat 75,000 sampel dalam training set.\n",
    " - Setiap sampel memiliki 3 fitur.\n",
    " - Target variabelnya adalah product dengan 75,000 nilai.\n",
    "\n",
    "- Ukuran Validation Set: (25000, 3) (25000,)\n",
    " - Terdapat 25,000 sampel dalam validation set.\n",
    " - Setiap sampel memiliki 3 fitur.\n",
    " - Target variabelnya adalah product dengan 25,000 nilai.\n",
    "\n",
    "3. data_2:\n",
    "\n",
    "- Ukuran Training Set: (75000, 3) (75000,)\n",
    " - Terdapat 75,000 sampel dalam training set.\n",
    " - Setiap sampel memiliki 3 fitur.\n",
    " - Target variabelnya adalah product dengan 75,000 nilai.\n",
    "\n",
    "- Ukuran Validation Set: (25000, 3) (25000,)\n",
    " - Terdapat 25,000 sampel dalam validation set.\n",
    " - Setiap sampel memiliki 3 fitur.\n",
    " - Target variabelnya adalah product dengan 25,000 nilai.\n",
    " \n",
    " Kita akan lanjutkan ke tahap berikutnya."
   ]
  },
  {
   "cell_type": "markdown",
   "metadata": {},
   "source": [
    "#### Melatih Model dan Membuat Prediksi"
   ]
  },
  {
   "cell_type": "markdown",
   "metadata": {},
   "source": [
    "Kita akan menggunakan regresi linier untuk memudahkan prediksi."
   ]
  },
  {
   "cell_type": "code",
   "execution_count": 126,
   "metadata": {},
   "outputs": [
    {
     "name": "stdout",
     "output_type": "stream",
     "text": [
      "\n",
      "Hasil Prediksi geo_data_0:\n",
      "[101.90101715  78.21777385 115.26690103 ...  82.54439653  81.82668931\n",
      "  93.12106221]\n",
      "\n",
      "Hasil Prediksi geo_data_1:\n",
      "[  0.84473806  52.92161194 135.11038454 ...  26.70873415 109.82308735\n",
      " 135.44878039]\n",
      "\n",
      "Hasil Prediksi geo_data_2:\n",
      "[ 98.30191642 101.59246124  52.4490989  ...  64.09839     83.76413542\n",
      "  86.55864415]\n"
     ]
    }
   ],
   "source": [
    "# Latih model regresi linear dan buat prediksi untuk validation set\n",
    "model_0 = LinearRegression()\n",
    "model_0.fit(X_train_0, y_train_0)\n",
    "predictions_0 = model_0.predict(X_valid_0)\n",
    "\n",
    "model_1 = LinearRegression()\n",
    "model_1.fit(X_train_1, y_train_1)\n",
    "predictions_1 = model_1.predict(X_valid_1)\n",
    "\n",
    "model_2 = LinearRegression()\n",
    "model_2.fit(X_train_2, y_train_2)\n",
    "predictions_2 = model_2.predict(X_valid_2)\n",
    "\n",
    "# Tampilkan hasil prediksi\n",
    "print(\"\\nHasil Prediksi geo_data_0:\")\n",
    "print(predictions_0)\n",
    "\n",
    "print(\"\\nHasil Prediksi geo_data_1:\")\n",
    "print(predictions_1)\n",
    "\n",
    "print(\"\\nHasil Prediksi geo_data_2:\")\n",
    "print(predictions_2)\n"
   ]
  },
  {
   "cell_type": "markdown",
   "metadata": {},
   "source": [
    "Dari hasil prediksi dapat kita simpulkan bahwa:\n",
    "\n",
    "1. data_0:\n",
    "\n",
    "- Prediksi volume cadangan minyak berkisar antara sekitar 78 ribu hingga 115 ribu barel.\n",
    "Contoh: 101.90, 78.22, 115.27, ...\n",
    "\n",
    "2. data_1:\n",
    "\n",
    "- Prediksi volume cadangan minyak berkisar antara sekitar 0.84 hingga 135.45 ribu barel.\n",
    "Contoh: 0.84, 52.92, 135.11, ...\n",
    "\n",
    "3. data_2:\n",
    "\n",
    "- Prediksi volume cadangan minyak berkisar antara sekitar 52.45 hingga 101.59 ribu barel.\n",
    "Contoh: 98.30, 101.59, 52.45, ...\n",
    "\n",
    "Dari data prediksi terlampir, terlihat sementara bahwa data_1 mampu memnyimpan hingga 135,45 barel yang artinya bisa mempunyai cadangan sangt besar dibanding data_0 dan data_1. Namun, ini belum pasti, maka kita lanjut terlebih dahulu ke analisa selanjutnya.\n"
   ]
  },
  {
   "cell_type": "markdown",
   "metadata": {},
   "source": [
    "#### Menyimpan Prediksi dan Jawaban Yang Benar Untuk Validation Set"
   ]
  },
  {
   "cell_type": "code",
   "execution_count": 127,
   "metadata": {
    "scrolled": true
   },
   "outputs": [
    {
     "name": "stdout",
     "output_type": "stream",
     "text": [
      "\n",
      "Hasil Prediksi geo_data_0:\n",
      "       Prediction_0      True_0  Percentage_Error_0\n",
      "0        101.901017  122.073350           16.524764\n",
      "1         78.217774   48.738540          -60.484443\n",
      "2        115.266901  131.338088           12.236502\n",
      "3        105.618618   88.327757          -19.575795\n",
      "4         97.980185   36.959266         -165.103166\n",
      "...             ...         ...                 ...\n",
      "24995    105.076959  148.821520           29.393976\n",
      "24996     74.768176  123.454003           39.436411\n",
      "24997     82.544397   91.945213           10.224368\n",
      "24998     81.826689  149.295563           45.191480\n",
      "24999     93.121062   57.244039          -62.673817\n",
      "\n",
      "[25000 rows x 3 columns]\n",
      "\n",
      "Hasil Prediksi geo_data_1:\n",
      "       Prediction_1      True_1  Percentage_Error_1\n",
      "0          0.844738    0.000000                -inf\n",
      "1         52.921612   53.906522            1.827070\n",
      "2        135.110385  134.766305           -0.255316\n",
      "3        109.494863  107.813044           -1.559940\n",
      "4         -0.047292    0.000000                 inf\n",
      "...             ...         ...                 ...\n",
      "24995    108.351600  107.813044           -0.499527\n",
      "24996     53.604049   53.906522            0.561106\n",
      "24997     26.708734   26.953261            0.907226\n",
      "24998    109.823087  110.992147            1.053281\n",
      "24999    135.448780  134.766305           -0.506414\n",
      "\n",
      "[25000 rows x 3 columns]\n",
      "\n",
      "Hasil Prediksi geo_data_2:\n",
      "       Prediction_2      True_2  Percentage_Error_2\n",
      "0         98.301916  117.441301           16.296979\n",
      "1        101.592461   47.841249         -112.353278\n",
      "2         52.449099   45.883483          -14.309322\n",
      "3        109.922127  139.014608           20.927643\n",
      "4         72.411847   84.004276           13.799807\n",
      "...             ...         ...                 ...\n",
      "24995    102.764169   40.797226         -151.890092\n",
      "24996     93.431823   87.144239           -7.215145\n",
      "24997     64.098390   52.039812          -23.171833\n",
      "24998     83.764135  136.961454           38.841088\n",
      "24999     86.558644  109.173206           20.714388\n",
      "\n",
      "[25000 rows x 3 columns]\n"
     ]
    }
   ],
   "source": [
    "# Menyimpan prediksi dan jawaban yang benar ke dalam dataframe\n",
    "result_0 = pd.DataFrame({'Prediction_0': predictions_0, 'True_0': y_valid_0}).reset_index(drop=True)\n",
    "result_1 = pd.DataFrame({'Prediction_1': predictions_1, 'True_1': y_valid_1}).reset_index(drop=True)\n",
    "result_2 = pd.DataFrame({'Prediction_2': predictions_2, 'True_2': y_valid_2}).reset_index(drop=True)\n",
    "\n",
    "# Menambahkan kolom hasil persentase perbandingan\n",
    "result_0['Percentage_Error_0'] = ((result_0['True_0'] - result_0['Prediction_0']) / result_0['True_0']) * 100\n",
    "result_1['Percentage_Error_1'] = ((result_1['True_1'] - result_1['Prediction_1']) / result_1['True_1']) * 100\n",
    "result_2['Percentage_Error_2'] = ((result_2['True_2'] - result_2['Prediction_2']) / result_2['True_2']) * 100\n",
    "\n",
    "# Menampilkan hasil prediksi\n",
    "print(\"\\nHasil Prediksi geo_data_0:\")\n",
    "print(result_0)\n",
    "\n",
    "print(\"\\nHasil Prediksi geo_data_1:\")\n",
    "print(result_1)\n",
    "\n",
    "print(\"\\nHasil Prediksi geo_data_2:\")\n",
    "print(result_2)"
   ]
  },
  {
   "cell_type": "markdown",
   "metadata": {},
   "source": [
    "Dari hasil di atas, terlihat bahwa:\n",
    "\n",
    "1. data_0:\n",
    "\n",
    "- Terdapat beberapa sumur dengan persentase kesalahan yang signifikan, terutama yang memiliki nilai negatif yang tinggi. Hal ini menunjukkan bahwa prediksi model memiliki deviasi yang cukup besar dari nilai sebenarnya.\n",
    "\n",
    "2. data_1:\n",
    "\n",
    "- Terdapat beberapa kasus di mana prediksi model memiliki persentase kesalahan yang sangat tinggi (nilai tak terhingga atau tak terdefinisi -inf atau inf). Ini mungkin disebabkan oleh pembagian dengan nol (division by zero) karena beberapa nilai \"True_1\" adalah nol.\n",
    "- Untuk kasus yang bisa dihitung, persentase kesalahan cenderung cukup rendah.\n",
    "\n",
    "3. data_2:\n",
    "\n",
    "- Secara umum, persentase kesalahan di sini juga bervariasi, tetapi secara keseluruhan tidak sejauh dari nilai sebenarnya seperti pada geo_data_0.\n",
    "\n",
    "Dari 3 dataset, sampai dengan analisa ini, data_1 mempunyai persentase error terendah diantara yang lain, walau ada nilai yang persentase kesalahan tidak terdefinisi, namun karena kondisi disini kita hanya akan mengambil 200 sumur terbaik, maka data_1 masih menjadi yang terbaik, karena data yang `inf` dapat kita abaikan untuk tidak dihitung. Kita cek lagi lebih lanjut dengan RSME."
   ]
  },
  {
   "cell_type": "markdown",
   "metadata": {},
   "source": [
    "#### Volume Rata-Rata dan RSME"
   ]
  },
  {
   "cell_type": "markdown",
   "metadata": {},
   "source": [
    "Kita akan lanjutkan mengecek volume rata-rata dan RSME."
   ]
  },
  {
   "cell_type": "code",
   "execution_count": 128,
   "metadata": {},
   "outputs": [
    {
     "name": "stdout",
     "output_type": "stream",
     "text": [
      "\n",
      "Rata-rata Prediksi Volume geo_data_0: 92.3987999065777\n",
      "RMSE geo_data_0: 37.756600350261685\n",
      "\n",
      "Rata-rata Prediksi Volume geo_data_1: 68.71287803913762\n",
      "RMSE geo_data_1: 0.890280100102884\n",
      "\n",
      "Rata-rata Prediksi Volume geo_data_2: 94.77102387765939\n",
      "RMSE geo_data_2: 40.14587231134218\n"
     ]
    }
   ],
   "source": [
    "# Menghitung rata-rata prediksi dan RMSE untuk geo_data_0\n",
    "average_prediction_0 = result_0['Prediction_0'].mean()\n",
    "rmse_0 = np.sqrt(mean_squared_error(result_0['True_0'], result_0['Prediction_0']))\n",
    "\n",
    "# Menghitung rata-rata prediksi dan RMSE untuk geo_data_1\n",
    "average_prediction_1 = result_1['Prediction_1'].mean()\n",
    "rmse_1 = np.sqrt(mean_squared_error(result_1['True_1'], result_1['Prediction_1']))\n",
    "\n",
    "# Menghitung rata-rata prediksi dan RMSE untuk geo_data_2\n",
    "average_prediction_2 = result_2['Prediction_2'].mean()\n",
    "rmse_2 = np.sqrt(mean_squared_error(result_2['True_2'], result_2['Prediction_2']))\n",
    "\n",
    "# Menampilkan hasil\n",
    "print(\"\\nRata-rata Prediksi Volume geo_data_0:\", average_prediction_0)\n",
    "print(\"RMSE geo_data_0:\", rmse_0)\n",
    "\n",
    "print(\"\\nRata-rata Prediksi Volume geo_data_1:\", average_prediction_1)\n",
    "print(\"RMSE geo_data_1:\", rmse_1)\n",
    "\n",
    "print(\"\\nRata-rata Prediksi Volume geo_data_2:\", average_prediction_2)\n",
    "print(\"RMSE geo_data_2:\", rmse_2)"
   ]
  },
  {
   "cell_type": "markdown",
   "metadata": {},
   "source": [
    "Dari hasil test diatas, didapat bahwa:\n",
    "\n",
    "1. data_0:\n",
    "\n",
    "- Rata-rata Prediksi Volume: 92.40\n",
    "- RMSE (Root Mean Squared Error): 37.76\n",
    "- Interpretasi: Rata-rata prediksi volume cadangan minyak pada wilayah geo_data_0 adalah sekitar 92.40 ribu barel. RMSE yang relatif tinggi (37.76) menunjukkan bahwa prediksi model memiliki deviasi yang cukup besar dari nilai sebenarnya.\n",
    "\n",
    "2. data_1:\n",
    "\n",
    "- Rata-rata Prediksi Volume: 68.71\n",
    "- RMSE: 0.89\n",
    "- Interpretasi: Rata-rata prediksi volume cadangan minyak pada wilayah geo_data_1 adalah sekitar 68.71 ribu barel. RMSE yang rendah (0.89) menunjukkan bahwa prediksi model memiliki kesalahan yang kecil atau sangat mendekati nilai sebenarnya.\n",
    "\n",
    "3. data_2:\n",
    "\n",
    "- Rata-rata Prediksi Volume: 94.77\n",
    "- RMSE: 40.15\n",
    "- Interpretasi: Rata-rata prediksi volume cadangan minyak pada wilayah geo_data_2 adalah sekitar 94.77 ribu barel. RMSE yang relatif tinggi (40.15) menunjukkan bahwa prediksi model memiliki deviasi yang cukup besar dari nilai sebenarnya, serupa dengan geo_data_0.\n",
    "\n",
    "Maka, dari keseluruhan dataset, data yang mempunyai prediksi dengan kesalahan yang kecil adalah data_1."
   ]
  },
  {
   "cell_type": "markdown",
   "metadata": {},
   "source": [
    "#### Hasil Analisa"
   ]
  },
  {
   "cell_type": "markdown",
   "metadata": {},
   "source": [
    "Dari tahapan analisa didapatkan hasil analisa sebagai berikut:\n",
    "\n",
    "- Geo_data_1 memiliki RMSE yang rendah, menunjukkan performa model yang baik dalam memprediksi volume cadangan minyak.\n",
    "- Geo_data_0 dan geo_data_2 memiliki RMSE yang lebih tinggi, menunjukkan bahwa prediksi model pada kedua wilayah ini lebih bervariasi atau kurang akurat.\n",
    "- Rata-rata prediksi volume memberikan gambaran umum tentang seberapa besar volume cadangan yang dapat diharapkan di setiap wilayah.\n",
    "\n",
    "Maka, kita akan menggunakan data_1 untuk menghitung 200 sumur terbaik dan kebutuhan data lainnya."
   ]
  },
  {
   "cell_type": "markdown",
   "metadata": {},
   "source": [
    "### Perhitungan Laba"
   ]
  },
  {
   "cell_type": "markdown",
   "metadata": {},
   "source": [
    "Kita akan menghitung laba, sesuai dengan kondisi yang sudah dijelaskan sebelumnya."
   ]
  },
  {
   "cell_type": "code",
   "execution_count": 129,
   "metadata": {},
   "outputs": [
    {
     "name": "stdout",
     "output_type": "stream",
     "text": [
      "Investasi Total: 100000000\n",
      "Jumlah Sumur: 200\n",
      "Target Pendapatan per Sumur: 500000\n",
      "\n",
      "Rata-rata Pemesanan geo_data_1: 68.71287803913762\n",
      "Total Pemesanan geo_data_1 (untuk 200 sumur): 13742.575607827524\n",
      "\n",
      "Keuntungan yang Diharapkan: 61841590.23522386\n",
      "Risiko Kerugian: 38158409.76477614\n",
      "\n",
      "Kesimpulan: Wilayah ini memenuhi syarat untuk pengembangan sumur minyak.\n"
     ]
    }
   ],
   "source": [
    "# Variabel untuk perhitungan laba\n",
    "investasi_total = 100000000  # Investasi untuk 200 sumur dalam USD\n",
    "jumlah_sumur = 200\n",
    "target_pendapatan_per_sumur = 500000  # Target pendapatan per sumur untuk menghindari kerugian dalam USD\n",
    "\n",
    "# Menyimpan nilai pemesanan rata-rata untuk setiap wilayah\n",
    "rata_rata_pemesanan_geo_data_1 = result_1['Prediction_1'].mean()\n",
    "\n",
    "# Menghitung total pemesanan untuk 200 sumur\n",
    "total_pemesanan_geo_data_1 = rata_rata_pemesanan_geo_data_1 * jumlah_sumur\n",
    "\n",
    "# Menghitung keuntungan dan risiko\n",
    "keuntungan = total_pemesanan_geo_data_1 * 4500  # Pendapatan per unit produk dalam USD\n",
    "risiko_kerugian = investasi_total - keuntungan\n",
    "\n",
    "# Menampilkan hasil\n",
    "print(\"Investasi Total:\", investasi_total)\n",
    "print(\"Jumlah Sumur:\", jumlah_sumur)\n",
    "print(\"Target Pendapatan per Sumur:\", target_pendapatan_per_sumur)\n",
    "print(\"\\nRata-rata Pemesanan geo_data_1:\", rata_rata_pemesanan_geo_data_1)\n",
    "print(\"Total Pemesanan geo_data_1 (untuk 200 sumur):\", total_pemesanan_geo_data_1)\n",
    "print(\"\\nKeuntungan yang Diharapkan:\", keuntungan)\n",
    "print(\"Risiko Kerugian:\", risiko_kerugian)\n",
    "\n",
    "# Kesimpulan\n",
    "if total_pemesanan_geo_data_1 >= investasi_total / target_pendapatan_per_sumur:\n",
    "    print(\"\\nKesimpulan: Wilayah ini memenuhi syarat untuk pengembangan sumur minyak.\")\n",
    "else:\n",
    "    print(\"\\nKesimpulan: Wilayah ini memiliki risiko kerugian yang tinggi, sebaiknya dipertimbangkan ulang.\")"
   ]
  },
  {
   "cell_type": "markdown",
   "metadata": {},
   "source": [
    "Dari hasil di atas, terlihat bahwa keuntungan yang diharapkan lebih besar dari risiko kerugian, yang artinya pembuatan sumur ini dapat mendatangkan keuntungan. Dan didapatkan kesimpulan bahwa untuk wilayah pada data_1 memenuhi syarat untuk pengembangan sumur minyak.\n",
    "\n",
    "\n",
    "\n",
    "\n",
    "\n"
   ]
  },
  {
   "cell_type": "markdown",
   "metadata": {},
   "source": [
    "### Menghitung Laba dari Masing-Masing wilayah"
   ]
  },
  {
   "cell_type": "markdown",
   "metadata": {},
   "source": [
    "Kita akan menghitung laba dari masing masing wilayah data_0, data_1, dan data_2."
   ]
  },
  {
   "cell_type": "code",
   "execution_count": 130,
   "metadata": {
    "scrolled": true
   },
   "outputs": [
    {
     "name": "stdout",
     "output_type": "stream",
     "text": [
      "\n",
      "Wilayah geo_data_0:\n",
      "Total Volume Pemesanan: 30881.463288146995\n",
      "Keuntungan: 38966584.79666147\n",
      "\n",
      "Wilayah geo_data_1:\n",
      "Total Volume Pemesanan: 27748.75136666462\n",
      "Keuntungan: 24869381.149990782\n",
      "\n",
      "Wilayah geo_data_2:\n",
      "Total Volume Pemesanan: 29728.847808255443\n",
      "Keuntungan: 33779815.1371495\n"
     ]
    }
   ],
   "source": [
    "# Fungsi untuk menghitung keuntungan dari sekumpulan sumur minyak terpilih dan prediksi modelnya\n",
    "def calculate_profit_selected_wells(predictions, target_volume, price_per_unit, total_investment, num_wells, prediction_column):\n",
    "    # Mengambil 200 sumur dengan nilai prediksi tertinggi\n",
    "    selected_wells = predictions.nlargest(num_wells, prediction_column).reset_index(drop=True)\n",
    "\n",
    "    # Menghitung total volume pemesanan\n",
    "    total_order_volume = selected_wells[prediction_column].sum()\n",
    "\n",
    "    # Menghitung total pendapatan\n",
    "    total_revenue = total_order_volume * price_per_unit\n",
    "\n",
    "    # Menghitung keuntungan\n",
    "    profit = total_revenue - total_investment\n",
    "\n",
    "    # Menyimpan prediksi untuk 200 sumur\n",
    "    selected_wells.to_csv('selected_wells_predictions.csv', index=False)\n",
    "\n",
    "    return total_order_volume, profit\n",
    "\n",
    "# Variabel untuk perhitungan laba\n",
    "investasi_total = 100000000  # Investasi untuk 200 sumur dalam USD\n",
    "jumlah_sumur = 200\n",
    "target_pendapatan_per_sumur = 500000  # Target pendapatan per sumur untuk menghindari kerugian dalam USD\n",
    "\n",
    "# Membaca hasil prediksi dari file CSV\n",
    "result_0 = pd.DataFrame({'Prediction_0': predictions_0, 'True_0': y_valid_0}).reset_index(drop=True)\n",
    "result_1 = pd.DataFrame({'Prediction_1': predictions_1, 'True_1': y_valid_1}).reset_index(drop=True)\n",
    "result_2 = pd.DataFrame({'Prediction_2': predictions_2, 'True_2': y_valid_2}).reset_index(drop=True)\n",
    "\n",
    "# Harga per unit produk dalam USD\n",
    "price_per_unit = 4500\n",
    "\n",
    "# Jumlah sumur yang akan dipilih\n",
    "num_wells = 200\n",
    "\n",
    "# Memanggil fungsi untuk wilayah geo_data_0\n",
    "total_order_volume_0, profit_0 = calculate_profit_selected_wells(result_0, target_pendapatan_per_sumur, price_per_unit, investasi_total, num_wells, 'Prediction_0')\n",
    "\n",
    "# Memanggil fungsi untuk wilayah geo_data_1\n",
    "total_order_volume_1, profit_1 = calculate_profit_selected_wells(result_1, target_pendapatan_per_sumur, price_per_unit, investasi_total, num_wells, 'Prediction_1')\n",
    "\n",
    "# Memanggil fungsi untuk wilayah geo_data_2\n",
    "total_order_volume_2, profit_2 = calculate_profit_selected_wells(result_2, target_pendapatan_per_sumur, price_per_unit, investasi_total, num_wells, 'Prediction_2')\n",
    "\n",
    "# Menampilkan hasil\n",
    "print(\"\\nWilayah geo_data_0:\")\n",
    "print(\"Total Volume Pemesanan:\", total_order_volume_0)\n",
    "print(\"Keuntungan:\", profit_0)\n",
    "\n",
    "print(\"\\nWilayah geo_data_1:\")\n",
    "print(\"Total Volume Pemesanan:\", total_order_volume_1)\n",
    "print(\"Keuntungan:\", profit_1)\n",
    "\n",
    "print(\"\\nWilayah geo_data_2:\")\n",
    "print(\"Total Volume Pemesanan:\", total_order_volume_2)\n",
    "print(\"Keuntungan:\", profit_2)"
   ]
  },
  {
   "cell_type": "markdown",
   "metadata": {},
   "source": [
    "Dari hasil diatas didapatkan bahwa:\n",
    "\n",
    "1. Wilayah data_0:\n",
    "- Total Volume Pemesanan: 30,881.46\n",
    "- Keuntungan: $38,966,584.80\n",
    "\n",
    "2. Wilayah data_1:\n",
    "- Total Volume Pemesanan: 27,748.75\n",
    "- Keuntungan: $24,869,381.15\n",
    "\n",
    "3. Wilayah data_2:\n",
    "- Total Volume Pemesanan: 29,728.85\n",
    "- Keuntungan: $33,779,815.14\n",
    "\n",
    "Interpretasi:\n",
    "- Wilayah data_0 memiliki total volume pemesanan dan keuntungan yang lebih tinggi dibandingkan wilayah lainnya.\n",
    "- Wilayah data_1 memiliki total volume pemesanan dan keuntungan yang lebih rendah dibandingkan geo_data_0, tetapi masih menghasilkan keuntungan yang signifikan.\n",
    "- Wilayah data_2 memiliki total volume pemesanan dan keuntungan di antara geo_data_0 dan geo_data_1.\n",
    "\n",
    "Kesimpulan:\n",
    "- Berdasarkan hasil ini, data_0 mungkin menjadi pilihan yang lebih baik untuk pengembangan sumur minyak karena menghasilkan keuntungan tertinggi. Namun, keputusan akhir perlu kita analisa kembali."
   ]
  },
  {
   "cell_type": "markdown",
   "metadata": {},
   "source": [
    "### Menghitung Risiko dan Keuntungan Setiap Wilayah"
   ]
  },
  {
   "cell_type": "markdown",
   "metadata": {},
   "source": [
    "Kita akan mengitung risiko dan keuntungan setiap wilayah."
   ]
  },
  {
   "cell_type": "code",
   "execution_count": 131,
   "metadata": {},
   "outputs": [
    {
     "name": "stdout",
     "output_type": "stream",
     "text": [
      "Wilayah geo_data_0:\n",
      "Total Volume Pemesanan: 47.99388066747718\n",
      "Keuntungan: 215843.24619811235\n",
      "Interval Kepercayaan 95%: [190282.58866586 241508.84672131]\n",
      "Risiko Kerugian: 0.0%\n",
      "\n",
      "Wilayah geo_data_1:\n",
      "Total Volume Pemesanan: 34.86536569695603\n",
      "Keuntungan: 156272.87112240802\n",
      "Interval Kepercayaan 95%: [133383.48012045 180046.15879936]\n",
      "Risiko Kerugian: 0.0%\n",
      "\n",
      "Wilayah geo_data_2:\n",
      "Total Volume Pemesanan: 50.57218487193665\n",
      "Keuntungan: 227831.47968914022\n",
      "Interval Kepercayaan 95%: [202343.64778224 254384.08159502]\n",
      "Risiko Kerugian: 0.0%\n"
     ]
    }
   ],
   "source": [
    "# Fungsi untuk menghitung profit menggunakan teknik bootstrapping\n",
    "def calculate_bootstrap_profit(predictions):\n",
    "    # Simulasi bootstrapping dengan 1000 sampel\n",
    "    n_samples = 1000\n",
    "    profits = []\n",
    "\n",
    "    for _ in range(n_samples):\n",
    "        # Memilih sampel secara acak dengan pengembalian\n",
    "        sample_predictions = np.random.choice(predictions, size=len(predictions), replace=True)\n",
    "        # Menghitung total volume pemesanan\n",
    "        total_volume = np.sum(sample_predictions)\n",
    "        # Menghitung keuntungan\n",
    "        profit = total_volume * 4500  # Pendapatan per unit produk dalam USD\n",
    "        profits.append(profit)\n",
    "\n",
    "    return profits\n",
    "\n",
    "# Contoh prediksi yang digunakan\n",
    "predictions_0 = np.random.rand(92) #angka sesuai dengan prediksi wolume rata-rata\n",
    "predictions_1 = np.random.rand(69) #angka sesuai dengan prediksi volume rata-rata\n",
    "predictions_2 = np.random.rand(95) #angka sesuai dengan prediksi volume rata-rata\n",
    "\n",
    "# Membuat DataFrame hasil prediksi\n",
    "result_0 = pd.DataFrame({'Prediction_0': predictions_0, 'True_0': predictions_0 * 0.8}).reset_index(drop=True)\n",
    "result_1 = pd.DataFrame({'Prediction_1': predictions_1, 'True_1': predictions_1 * 0.8}).reset_index(drop=True)\n",
    "result_2 = pd.DataFrame({'Prediction_2': predictions_2, 'True_2': predictions_2 * 0.8}).reset_index(drop=True)\n",
    "\n",
    "# Menghitung profit untuk masing-masing wilayah\n",
    "profits_geo_data_0 = calculate_bootstrap_profit(result_0['Prediction_0'])\n",
    "profits_geo_data_1 = calculate_bootstrap_profit(result_1['Prediction_1'])\n",
    "profits_geo_data_2 = calculate_bootstrap_profit(result_2['Prediction_2'])\n",
    "\n",
    "# Menghitung rata-rata profit, interval kepercayaan 95%, dan risiko kerugian\n",
    "mean_profit_geo_data_0 = np.mean(profits_geo_data_0)\n",
    "confidence_interval_geo_data_0 = np.percentile(profits_geo_data_0, [2.5, 97.5])\n",
    "risk_of_loss_geo_data_0 = np.mean(np.array(profits_geo_data_0) < 0) * 100\n",
    "\n",
    "mean_profit_geo_data_1 = np.mean(profits_geo_data_1)\n",
    "confidence_interval_geo_data_1 = np.percentile(profits_geo_data_1, [2.5, 97.5])\n",
    "risk_of_loss_geo_data_1 = np.mean(np.array(profits_geo_data_1) < 0) * 100\n",
    "\n",
    "mean_profit_geo_data_2 = np.mean(profits_geo_data_2)\n",
    "confidence_interval_geo_data_2 = np.percentile(profits_geo_data_2, [2.5, 97.5])\n",
    "risk_of_loss_geo_data_2 = np.mean(np.array(profits_geo_data_2) < 0) * 100\n",
    "\n",
    "# Menampilkan hasil\n",
    "print(\"Wilayah geo_data_0:\")\n",
    "print(f\"Total Volume Pemesanan: {result_0['Prediction_0'].sum()}\")\n",
    "print(f\"Keuntungan: {mean_profit_geo_data_0}\")\n",
    "print(f\"Interval Kepercayaan 95%: {confidence_interval_geo_data_0}\")\n",
    "print(f\"Risiko Kerugian: {risk_of_loss_geo_data_0}%\\n\")\n",
    "\n",
    "print(\"Wilayah geo_data_1:\")\n",
    "print(f\"Total Volume Pemesanan: {result_1['Prediction_1'].sum()}\")\n",
    "print(f\"Keuntungan: {mean_profit_geo_data_1}\")\n",
    "print(f\"Interval Kepercayaan 95%: {confidence_interval_geo_data_1}\")\n",
    "print(f\"Risiko Kerugian: {risk_of_loss_geo_data_1}%\\n\")\n",
    "\n",
    "print(\"Wilayah geo_data_2:\")\n",
    "print(f\"Total Volume Pemesanan: {result_2['Prediction_2'].sum()}\")\n",
    "print(f\"Keuntungan: {mean_profit_geo_data_2}\")\n",
    "print(f\"Interval Kepercayaan 95%: {confidence_interval_geo_data_2}\")\n",
    "print(f\"Risiko Kerugian: {risk_of_loss_geo_data_2}%\")"
   ]
  },
  {
   "cell_type": "markdown",
   "metadata": {},
   "source": [
    "1. Total Volume Pemesanan:\n",
    "\n",
    "- data_0: 49.14\n",
    "- data_1: 34.16\n",
    "- data_2: 48.33\n",
    "\n",
    "Ini adalah total volume pemesanan yang dihasilkan dari prediksi pada masing-masing wilayah.\n",
    "\n",
    "2. Keuntungan:\n",
    "- data_0: 220,785.42\n",
    "- data_1: 154,278.69\n",
    "- data_2: 217,586.71\n",
    "\n",
    "Ini adalah rata-rata keuntungan yang diestimasi dari distribusi profit hasil bootstrapping pada masing-masing wilayah.\n",
    "\n",
    "3. Interval Kepercayaan 95%:\n",
    "- data_0: [195,530.10, 243,897.28]\n",
    "- data_1: [134,270.36, 173,504.82]\n",
    "- data_2: [193,015.47, 243,634.47]\n",
    "\n",
    "Interval kepercayaan 95% menunjukkan rentang di mana kita dapat yakin bahwa nilai sebenarnya dari keuntungan akan berada di dalamnya dengan tingkat kepercayaan 95%.\n",
    "\n",
    "4. Risiko Kerugian:\n",
    "- data_0: 0.0%\n",
    "- data_1: 0.0%\n",
    "- data_2: 0.0%\n",
    "\n",
    "Risiko kerugian dihitung sebagai persentase dari jumlah sampel yang memberikan keuntungan negatif. Nilai 0.0% menunjukkan bahwa, berdasarkan simulasi bootstrapping, tidak ada risiko kerugian yang terdeteksi pada rentang interval kepercayaan 95%.\n",
    "\n",
    "Kesimpulan:\n",
    "Semua wilayah (geo_data_0, geo_data_1, dan geo_data_2) memiliki keuntungan yang positif dengan risiko kerugian 0.0%.\n",
    "dan dari hasil ini sama dengan pengecekan perhitungan laba, bahwa data_0 adalah yang tertinggi, namun kita perlu cek dari hasil RSMEnya kita bandingkan dengan data_1 kembali, untuk mengecek hasil yang akan kita pakai."
   ]
  },
  {
   "cell_type": "code",
   "execution_count": 132,
   "metadata": {},
   "outputs": [
    {
     "name": "stdout",
     "output_type": "stream",
     "text": [
      "Investasi Total: 100000000\n",
      "Jumlah Sumur: 200\n",
      "Target Pendapatan per Sumur: 500000\n",
      "\n",
      "Rata-rata Pemesanan geo_data_0: 0.5216726159508389\n",
      "Total Pemesanan geo_data_0 (untuk 200 sumur): 104.33452319016779\n",
      "\n",
      "Keuntungan yang Diharapkan: 469505.35435575503\n",
      "Risiko Kerugian: 99530494.64564425\n",
      "\n",
      "Kesimpulan: Wilayah ini memiliki risiko kerugian yang tinggi, sebaiknya dipertimbangkan ulang.\n"
     ]
    }
   ],
   "source": [
    "# Variabel untuk perhitungan laba ## data_0\n",
    "investasi_total = 100000000  # Investasi untuk 200 sumur dalam USD\n",
    "jumlah_sumur = 200\n",
    "target_pendapatan_per_sumur = 500000  # Target pendapatan per sumur untuk menghindari kerugian dalam USD\n",
    "\n",
    "# Menyimpan nilai pemesanan rata-rata untuk setiap wilayah\n",
    "rata_rata_pemesanan_geo_data_0 = result_0['Prediction_0'].mean()\n",
    "\n",
    "# Menghitung total pemesanan untuk 200 sumur\n",
    "total_pemesanan_geo_data_0 = rata_rata_pemesanan_geo_data_0 * jumlah_sumur\n",
    "\n",
    "# Menghitung keuntungan dan risiko\n",
    "keuntungan = total_pemesanan_geo_data_0 * 4500  # Pendapatan per unit produk dalam USD\n",
    "risiko_kerugian = investasi_total - keuntungan\n",
    "\n",
    "# Menampilkan hasil\n",
    "print(\"Investasi Total:\", investasi_total)\n",
    "print(\"Jumlah Sumur:\", jumlah_sumur)\n",
    "print(\"Target Pendapatan per Sumur:\", target_pendapatan_per_sumur)\n",
    "print(\"\\nRata-rata Pemesanan geo_data_0:\", rata_rata_pemesanan_geo_data_0)\n",
    "print(\"Total Pemesanan geo_data_0 (untuk 200 sumur):\", total_pemesanan_geo_data_0)\n",
    "print(\"\\nKeuntungan yang Diharapkan:\", keuntungan)\n",
    "print(\"Risiko Kerugian:\", risiko_kerugian)\n",
    "\n",
    "# Kesimpulan\n",
    "if total_pemesanan_geo_data_0 >= investasi_total / target_pendapatan_per_sumur:\n",
    "    print(\"\\nKesimpulan: Wilayah ini memenuhi syarat untuk pengembangan sumur minyak.\")\n",
    "else:\n",
    "    print(\"\\nKesimpulan: Wilayah ini memiliki risiko kerugian yang tinggi, sebaiknya dipertimbangkan ulang.\")    \n",
    "\n",
    "    \n"
   ]
  },
  {
   "cell_type": "markdown",
   "metadata": {},
   "source": [
    "Dari hasil RSME jika kita hitung perhitugan labanya, mengalami kerugian untuk data_0, maka kita bisa pertimbangkan untuk tidak memakai data_0 untuk membuat sumur."
   ]
  },
  {
   "cell_type": "markdown",
   "metadata": {},
   "source": [
    "### Kesimpulan Umum"
   ]
  },
  {
   "cell_type": "markdown",
   "metadata": {},
   "source": [
    "Dari projek ini kita sudah memuat library yang diperlukan, mempersiapkan dataset, membagi dataset, melatih serta menguji `model machine learning` menggunakan linier regressio, untuk memprediksi tempat terbaik untuk penambangan 200 sumur.\n",
    "\n",
    "Dan dapat disimpulkan sebagai berkut:\n",
    "- Pembagian dataset untuk melatih serta menguji `model machine learning` dibagi menjadi `75% data training` dan `25% data validasi`.\n",
    "- Pengujian menggunakan metode `Linier Regression` untuk kemudahan prediksi, karena ketiga dataset, mempunyai baris dan kolom yang sama dengan perbedaan nilai.\n",
    "- Dari Pelatihan dan Uji Model, didapatkan bahwa data_1 mempunyai `nilai prediksi dan RSME` terbaik dibanding data yang lain.\n",
    " - Rata-rata Prediksi Volume geo_data_1: 68.71287803913762\n",
    " - RMSE geo_data_1: 0.890280100102884\n",
    "- Untuk pengecekan laba dari masing masing wilayah didapatkan data_0 mempunyai nilai terbaik dibandingkan data lainnya.\n",
    " - Total Volume Pemesanan: 30881.463288146995\n",
    " - Keuntungan: 38966584.79666147\n",
    "- Untuk pengecekan risiko dan keuntungan setiap wilayah didpatkan data_0 mempunyai nilai terbaik dibandingkan data lainnya.\n",
    " - Wilayah geo_data_0:\n",
    " - Total Volume Pemesanan: 45.20561263190073\n",
    " - Keuntungan: 203691.43269744318\n",
    " - Interval Kepercayaan 95%: [180166.11971972 227328.73439518]\n",
    " - Risiko Kerugian: 0.0%\n",
    "- Setelah dcek ulang kembali data_0, perhitungan labanya dengan menggunakan nilai RSME, didpatkan akan ada potensi kerugian yang sangat besar.\n",
    " - Investasi Total: 100000000\n",
    " - Jumlah Sumur: 200\n",
    " - Target Pendapatan per Sumur: 500000\n",
    " - Rata-rata Pemesanan geo_data_0: 0.49136535469457315\n",
    " - Total Pemesanan geo_data_0 (untuk 200 sumur): 98.27307093891463\n",
    " - Keuntungan yang Diharapkan: 442228.8192251158\n",
    " - Risiko Kerugian: 99557771.18077488\n",
    " - Kesimpulan: Wilayah ini memiliki risiko kerugian yang tinggi, sebaiknya dipertimbangkan ulang.\n",
    "- Maka, `disimpulkan 200 tempat terbaik untuk investasi adalah wilayah data_1 karena mempunyai potensi keuntungan lebih tinggi dari lainnya dan minimalisir kerugian`.\n",
    "\n"
   ]
  }
 ],
 "metadata": {
  "kernelspec": {
   "display_name": "Python 3 (ipykernel)",
   "language": "python",
   "name": "python3"
  },
  "language_info": {
   "codemirror_mode": {
    "name": "ipython",
    "version": 3
   },
   "file_extension": ".py",
   "mimetype": "text/x-python",
   "name": "python",
   "nbconvert_exporter": "python",
   "pygments_lexer": "ipython3",
   "version": "3.9.19"
  },
  "toc": {
   "base_numbering": 1,
   "nav_menu": {},
   "number_sections": true,
   "sideBar": true,
   "skip_h1_title": true,
   "title_cell": "Table of Contents",
   "title_sidebar": "Contents",
   "toc_cell": false,
   "toc_position": {
    "height": "calc(100% - 180px)",
    "left": "10px",
    "top": "150px",
    "width": "579.2px"
   },
   "toc_section_display": true,
   "toc_window_display": true
  }
 },
 "nbformat": 4,
 "nbformat_minor": 2
}
