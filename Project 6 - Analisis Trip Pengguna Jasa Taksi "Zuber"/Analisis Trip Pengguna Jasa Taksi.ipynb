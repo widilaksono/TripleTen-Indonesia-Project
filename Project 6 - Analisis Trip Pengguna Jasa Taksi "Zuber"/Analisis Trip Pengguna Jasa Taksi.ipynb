{
 "cells": [
  {
   "cell_type": "markdown",
   "metadata": {},
   "source": [
    "## Pendahuluan"
   ]
  },
  {
   "cell_type": "markdown",
   "metadata": {},
   "source": [
    "**Studi: Analisis Trip Pengguna Jasa Taksi**"
   ]
  },
  {
   "cell_type": "markdown",
   "metadata": {},
   "source": [
    "Zuber, perusahaan ride-sharing di Chicago, ingin menganalisis preferensi penumpang dan dampak faktor eksternal pada perjalanan. Kita menggunakan SQL untuk mengumpulkan data dan Python untuk analisis EDA. Analisis kita meliputi:\n",
    "\n",
    "**`SQL:`**\n",
    "\n",
    "- Data perusahaan taksi terbanyak pada 15-16 November 2017.\n",
    "- Jumlah perjalanan Kuning dan Biru pada 1-7 November 2017.\n",
    "- Jumlah perjalanan Flash Cab dan Taxi Affiliation Services pada 1-7 November 2017.\n",
    "- Data cuaca pada Sabtu perjalanan dari Loop ke O’Hare di November 2017.\n",
    "\n",
    "**`Python:`**\n",
    "- Perusahaan taksi terbanyak pada 15-16 November 2017.\n",
    "- Distribusi jumlah perjalanan dari semua perusahaan pada 15-16 November 2017.\n",
    "- Lokasi dropoff favorit pengguna selama November 2017.\n",
    "- Distribusi rata-rata perjalanan di tiap lokasi dropoff selama November 2017.\n",
    "- Menguji hipotesis: Perubahan durasi rata-rata perjalanan dari Loop ke Bandara O'Hare pada hari Sabtu yang hujan."
   ]
  },
  {
   "cell_type": "markdown",
   "metadata": {},
   "source": [
    "## Konten <a id='back'></a>\n",
    "\n",
    "* [1.Pendahuluan](#intro)\n",
    "* [2. Konten](#cont_3)\n",
    "    * [2.1 Mengumpulkan Data Menggunakan SQL ](#cont_4)\n",
    "      * [2.1.1 Web Scraping](#cont_8)\n",
    "      * [2.1.2 Menghitung dan Mengurutkan Trip Berdasarkan Nama Perusahaan](#cont_14)\n",
    "      * [2.1.3 Menghitung Jumlah Trip Berdasarkan Nama Perusahaan yang Menggunakan kata Yellow atau Blue](#cont_14)\n",
    "      * [2.1.4 Menghitung Jumlah Trip untuk Nama Perusahaan Flash Cab dan Taxi Affiliation Services](#cont_14)\n",
    "      * [2.1.5 Mengumpulkan Hasil Akhir Rekaman Cuaca](#cont_14)\n",
    "    * [2.2 Mempersiapkan Datasets](#cont_15)\n",
    "      * [2.2.1 Insialisasi Library](#cont_15)\n",
    "      * [2.2.2 Mempersiapkan Dataset company_name](#cont_15)\n",
    "      * [2.2.3 Mempersiapkan Dataset dropoff_location](#cont_15)\n",
    "      * [2.2.4 Mempersiapkan Dataset weather](#cont_15)\n",
    "    * [2.3 Memperbaiki Datasets](#cont_20)\n",
    "      * [2.3.1 Mengecek Duplikat pada Datasets](#cont_8)\n",
    "      * [2.3.2 Memperbaiki Kualitas Data pada Dataset company_name](#cont_14)\n",
    "      * [2.3.3 Memperbaiki Kualitas Data pada Dataset dropoff_location](#cont_14)\n",
    "      * [2.3.4 Memperbaiki Kualitas Data pada Dataset weather](#cont_14)\n",
    "    * [2.4 Analisis Data Eksploratif (EDA)](#cont_22) \n",
    "      * [2.4.1 Analisis Dataset Perusahaan Taksi](#cont_22)\n",
    "      * [2.4.2 Analisis Dataset Lokasi Dropoff](#cont_22)    \n",
    "    * [2.5 Pengujian Hipotesis](#cont_23)\n",
    "    * [2.6 Kesimpulan Umum](#cont_24)\n"
   ]
  },
  {
   "cell_type": "markdown",
   "metadata": {},
   "source": [
    "### Mengumpulkan Data Menggunakan SQL"
   ]
  },
  {
   "cell_type": "markdown",
   "metadata": {},
   "source": [
    "Kita akan menjelajahi beberapa kumpulan data yang berkorelasi: Neighborhoods, Cabs, Trips, dan Weather. Ini adalah ikhtisar fitur-fitur utama dalam setiap dataset:\n",
    "\n",
    "**`Neighborhoods`**:\n",
    "- `nama` (Nama Daerah)\n",
    "- `neighborhood_id` (Kode Wilayah)\n",
    "\n",
    "**`Cabs:`**\n",
    "- `cab_id` (Kode Kendaraan)\n",
    "- `vehicle_id` (Identitas Teknis Kendaraan)\n",
    "- `company_name` (Nama Perusahaan)\n",
    "\n",
    "**`Trips:`**\n",
    "- `trip_id` (Identitas Trip)\n",
    "- `cab_id` (Kode Kendaraan)\n",
    "- `start_ts` (Waktu Awal Perjalanan)\n",
    "- `end_ts` (Waktu Akhir Perjalanan)\n",
    "- `duration_seconds` (Durasi Perjalanan, detik)\n",
    "- `distance_miles` (Jarak Perjalanan, mil)\n",
    "- `pickup_location_id` (Lokasi Penjemputan)\n",
    "- `dropoff_location_id` (Lokasi Penurunan)\n",
    "\n",
    "**`Weather:`**\n",
    "- `record_id` (Kode Perekaman Cuaca)\n",
    "- `ts` (Waktu Perekaman Cuaca)\n",
    "- `suhu` (Suhu)\n",
    "- `deskripsi` (Deskripsi Kondisi Cuaca)\n",
    "\n",
    "Kami akan menggunakan dataset ini untuk membuat sebuah database relasional, dengan menghubungkan data dari satu dataset ke yang lain menggunakan primary key (PK) dan foreign key (FK)."
   ]
  },
  {
   "attachments": {
    "Image1%20%281%29.png": {
     "image/png": "[encoded data removed]"
    }
   },
   "cell_type": "markdown",
   "metadata": {},
   "source": [
    "![Image1%20%281%29.png](attachment:Image1%20%281%29.png)\n",
    "\n",
    "Source: tripleten.com"
   ]
  },
  {
   "cell_type": "markdown",
   "metadata": {},
   "source": [
    "#### Web Scraping"
   ]
  },
  {
   "cell_type": "markdown",
   "metadata": {},
   "source": [
    "Di bagian ini, kita akan melakukan scraping `weather_records` pada server dan mengubahnya menjadi Data Frame. Kita akan menggunakan `TripleTen Server` yang memiliki `weather_records` dengan menggunakan parameter `attrs={\"id\": \"weather_records\"}`."
   ]
  },
  {
   "cell_type": "code",
   "execution_count": 32,
   "metadata": {},
   "outputs": [],
   "source": [
    "# memuat modul\n",
    "import requests\n",
    "from bs4 import BeautifulSoup\n",
    "import pandas as pd"
   ]
  },
  {
   "cell_type": "code",
   "execution_count": 33,
   "metadata": {},
   "outputs": [
    {
     "name": "stdout",
     "output_type": "stream",
     "text": [
      "           Date and time Temperature       Description\n",
      "0    2017-11-01 00:00:00     276.150     broken clouds\n",
      "1    2017-11-01 01:00:00     275.700  scattered clouds\n",
      "2    2017-11-01 02:00:00     275.610   overcast clouds\n",
      "3    2017-11-01 03:00:00     275.350     broken clouds\n",
      "4    2017-11-01 04:00:00     275.240     broken clouds\n",
      "..                   ...         ...               ...\n",
      "692  2017-11-29 20:00:00     281.340        few clouds\n",
      "693  2017-11-29 21:00:00     281.690      sky is clear\n",
      "694  2017-11-29 22:00:00     281.070        few clouds\n",
      "695  2017-11-29 23:00:00     280.060      sky is clear\n",
      "696  2017-11-30 00:00:00     278.460      sky is clear\n",
      "\n",
      "[697 rows x 3 columns]\n"
     ]
    }
   ],
   "source": [
    "# URL\n",
    "URL='https://practicum-content.s3.us-west-1.amazonaws.com/data-analyst-eng/moved_chicago_weather_2017.html'\n",
    "\n",
    "# meminta request ke server\n",
    "req = requests.get(URL)\n",
    "soup = BeautifulSoup(req.text)\n",
    "table = soup.find('table', attrs={\"id\": \"weather_records\"})\n",
    "\n",
    "# mengumpulkan data\n",
    "heading_table=[]\n",
    "for row in table.find_all('th'):\n",
    "    heading_table.append(row.text)   \n",
    "content=[]\n",
    "for row in table.find_all('tr'):\n",
    "    if not row.find_all('th'):\n",
    "        content.append([element.text for element in row.find_all('td')])\n",
    "\n",
    "# membuat data frame\n",
    "weather_records = pd.DataFrame(content, columns = heading_table)\n",
    "print(weather_records)"
   ]
  },
  {
   "cell_type": "markdown",
   "metadata": {},
   "source": [
    "#### Menghitung dan Mengurutkan Trip Berdasarkan Nama Perusahaan"
   ]
  },
  {
   "cell_type": "markdown",
   "metadata": {},
   "source": [
    "Kita akan menggunakan SQL untuk menghitung dan mengurutkan perjalanan dari kumpulan data `trips` dan `cabs`. Kita mengelompokkannya berdasarkan `company_name` dan mengurutkan hasilnya. Ini kodenya:"
   ]
  },
  {
   "cell_type": "markdown",
   "metadata": {},
   "source": [
    "```SQL\n",
    "SELECT\n",
    "    cabs.company_name,\n",
    "    COUNT(trips.trip_id) AS trips_amount\n",
    "FROM \n",
    "    cabs\n",
    "    INNER JOIN \n",
    "    trips \n",
    "    ON \n",
    "    trips.cab_id = cabs.cab_id\n",
    "WHERE \n",
    "    CAST(trips.start_ts AS date) BETWEEN '2017-11-15' AND '2017-11-16'\n",
    "GROUP BY \n",
    "    company_name\n",
    "ORDER BY \n",
    "    trips_amount DESC;\n",
    "```"
   ]
  },
  {
   "cell_type": "markdown",
   "metadata": {},
   "source": [
    "Hasil:\n",
    "\n",
    "```SQL\n",
    "company_name\t         trips_amount\n",
    "Flash Cab\t                19558\n",
    "Taxi Affiliation Services\t11422\n",
    "Medallion Leasin\t         10367\n",
    "Yellow Cab\t                9888\n",
    ".\n",
    ".\n",
    ".\n",
    "2733 - 74600 Benny Jona\t7\n",
    "5874 - 73628 Sergey Cab Corp.\t5\n",
    "2241 - 44667 - Felman Corp, Manuel Alonso\t3\n",
    "3556 - 36214 RC Andrews Cab\t2\n",
    "```"
   ]
  },
  {
   "cell_type": "markdown",
   "metadata": {},
   "source": [
    "#### Menghitung Jumlah Trip Berdasarkan Nama Perusahaan yang Menggunakan kata Yellow atau Blue"
   ]
  },
  {
   "cell_type": "markdown",
   "metadata": {},
   "source": [
    "Kami akan mencari nama perusahaan yang menggunakan kata `Yellow` atau `Blue` untuk DateTime antara `2017-11-01` dan `2017-11-07`. Ini kodenya:"
   ]
  },
  {
   "cell_type": "markdown",
   "metadata": {},
   "source": [
    "```SQL\n",
    "SELECT\n",
    "    cabs.company_name as company_name,\n",
    "    COUNT(trips.trip_id) AS trips_amount\n",
    "FROM \n",
    "    cabs\n",
    "INNER JOIN \n",
    "    trips \n",
    "ON \n",
    "    trips.cab_id = cabs.cab_id\n",
    "WHERE \n",
    "    CAST(trips.start_ts AS date) BETWEEN '2017-11-01' AND '2017-11-07'\n",
    "    AND cabs.company_name LIKE '%%Yellow%%'\n",
    "GROUP BY company_name\n",
    "UNION ALL\n",
    "SELECT\n",
    "    cabs.company_name as company_name,\n",
    "    COUNT(trips.trip_id) AS trips_amount\n",
    "FROM \n",
    "    cabs\n",
    "INNER JOIN \n",
    "    trips \n",
    "ON \n",
    "    trips.cab_id = cabs.cab_id\n",
    "WHERE \n",
    "    CAST(trips.start_ts AS date) BETWEEN '2017-11-01' AND '2017-11-07'\n",
    "    AND cabs.company_name LIKE '%%Blue%%'\n",
    "GROUP BY company_name;\n",
    "```"
   ]
  },
  {
   "cell_type": "markdown",
   "metadata": {},
   "source": [
    "Hasil:\n",
    "\n",
    "```SQL\n",
    "company_name\t                 trips_amount\n",
    "Taxi Affiliation Service Yellow\t   29213\n",
    "Yellow Cab\t                        33668\n",
    "Blue Diamond\t                       6764\n",
    "Blue Ribbon Taxi Association Inc.\t 17675\n",
    "```"
   ]
  },
  {
   "cell_type": "markdown",
   "metadata": {},
   "source": [
    "#### Menghitung Jumlah Trip untuk Nama Perusahaan Flash Cab dan Taxi Affiliation Services"
   ]
  },
  {
   "cell_type": "markdown",
   "metadata": {},
   "source": [
    "Kita akan mengatur nama perusahaan; jika bukan `Flash Cab` atau `Taxi Affiliation Services` akan menjadi `Other`. Kita akan menghitung DateTime antara `2017-11-01` dan `2017-11-07`. Ini kodenya:"
   ]
  },
  {
   "cell_type": "markdown",
   "metadata": {},
   "source": [
    "```SQL\n",
    "SELECT\n",
    "    CASE \n",
    "        WHEN cabs.company_name = 'Flash Cab' THEN 'Flash Cab' \n",
    "        WHEN cabs.company_name = 'Taxi Affiliation Services' THEN 'Taxi Affiliation Services' \n",
    "        ELSE 'Other' \n",
    "    END AS company,\n",
    "    COUNT(trips.trip_id) as trips_amount                \n",
    "FROM \n",
    "    cabs\n",
    "INNER JOIN \n",
    "    trips \n",
    "ON \n",
    "    trips.cab_id = cabs.cab_id\n",
    "WHERE \n",
    "    CAST(trips.start_ts AS date) BETWEEN '2017-11-01' AND '2017-11-07'\n",
    "GROUP BY \n",
    "    company\n",
    "ORDER BY \n",
    "    trips_amount DESC;\n",
    "```"
   ]
  },
  {
   "cell_type": "markdown",
   "metadata": {},
   "source": [
    "Hasil:\n",
    "\n",
    "```SQL\n",
    "company\t                 trips_amount\n",
    "Other\t                      335771\n",
    "Flash Cab\t                   64084\n",
    "Taxi Affiliation Services\t   37583\n",
    "```"
   ]
  },
  {
   "cell_type": "markdown",
   "metadata": {},
   "source": [
    "#### Mengumpulkan Hasil Akhir Rekaman Cuaca"
   ]
  },
  {
   "cell_type": "markdown",
   "metadata": {},
   "source": [
    "Kita akan mengumpulkan data untuk kasus `jika hujan pada hari Sabtu berpengaruh atau tidak` untuk perjalanan dari `Loop (ID=50)` ke `Hare (ID=63)`. Kami akan menganalisisnya nanti menggunakan `Python`. Pertama kita perlu menemukan ID `Hare` dan `Loop` di set data lingkungan. Ini kodenya:"
   ]
  },
  {
   "cell_type": "markdown",
   "metadata": {},
   "source": [
    "```SQL\n",
    "SELECT\n",
    "    neighborhood_id,\n",
    "    name\n",
    "FROM\n",
    "    neighborhoods\n",
    "WHERE\n",
    "    name LIKE '%Hare' OR name LIKE 'Loop' \n",
    "```"
   ]
  },
  {
   "cell_type": "markdown",
   "metadata": {},
   "source": [
    "Hasil:\n",
    "\n",
    "```SQL\n",
    "neighborhood_id\tname\n",
    "50\tLoop\n",
    "63\tO'Hare\n",
    "```"
   ]
  },
  {
   "cell_type": "markdown",
   "metadata": {},
   "source": [
    "Kedua, Kita akan mengubah deskripsi `weather_contion` menjadi dua kategori: `Bad` dan `Good` untuk penyederhanaan. Ini kodenya:"
   ]
  },
  {
   "cell_type": "markdown",
   "metadata": {},
   "source": [
    "```SQL\n",
    "SELECT\n",
    "    ts,\n",
    "    CASE\n",
    "        WHEN description LIKE '%rain%' OR description LIKE '%storm%' THEN 'Bad'\n",
    "        ELSE 'Good'\n",
    "    END AS weather_conditions\n",
    "FROM \n",
    "    weather_records;\n",
    "```"
   ]
  },
  {
   "cell_type": "markdown",
   "metadata": {},
   "source": [
    "Hasil:\n",
    "\n",
    "```SQL\n",
    "ts\t             weather_conditions\n",
    "2017-11-01 00:00:00\tGood\n",
    "2017-11-01 01:00:00\tGood\n",
    "2017-11-01 02:00:00\tGood\n",
    ".\n",
    ".\n",
    ".\n",
    "2017-11-09 05:00:00\tGood\n",
    "2017-11-09 06:00:00\tGood\n",
    "2017-11-09 07:00:00\tGood\n",
    "```"
   ]
  },
  {
   "cell_type": "markdown",
   "metadata": {},
   "source": [
    "Terakhir, kita akan mengumpulkan data yang kita butuhkan. Ini kodenya:"
   ]
  },
  {
   "cell_type": "markdown",
   "metadata": {},
   "source": [
    "```SQL\n",
    "SELECT\n",
    "    start_ts,\n",
    "    T.weather_conditions,\n",
    "    duration_seconds\n",
    "FROM \n",
    "    trips\n",
    "INNER JOIN (\n",
    "    SELECT\n",
    "        ts,\n",
    "        CASE\n",
    "            WHEN description LIKE '%rain%' OR description LIKE '%storm%' THEN 'Bad'\n",
    "            ELSE 'Good'\n",
    "        END AS weather_conditions\n",
    "    FROM \n",
    "        weather_records          \n",
    ") AS T on T.ts = trips.start_ts\n",
    "WHERE \n",
    "    pickup_location_id = 50 AND dropoff_location_id = 63 AND EXTRACT (DOW from trips.start_ts) = 6\n",
    "ORDER BY trips.trip_id\n",
    "```"
   ]
  },
  {
   "cell_type": "markdown",
   "metadata": {},
   "source": [
    "==> Hasil:\n",
    "\n",
    "```SQL\n",
    "start_ts\t      weather_conditions\tduration_seconds\n",
    "2017-11-25 12:00:00\t     Good\t           1380\n",
    "2017-11-25 16:00:00\t     Good\t           2410\n",
    "2017-11-25 14:00:00\t     Good\t           1920\n",
    ".\n",
    ".\n",
    ".\n",
    "2017-11-04 11:00:00\t     Good\t           2160\n",
    "2017-11-11 15:00:00\t     Good\t           2400\n",
    "2017-11-11 20:00:00\t     Good\t           1500\n",
    "```"
   ]
  },
  {
   "cell_type": "markdown",
   "metadata": {},
   "source": [
    "Semua data yang terkait dengan pertanyaan akan disimpan di `csv` dan akan dimuat ke `Python` untuk dianalisis."
   ]
  },
  {
   "cell_type": "markdown",
   "metadata": {},
   "source": [
    "### Mempersiapkan Datasets"
   ]
  },
  {
   "cell_type": "markdown",
   "metadata": {},
   "source": [
    "Sebelum melakukan analisis mari kita lakukan beberapa langkah untuk mempersiapkan dataframe mulai dari `memuat library`, `memuat dataframe`, `cleaning dataframe` dan sebagainya."
   ]
  },
  {
   "cell_type": "markdown",
   "metadata": {},
   "source": [
    "#### Inisialisasi Library"
   ]
  },
  {
   "cell_type": "markdown",
   "metadata": {},
   "source": [
    "Beberapa `library` penunjang untuk mempermudah analisis dengan deskripsi sebagai berikut:\n",
    "- `Pandas` untuk mengolah dataframe\n",
    "- `numpy` untuk pengolahan numerik\n",
    "- `seaborns` dan `matplotlib` untuk visualisasi data\n",
    "- `scipy` untuk pengujian hipotesis\n",
    "- `re` untuk membuat regular expression"
   ]
  },
  {
   "cell_type": "code",
   "execution_count": 34,
   "metadata": {},
   "outputs": [],
   "source": [
    "# mengimpor library\n",
    "import pandas as pd\n",
    "import numpy as np\n",
    "import re\n",
    "import matplotlib.pyplot as plt\n",
    "import seaborn as sns\n",
    "from scipy import stats as st"
   ]
  },
  {
   "cell_type": "markdown",
   "metadata": {},
   "source": [
    "#### Mempersiapkan Dataset `company_name`"
   ]
  },
  {
   "cell_type": "markdown",
   "metadata": {},
   "source": [
    "Memuat dataframe nama perusahaan `company_name` dari file csv kedalam projek."
   ]
  },
  {
   "cell_type": "code",
   "execution_count": 35,
   "metadata": {},
   "outputs": [],
   "source": [
    "# memuat dataset company_name\n",
    "df_company = pd.read_csv('/datasets/project_sql_result_01.csv')"
   ]
  },
  {
   "cell_type": "markdown",
   "metadata": {},
   "source": [
    "Selanjutnya, kita cek isi dataframe `company_name`"
   ]
  },
  {
   "cell_type": "code",
   "execution_count": 36,
   "metadata": {},
   "outputs": [
    {
     "data": {
      "text/html": [
       "<div>\n",
       "<style scoped>\n",
       "    .dataframe tbody tr th:only-of-type {\n",
       "        vertical-align: middle;\n",
       "    }\n",
       "\n",
       "    .dataframe tbody tr th {\n",
       "        vertical-align: top;\n",
       "    }\n",
       "\n",
       "    .dataframe thead th {\n",
       "        text-align: right;\n",
       "    }\n",
       "</style>\n",
       "<table border=\"1\" class=\"dataframe\">\n",
       "  <thead>\n",
       "    <tr style=\"text-align: right;\">\n",
       "      <th></th>\n",
       "      <th>company_name</th>\n",
       "      <th>trips_amount</th>\n",
       "    </tr>\n",
       "  </thead>\n",
       "  <tbody>\n",
       "    <tr>\n",
       "      <th>0</th>\n",
       "      <td>Flash Cab</td>\n",
       "      <td>19558</td>\n",
       "    </tr>\n",
       "    <tr>\n",
       "      <th>1</th>\n",
       "      <td>Taxi Affiliation Services</td>\n",
       "      <td>11422</td>\n",
       "    </tr>\n",
       "    <tr>\n",
       "      <th>2</th>\n",
       "      <td>Medallion Leasing</td>\n",
       "      <td>10367</td>\n",
       "    </tr>\n",
       "    <tr>\n",
       "      <th>3</th>\n",
       "      <td>Yellow Cab</td>\n",
       "      <td>9888</td>\n",
       "    </tr>\n",
       "    <tr>\n",
       "      <th>4</th>\n",
       "      <td>Taxi Affiliation Service Yellow</td>\n",
       "      <td>9299</td>\n",
       "    </tr>\n",
       "    <tr>\n",
       "      <th>...</th>\n",
       "      <td>...</td>\n",
       "      <td>...</td>\n",
       "    </tr>\n",
       "    <tr>\n",
       "      <th>59</th>\n",
       "      <td>4053 - 40193 Adwar H. Nikola</td>\n",
       "      <td>7</td>\n",
       "    </tr>\n",
       "    <tr>\n",
       "      <th>60</th>\n",
       "      <td>2733 - 74600 Benny Jona</td>\n",
       "      <td>7</td>\n",
       "    </tr>\n",
       "    <tr>\n",
       "      <th>61</th>\n",
       "      <td>5874 - 73628 Sergey Cab Corp.</td>\n",
       "      <td>5</td>\n",
       "    </tr>\n",
       "    <tr>\n",
       "      <th>62</th>\n",
       "      <td>2241 - 44667 - Felman Corp</td>\n",
       "      <td>3</td>\n",
       "    </tr>\n",
       "    <tr>\n",
       "      <th>63</th>\n",
       "      <td>3556 - 36214 RC Andrews Cab</td>\n",
       "      <td>2</td>\n",
       "    </tr>\n",
       "  </tbody>\n",
       "</table>\n",
       "<p>64 rows × 2 columns</p>\n",
       "</div>"
      ],
      "text/plain": [
       "                       company_name  trips_amount\n",
       "0                         Flash Cab         19558\n",
       "1         Taxi Affiliation Services         11422\n",
       "2                 Medallion Leasing         10367\n",
       "3                        Yellow Cab          9888\n",
       "4   Taxi Affiliation Service Yellow          9299\n",
       "..                              ...           ...\n",
       "59     4053 - 40193 Adwar H. Nikola             7\n",
       "60          2733 - 74600 Benny Jona             7\n",
       "61    5874 - 73628 Sergey Cab Corp.             5\n",
       "62       2241 - 44667 - Felman Corp             3\n",
       "63      3556 - 36214 RC Andrews Cab             2\n",
       "\n",
       "[64 rows x 2 columns]"
      ]
     },
     "execution_count": 36,
     "metadata": {},
     "output_type": "execute_result"
    }
   ],
   "source": [
    "# Menampilkan sampel dataset company_name\n",
    "df_company"
   ]
  },
  {
   "cell_type": "markdown",
   "metadata": {},
   "source": [
    "Terdapat 64 baris dan 2 kolom untuk dataset `company_name`. Kita lanjutkan cek data yang hilang."
   ]
  },
  {
   "cell_type": "code",
   "execution_count": 37,
   "metadata": {},
   "outputs": [
    {
     "data": {
      "text/html": [
       "<div>\n",
       "<style scoped>\n",
       "    .dataframe tbody tr th:only-of-type {\n",
       "        vertical-align: middle;\n",
       "    }\n",
       "\n",
       "    .dataframe tbody tr th {\n",
       "        vertical-align: top;\n",
       "    }\n",
       "\n",
       "    .dataframe thead th {\n",
       "        text-align: right;\n",
       "    }\n",
       "</style>\n",
       "<table border=\"1\" class=\"dataframe\">\n",
       "  <thead>\n",
       "    <tr style=\"text-align: right;\">\n",
       "      <th></th>\n",
       "      <th>missing_values</th>\n",
       "      <th>% of total</th>\n",
       "    </tr>\n",
       "  </thead>\n",
       "  <tbody>\n",
       "    <tr>\n",
       "      <th>company_name</th>\n",
       "      <td>0</td>\n",
       "      <td>0.0</td>\n",
       "    </tr>\n",
       "    <tr>\n",
       "      <th>trips_amount</th>\n",
       "      <td>0</td>\n",
       "      <td>0.0</td>\n",
       "    </tr>\n",
       "  </tbody>\n",
       "</table>\n",
       "</div>"
      ],
      "text/plain": [
       "              missing_values  % of total\n",
       "company_name               0         0.0\n",
       "trips_amount               0         0.0"
      ]
     },
     "execution_count": 37,
     "metadata": {},
     "output_type": "execute_result"
    }
   ],
   "source": [
    "# Cek apakah ada data nilai yang hilang\n",
    "\n",
    "df_company_missed = df_company.isna().sum().to_frame()\n",
    "df_company_missed = df_company_missed.rename(columns={0: 'missing_values'})\n",
    "df_company_missed['% of total'] = (df_company_missed['missing_values'] / df_company.shape[0]).round(2)\n",
    "df_company_missed.sort_values(by='missing_values', ascending=False)"
   ]
  },
  {
   "cell_type": "markdown",
   "metadata": {},
   "source": [
    "Tidak terdapat data yang hilang pada dataset `company name`."
   ]
  },
  {
   "cell_type": "markdown",
   "metadata": {},
   "source": [
    "####  Mempersiapkan Dataset `dropoff_location`"
   ]
  },
  {
   "cell_type": "markdown",
   "metadata": {},
   "source": [
    "Memuat dataframe nama perusahaan `dropoff_location` dari file csv kedalam projek."
   ]
  },
  {
   "cell_type": "code",
   "execution_count": 38,
   "metadata": {},
   "outputs": [],
   "source": [
    "# memuat dataset dropoff_location\n",
    "df_dropoff = pd.read_csv('/datasets/project_sql_result_04.csv')"
   ]
  },
  {
   "cell_type": "markdown",
   "metadata": {},
   "source": [
    "selanjutnya kita cek isi `dropoff_location`"
   ]
  },
  {
   "cell_type": "code",
   "execution_count": 39,
   "metadata": {},
   "outputs": [
    {
     "data": {
      "text/html": [
       "<div>\n",
       "<style scoped>\n",
       "    .dataframe tbody tr th:only-of-type {\n",
       "        vertical-align: middle;\n",
       "    }\n",
       "\n",
       "    .dataframe tbody tr th {\n",
       "        vertical-align: top;\n",
       "    }\n",
       "\n",
       "    .dataframe thead th {\n",
       "        text-align: right;\n",
       "    }\n",
       "</style>\n",
       "<table border=\"1\" class=\"dataframe\">\n",
       "  <thead>\n",
       "    <tr style=\"text-align: right;\">\n",
       "      <th></th>\n",
       "      <th>dropoff_location_name</th>\n",
       "      <th>average_trips</th>\n",
       "    </tr>\n",
       "  </thead>\n",
       "  <tbody>\n",
       "    <tr>\n",
       "      <th>0</th>\n",
       "      <td>Loop</td>\n",
       "      <td>10727.466667</td>\n",
       "    </tr>\n",
       "    <tr>\n",
       "      <th>1</th>\n",
       "      <td>River North</td>\n",
       "      <td>9523.666667</td>\n",
       "    </tr>\n",
       "    <tr>\n",
       "      <th>2</th>\n",
       "      <td>Streeterville</td>\n",
       "      <td>6664.666667</td>\n",
       "    </tr>\n",
       "    <tr>\n",
       "      <th>3</th>\n",
       "      <td>West Loop</td>\n",
       "      <td>5163.666667</td>\n",
       "    </tr>\n",
       "    <tr>\n",
       "      <th>4</th>\n",
       "      <td>O'Hare</td>\n",
       "      <td>2546.900000</td>\n",
       "    </tr>\n",
       "    <tr>\n",
       "      <th>...</th>\n",
       "      <td>...</td>\n",
       "      <td>...</td>\n",
       "    </tr>\n",
       "    <tr>\n",
       "      <th>89</th>\n",
       "      <td>Mount Greenwood</td>\n",
       "      <td>3.137931</td>\n",
       "    </tr>\n",
       "    <tr>\n",
       "      <th>90</th>\n",
       "      <td>Hegewisch</td>\n",
       "      <td>3.117647</td>\n",
       "    </tr>\n",
       "    <tr>\n",
       "      <th>91</th>\n",
       "      <td>Burnside</td>\n",
       "      <td>2.333333</td>\n",
       "    </tr>\n",
       "    <tr>\n",
       "      <th>92</th>\n",
       "      <td>East Side</td>\n",
       "      <td>1.961538</td>\n",
       "    </tr>\n",
       "    <tr>\n",
       "      <th>93</th>\n",
       "      <td>Riverdale</td>\n",
       "      <td>1.800000</td>\n",
       "    </tr>\n",
       "  </tbody>\n",
       "</table>\n",
       "<p>94 rows × 2 columns</p>\n",
       "</div>"
      ],
      "text/plain": [
       "   dropoff_location_name  average_trips\n",
       "0                   Loop   10727.466667\n",
       "1            River North    9523.666667\n",
       "2          Streeterville    6664.666667\n",
       "3              West Loop    5163.666667\n",
       "4                 O'Hare    2546.900000\n",
       "..                   ...            ...\n",
       "89       Mount Greenwood       3.137931\n",
       "90             Hegewisch       3.117647\n",
       "91              Burnside       2.333333\n",
       "92             East Side       1.961538\n",
       "93             Riverdale       1.800000\n",
       "\n",
       "[94 rows x 2 columns]"
      ]
     },
     "execution_count": 39,
     "metadata": {},
     "output_type": "execute_result"
    }
   ],
   "source": [
    "# menampilkan sampel dataset dropoff_location\n",
    "df_dropoff"
   ]
  },
  {
   "cell_type": "markdown",
   "metadata": {},
   "source": [
    "Terdapat 94 baris dan 2 kolom untuk dataset `dropoff_location`. Kita lanjutkan mengecek data yang hilang."
   ]
  },
  {
   "cell_type": "code",
   "execution_count": 40,
   "metadata": {},
   "outputs": [
    {
     "data": {
      "text/html": [
       "<div>\n",
       "<style scoped>\n",
       "    .dataframe tbody tr th:only-of-type {\n",
       "        vertical-align: middle;\n",
       "    }\n",
       "\n",
       "    .dataframe tbody tr th {\n",
       "        vertical-align: top;\n",
       "    }\n",
       "\n",
       "    .dataframe thead th {\n",
       "        text-align: right;\n",
       "    }\n",
       "</style>\n",
       "<table border=\"1\" class=\"dataframe\">\n",
       "  <thead>\n",
       "    <tr style=\"text-align: right;\">\n",
       "      <th></th>\n",
       "      <th>missing_values</th>\n",
       "      <th>% of total</th>\n",
       "    </tr>\n",
       "  </thead>\n",
       "  <tbody>\n",
       "    <tr>\n",
       "      <th>dropoff_location_name</th>\n",
       "      <td>0</td>\n",
       "      <td>0.0</td>\n",
       "    </tr>\n",
       "    <tr>\n",
       "      <th>average_trips</th>\n",
       "      <td>0</td>\n",
       "      <td>0.0</td>\n",
       "    </tr>\n",
       "  </tbody>\n",
       "</table>\n",
       "</div>"
      ],
      "text/plain": [
       "                       missing_values  % of total\n",
       "dropoff_location_name               0         0.0\n",
       "average_trips                       0         0.0"
      ]
     },
     "execution_count": 40,
     "metadata": {},
     "output_type": "execute_result"
    }
   ],
   "source": [
    "# Cek apakah ada data nilai yang hilang\n",
    "\n",
    "df_dropoff_missed = df_dropoff.isna().sum().to_frame()\n",
    "df_dropoff_missed = df_dropoff_missed.rename(columns={0: 'missing_values'})\n",
    "df_dropoff_missed['% of total'] = (df_dropoff_missed['missing_values'] / df_dropoff.shape[0]).round(2)\n",
    "df_dropoff_missed.sort_values(by='missing_values', ascending=False)"
   ]
  },
  {
   "cell_type": "markdown",
   "metadata": {},
   "source": [
    "Tidak terdapat nilai yang hilang pada dataset `dropoff_location`"
   ]
  },
  {
   "cell_type": "markdown",
   "metadata": {},
   "source": [
    "#### Mempersiapkan Dataset `weather`"
   ]
  },
  {
   "cell_type": "markdown",
   "metadata": {},
   "source": [
    "Dengan cara yang sama kita akan memuat dataframe untuk `weather` dari file csv ke dalam projek."
   ]
  },
  {
   "cell_type": "code",
   "execution_count": 41,
   "metadata": {},
   "outputs": [],
   "source": [
    "# memuat dataset weather\n",
    "df_weather = pd.read_csv('/datasets/project_sql_result_07.csv')"
   ]
  },
  {
   "cell_type": "markdown",
   "metadata": {},
   "source": [
    "Mari kita lihat isi dataset `weather`"
   ]
  },
  {
   "cell_type": "code",
   "execution_count": 42,
   "metadata": {},
   "outputs": [
    {
     "data": {
      "text/html": [
       "<div>\n",
       "<style scoped>\n",
       "    .dataframe tbody tr th:only-of-type {\n",
       "        vertical-align: middle;\n",
       "    }\n",
       "\n",
       "    .dataframe tbody tr th {\n",
       "        vertical-align: top;\n",
       "    }\n",
       "\n",
       "    .dataframe thead th {\n",
       "        text-align: right;\n",
       "    }\n",
       "</style>\n",
       "<table border=\"1\" class=\"dataframe\">\n",
       "  <thead>\n",
       "    <tr style=\"text-align: right;\">\n",
       "      <th></th>\n",
       "      <th>start_ts</th>\n",
       "      <th>weather_conditions</th>\n",
       "      <th>duration_seconds</th>\n",
       "    </tr>\n",
       "  </thead>\n",
       "  <tbody>\n",
       "    <tr>\n",
       "      <th>0</th>\n",
       "      <td>2017-11-25 16:00:00</td>\n",
       "      <td>Good</td>\n",
       "      <td>2410.0</td>\n",
       "    </tr>\n",
       "    <tr>\n",
       "      <th>1</th>\n",
       "      <td>2017-11-25 14:00:00</td>\n",
       "      <td>Good</td>\n",
       "      <td>1920.0</td>\n",
       "    </tr>\n",
       "    <tr>\n",
       "      <th>2</th>\n",
       "      <td>2017-11-25 12:00:00</td>\n",
       "      <td>Good</td>\n",
       "      <td>1543.0</td>\n",
       "    </tr>\n",
       "    <tr>\n",
       "      <th>3</th>\n",
       "      <td>2017-11-04 10:00:00</td>\n",
       "      <td>Good</td>\n",
       "      <td>2512.0</td>\n",
       "    </tr>\n",
       "    <tr>\n",
       "      <th>4</th>\n",
       "      <td>2017-11-11 07:00:00</td>\n",
       "      <td>Good</td>\n",
       "      <td>1440.0</td>\n",
       "    </tr>\n",
       "    <tr>\n",
       "      <th>...</th>\n",
       "      <td>...</td>\n",
       "      <td>...</td>\n",
       "      <td>...</td>\n",
       "    </tr>\n",
       "    <tr>\n",
       "      <th>1063</th>\n",
       "      <td>2017-11-25 11:00:00</td>\n",
       "      <td>Good</td>\n",
       "      <td>0.0</td>\n",
       "    </tr>\n",
       "    <tr>\n",
       "      <th>1064</th>\n",
       "      <td>2017-11-11 10:00:00</td>\n",
       "      <td>Good</td>\n",
       "      <td>1318.0</td>\n",
       "    </tr>\n",
       "    <tr>\n",
       "      <th>1065</th>\n",
       "      <td>2017-11-11 13:00:00</td>\n",
       "      <td>Good</td>\n",
       "      <td>2100.0</td>\n",
       "    </tr>\n",
       "    <tr>\n",
       "      <th>1066</th>\n",
       "      <td>2017-11-11 08:00:00</td>\n",
       "      <td>Good</td>\n",
       "      <td>1380.0</td>\n",
       "    </tr>\n",
       "    <tr>\n",
       "      <th>1067</th>\n",
       "      <td>2017-11-04 16:00:00</td>\n",
       "      <td>Bad</td>\n",
       "      <td>2834.0</td>\n",
       "    </tr>\n",
       "  </tbody>\n",
       "</table>\n",
       "<p>1068 rows × 3 columns</p>\n",
       "</div>"
      ],
      "text/plain": [
       "                 start_ts weather_conditions  duration_seconds\n",
       "0     2017-11-25 16:00:00               Good            2410.0\n",
       "1     2017-11-25 14:00:00               Good            1920.0\n",
       "2     2017-11-25 12:00:00               Good            1543.0\n",
       "3     2017-11-04 10:00:00               Good            2512.0\n",
       "4     2017-11-11 07:00:00               Good            1440.0\n",
       "...                   ...                ...               ...\n",
       "1063  2017-11-25 11:00:00               Good               0.0\n",
       "1064  2017-11-11 10:00:00               Good            1318.0\n",
       "1065  2017-11-11 13:00:00               Good            2100.0\n",
       "1066  2017-11-11 08:00:00               Good            1380.0\n",
       "1067  2017-11-04 16:00:00                Bad            2834.0\n",
       "\n",
       "[1068 rows x 3 columns]"
      ]
     },
     "execution_count": 42,
     "metadata": {},
     "output_type": "execute_result"
    }
   ],
   "source": [
    "# menampilkan sampel dataset weather\n",
    "df_weather"
   ]
  },
  {
   "cell_type": "markdown",
   "metadata": {},
   "source": [
    "Terdapat 1068 baris dan 3 kolom untuk dataset `weather`. Kita lanjutkan mengecek nilai yang hilang."
   ]
  },
  {
   "cell_type": "code",
   "execution_count": 43,
   "metadata": {},
   "outputs": [
    {
     "data": {
      "text/html": [
       "<div>\n",
       "<style scoped>\n",
       "    .dataframe tbody tr th:only-of-type {\n",
       "        vertical-align: middle;\n",
       "    }\n",
       "\n",
       "    .dataframe tbody tr th {\n",
       "        vertical-align: top;\n",
       "    }\n",
       "\n",
       "    .dataframe thead th {\n",
       "        text-align: right;\n",
       "    }\n",
       "</style>\n",
       "<table border=\"1\" class=\"dataframe\">\n",
       "  <thead>\n",
       "    <tr style=\"text-align: right;\">\n",
       "      <th></th>\n",
       "      <th>missing_values</th>\n",
       "      <th>% of total</th>\n",
       "    </tr>\n",
       "  </thead>\n",
       "  <tbody>\n",
       "    <tr>\n",
       "      <th>start_ts</th>\n",
       "      <td>0</td>\n",
       "      <td>0.0</td>\n",
       "    </tr>\n",
       "    <tr>\n",
       "      <th>weather_conditions</th>\n",
       "      <td>0</td>\n",
       "      <td>0.0</td>\n",
       "    </tr>\n",
       "    <tr>\n",
       "      <th>duration_seconds</th>\n",
       "      <td>0</td>\n",
       "      <td>0.0</td>\n",
       "    </tr>\n",
       "  </tbody>\n",
       "</table>\n",
       "</div>"
      ],
      "text/plain": [
       "                    missing_values  % of total\n",
       "start_ts                         0         0.0\n",
       "weather_conditions               0         0.0\n",
       "duration_seconds                 0         0.0"
      ]
     },
     "execution_count": 43,
     "metadata": {},
     "output_type": "execute_result"
    }
   ],
   "source": [
    "# Cek apakah ada data nilai yang hilang\n",
    "\n",
    "df_weather_missed = df_weather.isna().sum().to_frame()\n",
    "df_weather_missed = df_weather_missed.rename(columns={0: 'missing_values'})\n",
    "df_weather_missed['% of total'] = (df_weather_missed['missing_values'] / df_weather.shape[0]).round(2)\n",
    "df_weather_missed.sort_values(by='missing_values', ascending=False)"
   ]
  },
  {
   "cell_type": "markdown",
   "metadata": {},
   "source": [
    "Tidak terdapat nilai yang hilang pada dataset `weather`."
   ]
  },
  {
   "cell_type": "markdown",
   "metadata": {},
   "source": [
    "### Memperbaiki Datasets"
   ]
  },
  {
   "cell_type": "markdown",
   "metadata": {},
   "source": [
    "Setelah beberapa dataframe dimuat yaitu untuk dataset `df_company`, `df_dropoff` dan `df_weather`, maka selanjutnya kita akan memperbaiki datasets tersebut agar memiliki kualitas yang baik untuk memudahkan analisis. Beberapa langkah untuk memperbaikinya diantaranya sebagai berikut:"
   ]
  },
  {
   "cell_type": "markdown",
   "metadata": {},
   "source": [
    "#### Mengecek Duplikat pada Datasets"
   ]
  },
  {
   "cell_type": "markdown",
   "metadata": {},
   "source": [
    "Untuk mengecek duplikat pada beberapa datasets beserta jumlahnya bisa menggunakan cara sebagai berikut:"
   ]
  },
  {
   "cell_type": "code",
   "execution_count": 44,
   "metadata": {},
   "outputs": [
    {
     "name": "stdout",
     "output_type": "stream",
     "text": [
      "Jumlah duplikat pada dataset company_name: 0\n",
      "Jumlah duplikat pada dataset dropoff_location: 0\n",
      "Jumlah duplikat pada dataset weather: 197\n"
     ]
    }
   ],
   "source": [
    "# mengecek duplikat pada dataset company_name\n",
    "print(f'Jumlah duplikat pada dataset company_name: {df_company.duplicated().sum()}')\n",
    "\n",
    "# mengecek duplikat pada dataset dropoff_location\n",
    "print(f'Jumlah duplikat pada dataset dropoff_location: {df_dropoff.duplicated().sum()}')\n",
    "\n",
    "# mengecek duplikat pada dataset weather\n",
    "print(f'Jumlah duplikat pada dataset weather: {df_weather.duplicated().sum()}')"
   ]
  },
  {
   "cell_type": "markdown",
   "metadata": {},
   "source": [
    "Terdapat duplikat pada dataset `weather` sebanyak 197. Mari kita hilangkan data duplikat tersebut."
   ]
  },
  {
   "cell_type": "code",
   "execution_count": 45,
   "metadata": {},
   "outputs": [
    {
     "name": "stdout",
     "output_type": "stream",
     "text": [
      "Jumlah duplikat pada dataset weather: 0\n"
     ]
    }
   ],
   "source": [
    "# menhilangkan duplikat pada dataset weather\n",
    "df_weather.drop_duplicates(inplace=True)\n",
    "\n",
    "# mengecek kembali duplikat pada dataset weather\n",
    "print(f'Jumlah duplikat pada dataset weather: {df_weather.duplicated().sum()}')"
   ]
  },
  {
   "cell_type": "markdown",
   "metadata": {},
   "source": [
    "Dataset `weather` saat ini sudah tidak memiliki duplikat."
   ]
  },
  {
   "cell_type": "markdown",
   "metadata": {},
   "source": [
    "#### Memperbaiki Kualitas Data pada Dataset `company_name`"
   ]
  },
  {
   "cell_type": "markdown",
   "metadata": {},
   "source": [
    "Sekarang mari kita perbaiki kualitas dataset dengan memperbaiki tipe data serta nilai yang ada pada dataset yang kita punya. Mari kita telusuri untuk dataset `company_name`."
   ]
  },
  {
   "cell_type": "code",
   "execution_count": 46,
   "metadata": {},
   "outputs": [
    {
     "name": "stdout",
     "output_type": "stream",
     "text": [
      "<class 'pandas.core.frame.DataFrame'>\n",
      "RangeIndex: 64 entries, 0 to 63\n",
      "Data columns (total 2 columns):\n",
      " #   Column        Non-Null Count  Dtype \n",
      "---  ------        --------------  ----- \n",
      " 0   company_name  64 non-null     object\n",
      " 1   trips_amount  64 non-null     int64 \n",
      "dtypes: int64(1), object(1)\n",
      "memory usage: 1.1+ KB\n",
      "None\n"
     ]
    },
    {
     "data": {
      "text/html": [
       "<div>\n",
       "<style scoped>\n",
       "    .dataframe tbody tr th:only-of-type {\n",
       "        vertical-align: middle;\n",
       "    }\n",
       "\n",
       "    .dataframe tbody tr th {\n",
       "        vertical-align: top;\n",
       "    }\n",
       "\n",
       "    .dataframe thead th {\n",
       "        text-align: right;\n",
       "    }\n",
       "</style>\n",
       "<table border=\"1\" class=\"dataframe\">\n",
       "  <thead>\n",
       "    <tr style=\"text-align: right;\">\n",
       "      <th></th>\n",
       "      <th>company_name</th>\n",
       "      <th>trips_amount</th>\n",
       "    </tr>\n",
       "  </thead>\n",
       "  <tbody>\n",
       "    <tr>\n",
       "      <th>29</th>\n",
       "      <td>303 Taxi</td>\n",
       "      <td>250</td>\n",
       "    </tr>\n",
       "    <tr>\n",
       "      <th>31</th>\n",
       "      <td>American United Taxi Affiliation</td>\n",
       "      <td>210</td>\n",
       "    </tr>\n",
       "    <tr>\n",
       "      <th>44</th>\n",
       "      <td>2092 - 61288 Sbeih Company</td>\n",
       "      <td>27</td>\n",
       "    </tr>\n",
       "    <tr>\n",
       "      <th>6</th>\n",
       "      <td>City Service</td>\n",
       "      <td>8448</td>\n",
       "    </tr>\n",
       "    <tr>\n",
       "      <th>36</th>\n",
       "      <td>3591 - 63480 Chuks Cab</td>\n",
       "      <td>37</td>\n",
       "    </tr>\n",
       "    <tr>\n",
       "      <th>56</th>\n",
       "      <td>5997 - 65283 AW Services Inc.</td>\n",
       "      <td>12</td>\n",
       "    </tr>\n",
       "    <tr>\n",
       "      <th>24</th>\n",
       "      <td>Chicago Taxicab</td>\n",
       "      <td>1014</td>\n",
       "    </tr>\n",
       "    <tr>\n",
       "      <th>25</th>\n",
       "      <td>Top Cab Affiliation</td>\n",
       "      <td>978</td>\n",
       "    </tr>\n",
       "    <tr>\n",
       "      <th>26</th>\n",
       "      <td>Gold Coast Taxi</td>\n",
       "      <td>428</td>\n",
       "    </tr>\n",
       "    <tr>\n",
       "      <th>40</th>\n",
       "      <td>6574 - Babylon Express Inc.</td>\n",
       "      <td>31</td>\n",
       "    </tr>\n",
       "  </tbody>\n",
       "</table>\n",
       "</div>"
      ],
      "text/plain": [
       "                        company_name  trips_amount\n",
       "29                          303 Taxi           250\n",
       "31  American United Taxi Affiliation           210\n",
       "44        2092 - 61288 Sbeih Company            27\n",
       "6                       City Service          8448\n",
       "36            3591 - 63480 Chuks Cab            37\n",
       "56     5997 - 65283 AW Services Inc.            12\n",
       "24                   Chicago Taxicab          1014\n",
       "25               Top Cab Affiliation           978\n",
       "26                   Gold Coast Taxi           428\n",
       "40       6574 - Babylon Express Inc.            31"
      ]
     },
     "execution_count": 46,
     "metadata": {},
     "output_type": "execute_result"
    }
   ],
   "source": [
    "# menampilkan informasi dataset company_name\n",
    "print(df_company.info())\n",
    "\n",
    "# menampilkan sampel dataset company_name\n",
    "df_company.sample(10)"
   ]
  },
  {
   "cell_type": "markdown",
   "metadata": {},
   "source": [
    "Pada kolom `company_name` terlihat beberapa value yang berisikan digit nomer yang sedikit mengganggu seperti pada indeks 44 - `2092 - 61288 Sbeih Company`, oleh karena itu kita akan memperbaikinya agar lebih mudah terbaca menggunakan `regular expression`."
   ]
  },
  {
   "cell_type": "code",
   "execution_count": 47,
   "metadata": {},
   "outputs": [
    {
     "name": "stdout",
     "output_type": "stream",
     "text": [
      "<class 'pandas.core.frame.DataFrame'>\n",
      "RangeIndex: 64 entries, 0 to 63\n",
      "Data columns (total 2 columns):\n",
      " #   Column        Non-Null Count  Dtype \n",
      "---  ------        --------------  ----- \n",
      " 0   company_name  64 non-null     object\n",
      " 1   trips_amount  64 non-null     int64 \n",
      "dtypes: int64(1), object(1)\n",
      "memory usage: 1.1+ KB\n",
      "None\n"
     ]
    },
    {
     "data": {
      "text/html": [
       "<div>\n",
       "<style scoped>\n",
       "    .dataframe tbody tr th:only-of-type {\n",
       "        vertical-align: middle;\n",
       "    }\n",
       "\n",
       "    .dataframe tbody tr th {\n",
       "        vertical-align: top;\n",
       "    }\n",
       "\n",
       "    .dataframe thead th {\n",
       "        text-align: right;\n",
       "    }\n",
       "</style>\n",
       "<table border=\"1\" class=\"dataframe\">\n",
       "  <thead>\n",
       "    <tr style=\"text-align: right;\">\n",
       "      <th></th>\n",
       "      <th>company_name</th>\n",
       "      <th>trips_amount</th>\n",
       "    </tr>\n",
       "  </thead>\n",
       "  <tbody>\n",
       "    <tr>\n",
       "      <th>17</th>\n",
       "      <td>Chicago Medallion Management</td>\n",
       "      <td>1955</td>\n",
       "    </tr>\n",
       "    <tr>\n",
       "      <th>23</th>\n",
       "      <td>KOAM Taxi Association</td>\n",
       "      <td>1259</td>\n",
       "    </tr>\n",
       "    <tr>\n",
       "      <th>24</th>\n",
       "      <td>Chicago Taxicab</td>\n",
       "      <td>1014</td>\n",
       "    </tr>\n",
       "    <tr>\n",
       "      <th>36</th>\n",
       "      <td>Chuks Cab</td>\n",
       "      <td>37</td>\n",
       "    </tr>\n",
       "    <tr>\n",
       "      <th>54</th>\n",
       "      <td>Zeymane Corp</td>\n",
       "      <td>14</td>\n",
       "    </tr>\n",
       "    <tr>\n",
       "      <th>7</th>\n",
       "      <td>Sun Taxi</td>\n",
       "      <td>7701</td>\n",
       "    </tr>\n",
       "    <tr>\n",
       "      <th>58</th>\n",
       "      <td>Sam Mestas</td>\n",
       "      <td>8</td>\n",
       "    </tr>\n",
       "    <tr>\n",
       "      <th>22</th>\n",
       "      <td>Chicago Independents</td>\n",
       "      <td>1296</td>\n",
       "    </tr>\n",
       "    <tr>\n",
       "      <th>3</th>\n",
       "      <td>Yellow Cab</td>\n",
       "      <td>9888</td>\n",
       "    </tr>\n",
       "    <tr>\n",
       "      <th>6</th>\n",
       "      <td>City Service</td>\n",
       "      <td>8448</td>\n",
       "    </tr>\n",
       "  </tbody>\n",
       "</table>\n",
       "</div>"
      ],
      "text/plain": [
       "                    company_name  trips_amount\n",
       "17  Chicago Medallion Management          1955\n",
       "23         KOAM Taxi Association          1259\n",
       "24               Chicago Taxicab          1014\n",
       "36                     Chuks Cab            37\n",
       "54                  Zeymane Corp            14\n",
       "7                       Sun Taxi          7701\n",
       "58                    Sam Mestas             8\n",
       "22          Chicago Independents          1296\n",
       "3                     Yellow Cab          9888\n",
       "6                   City Service          8448"
      ]
     },
     "execution_count": 47,
     "metadata": {},
     "output_type": "execute_result"
    }
   ],
   "source": [
    "# memperbaiki penulisan company name menggunakan regular expression\n",
    "df_company['company_name'] = df_company['company_name'].apply(lambda x: re.sub(r'[-]+|\\d+\\s*-\\s*\\d+|\\d+\\s*-', '', x))\n",
    "\n",
    "# menampilkan informasi dataset company_name\n",
    "print(df_company.info())\n",
    "\n",
    "# menampilkan sampel data yang baru\n",
    "df_company.sample(10)"
   ]
  },
  {
   "cell_type": "markdown",
   "metadata": {},
   "source": [
    "Sekarang, value pada `company_name`, sudah sesuai dengan yang kita harapkan."
   ]
  },
  {
   "cell_type": "markdown",
   "metadata": {},
   "source": [
    "#### Memperbaiki Kualitas Data pada Dataset `dropoff_location`"
   ]
  },
  {
   "cell_type": "markdown",
   "metadata": {},
   "source": [
    "Mari kita cek info dan sampel dataset `dropoff_location`."
   ]
  },
  {
   "cell_type": "code",
   "execution_count": 48,
   "metadata": {},
   "outputs": [
    {
     "name": "stdout",
     "output_type": "stream",
     "text": [
      "<class 'pandas.core.frame.DataFrame'>\n",
      "RangeIndex: 94 entries, 0 to 93\n",
      "Data columns (total 2 columns):\n",
      " #   Column                 Non-Null Count  Dtype  \n",
      "---  ------                 --------------  -----  \n",
      " 0   dropoff_location_name  94 non-null     object \n",
      " 1   average_trips          94 non-null     float64\n",
      "dtypes: float64(1), object(1)\n",
      "memory usage: 1.6+ KB\n",
      "None\n"
     ]
    },
    {
     "data": {
      "text/html": [
       "<div>\n",
       "<style scoped>\n",
       "    .dataframe tbody tr th:only-of-type {\n",
       "        vertical-align: middle;\n",
       "    }\n",
       "\n",
       "    .dataframe tbody tr th {\n",
       "        vertical-align: top;\n",
       "    }\n",
       "\n",
       "    .dataframe thead th {\n",
       "        text-align: right;\n",
       "    }\n",
       "</style>\n",
       "<table border=\"1\" class=\"dataframe\">\n",
       "  <thead>\n",
       "    <tr style=\"text-align: right;\">\n",
       "      <th></th>\n",
       "      <th>dropoff_location_name</th>\n",
       "      <th>average_trips</th>\n",
       "    </tr>\n",
       "  </thead>\n",
       "  <tbody>\n",
       "    <tr>\n",
       "      <th>58</th>\n",
       "      <td>Englewood</td>\n",
       "      <td>25.433333</td>\n",
       "    </tr>\n",
       "    <tr>\n",
       "      <th>26</th>\n",
       "      <td>Hyde Park</td>\n",
       "      <td>255.133333</td>\n",
       "    </tr>\n",
       "    <tr>\n",
       "      <th>72</th>\n",
       "      <td>South Chicago</td>\n",
       "      <td>13.000000</td>\n",
       "    </tr>\n",
       "    <tr>\n",
       "      <th>13</th>\n",
       "      <td>Uptown</td>\n",
       "      <td>849.666667</td>\n",
       "    </tr>\n",
       "    <tr>\n",
       "      <th>30</th>\n",
       "      <td>United Center</td>\n",
       "      <td>178.900000</td>\n",
       "    </tr>\n",
       "    <tr>\n",
       "      <th>68</th>\n",
       "      <td>Clearing</td>\n",
       "      <td>14.500000</td>\n",
       "    </tr>\n",
       "    <tr>\n",
       "      <th>51</th>\n",
       "      <td>Woodlawn</td>\n",
       "      <td>36.166667</td>\n",
       "    </tr>\n",
       "    <tr>\n",
       "      <th>92</th>\n",
       "      <td>East Side</td>\n",
       "      <td>1.961538</td>\n",
       "    </tr>\n",
       "    <tr>\n",
       "      <th>89</th>\n",
       "      <td>Mount Greenwood</td>\n",
       "      <td>3.137931</td>\n",
       "    </tr>\n",
       "    <tr>\n",
       "      <th>74</th>\n",
       "      <td>Beverly</td>\n",
       "      <td>10.500000</td>\n",
       "    </tr>\n",
       "  </tbody>\n",
       "</table>\n",
       "</div>"
      ],
      "text/plain": [
       "   dropoff_location_name  average_trips\n",
       "58             Englewood      25.433333\n",
       "26             Hyde Park     255.133333\n",
       "72         South Chicago      13.000000\n",
       "13                Uptown     849.666667\n",
       "30         United Center     178.900000\n",
       "68              Clearing      14.500000\n",
       "51              Woodlawn      36.166667\n",
       "92             East Side       1.961538\n",
       "89       Mount Greenwood       3.137931\n",
       "74               Beverly      10.500000"
      ]
     },
     "execution_count": 48,
     "metadata": {},
     "output_type": "execute_result"
    }
   ],
   "source": [
    "# menampilkan informasi dataset dropoff_location\n",
    "print(df_dropoff.info())\n",
    "\n",
    "# menampilkan sampel dataset dropoff_location\n",
    "df_dropoff.sample(10)"
   ]
  },
  {
   "cell_type": "markdown",
   "metadata": {},
   "source": [
    "Terlihat bahwa tipe data pada `average_trips` masih memilki tipe data `float`, oleh karena itu kita akan mengubahnya menjadi tipe data `integer`."
   ]
  },
  {
   "cell_type": "code",
   "execution_count": 49,
   "metadata": {},
   "outputs": [
    {
     "name": "stdout",
     "output_type": "stream",
     "text": [
      "<class 'pandas.core.frame.DataFrame'>\n",
      "RangeIndex: 94 entries, 0 to 93\n",
      "Data columns (total 2 columns):\n",
      " #   Column                 Non-Null Count  Dtype \n",
      "---  ------                 --------------  ----- \n",
      " 0   dropoff_location_name  94 non-null     object\n",
      " 1   average_trips          94 non-null     int64 \n",
      "dtypes: int64(1), object(1)\n",
      "memory usage: 1.6+ KB\n",
      "None\n"
     ]
    },
    {
     "data": {
      "text/html": [
       "<div>\n",
       "<style scoped>\n",
       "    .dataframe tbody tr th:only-of-type {\n",
       "        vertical-align: middle;\n",
       "    }\n",
       "\n",
       "    .dataframe tbody tr th {\n",
       "        vertical-align: top;\n",
       "    }\n",
       "\n",
       "    .dataframe thead th {\n",
       "        text-align: right;\n",
       "    }\n",
       "</style>\n",
       "<table border=\"1\" class=\"dataframe\">\n",
       "  <thead>\n",
       "    <tr style=\"text-align: right;\">\n",
       "      <th></th>\n",
       "      <th>dropoff_location_name</th>\n",
       "      <th>average_trips</th>\n",
       "    </tr>\n",
       "  </thead>\n",
       "  <tbody>\n",
       "    <tr>\n",
       "      <th>29</th>\n",
       "      <td>Albany Park</td>\n",
       "      <td>180</td>\n",
       "    </tr>\n",
       "    <tr>\n",
       "      <th>68</th>\n",
       "      <td>Clearing</td>\n",
       "      <td>14</td>\n",
       "    </tr>\n",
       "    <tr>\n",
       "      <th>4</th>\n",
       "      <td>O'Hare</td>\n",
       "      <td>2546</td>\n",
       "    </tr>\n",
       "    <tr>\n",
       "      <th>49</th>\n",
       "      <td>Sauganash,Forest Glen</td>\n",
       "      <td>43</td>\n",
       "    </tr>\n",
       "    <tr>\n",
       "      <th>67</th>\n",
       "      <td>Auburn Gresham</td>\n",
       "      <td>15</td>\n",
       "    </tr>\n",
       "    <tr>\n",
       "      <th>45</th>\n",
       "      <td>Boystown</td>\n",
       "      <td>53</td>\n",
       "    </tr>\n",
       "    <tr>\n",
       "      <th>66</th>\n",
       "      <td>Washington Park</td>\n",
       "      <td>16</td>\n",
       "    </tr>\n",
       "    <tr>\n",
       "      <th>78</th>\n",
       "      <td>Gage Park</td>\n",
       "      <td>8</td>\n",
       "    </tr>\n",
       "    <tr>\n",
       "      <th>53</th>\n",
       "      <td>Jackson Park</td>\n",
       "      <td>33</td>\n",
       "    </tr>\n",
       "    <tr>\n",
       "      <th>8</th>\n",
       "      <td>Gold Coast</td>\n",
       "      <td>1364</td>\n",
       "    </tr>\n",
       "  </tbody>\n",
       "</table>\n",
       "</div>"
      ],
      "text/plain": [
       "    dropoff_location_name  average_trips\n",
       "29            Albany Park            180\n",
       "68               Clearing             14\n",
       "4                  O'Hare           2546\n",
       "49  Sauganash,Forest Glen             43\n",
       "67         Auburn Gresham             15\n",
       "45               Boystown             53\n",
       "66        Washington Park             16\n",
       "78              Gage Park              8\n",
       "53           Jackson Park             33\n",
       "8              Gold Coast           1364"
      ]
     },
     "execution_count": 49,
     "metadata": {},
     "output_type": "execute_result"
    }
   ],
   "source": [
    "# mengganti tipe data pada kolom average_trips menjadi integer\n",
    "df_dropoff['average_trips'] = df_dropoff['average_trips'].astype('int')\n",
    "\n",
    "# menampilkan informasi dataset dropoff_location\n",
    "print(df_dropoff.info())\n",
    "\n",
    "# menampilkan sampel dataset dropoff_location\n",
    "df_dropoff.sample(10)"
   ]
  },
  {
   "cell_type": "markdown",
   "metadata": {},
   "source": [
    "Setelah diperbaiki, tipe data pada kolom `average_trips` sudah sesuai."
   ]
  },
  {
   "cell_type": "markdown",
   "metadata": {},
   "source": [
    "#### Memperbaiki Kualitas Data pada Dataset `weather`"
   ]
  },
  {
   "cell_type": "markdown",
   "metadata": {},
   "source": [
    "Mari kita cek info dan sampel dataset `weather`."
   ]
  },
  {
   "cell_type": "code",
   "execution_count": 50,
   "metadata": {},
   "outputs": [
    {
     "name": "stdout",
     "output_type": "stream",
     "text": [
      "<class 'pandas.core.frame.DataFrame'>\n",
      "Int64Index: 871 entries, 0 to 1067\n",
      "Data columns (total 3 columns):\n",
      " #   Column              Non-Null Count  Dtype  \n",
      "---  ------              --------------  -----  \n",
      " 0   start_ts            871 non-null    object \n",
      " 1   weather_conditions  871 non-null    object \n",
      " 2   duration_seconds    871 non-null    float64\n",
      "dtypes: float64(1), object(2)\n",
      "memory usage: 27.2+ KB\n",
      "None\n"
     ]
    },
    {
     "data": {
      "text/html": [
       "<div>\n",
       "<style scoped>\n",
       "    .dataframe tbody tr th:only-of-type {\n",
       "        vertical-align: middle;\n",
       "    }\n",
       "\n",
       "    .dataframe tbody tr th {\n",
       "        vertical-align: top;\n",
       "    }\n",
       "\n",
       "    .dataframe thead th {\n",
       "        text-align: right;\n",
       "    }\n",
       "</style>\n",
       "<table border=\"1\" class=\"dataframe\">\n",
       "  <thead>\n",
       "    <tr style=\"text-align: right;\">\n",
       "      <th></th>\n",
       "      <th>start_ts</th>\n",
       "      <th>weather_conditions</th>\n",
       "      <th>duration_seconds</th>\n",
       "    </tr>\n",
       "  </thead>\n",
       "  <tbody>\n",
       "    <tr>\n",
       "      <th>86</th>\n",
       "      <td>2017-11-25 07:00:00</td>\n",
       "      <td>Good</td>\n",
       "      <td>2340.0</td>\n",
       "    </tr>\n",
       "    <tr>\n",
       "      <th>742</th>\n",
       "      <td>2017-11-18 12:00:00</td>\n",
       "      <td>Bad</td>\n",
       "      <td>2340.0</td>\n",
       "    </tr>\n",
       "    <tr>\n",
       "      <th>352</th>\n",
       "      <td>2017-11-11 14:00:00</td>\n",
       "      <td>Good</td>\n",
       "      <td>2280.0</td>\n",
       "    </tr>\n",
       "    <tr>\n",
       "      <th>118</th>\n",
       "      <td>2017-11-11 10:00:00</td>\n",
       "      <td>Good</td>\n",
       "      <td>1440.0</td>\n",
       "    </tr>\n",
       "    <tr>\n",
       "      <th>544</th>\n",
       "      <td>2017-11-04 10:00:00</td>\n",
       "      <td>Good</td>\n",
       "      <td>1980.0</td>\n",
       "    </tr>\n",
       "    <tr>\n",
       "      <th>668</th>\n",
       "      <td>2017-11-04 15:00:00</td>\n",
       "      <td>Good</td>\n",
       "      <td>3300.0</td>\n",
       "    </tr>\n",
       "    <tr>\n",
       "      <th>572</th>\n",
       "      <td>2017-11-25 17:00:00</td>\n",
       "      <td>Good</td>\n",
       "      <td>2340.0</td>\n",
       "    </tr>\n",
       "    <tr>\n",
       "      <th>486</th>\n",
       "      <td>2017-11-04 17:00:00</td>\n",
       "      <td>Bad</td>\n",
       "      <td>2040.0</td>\n",
       "    </tr>\n",
       "    <tr>\n",
       "      <th>788</th>\n",
       "      <td>2017-11-18 13:00:00</td>\n",
       "      <td>Bad</td>\n",
       "      <td>3779.0</td>\n",
       "    </tr>\n",
       "    <tr>\n",
       "      <th>630</th>\n",
       "      <td>2017-11-11 06:00:00</td>\n",
       "      <td>Good</td>\n",
       "      <td>1280.0</td>\n",
       "    </tr>\n",
       "  </tbody>\n",
       "</table>\n",
       "</div>"
      ],
      "text/plain": [
       "                start_ts weather_conditions  duration_seconds\n",
       "86   2017-11-25 07:00:00               Good            2340.0\n",
       "742  2017-11-18 12:00:00                Bad            2340.0\n",
       "352  2017-11-11 14:00:00               Good            2280.0\n",
       "118  2017-11-11 10:00:00               Good            1440.0\n",
       "544  2017-11-04 10:00:00               Good            1980.0\n",
       "668  2017-11-04 15:00:00               Good            3300.0\n",
       "572  2017-11-25 17:00:00               Good            2340.0\n",
       "486  2017-11-04 17:00:00                Bad            2040.0\n",
       "788  2017-11-18 13:00:00                Bad            3779.0\n",
       "630  2017-11-11 06:00:00               Good            1280.0"
      ]
     },
     "execution_count": 50,
     "metadata": {},
     "output_type": "execute_result"
    }
   ],
   "source": [
    "# menampilkan informasi dataset weather\n",
    "print(df_weather.info())\n",
    "\n",
    "# menampilkan sampel dataset weather\n",
    "df_weather.sample(10)"
   ]
  },
  {
   "cell_type": "markdown",
   "metadata": {},
   "source": [
    "Terlihat bahwa tipe data pada `start_ts` dan `duration_seconds` masih memilki tipe data `object` dan `float`, oleh karena itu kita akan mengubahnya menjadi tipe data tertentu. Pada kolom `start_ts` akan diubah menjadi tipe data `datetime` sedangkan `duration_seconds` akan diubah menjadi tipe data `integer`. "
   ]
  },
  {
   "cell_type": "code",
   "execution_count": 51,
   "metadata": {},
   "outputs": [
    {
     "name": "stdout",
     "output_type": "stream",
     "text": [
      "<class 'pandas.core.frame.DataFrame'>\n",
      "Int64Index: 871 entries, 0 to 1067\n",
      "Data columns (total 3 columns):\n",
      " #   Column              Non-Null Count  Dtype         \n",
      "---  ------              --------------  -----         \n",
      " 0   start_ts            871 non-null    datetime64[ns]\n",
      " 1   weather_conditions  871 non-null    object        \n",
      " 2   duration_seconds    871 non-null    int64         \n",
      "dtypes: datetime64[ns](1), int64(1), object(1)\n",
      "memory usage: 27.2+ KB\n",
      "None\n"
     ]
    },
    {
     "data": {
      "text/html": [
       "<div>\n",
       "<style scoped>\n",
       "    .dataframe tbody tr th:only-of-type {\n",
       "        vertical-align: middle;\n",
       "    }\n",
       "\n",
       "    .dataframe tbody tr th {\n",
       "        vertical-align: top;\n",
       "    }\n",
       "\n",
       "    .dataframe thead th {\n",
       "        text-align: right;\n",
       "    }\n",
       "</style>\n",
       "<table border=\"1\" class=\"dataframe\">\n",
       "  <thead>\n",
       "    <tr style=\"text-align: right;\">\n",
       "      <th></th>\n",
       "      <th>start_ts</th>\n",
       "      <th>weather_conditions</th>\n",
       "      <th>duration_seconds</th>\n",
       "    </tr>\n",
       "  </thead>\n",
       "  <tbody>\n",
       "    <tr>\n",
       "      <th>807</th>\n",
       "      <td>2017-11-18 10:00:00</td>\n",
       "      <td>Bad</td>\n",
       "      <td>2083</td>\n",
       "    </tr>\n",
       "    <tr>\n",
       "      <th>604</th>\n",
       "      <td>2017-11-18 14:00:00</td>\n",
       "      <td>Good</td>\n",
       "      <td>2757</td>\n",
       "    </tr>\n",
       "    <tr>\n",
       "      <th>433</th>\n",
       "      <td>2017-11-11 14:00:00</td>\n",
       "      <td>Good</td>\n",
       "      <td>2220</td>\n",
       "    </tr>\n",
       "    <tr>\n",
       "      <th>1053</th>\n",
       "      <td>2017-11-18 12:00:00</td>\n",
       "      <td>Bad</td>\n",
       "      <td>2400</td>\n",
       "    </tr>\n",
       "    <tr>\n",
       "      <th>708</th>\n",
       "      <td>2017-11-18 11:00:00</td>\n",
       "      <td>Good</td>\n",
       "      <td>2178</td>\n",
       "    </tr>\n",
       "    <tr>\n",
       "      <th>500</th>\n",
       "      <td>2017-11-11 16:00:00</td>\n",
       "      <td>Good</td>\n",
       "      <td>2220</td>\n",
       "    </tr>\n",
       "    <tr>\n",
       "      <th>229</th>\n",
       "      <td>2017-11-11 15:00:00</td>\n",
       "      <td>Good</td>\n",
       "      <td>2160</td>\n",
       "    </tr>\n",
       "    <tr>\n",
       "      <th>385</th>\n",
       "      <td>2017-11-04 12:00:00</td>\n",
       "      <td>Good</td>\n",
       "      <td>2520</td>\n",
       "    </tr>\n",
       "    <tr>\n",
       "      <th>712</th>\n",
       "      <td>2017-11-04 12:00:00</td>\n",
       "      <td>Good</td>\n",
       "      <td>2575</td>\n",
       "    </tr>\n",
       "    <tr>\n",
       "      <th>787</th>\n",
       "      <td>2017-11-04 08:00:00</td>\n",
       "      <td>Good</td>\n",
       "      <td>1406</td>\n",
       "    </tr>\n",
       "  </tbody>\n",
       "</table>\n",
       "</div>"
      ],
      "text/plain": [
       "                start_ts weather_conditions  duration_seconds\n",
       "807  2017-11-18 10:00:00                Bad              2083\n",
       "604  2017-11-18 14:00:00               Good              2757\n",
       "433  2017-11-11 14:00:00               Good              2220\n",
       "1053 2017-11-18 12:00:00                Bad              2400\n",
       "708  2017-11-18 11:00:00               Good              2178\n",
       "500  2017-11-11 16:00:00               Good              2220\n",
       "229  2017-11-11 15:00:00               Good              2160\n",
       "385  2017-11-04 12:00:00               Good              2520\n",
       "712  2017-11-04 12:00:00               Good              2575\n",
       "787  2017-11-04 08:00:00               Good              1406"
      ]
     },
     "execution_count": 51,
     "metadata": {},
     "output_type": "execute_result"
    }
   ],
   "source": [
    "# mengubah tipe data pada kolom start_ts menjadi tipe data tanggal\n",
    "df_weather['start_ts'] = pd.to_datetime(df_weather['start_ts'], format='%Y-%m-%d %H:%M:%S')\n",
    "\n",
    "# mengganti tipe data pada kolom duration_seconds menjadi integer\n",
    "df_weather['duration_seconds'] = df_weather['duration_seconds'].astype('int')\n",
    "\n",
    "# menampilkan informasi dataset weather\n",
    "print(df_weather.info())\n",
    "\n",
    "# menampilkan sampel dataset weather\n",
    "df_weather.sample(10)"
   ]
  },
  {
   "cell_type": "markdown",
   "metadata": {},
   "source": [
    "Sekarang, data yang diperbaiki sudah sesuai dengan yang kita harapkan."
   ]
  },
  {
   "cell_type": "markdown",
   "metadata": {},
   "source": [
    "### Analisis Data Eksploratif (EDA)"
   ]
  },
  {
   "cell_type": "markdown",
   "metadata": {},
   "source": [
    "Selanjutnya, kita akan mengeksplore data dengan menggunakan grafik."
   ]
  },
  {
   "cell_type": "markdown",
   "metadata": {},
   "source": [
    "#### Analisis Dataset Perusahaan Taksi"
   ]
  },
  {
   "cell_type": "markdown",
   "metadata": {},
   "source": [
    "Mari kita cari tahu rangkuman dari dataset `Perusahaan Taksi` dengan menggunakan `describe` dan `boxplot`. "
   ]
  },
  {
   "cell_type": "code",
   "execution_count": 52,
   "metadata": {},
   "outputs": [
    {
     "name": "stdout",
     "output_type": "stream",
     "text": [
      "       trips_amount\n",
      "count     64.000000\n",
      "mean    2145.484375\n",
      "std     3812.310186\n",
      "min        2.000000\n",
      "25%       20.750000\n",
      "50%      178.500000\n",
      "75%     2106.500000\n",
      "max    19558.000000\n"
     ]
    },
    {
     "data": {
      "image/png": "[encoded data removed]",
      "text/plain": [
       "<Figure size 576x504 with 1 Axes>"
      ]
     },
     "metadata": {
      "needs_background": "light"
     },
     "output_type": "display_data"
    }
   ],
   "source": [
    "# menampilkan summary dari dataset company_name\n",
    "print(df_company.describe())\n",
    "\n",
    "# Membuat palet warna kuning\n",
    "palette = sns.color_palette('YlGnBu')\n",
    "\n",
    "# membuat boxplot\n",
    "plt.figure(figsize=(8,7))\n",
    "sns.boxplot(data=df_company, y='trips_amount', palette=palette)\n",
    "plt.title('Boxplot - Company Name')\n",
    "plt.show()"
   ]
  },
  {
   "cell_type": "markdown",
   "metadata": {},
   "source": [
    "Dari informasi diatas terlihat bahwa `rata-rata trip keseluruhan perusahaan taksi` berkisar `2145 trips` untuk tanggal `15-16 November 2017` dengan nilai minimum dan nilai maksimum jumlah trip perusahaan taksi adalah `2 trips dan 19558 trips`. "
   ]
  },
  {
   "cell_type": "markdown",
   "metadata": {},
   "source": [
    "Selanjutnya mari kita buat grafik untuk mempermudah dalam membaca informasi."
   ]
  },
  {
   "cell_type": "code",
   "execution_count": 53,
   "metadata": {},
   "outputs": [
    {
     "data": {
      "image/png": "[encoded data removed]",
      "text/plain": [
       "<Figure size 864x1440 with 1 Axes>"
      ]
     },
     "metadata": {
      "needs_background": "light"
     },
     "output_type": "display_data"
    }
   ],
   "source": [
    "# Membuat grafik trip perusahaan taksi\n",
    "ax = df_company.sort_values(by='trips_amount', ascending=True).plot(\n",
    "    kind='barh',\n",
    "    x='company_name',\n",
    "    y='trips_amount',\n",
    "    figsize=(12, 20),\n",
    "    width=0.9,\n",
    "    color='y'\n",
    ")\n",
    "\n",
    "# Membuat judul grafik\n",
    "plt.title('Trips Amount - Company')\n",
    "\n",
    "# Membuat label grafik\n",
    "plt.xlabel('Trips Amount')\n",
    "plt.ylabel('Company Name')\n",
    "\n",
    "# Menambahkan anotasi\n",
    "for i, v in enumerate(df_company['trips_amount']):\n",
    "    ax.text(v + 50, i, str(v), color='black', va='center', fontsize=10, fontweight='bold')\n",
    "\n",
    "# Menampilkan grafik\n",
    "plt.show()"
   ]
  },
  {
   "cell_type": "markdown",
   "metadata": {},
   "source": [
    "Dari grafik diatas terlihat bahwa perusahaan dengan jumlah trip terbanyak untuk tanggal `15-16 November 2017` adalah perusahaan `Flash Cab` kemudian `Taxi Affiliation Service` dan seterusnya. Sedangkan perusahaan yang paling rendah dalam jumlah tripnya adalah `RC Andrews Cab` kemudian `Felman Corp. Manuel Alonso` dan seterusnya."
   ]
  },
  {
   "cell_type": "markdown",
   "metadata": {},
   "source": [
    "#### Analisis Dataset Lokasi Dropoff"
   ]
  },
  {
   "cell_type": "markdown",
   "metadata": {},
   "source": [
    "Mari kita cari tahu rangkuman dari dataset `Lokasi Dropoff` dengan menggunakan `describe` dan `boxplot`. "
   ]
  },
  {
   "cell_type": "code",
   "execution_count": 54,
   "metadata": {},
   "outputs": [
    {
     "name": "stdout",
     "output_type": "stream",
     "text": [
      "       average_trips\n",
      "count      94.000000\n",
      "mean      599.478723\n",
      "std      1714.555974\n",
      "min         1.000000\n",
      "25%        14.000000\n",
      "50%        51.500000\n",
      "75%       298.750000\n",
      "max     10727.000000\n"
     ]
    },
    {
     "data": {
      "image/png": "[encoded data removed]",
      "text/plain": [
       "<Figure size 576x504 with 1 Axes>"
      ]
     },
     "metadata": {
      "needs_background": "light"
     },
     "output_type": "display_data"
    }
   ],
   "source": [
    "# menampilkan summary dari dataset dropoff_location\n",
    "print(df_dropoff.describe())\n",
    "\n",
    "# membuat boxplot\n",
    "plt.figure(figsize=(8,7))\n",
    "sns.boxplot(data=df_dropoff, y='average_trips')\n",
    "plt.title('Boxplot - Dropoff Location')\n",
    "plt.show()"
   ]
  },
  {
   "cell_type": "markdown",
   "metadata": {},
   "source": [
    "Dari informasi diatas terlihat bahwa `rata-rata trip dari keseluruhan lokasi dropoff` berkisar `599 trips` untuk bulan `November 2017` dengan nilai minimum dan nilai maksimum rata-rata trip adalah `1 trips dan 10727 trips`. "
   ]
  },
  {
   "cell_type": "markdown",
   "metadata": {},
   "source": [
    "Selanjutnya mari kita ambil 10 lokasi dropoff dengan rata-rata trip terbanyak dari dataset yang kita punya."
   ]
  },
  {
   "cell_type": "code",
   "execution_count": 55,
   "metadata": {},
   "outputs": [
    {
     "data": {
      "image/png": "[encoded data removed]",
      "text/plain": [
       "<Figure size 1224x576 with 1 Axes>"
      ]
     },
     "metadata": {
      "needs_background": "light"
     },
     "output_type": "display_data"
    }
   ],
   "source": [
    "# Membuat grafik 10 wilayah yang sering dikunjungi\n",
    "ax = df_dropoff.iloc[:10].sort_values(by='average_trips', ascending=False).plot(\n",
    "    kind='bar',\n",
    "    x='dropoff_location_name',\n",
    "    y='average_trips',\n",
    "    figsize=(17, 8),\n",
    "    width=0.9,\n",
    "    color='c',\n",
    "    rot=0\n",
    ")\n",
    "\n",
    "# Membuat judul grafik\n",
    "plt.title('Average Trips - Location')\n",
    "\n",
    "# Membuat label grafik\n",
    "plt.ylabel('Average Trips')\n",
    "plt.xlabel('Location')\n",
    "\n",
    "# Menambahkan anotasi untuk jumlah rata-rata perjalanan\n",
    "for i, v in enumerate(df_dropoff.iloc[:10]['average_trips']):\n",
    "    ax.text(i, v, f'{v:.2f}', horizontalalignment='center', fontsize=12, color='black', fontweight='bold')\n",
    "\n",
    "# Menampilkan grafik\n",
    "plt.show()"
   ]
  },
  {
   "cell_type": "markdown",
   "metadata": {},
   "source": [
    "Dari grafik diatas terlihat bahwa lokasi dropoff dengan rata-rata jumlah trip terbanyak untuk bulan `November 2017` adalah `Loop` yaitu `10727 trip` kemudian `River North` yaitu `9523 trip` dan seterusnya. Sedangkan perusahaan yang paling rendah dalam rata-rata tripnya adalah `Sheffield & DePaul` kemudian `Gold Coast` dan seterusnya."
   ]
  },
  {
   "cell_type": "markdown",
   "metadata": {},
   "source": [
    "### Pengujian Hipotesis"
   ]
  },
  {
   "cell_type": "markdown",
   "metadata": {},
   "source": [
    "Pada langkah ini kita akan menguji suatu hipotesis dimana hipotesisnya adalah \"Durasi rata-rata perjalanan dari Loop ke Bandara Internasional O'Hare berubah pada hari-hari Sabtu yang hujan\". Mari kita urai menjadi Hipotesis Nol dan Hipotesis Alternatif:\n",
    "- Hipotesis Nol: Durasi rata-rata perjalanan dari Loop ke Bandara Internasional O'Hare `sama` pada hari-hari Sabtu yang hujan\n",
    "- Hipotesis Alternatif: Durasi rata-rata perjalanan dari Loop ke Bandara Internasional O'Hare `berubah` pada hari-hari Sabtu yang hujan"
   ]
  },
  {
   "cell_type": "markdown",
   "metadata": {},
   "source": [
    "Sebelum kita uji hipotesis bisa `hapus dulu outliers` yang ada pada kolom `duration seconds`, selain itu, sebelum menggunakan `ttest_ind` coba gunakan dulu `levene test` untuk mengetahui varians dari dua data sama atau tidak, dari hasil `levene test`, kita gunakan parameter `equal_var=True` pada `ttest_ind` jika varians sama, dan False jika sebaliknya. Terakhir kita bisa menguji hipotesis tersebut dengan menggunakan teknik `ttest_ind` yang ada pada library Scipy. \n",
    "\n",
    "Signifikansi Level yang umum digunakan sebesar` 5% (0.05)`, nilai ini digunakan untuk menguji `Hipotesis Nol`, jika `pvalue` pengujian kurang dari Signifikansi Level, `Hipotesis Nol ditolak`."
   ]
  },
  {
   "cell_type": "code",
   "execution_count": 56,
   "metadata": {},
   "outputs": [
    {
     "name": "stdout",
     "output_type": "stream",
     "text": [
      "Nilai p-value: 2.3363796620667466e-09\n",
      "Hipotesis Nol Ditolak\n"
     ]
    }
   ],
   "source": [
    "from scipy import stats as st\n",
    "\n",
    "# 1. Menghapus outliers pada kolom duration_seconds\n",
    "def remove_outliers(data):\n",
    "    Q1 = data['duration_seconds'].quantile(0.25)\n",
    "    Q3 = data['duration_seconds'].quantile(0.75)\n",
    "    IQR = Q3 - Q1\n",
    "    lower_bound = Q1 - 1.5 * IQR\n",
    "    upper_bound = Q3 + 1.5 * IQR\n",
    "    return data[(data['duration_seconds'] >= lower_bound) & (data['duration_seconds'] <= upper_bound)]\n",
    "\n",
    "# Memfilter dataset weather untuk cuaca yang baik dan cuaca yang buruk\n",
    "good_weather = remove_outliers(df_weather.query('weather_conditions == \"Good\"'))\n",
    "bad_weather = remove_outliers(df_weather.query('weather_conditions == \"Bad\"'))\n",
    "\n",
    "# 2. Melakukan Levene Test untuk menguji kesamaan varians\n",
    "_, levene_pvalue = st.levene(good_weather['duration_seconds'], bad_weather['duration_seconds'])\n",
    "\n",
    "# Besarnya signifikan level\n",
    "alpha = 0.05\n",
    "\n",
    "# 3. Pengujian hipotesis dengan memperhatikan varians\n",
    "if levene_pvalue < alpha:\n",
    "    equal_var = False  # Varians berbeda\n",
    "else:\n",
    "    equal_var = True   # Varians sama\n",
    "\n",
    "# Melakukan t-test dengan parameter equal_var sesuai dengan hasil Levene Test\n",
    "result = st.ttest_ind(good_weather['duration_seconds'], bad_weather['duration_seconds'], equal_var=equal_var)\n",
    "pvalue = result.pvalue\n",
    "print(f'Nilai p-value: {pvalue}')\n",
    "\n",
    "if pvalue < alpha:\n",
    "    print('Hipotesis Nol Ditolak')\n",
    "else:\n",
    "    print('Tidak Bisa Menolak Hipotesis Nol')"
   ]
  },
  {
   "cell_type": "markdown",
   "metadata": {},
   "source": [
    "Hipotesis Nol Ditolak, sehingga Hipotesis Alternatif yang diterima bahwa `Durasi rata-rata perjalanan dari Loop ke Bandara Internasional O'Hare berubah pada hari-hari Sabtu yang hujan`."
   ]
  },
  {
   "cell_type": "markdown",
   "metadata": {},
   "source": [
    "### Kesimpulan Umum "
   ]
  },
  {
   "cell_type": "markdown",
   "metadata": {},
   "source": [
    "Dalam analisis di atas, kami telah membuat DataFrame dengan data dari website dan melakukan perbaikan kualitas data. Ini mencakup pencarian duplikat, penanganan nilai yang hilang, perubahan tipe data, dan transformasi nilai data menggunakan regular expression. Kami menggunakan `SQL` untuk mengumpulkan data spesifik dan terus melakukan `Exploratory Data Analysis (EDA)` dengan `Python`. Berikut adalah rangkuman temuan kami:\n",
    "\n",
    "1. Ada dua perusahaan dengan nama `Yellow` yaitu `Taxi Affiliation Service Yellow` dan `Yellow Cab`, dengan masing-masing `29.213` dan `33.668` trip pada tanggal `1 - 7 November 2017`. Sementara perusahaan dengan nama `Blue` seperti `Blue Diamond` dan `Blue Ribbon Taxi Association Inc` memiliki masing-masing `6764` dan `17675` trip.\n",
    "\n",
    "2. `Flash Cab` memiliki jumlah trip terbanyak, yaitu `64084` trip pada periode `1 - 7 November 2017`, sedangkan `Taxi Affiliation Services` hanya memiliki `37583` trip.\n",
    "\n",
    "3. Rata-rata jumlah trip dari seluruh perusahaan taksi berkisar sekitar `2145` trip pada tanggal `15-16 November 2017`. Rentang nilai minimum dan maksimum perusahaan taksi adalah `2` trip dan `19558` trip.\n",
    "\n",
    "4. Jumlah trip terbanyak pada tanggal `15-16 November 2017` adalah `Flash Cab` sementara `RC Andrews Cab` memiliki jumlah trip terendah.\n",
    "\n",
    "5. Rata-rata trip dari seluruh lokasi dropoff berkisar sekitar `599` trip selama bulan November 2017. Rentang nilai minimum dan maksimum rata-rata trip adalah `1` trip dan `10727` trip.\n",
    "\n",
    "6. Lokasi dropoff dengan rata-rata jumlah trip tertinggi selama bulan November 2017 adalah `Loop` sementara `Sheffield & DePaul` memiliki rata-rata trip terendah.\n",
    "\n",
    "7. Pengujian hipotesis mengenai `Durasi rata-rata perjalanan dari Loop ke Bandara Internasional O'Hare sama pada hari-hari Sabtu yang hujan` menolak hipotesis nol, sehingga menerima hipotesis alternatif bahwa `Durasi rata-rata perjalanan dari Loop ke Bandara Internasional O'Hare berubah pada hari-hari Sabtu yang hujan`."
   ]
  }
 ],
 "metadata": {
  "kernelspec": {
   "display_name": "Python 3 (ipykernel)",
   "language": "python",
   "name": "python3"
  },
  "language_info": {
   "codemirror_mode": {
    "name": "ipython",
    "version": 3
   },
   "file_extension": ".py",
   "mimetype": "text/x-python",
   "name": "python",
   "nbconvert_exporter": "python",
   "pygments_lexer": "ipython3",
   "version": "3.9.19"
  },
  "toc": {
   "base_numbering": 1,
   "nav_menu": {},
   "number_sections": true,
   "sideBar": true,
   "skip_h1_title": true,
   "title_cell": "Table of Contents",
   "title_sidebar": "Contents",
   "toc_cell": false,
   "toc_position": {},
   "toc_section_display": true,
   "toc_window_display": true
  }
 },
 "nbformat": 4,
 "nbformat_minor": 2
}
