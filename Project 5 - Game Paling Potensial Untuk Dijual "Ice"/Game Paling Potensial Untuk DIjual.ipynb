{
 "cells": [
  {
   "cell_type": "markdown",
   "metadata": {},
   "source": [
    "## Pendahuluan"
   ]
  },
  {
   "cell_type": "markdown",
   "metadata": {},
   "source": [
    "**Studi: Game Paling Potensial untuk Dijual**\n",
    "\n",
    "Saat ini kita mempunyai toko online `\"Ice\"` yang menjual video game dari seluruh dunia. Dan kita mempunyai data terkait dengan  ulasan pengguna dan ahli game, genre, platform (misalnya, Xbox atau PlayStation), dan data historis penjualan game tersedia dari open source. Saat ini kita perlu mengidentifikasi pola-pola yang menentukan apakah suatu game bisa dikatakan berhasil atau tidak. Dengan begitu, kita bisa menemukan game yang paling potensial dan merencanakan kampanye iklannya.\n",
    "\n",
    "Dan saat ini kita mempunyai data hingga `Desember 2016`, kita akan menggunakan data ini untuk menganalisa penjualan satu tahun ke depan yaitu tahun `2017`.\n",
    "\n",
    "Dataset yang kita punya ini juga memuat singkatan `ESRB`. ESRB merupakan singkatan dari `Entertainment Software Rating Board`, yaitu sebuah organisasi regulator mandiri yang mengevaluasi konten game dan memberikan rating usia seperti Remaja atau Dewasa.\n"
   ]
  },
  {
   "cell_type": "markdown",
   "metadata": {},
   "source": [
    "### Tujuan Proyek"
   ]
  },
  {
   "cell_type": "markdown",
   "metadata": {},
   "source": [
    "1. Mengetahui game apa yang paling potensial untuk dijual."
   ]
  },
  {
   "cell_type": "markdown",
   "metadata": {},
   "source": [
    "### Hipotesis"
   ]
  },
  {
   "cell_type": "markdown",
   "metadata": {},
   "source": [
    "1. Rata-rata rating pengguna platform `Xbox One dan PC` adalah sama.\n",
    "2. Rata-rata rating pengguna genre `Action dan Sports` berbeda."
   ]
  },
  {
   "cell_type": "markdown",
   "metadata": {},
   "source": [
    "## Konten <a id='back'></a>\n",
    "\n",
    "* [1.Pendahuluan](#intro)\n",
    "    * [1.1 Tujuan Proyek](#cont_1)\n",
    "    * [1.2 Hipotesis](#cont_2)\n",
    "* [2. Konten](#cont_3)\n",
    "    * [2.1 Inisialisasi Data](#cont_4)\n",
    "    * [2.2 Memuat Data](#cont_8)\n",
    "    * [2.3 Mempersiapkan Data](#cont_14)\n",
    "    * [2.4 Analisa Data](#cont_15)\n",
    "      * [2.4.1 Cek Penjualan Game pada masing-masing platform](#cont_15)\n",
    "      * [2.4.2 Cek penjualan platform terbanyak Periode 1990 - 2016](#cont_15)\n",
    "    * [2.5 Box Plot Penjualan Global Platform PC dan X360](#cont_20)\n",
    "    * [2.6 Perbandingan Game dengan Platform Lain](#cont_22) \n",
    "    * [2.7 Cek Distribusi Genre Game](#cont_23)\n",
    "    * [2.8  Pemrofilan Pengguna untuk Masing - Masing Wilayah](#cont_24)\n",
    "      * [2.8.1 Cek 5 Platform Teratas di Masing - Masing Wilayah](#cont_25)\n",
    "      * [2.8.2 Cek 5 genre teratas di Masing - Masing Wilayah](#cont_26)\n",
    "      * [2.8.3 Cek Pengaruh Rating ESRB dengan Penjualan di Masing - Masing Wilayah](#cont_26)\n",
    "    * [2.9 Menguji Hipotesis](#cont_26)\n",
    "      * [2.9.1 Pengujian Hipotesis 1: Rata-rata Rating Pengguna Platform Xbox One dan PC adalah sama](#cont_26)\n",
    "      * [2.9.2 Pengujian Hipotesis 2: Rata-rata Rating Pengguna Genre Action dan Sports berbeda.](#cont_26)\n",
    "    * [2.10 Kesimpulan Umum](#cont_26)\n",
    "    \n",
    "Pendahuluan\n",
    "Konten\n",
    "Tahap 1. Mengumpulkan Data Menggunakan SQL\n",
    "1.1 Web Scraping\n",
    "1.2 Menghitung dan Mengurutkan Trip Berdasarkan Nama Perusahaan\n",
    "1.3 Menghitung Jumlah Trip Berdasarkan Nama Perusahaan yang Menggunakan kata Yellow atau Blue\n",
    "1.4 Menghitung Jumlah Trip untuk Nama Perusahaan Flash Cab dan Taxi Affiliation Services\n",
    "1.5 Mengumpulkan Hasil Akhir Rekaman Cuaca\n",
    "Tahap 2. Mempersiapkan Datasets\n",
    "2.1 Insialisasi Library\n",
    "2.2 Mempersiapkan Dataset company_name\n",
    "2.3 Mempersiapkan Dataset dropoff_location\n",
    "2.4 Mempersiapkan Dataset weather\n",
    "Tahap 3. Memperbaiki Datasets\n",
    "3.1 Mengecek Duplikat pada Datasets\n",
    "3.2 Mengecek Nilai yang Hilang pada Datasets\n",
    "3.3 Memperbaiki Kualitas Data pada Dataset company_name\n",
    "3.4 Memperbaiki Kualitas Data pada Dataset dropoff_location\n",
    "3.5 Memperbaiki Kualitas Data pada Dataset weather\n",
    "Tahap 4. Analisis Data Eksploratif (EDA)\n",
    "4.1 Analisis Dataset Perusahaan Taksi\n",
    "4.2 Analisis Dataset Lokasi Dropoff\n",
    "Tahap 5. Pengujian Hipotesis\n",
    "Tahap 6. Kesimpulan Umum\n"
   ]
  },
  {
   "cell_type": "markdown",
   "metadata": {},
   "source": [
    "### Inisialisasi Data"
   ]
  },
  {
   "cell_type": "markdown",
   "metadata": {},
   "source": [
    "Pada tahap awal mari kita import library beberpa library yaitu `pandas`, `numpy`, `matplotlib`, `seaborn`, `math`, dan `scipy`."
   ]
  },
  {
   "cell_type": "code",
   "execution_count": 2,
   "metadata": {},
   "outputs": [],
   "source": [
    "# Muat semua library\n",
    "\n",
    "import pandas as pd # memproses dataframe\n",
    "import numpy as np # memproses statistik deskriptif\n",
    "import matplotlib.pyplot as plt # memvisualisasikan data\n",
    "import seaborn as sns # memvisualisasikan data\n",
    "import math as mt # menambahkan fungsi matematika\n",
    "from scipy import stats as st # memproses hipotesis"
   ]
  },
  {
   "cell_type": "markdown",
   "metadata": {},
   "source": [
    "### Memuat Data"
   ]
  },
  {
   "cell_type": "markdown",
   "metadata": {},
   "source": [
    "Mari kita muat datanya."
   ]
  },
  {
   "cell_type": "code",
   "execution_count": 3,
   "metadata": {},
   "outputs": [],
   "source": [
    "# muat data\n",
    "game = pd.read_csv('/datasets/games.csv')"
   ]
  },
  {
   "cell_type": "markdown",
   "metadata": {},
   "source": [
    "### Mempersiapkan Data\n"
   ]
  },
  {
   "cell_type": "code",
   "execution_count": 4,
   "metadata": {},
   "outputs": [
    {
     "data": {
      "text/html": [
       "<div>\n",
       "<style scoped>\n",
       "    .dataframe tbody tr th:only-of-type {\n",
       "        vertical-align: middle;\n",
       "    }\n",
       "\n",
       "    .dataframe tbody tr th {\n",
       "        vertical-align: top;\n",
       "    }\n",
       "\n",
       "    .dataframe thead th {\n",
       "        text-align: right;\n",
       "    }\n",
       "</style>\n",
       "<table border=\"1\" class=\"dataframe\">\n",
       "  <thead>\n",
       "    <tr style=\"text-align: right;\">\n",
       "      <th></th>\n",
       "      <th>Name</th>\n",
       "      <th>Platform</th>\n",
       "      <th>Year_of_Release</th>\n",
       "      <th>Genre</th>\n",
       "      <th>NA_sales</th>\n",
       "      <th>EU_sales</th>\n",
       "      <th>JP_sales</th>\n",
       "      <th>Other_sales</th>\n",
       "      <th>Critic_Score</th>\n",
       "      <th>User_Score</th>\n",
       "      <th>Rating</th>\n",
       "    </tr>\n",
       "  </thead>\n",
       "  <tbody>\n",
       "    <tr>\n",
       "      <th>12710</th>\n",
       "      <td>Aquarium by DS</td>\n",
       "      <td>DS</td>\n",
       "      <td>2008.0</td>\n",
       "      <td>Simulation</td>\n",
       "      <td>0.05</td>\n",
       "      <td>0.00</td>\n",
       "      <td>0.00</td>\n",
       "      <td>0.00</td>\n",
       "      <td>NaN</td>\n",
       "      <td>tbd</td>\n",
       "      <td>NaN</td>\n",
       "    </tr>\n",
       "    <tr>\n",
       "      <th>13179</th>\n",
       "      <td>Sengoku Basara 4: Sumeragi</td>\n",
       "      <td>PS4</td>\n",
       "      <td>2015.0</td>\n",
       "      <td>Action</td>\n",
       "      <td>0.00</td>\n",
       "      <td>0.00</td>\n",
       "      <td>0.05</td>\n",
       "      <td>0.00</td>\n",
       "      <td>NaN</td>\n",
       "      <td>NaN</td>\n",
       "      <td>NaN</td>\n",
       "    </tr>\n",
       "    <tr>\n",
       "      <th>971</th>\n",
       "      <td>Sonic Advance 2</td>\n",
       "      <td>GBA</td>\n",
       "      <td>2002.0</td>\n",
       "      <td>Platform</td>\n",
       "      <td>0.93</td>\n",
       "      <td>0.59</td>\n",
       "      <td>0.21</td>\n",
       "      <td>0.07</td>\n",
       "      <td>83.0</td>\n",
       "      <td>8.3</td>\n",
       "      <td>E</td>\n",
       "    </tr>\n",
       "    <tr>\n",
       "      <th>1333</th>\n",
       "      <td>NCAA Football 2003</td>\n",
       "      <td>PS2</td>\n",
       "      <td>2002.0</td>\n",
       "      <td>Sports</td>\n",
       "      <td>1.16</td>\n",
       "      <td>0.08</td>\n",
       "      <td>0.00</td>\n",
       "      <td>0.19</td>\n",
       "      <td>91.0</td>\n",
       "      <td>8.6</td>\n",
       "      <td>E</td>\n",
       "    </tr>\n",
       "    <tr>\n",
       "      <th>1501</th>\n",
       "      <td>Pitfall II: Lost Caverns</td>\n",
       "      <td>2600</td>\n",
       "      <td>1983.0</td>\n",
       "      <td>Platform</td>\n",
       "      <td>1.22</td>\n",
       "      <td>0.07</td>\n",
       "      <td>0.00</td>\n",
       "      <td>0.02</td>\n",
       "      <td>NaN</td>\n",
       "      <td>NaN</td>\n",
       "      <td>NaN</td>\n",
       "    </tr>\n",
       "  </tbody>\n",
       "</table>\n",
       "</div>"
      ],
      "text/plain": [
       "                             Name Platform  Year_of_Release       Genre  \\\n",
       "12710              Aquarium by DS       DS           2008.0  Simulation   \n",
       "13179  Sengoku Basara 4: Sumeragi      PS4           2015.0      Action   \n",
       "971               Sonic Advance 2      GBA           2002.0    Platform   \n",
       "1333           NCAA Football 2003      PS2           2002.0      Sports   \n",
       "1501     Pitfall II: Lost Caverns     2600           1983.0    Platform   \n",
       "\n",
       "       NA_sales  EU_sales  JP_sales  Other_sales  Critic_Score User_Score  \\\n",
       "12710      0.05      0.00      0.00         0.00           NaN        tbd   \n",
       "13179      0.00      0.00      0.05         0.00           NaN        NaN   \n",
       "971        0.93      0.59      0.21         0.07          83.0        8.3   \n",
       "1333       1.16      0.08      0.00         0.19          91.0        8.6   \n",
       "1501       1.22      0.07      0.00         0.02           NaN        NaN   \n",
       "\n",
       "      Rating  \n",
       "12710    NaN  \n",
       "13179    NaN  \n",
       "971        E  \n",
       "1333       E  \n",
       "1501     NaN  "
      ]
     },
     "execution_count": 4,
     "metadata": {},
     "output_type": "execute_result"
    }
   ],
   "source": [
    "# melihat sampel data\n",
    "game.sample(5)"
   ]
  },
  {
   "cell_type": "markdown",
   "metadata": {},
   "source": [
    "Karena nama kolom, huruf besar dan kecil, kita akan rubah menjadi huruf kecil semua."
   ]
  },
  {
   "cell_type": "code",
   "execution_count": 5,
   "metadata": {},
   "outputs": [
    {
     "data": {
      "text/html": [
       "<div>\n",
       "<style scoped>\n",
       "    .dataframe tbody tr th:only-of-type {\n",
       "        vertical-align: middle;\n",
       "    }\n",
       "\n",
       "    .dataframe tbody tr th {\n",
       "        vertical-align: top;\n",
       "    }\n",
       "\n",
       "    .dataframe thead th {\n",
       "        text-align: right;\n",
       "    }\n",
       "</style>\n",
       "<table border=\"1\" class=\"dataframe\">\n",
       "  <thead>\n",
       "    <tr style=\"text-align: right;\">\n",
       "      <th></th>\n",
       "      <th>name</th>\n",
       "      <th>platform</th>\n",
       "      <th>year_of_release</th>\n",
       "      <th>genre</th>\n",
       "      <th>na_sales</th>\n",
       "      <th>eu_sales</th>\n",
       "      <th>jp_sales</th>\n",
       "      <th>other_sales</th>\n",
       "      <th>critic_score</th>\n",
       "      <th>user_score</th>\n",
       "      <th>rating</th>\n",
       "    </tr>\n",
       "  </thead>\n",
       "  <tbody>\n",
       "    <tr>\n",
       "      <th>16140</th>\n",
       "      <td>Dead Rising</td>\n",
       "      <td>XOne</td>\n",
       "      <td>2016.0</td>\n",
       "      <td>Action</td>\n",
       "      <td>0.01</td>\n",
       "      <td>0.00</td>\n",
       "      <td>0.00</td>\n",
       "      <td>0.00</td>\n",
       "      <td>NaN</td>\n",
       "      <td>8.8</td>\n",
       "      <td>M</td>\n",
       "    </tr>\n",
       "    <tr>\n",
       "      <th>8389</th>\n",
       "      <td>Clock Tower II: The Struggle Within</td>\n",
       "      <td>PS</td>\n",
       "      <td>1998.0</td>\n",
       "      <td>Adventure</td>\n",
       "      <td>0.02</td>\n",
       "      <td>0.01</td>\n",
       "      <td>0.12</td>\n",
       "      <td>0.01</td>\n",
       "      <td>49.0</td>\n",
       "      <td>5.7</td>\n",
       "      <td>M</td>\n",
       "    </tr>\n",
       "    <tr>\n",
       "      <th>4214</th>\n",
       "      <td>Football Manager 2015</td>\n",
       "      <td>PC</td>\n",
       "      <td>2014.0</td>\n",
       "      <td>Simulation</td>\n",
       "      <td>0.00</td>\n",
       "      <td>0.44</td>\n",
       "      <td>0.00</td>\n",
       "      <td>0.03</td>\n",
       "      <td>80.0</td>\n",
       "      <td>6</td>\n",
       "      <td>NaN</td>\n",
       "    </tr>\n",
       "    <tr>\n",
       "      <th>2970</th>\n",
       "      <td>Star Wars: Masters of Teras Kasi</td>\n",
       "      <td>PS</td>\n",
       "      <td>1997.0</td>\n",
       "      <td>Action</td>\n",
       "      <td>0.38</td>\n",
       "      <td>0.26</td>\n",
       "      <td>0.00</td>\n",
       "      <td>0.04</td>\n",
       "      <td>NaN</td>\n",
       "      <td>NaN</td>\n",
       "      <td>NaN</td>\n",
       "    </tr>\n",
       "    <tr>\n",
       "      <th>3494</th>\n",
       "      <td>Tales of the Abyss</td>\n",
       "      <td>PS2</td>\n",
       "      <td>2005.0</td>\n",
       "      <td>Role-Playing</td>\n",
       "      <td>0.00</td>\n",
       "      <td>0.00</td>\n",
       "      <td>0.57</td>\n",
       "      <td>0.00</td>\n",
       "      <td>78.0</td>\n",
       "      <td>8.4</td>\n",
       "      <td>T</td>\n",
       "    </tr>\n",
       "  </tbody>\n",
       "</table>\n",
       "</div>"
      ],
      "text/plain": [
       "                                      name platform  year_of_release  \\\n",
       "16140                          Dead Rising     XOne           2016.0   \n",
       "8389   Clock Tower II: The Struggle Within       PS           1998.0   \n",
       "4214                 Football Manager 2015       PC           2014.0   \n",
       "2970      Star Wars: Masters of Teras Kasi       PS           1997.0   \n",
       "3494                    Tales of the Abyss      PS2           2005.0   \n",
       "\n",
       "              genre  na_sales  eu_sales  jp_sales  other_sales  critic_score  \\\n",
       "16140        Action      0.01      0.00      0.00         0.00           NaN   \n",
       "8389      Adventure      0.02      0.01      0.12         0.01          49.0   \n",
       "4214     Simulation      0.00      0.44      0.00         0.03          80.0   \n",
       "2970         Action      0.38      0.26      0.00         0.04           NaN   \n",
       "3494   Role-Playing      0.00      0.00      0.57         0.00          78.0   \n",
       "\n",
       "      user_score rating  \n",
       "16140        8.8      M  \n",
       "8389         5.7      M  \n",
       "4214           6    NaN  \n",
       "2970         NaN    NaN  \n",
       "3494         8.4      T  "
      ]
     },
     "execution_count": 5,
     "metadata": {},
     "output_type": "execute_result"
    }
   ],
   "source": [
    "#ubah nama kolom menjadi huruf kecil semua\n",
    "game.columns = game.columns.str.lower()\n",
    "\n",
    "# Cek sampel data\n",
    "game.sample(5)"
   ]
  },
  {
   "cell_type": "markdown",
   "metadata": {},
   "source": [
    "Dari sampel data terlihat ada beberapa data yang hilang pada kolom `critic_score`, `user_score`, dan `rating`. Mari kita cek data yang hilang lebih lanjut secara persentase."
   ]
  },
  {
   "cell_type": "code",
   "execution_count": 6,
   "metadata": {},
   "outputs": [
    {
     "data": {
      "text/html": [
       "<div>\n",
       "<style scoped>\n",
       "    .dataframe tbody tr th:only-of-type {\n",
       "        vertical-align: middle;\n",
       "    }\n",
       "\n",
       "    .dataframe tbody tr th {\n",
       "        vertical-align: top;\n",
       "    }\n",
       "\n",
       "    .dataframe thead th {\n",
       "        text-align: right;\n",
       "    }\n",
       "</style>\n",
       "<table border=\"1\" class=\"dataframe\">\n",
       "  <thead>\n",
       "    <tr style=\"text-align: right;\">\n",
       "      <th></th>\n",
       "      <th>missing_values</th>\n",
       "      <th>% of total</th>\n",
       "    </tr>\n",
       "  </thead>\n",
       "  <tbody>\n",
       "    <tr>\n",
       "      <th>critic_score</th>\n",
       "      <td>8578</td>\n",
       "      <td>0.51</td>\n",
       "    </tr>\n",
       "    <tr>\n",
       "      <th>rating</th>\n",
       "      <td>6766</td>\n",
       "      <td>0.40</td>\n",
       "    </tr>\n",
       "    <tr>\n",
       "      <th>user_score</th>\n",
       "      <td>6701</td>\n",
       "      <td>0.40</td>\n",
       "    </tr>\n",
       "    <tr>\n",
       "      <th>year_of_release</th>\n",
       "      <td>269</td>\n",
       "      <td>0.02</td>\n",
       "    </tr>\n",
       "    <tr>\n",
       "      <th>name</th>\n",
       "      <td>2</td>\n",
       "      <td>0.00</td>\n",
       "    </tr>\n",
       "    <tr>\n",
       "      <th>genre</th>\n",
       "      <td>2</td>\n",
       "      <td>0.00</td>\n",
       "    </tr>\n",
       "    <tr>\n",
       "      <th>platform</th>\n",
       "      <td>0</td>\n",
       "      <td>0.00</td>\n",
       "    </tr>\n",
       "    <tr>\n",
       "      <th>na_sales</th>\n",
       "      <td>0</td>\n",
       "      <td>0.00</td>\n",
       "    </tr>\n",
       "    <tr>\n",
       "      <th>eu_sales</th>\n",
       "      <td>0</td>\n",
       "      <td>0.00</td>\n",
       "    </tr>\n",
       "    <tr>\n",
       "      <th>jp_sales</th>\n",
       "      <td>0</td>\n",
       "      <td>0.00</td>\n",
       "    </tr>\n",
       "    <tr>\n",
       "      <th>other_sales</th>\n",
       "      <td>0</td>\n",
       "      <td>0.00</td>\n",
       "    </tr>\n",
       "  </tbody>\n",
       "</table>\n",
       "</div>"
      ],
      "text/plain": [
       "                 missing_values  % of total\n",
       "critic_score               8578        0.51\n",
       "rating                     6766        0.40\n",
       "user_score                 6701        0.40\n",
       "year_of_release             269        0.02\n",
       "name                          2        0.00\n",
       "genre                         2        0.00\n",
       "platform                      0        0.00\n",
       "na_sales                      0        0.00\n",
       "eu_sales                      0        0.00\n",
       "jp_sales                      0        0.00\n",
       "other_sales                   0        0.00"
      ]
     },
     "execution_count": 6,
     "metadata": {},
     "output_type": "execute_result"
    }
   ],
   "source": [
    "# Melakukan pengecekan apakah ada nilai yang hilang pada dataset\n",
    "game_missed = game.isna().sum().to_frame()\n",
    "game_missed = game_missed.rename(columns={0: 'missing_values'})\n",
    "game_missed['% of total'] = (game_missed['missing_values'] / game.shape[0]).round(2)\n",
    "game_missed.sort_values(by='missing_values', ascending=False)"
   ]
  },
  {
   "cell_type": "markdown",
   "metadata": {},
   "source": [
    "Ternyata dari pengecekan data yang hilang, ternyata kita mempunyai nilai yang hilang pada kolom `critic_score`, `rating`, `user_score`, `year_of_release`, `name`, `genre`. Kita akan membiarkan `critic_score` mempunyai nilai yang hilang, karena missing valuenya sangat banyak, dan dapat berakibat merubah distribusi data. Untuk `user_score`, kita akan membiarkan nilai yang hilang, karena missing valuenya sangat banyak, namun, kita akan merubah nilai `tbd` menjadi `nan`.dan untuk `year_of_release` akan kita isi dengan `0`, dan untuk `name`, `genre`, dan `rating` akan kita isi dengan `unknown`."
   ]
  },
  {
   "cell_type": "markdown",
   "metadata": {},
   "source": [
    "Untuk `user_score`, kita akan membiarkan nilai yang hilang, namun untuk `tbd` akan kita rubah menjadi `nan`."
   ]
  },
  {
   "cell_type": "code",
   "execution_count": 7,
   "metadata": {},
   "outputs": [],
   "source": [
    "# Mengganti nilai \"tbd\" dalam kolom 'user_score' menjadi NaN\n",
    "game['user_score'].replace('tbd', np.nan, inplace=True)"
   ]
  },
  {
   "cell_type": "markdown",
   "metadata": {},
   "source": [
    "Untuk `year_of_release`, kita akan mengisi data yang hilang dengan nilai 0."
   ]
  },
  {
   "cell_type": "code",
   "execution_count": 8,
   "metadata": {},
   "outputs": [],
   "source": [
    "# Mengisi nilai yang hilang dengan 0 untuk kolom Year_of_Release\n",
    "game['year_of_release'].fillna(0, inplace=True)"
   ]
  },
  {
   "cell_type": "markdown",
   "metadata": {},
   "source": [
    "Untuk `rating`, kita akan mengisi data yang hilang menggunakan `unknown`, untuk mempermudah analisa."
   ]
  },
  {
   "cell_type": "code",
   "execution_count": 9,
   "metadata": {},
   "outputs": [],
   "source": [
    "# Mengisi nilai yang hilang dengan unknown untuk kolom rating\n",
    "game['rating'].fillna('unknown', inplace=True)"
   ]
  },
  {
   "cell_type": "markdown",
   "metadata": {},
   "source": [
    "Untuk `genre`, kita akan mengisi data yang hilang dengan `unknown`, untuk mempermudah analisa."
   ]
  },
  {
   "cell_type": "code",
   "execution_count": 10,
   "metadata": {},
   "outputs": [],
   "source": [
    "# Mengisi nilai yang hilang dengan unknown untuk kolom genre\n",
    "game['genre'].fillna('unknown', inplace=True)"
   ]
  },
  {
   "cell_type": "markdown",
   "metadata": {},
   "source": [
    "Untuk `name`, kita akan mengisi data yang hilang dengan `unknown`, untuk mempermudah analisa."
   ]
  },
  {
   "cell_type": "code",
   "execution_count": 11,
   "metadata": {},
   "outputs": [],
   "source": [
    "# Mengisi nilai yang hilang dengan unknown untuk kolom name\n",
    "game['name'].fillna('unknown', inplace=True)"
   ]
  },
  {
   "cell_type": "markdown",
   "metadata": {},
   "source": [
    "Mari kita cek apakah masih ada data yang hilang."
   ]
  },
  {
   "cell_type": "code",
   "execution_count": 12,
   "metadata": {},
   "outputs": [
    {
     "data": {
      "text/html": [
       "<div>\n",
       "<style scoped>\n",
       "    .dataframe tbody tr th:only-of-type {\n",
       "        vertical-align: middle;\n",
       "    }\n",
       "\n",
       "    .dataframe tbody tr th {\n",
       "        vertical-align: top;\n",
       "    }\n",
       "\n",
       "    .dataframe thead th {\n",
       "        text-align: right;\n",
       "    }\n",
       "</style>\n",
       "<table border=\"1\" class=\"dataframe\">\n",
       "  <thead>\n",
       "    <tr style=\"text-align: right;\">\n",
       "      <th></th>\n",
       "      <th>missing_values</th>\n",
       "      <th>% of total</th>\n",
       "    </tr>\n",
       "  </thead>\n",
       "  <tbody>\n",
       "    <tr>\n",
       "      <th>user_score</th>\n",
       "      <td>9125</td>\n",
       "      <td>0.55</td>\n",
       "    </tr>\n",
       "    <tr>\n",
       "      <th>critic_score</th>\n",
       "      <td>8578</td>\n",
       "      <td>0.51</td>\n",
       "    </tr>\n",
       "    <tr>\n",
       "      <th>name</th>\n",
       "      <td>0</td>\n",
       "      <td>0.00</td>\n",
       "    </tr>\n",
       "    <tr>\n",
       "      <th>platform</th>\n",
       "      <td>0</td>\n",
       "      <td>0.00</td>\n",
       "    </tr>\n",
       "    <tr>\n",
       "      <th>year_of_release</th>\n",
       "      <td>0</td>\n",
       "      <td>0.00</td>\n",
       "    </tr>\n",
       "    <tr>\n",
       "      <th>genre</th>\n",
       "      <td>0</td>\n",
       "      <td>0.00</td>\n",
       "    </tr>\n",
       "    <tr>\n",
       "      <th>na_sales</th>\n",
       "      <td>0</td>\n",
       "      <td>0.00</td>\n",
       "    </tr>\n",
       "    <tr>\n",
       "      <th>eu_sales</th>\n",
       "      <td>0</td>\n",
       "      <td>0.00</td>\n",
       "    </tr>\n",
       "    <tr>\n",
       "      <th>jp_sales</th>\n",
       "      <td>0</td>\n",
       "      <td>0.00</td>\n",
       "    </tr>\n",
       "    <tr>\n",
       "      <th>other_sales</th>\n",
       "      <td>0</td>\n",
       "      <td>0.00</td>\n",
       "    </tr>\n",
       "    <tr>\n",
       "      <th>rating</th>\n",
       "      <td>0</td>\n",
       "      <td>0.00</td>\n",
       "    </tr>\n",
       "  </tbody>\n",
       "</table>\n",
       "</div>"
      ],
      "text/plain": [
       "                 missing_values  % of total\n",
       "user_score                 9125        0.55\n",
       "critic_score               8578        0.51\n",
       "name                          0        0.00\n",
       "platform                      0        0.00\n",
       "year_of_release               0        0.00\n",
       "genre                         0        0.00\n",
       "na_sales                      0        0.00\n",
       "eu_sales                      0        0.00\n",
       "jp_sales                      0        0.00\n",
       "other_sales                   0        0.00\n",
       "rating                        0        0.00"
      ]
     },
     "execution_count": 12,
     "metadata": {},
     "output_type": "execute_result"
    }
   ],
   "source": [
    "# cek data yang hilang\n",
    "# Melakukan pengecekan apakah ada nilai yang hilang pada dataset\n",
    "game_missed = game.isna().sum().to_frame()\n",
    "game_missed = game_missed.rename(columns={0: 'missing_values'})\n",
    "game_missed['% of total'] = (game_missed['missing_values'] / game.shape[0]).round(2)\n",
    "game_missed.sort_values(by='missing_values', ascending=False)"
   ]
  },
  {
   "cell_type": "markdown",
   "metadata": {},
   "source": [
    "Sekarang nilai yang hilang hanya ada pada kolom `critic_score` dan `user_score`."
   ]
  },
  {
   "cell_type": "code",
   "execution_count": 13,
   "metadata": {},
   "outputs": [
    {
     "data": {
      "text/html": [
       "<div>\n",
       "<style scoped>\n",
       "    .dataframe tbody tr th:only-of-type {\n",
       "        vertical-align: middle;\n",
       "    }\n",
       "\n",
       "    .dataframe tbody tr th {\n",
       "        vertical-align: top;\n",
       "    }\n",
       "\n",
       "    .dataframe thead th {\n",
       "        text-align: right;\n",
       "    }\n",
       "</style>\n",
       "<table border=\"1\" class=\"dataframe\">\n",
       "  <thead>\n",
       "    <tr style=\"text-align: right;\">\n",
       "      <th></th>\n",
       "      <th>name</th>\n",
       "      <th>platform</th>\n",
       "      <th>year_of_release</th>\n",
       "      <th>genre</th>\n",
       "      <th>na_sales</th>\n",
       "      <th>eu_sales</th>\n",
       "      <th>jp_sales</th>\n",
       "      <th>other_sales</th>\n",
       "      <th>critic_score</th>\n",
       "      <th>user_score</th>\n",
       "      <th>rating</th>\n",
       "    </tr>\n",
       "  </thead>\n",
       "  <tbody>\n",
       "    <tr>\n",
       "      <th>10478</th>\n",
       "      <td>Momotarou Dentetsu 16</td>\n",
       "      <td>Wii</td>\n",
       "      <td>2007.0</td>\n",
       "      <td>Misc</td>\n",
       "      <td>0.00</td>\n",
       "      <td>0.00</td>\n",
       "      <td>0.10</td>\n",
       "      <td>0.00</td>\n",
       "      <td>NaN</td>\n",
       "      <td>NaN</td>\n",
       "      <td>unknown</td>\n",
       "    </tr>\n",
       "    <tr>\n",
       "      <th>10892</th>\n",
       "      <td>Gradius V</td>\n",
       "      <td>PS2</td>\n",
       "      <td>2004.0</td>\n",
       "      <td>Shooter</td>\n",
       "      <td>0.05</td>\n",
       "      <td>0.04</td>\n",
       "      <td>0.00</td>\n",
       "      <td>0.01</td>\n",
       "      <td>82.0</td>\n",
       "      <td>8.5</td>\n",
       "      <td>T</td>\n",
       "    </tr>\n",
       "    <tr>\n",
       "      <th>1464</th>\n",
       "      <td>Battlefield: Bad Company</td>\n",
       "      <td>PS3</td>\n",
       "      <td>2008.0</td>\n",
       "      <td>Shooter</td>\n",
       "      <td>0.76</td>\n",
       "      <td>0.35</td>\n",
       "      <td>0.05</td>\n",
       "      <td>0.18</td>\n",
       "      <td>84.0</td>\n",
       "      <td>8.1</td>\n",
       "      <td>T</td>\n",
       "    </tr>\n",
       "    <tr>\n",
       "      <th>349</th>\n",
       "      <td>Pro Evolution Soccer 2008</td>\n",
       "      <td>PS2</td>\n",
       "      <td>2007.0</td>\n",
       "      <td>Sports</td>\n",
       "      <td>0.05</td>\n",
       "      <td>0.00</td>\n",
       "      <td>0.64</td>\n",
       "      <td>2.93</td>\n",
       "      <td>82.0</td>\n",
       "      <td>7.9</td>\n",
       "      <td>E</td>\n",
       "    </tr>\n",
       "    <tr>\n",
       "      <th>4873</th>\n",
       "      <td>Mobile Suit Gundam: Lost War Chronicles</td>\n",
       "      <td>PS2</td>\n",
       "      <td>2002.0</td>\n",
       "      <td>Shooter</td>\n",
       "      <td>0.00</td>\n",
       "      <td>0.00</td>\n",
       "      <td>0.39</td>\n",
       "      <td>0.00</td>\n",
       "      <td>NaN</td>\n",
       "      <td>NaN</td>\n",
       "      <td>unknown</td>\n",
       "    </tr>\n",
       "    <tr>\n",
       "      <th>2842</th>\n",
       "      <td>Kirby: Canvas Curse</td>\n",
       "      <td>DS</td>\n",
       "      <td>2005.0</td>\n",
       "      <td>Platform</td>\n",
       "      <td>0.36</td>\n",
       "      <td>0.00</td>\n",
       "      <td>0.32</td>\n",
       "      <td>0.03</td>\n",
       "      <td>86.0</td>\n",
       "      <td>8.2</td>\n",
       "      <td>E</td>\n",
       "    </tr>\n",
       "    <tr>\n",
       "      <th>3662</th>\n",
       "      <td>Tak and the Power of Juju</td>\n",
       "      <td>GBA</td>\n",
       "      <td>2003.0</td>\n",
       "      <td>Platform</td>\n",
       "      <td>0.39</td>\n",
       "      <td>0.15</td>\n",
       "      <td>0.00</td>\n",
       "      <td>0.01</td>\n",
       "      <td>79.0</td>\n",
       "      <td>9.2</td>\n",
       "      <td>E</td>\n",
       "    </tr>\n",
       "    <tr>\n",
       "      <th>11791</th>\n",
       "      <td>Futurama</td>\n",
       "      <td>PS2</td>\n",
       "      <td>2003.0</td>\n",
       "      <td>Platform</td>\n",
       "      <td>0.04</td>\n",
       "      <td>0.03</td>\n",
       "      <td>0.00</td>\n",
       "      <td>0.01</td>\n",
       "      <td>59.0</td>\n",
       "      <td>6.6</td>\n",
       "      <td>T</td>\n",
       "    </tr>\n",
       "    <tr>\n",
       "      <th>393</th>\n",
       "      <td>FIFA Soccer 2003</td>\n",
       "      <td>PS2</td>\n",
       "      <td>2002.0</td>\n",
       "      <td>Sports</td>\n",
       "      <td>0.46</td>\n",
       "      <td>2.28</td>\n",
       "      <td>0.05</td>\n",
       "      <td>0.61</td>\n",
       "      <td>88.0</td>\n",
       "      <td>6.7</td>\n",
       "      <td>E</td>\n",
       "    </tr>\n",
       "    <tr>\n",
       "      <th>6140</th>\n",
       "      <td>Tales of the World: Radiant Mythology 3</td>\n",
       "      <td>PSP</td>\n",
       "      <td>2011.0</td>\n",
       "      <td>Role-Playing</td>\n",
       "      <td>0.00</td>\n",
       "      <td>0.00</td>\n",
       "      <td>0.28</td>\n",
       "      <td>0.00</td>\n",
       "      <td>NaN</td>\n",
       "      <td>NaN</td>\n",
       "      <td>unknown</td>\n",
       "    </tr>\n",
       "  </tbody>\n",
       "</table>\n",
       "</div>"
      ],
      "text/plain": [
       "                                          name platform  year_of_release  \\\n",
       "10478                    Momotarou Dentetsu 16      Wii           2007.0   \n",
       "10892                                Gradius V      PS2           2004.0   \n",
       "1464                  Battlefield: Bad Company      PS3           2008.0   \n",
       "349                  Pro Evolution Soccer 2008      PS2           2007.0   \n",
       "4873   Mobile Suit Gundam: Lost War Chronicles      PS2           2002.0   \n",
       "2842                       Kirby: Canvas Curse       DS           2005.0   \n",
       "3662                 Tak and the Power of Juju      GBA           2003.0   \n",
       "11791                                 Futurama      PS2           2003.0   \n",
       "393                           FIFA Soccer 2003      PS2           2002.0   \n",
       "6140   Tales of the World: Radiant Mythology 3      PSP           2011.0   \n",
       "\n",
       "              genre  na_sales  eu_sales  jp_sales  other_sales  critic_score  \\\n",
       "10478          Misc      0.00      0.00      0.10         0.00           NaN   \n",
       "10892       Shooter      0.05      0.04      0.00         0.01          82.0   \n",
       "1464        Shooter      0.76      0.35      0.05         0.18          84.0   \n",
       "349          Sports      0.05      0.00      0.64         2.93          82.0   \n",
       "4873        Shooter      0.00      0.00      0.39         0.00           NaN   \n",
       "2842       Platform      0.36      0.00      0.32         0.03          86.0   \n",
       "3662       Platform      0.39      0.15      0.00         0.01          79.0   \n",
       "11791      Platform      0.04      0.03      0.00         0.01          59.0   \n",
       "393          Sports      0.46      2.28      0.05         0.61          88.0   \n",
       "6140   Role-Playing      0.00      0.00      0.28         0.00           NaN   \n",
       "\n",
       "      user_score   rating  \n",
       "10478        NaN  unknown  \n",
       "10892        8.5        T  \n",
       "1464         8.1        T  \n",
       "349          7.9        E  \n",
       "4873         NaN  unknown  \n",
       "2842         8.2        E  \n",
       "3662         9.2        E  \n",
       "11791        6.6        T  \n",
       "393          6.7        E  \n",
       "6140         NaN  unknown  "
      ]
     },
     "execution_count": 13,
     "metadata": {},
     "output_type": "execute_result"
    }
   ],
   "source": [
    "#cek sampel data\n",
    "game.sample(10)"
   ]
  },
  {
   "cell_type": "markdown",
   "metadata": {},
   "source": [
    "Sekarang sudah tidak ditemukan data yang hilang, semua data sudah terisi. Kita lanjutkan cek tipe data."
   ]
  },
  {
   "cell_type": "code",
   "execution_count": 14,
   "metadata": {},
   "outputs": [
    {
     "name": "stdout",
     "output_type": "stream",
     "text": [
      "<class 'pandas.core.frame.DataFrame'>\n",
      "RangeIndex: 16715 entries, 0 to 16714\n",
      "Data columns (total 11 columns):\n",
      " #   Column           Non-Null Count  Dtype  \n",
      "---  ------           --------------  -----  \n",
      " 0   name             16715 non-null  object \n",
      " 1   platform         16715 non-null  object \n",
      " 2   year_of_release  16715 non-null  float64\n",
      " 3   genre            16715 non-null  object \n",
      " 4   na_sales         16715 non-null  float64\n",
      " 5   eu_sales         16715 non-null  float64\n",
      " 6   jp_sales         16715 non-null  float64\n",
      " 7   other_sales      16715 non-null  float64\n",
      " 8   critic_score     8137 non-null   float64\n",
      " 9   user_score       7590 non-null   object \n",
      " 10  rating           16715 non-null  object \n",
      "dtypes: float64(6), object(5)\n",
      "memory usage: 1.4+ MB\n"
     ]
    }
   ],
   "source": [
    "#cek tipe data\n",
    "game.info()"
   ]
  },
  {
   "cell_type": "markdown",
   "metadata": {},
   "source": [
    "kita akan merubah tipe data kolom `year_of release`dari float` menjadi `integer`."
   ]
  },
  {
   "cell_type": "code",
   "execution_count": 15,
   "metadata": {},
   "outputs": [
    {
     "name": "stdout",
     "output_type": "stream",
     "text": [
      "<class 'pandas.core.frame.DataFrame'>\n",
      "RangeIndex: 16715 entries, 0 to 16714\n",
      "Data columns (total 11 columns):\n",
      " #   Column           Non-Null Count  Dtype  \n",
      "---  ------           --------------  -----  \n",
      " 0   name             16715 non-null  object \n",
      " 1   platform         16715 non-null  object \n",
      " 2   year_of_release  16715 non-null  int64  \n",
      " 3   genre            16715 non-null  object \n",
      " 4   na_sales         16715 non-null  float64\n",
      " 5   eu_sales         16715 non-null  float64\n",
      " 6   jp_sales         16715 non-null  float64\n",
      " 7   other_sales      16715 non-null  float64\n",
      " 8   critic_score     8137 non-null   float64\n",
      " 9   user_score       7590 non-null   object \n",
      " 10  rating           16715 non-null  object \n",
      "dtypes: float64(5), int64(1), object(5)\n",
      "memory usage: 1.4+ MB\n"
     ]
    }
   ],
   "source": [
    "#ubah tipe data float ke integer\n",
    "# Mengubah tipe data kolom 'year_of_release' dari float menjadi integer\n",
    "game['year_of_release'] = game['year_of_release'].astype(int)\n",
    "\n",
    "# Cek tipe data setelah perubahan\n",
    "game.info()"
   ]
  },
  {
   "cell_type": "code",
   "execution_count": 16,
   "metadata": {},
   "outputs": [
    {
     "data": {
      "text/html": [
       "<div>\n",
       "<style scoped>\n",
       "    .dataframe tbody tr th:only-of-type {\n",
       "        vertical-align: middle;\n",
       "    }\n",
       "\n",
       "    .dataframe tbody tr th {\n",
       "        vertical-align: top;\n",
       "    }\n",
       "\n",
       "    .dataframe thead th {\n",
       "        text-align: right;\n",
       "    }\n",
       "</style>\n",
       "<table border=\"1\" class=\"dataframe\">\n",
       "  <thead>\n",
       "    <tr style=\"text-align: right;\">\n",
       "      <th></th>\n",
       "      <th>name</th>\n",
       "      <th>platform</th>\n",
       "      <th>year_of_release</th>\n",
       "      <th>genre</th>\n",
       "      <th>na_sales</th>\n",
       "      <th>eu_sales</th>\n",
       "      <th>jp_sales</th>\n",
       "      <th>other_sales</th>\n",
       "      <th>critic_score</th>\n",
       "      <th>user_score</th>\n",
       "      <th>rating</th>\n",
       "    </tr>\n",
       "  </thead>\n",
       "  <tbody>\n",
       "    <tr>\n",
       "      <th>5789</th>\n",
       "      <td>Shin Megami Tensei: Devil Summoner - Soul Hackers</td>\n",
       "      <td>3DS</td>\n",
       "      <td>2012</td>\n",
       "      <td>Role-Playing</td>\n",
       "      <td>0.13</td>\n",
       "      <td>0.02</td>\n",
       "      <td>0.14</td>\n",
       "      <td>0.01</td>\n",
       "      <td>NaN</td>\n",
       "      <td>NaN</td>\n",
       "      <td>unknown</td>\n",
       "    </tr>\n",
       "    <tr>\n",
       "      <th>6617</th>\n",
       "      <td>A. IV Evolution: A Ressha de Ikou 4</td>\n",
       "      <td>PS</td>\n",
       "      <td>1994</td>\n",
       "      <td>Strategy</td>\n",
       "      <td>0.00</td>\n",
       "      <td>0.00</td>\n",
       "      <td>0.24</td>\n",
       "      <td>0.02</td>\n",
       "      <td>NaN</td>\n",
       "      <td>NaN</td>\n",
       "      <td>unknown</td>\n",
       "    </tr>\n",
       "    <tr>\n",
       "      <th>1078</th>\n",
       "      <td>Sid Meier's Civilization V</td>\n",
       "      <td>PC</td>\n",
       "      <td>2010</td>\n",
       "      <td>Strategy</td>\n",
       "      <td>0.98</td>\n",
       "      <td>0.52</td>\n",
       "      <td>0.00</td>\n",
       "      <td>0.17</td>\n",
       "      <td>90.0</td>\n",
       "      <td>7.9</td>\n",
       "      <td>E10+</td>\n",
       "    </tr>\n",
       "    <tr>\n",
       "      <th>13546</th>\n",
       "      <td>TOCA Race Driver 2</td>\n",
       "      <td>XB</td>\n",
       "      <td>2004</td>\n",
       "      <td>Racing</td>\n",
       "      <td>0.03</td>\n",
       "      <td>0.01</td>\n",
       "      <td>0.00</td>\n",
       "      <td>0.00</td>\n",
       "      <td>NaN</td>\n",
       "      <td>8.3</td>\n",
       "      <td>T</td>\n",
       "    </tr>\n",
       "    <tr>\n",
       "      <th>5237</th>\n",
       "      <td>Ganbare Goemon 3: Shishi Jyuurokubei no Karaku...</td>\n",
       "      <td>SNES</td>\n",
       "      <td>1994</td>\n",
       "      <td>Platform</td>\n",
       "      <td>0.00</td>\n",
       "      <td>0.00</td>\n",
       "      <td>0.36</td>\n",
       "      <td>0.00</td>\n",
       "      <td>NaN</td>\n",
       "      <td>NaN</td>\n",
       "      <td>unknown</td>\n",
       "    </tr>\n",
       "  </tbody>\n",
       "</table>\n",
       "</div>"
      ],
      "text/plain": [
       "                                                    name platform  \\\n",
       "5789   Shin Megami Tensei: Devil Summoner - Soul Hackers      3DS   \n",
       "6617                 A. IV Evolution: A Ressha de Ikou 4       PS   \n",
       "1078                          Sid Meier's Civilization V       PC   \n",
       "13546                                 TOCA Race Driver 2       XB   \n",
       "5237   Ganbare Goemon 3: Shishi Jyuurokubei no Karaku...     SNES   \n",
       "\n",
       "       year_of_release         genre  na_sales  eu_sales  jp_sales  \\\n",
       "5789              2012  Role-Playing      0.13      0.02      0.14   \n",
       "6617              1994      Strategy      0.00      0.00      0.24   \n",
       "1078              2010      Strategy      0.98      0.52      0.00   \n",
       "13546             2004        Racing      0.03      0.01      0.00   \n",
       "5237              1994      Platform      0.00      0.00      0.36   \n",
       "\n",
       "       other_sales  critic_score user_score   rating  \n",
       "5789          0.01           NaN        NaN  unknown  \n",
       "6617          0.02           NaN        NaN  unknown  \n",
       "1078          0.17          90.0        7.9     E10+  \n",
       "13546         0.00           NaN        8.3        T  \n",
       "5237          0.00           NaN        NaN  unknown  "
      ]
     },
     "execution_count": 16,
     "metadata": {},
     "output_type": "execute_result"
    }
   ],
   "source": [
    "#cek sampel data\n",
    "game.sample(5)"
   ]
  },
  {
   "cell_type": "markdown",
   "metadata": {},
   "source": [
    "Saat ini data sudah terlihat cukup baik, kita lanjutkan ke langkah analisa selanjutnya yaitu menghitung total penjualan, dengan menambahkan satu kolom lagi yaitu `total_sales`."
   ]
  },
  {
   "cell_type": "code",
   "execution_count": 17,
   "metadata": {},
   "outputs": [
    {
     "data": {
      "text/html": [
       "<div>\n",
       "<style scoped>\n",
       "    .dataframe tbody tr th:only-of-type {\n",
       "        vertical-align: middle;\n",
       "    }\n",
       "\n",
       "    .dataframe tbody tr th {\n",
       "        vertical-align: top;\n",
       "    }\n",
       "\n",
       "    .dataframe thead th {\n",
       "        text-align: right;\n",
       "    }\n",
       "</style>\n",
       "<table border=\"1\" class=\"dataframe\">\n",
       "  <thead>\n",
       "    <tr style=\"text-align: right;\">\n",
       "      <th></th>\n",
       "      <th>name</th>\n",
       "      <th>platform</th>\n",
       "      <th>year_of_release</th>\n",
       "      <th>genre</th>\n",
       "      <th>na_sales</th>\n",
       "      <th>eu_sales</th>\n",
       "      <th>jp_sales</th>\n",
       "      <th>other_sales</th>\n",
       "      <th>critic_score</th>\n",
       "      <th>user_score</th>\n",
       "      <th>rating</th>\n",
       "      <th>total_sales</th>\n",
       "    </tr>\n",
       "  </thead>\n",
       "  <tbody>\n",
       "    <tr>\n",
       "      <th>10901</th>\n",
       "      <td>SD Gundam G Generation DS</td>\n",
       "      <td>DS</td>\n",
       "      <td>2005</td>\n",
       "      <td>Role-Playing</td>\n",
       "      <td>0.00</td>\n",
       "      <td>0.00</td>\n",
       "      <td>0.09</td>\n",
       "      <td>0.00</td>\n",
       "      <td>NaN</td>\n",
       "      <td>NaN</td>\n",
       "      <td>unknown</td>\n",
       "      <td>0.09</td>\n",
       "    </tr>\n",
       "    <tr>\n",
       "      <th>11200</th>\n",
       "      <td>Dead or Alive 5</td>\n",
       "      <td>XOne</td>\n",
       "      <td>2015</td>\n",
       "      <td>Fighting</td>\n",
       "      <td>0.05</td>\n",
       "      <td>0.03</td>\n",
       "      <td>0.01</td>\n",
       "      <td>0.01</td>\n",
       "      <td>NaN</td>\n",
       "      <td>NaN</td>\n",
       "      <td>unknown</td>\n",
       "      <td>0.10</td>\n",
       "    </tr>\n",
       "    <tr>\n",
       "      <th>8510</th>\n",
       "      <td>Monster Jam</td>\n",
       "      <td>Wii</td>\n",
       "      <td>2007</td>\n",
       "      <td>Racing</td>\n",
       "      <td>0.15</td>\n",
       "      <td>0.00</td>\n",
       "      <td>0.00</td>\n",
       "      <td>0.01</td>\n",
       "      <td>NaN</td>\n",
       "      <td>7.8</td>\n",
       "      <td>E</td>\n",
       "      <td>0.16</td>\n",
       "    </tr>\n",
       "    <tr>\n",
       "      <th>1183</th>\n",
       "      <td>Madden NFL 15</td>\n",
       "      <td>XOne</td>\n",
       "      <td>2014</td>\n",
       "      <td>Sports</td>\n",
       "      <td>1.31</td>\n",
       "      <td>0.09</td>\n",
       "      <td>0.00</td>\n",
       "      <td>0.16</td>\n",
       "      <td>80.0</td>\n",
       "      <td>6.4</td>\n",
       "      <td>E</td>\n",
       "      <td>1.56</td>\n",
       "    </tr>\n",
       "    <tr>\n",
       "      <th>7680</th>\n",
       "      <td>Shaman King: Spirit of Shamans</td>\n",
       "      <td>PS</td>\n",
       "      <td>2002</td>\n",
       "      <td>Action</td>\n",
       "      <td>0.00</td>\n",
       "      <td>0.00</td>\n",
       "      <td>0.18</td>\n",
       "      <td>0.01</td>\n",
       "      <td>NaN</td>\n",
       "      <td>NaN</td>\n",
       "      <td>unknown</td>\n",
       "      <td>0.19</td>\n",
       "    </tr>\n",
       "  </tbody>\n",
       "</table>\n",
       "</div>"
      ],
      "text/plain": [
       "                                 name platform  year_of_release         genre  \\\n",
       "10901       SD Gundam G Generation DS       DS             2005  Role-Playing   \n",
       "11200                 Dead or Alive 5     XOne             2015      Fighting   \n",
       "8510                      Monster Jam      Wii             2007        Racing   \n",
       "1183                    Madden NFL 15     XOne             2014        Sports   \n",
       "7680   Shaman King: Spirit of Shamans       PS             2002        Action   \n",
       "\n",
       "       na_sales  eu_sales  jp_sales  other_sales  critic_score user_score  \\\n",
       "10901      0.00      0.00      0.09         0.00           NaN        NaN   \n",
       "11200      0.05      0.03      0.01         0.01           NaN        NaN   \n",
       "8510       0.15      0.00      0.00         0.01           NaN        7.8   \n",
       "1183       1.31      0.09      0.00         0.16          80.0        6.4   \n",
       "7680       0.00      0.00      0.18         0.01           NaN        NaN   \n",
       "\n",
       "        rating  total_sales  \n",
       "10901  unknown         0.09  \n",
       "11200  unknown         0.10  \n",
       "8510         E         0.16  \n",
       "1183         E         1.56  \n",
       "7680   unknown         0.19  "
      ]
     },
     "execution_count": 17,
     "metadata": {},
     "output_type": "execute_result"
    }
   ],
   "source": [
    "# Menghitung total penjualan\n",
    "game['total_sales'] = game['na_sales'] + game['eu_sales'] + game['jp_sales'] + game['other_sales']\n",
    "\n",
    "# Cek sampel data\n",
    "game.sample(5)"
   ]
  },
  {
   "cell_type": "markdown",
   "metadata": {},
   "source": [
    "Kita sudah berhasil menambahkan kolom `total_sales`, sekarang kita lanjutkan ke tahap analisa data."
   ]
  },
  {
   "cell_type": "markdown",
   "metadata": {},
   "source": [
    "### Analisa Data"
   ]
  },
  {
   "cell_type": "markdown",
   "metadata": {},
   "source": [
    "Untuk tahap awal analisa data, kita akan melakukan agregasi data, dimana kita akan menggunakan dataframe, untuk menganalisa, dengan langkah sebagai berikut:\n",
    "\n",
    "1. Agregasi data menggunakan dataframe dari `name` meliputi pada platform dan tahun berapa game keluar.\n",
    "2. Menggabungkan data-data ynag sudah dikumpulkan untuk memperoleh game yang terbanyak terjual."
   ]
  },
  {
   "cell_type": "markdown",
   "metadata": {},
   "source": [
    "**Cek Rilis Game Pada Setiap Tahun**"
   ]
  },
  {
   "cell_type": "markdown",
   "metadata": {},
   "source": [
    "Kita akan menganalisa , berapa banyak game yang dirilis pada tahun yang berbeda. "
   ]
  },
  {
   "cell_type": "code",
   "execution_count": 18,
   "metadata": {},
   "outputs": [
    {
     "data": {
      "image/png": "[encoded data removed]",
      "text/plain": [
       "<Figure size 1080x432 with 1 Axes>"
      ]
     },
     "metadata": {
      "needs_background": "light"
     },
     "output_type": "display_data"
    }
   ],
   "source": [
    "# Menghitung jumlah game yang dirilis pada tahun yang berbeda\n",
    "game_count_by_year = game['year_of_release'].value_counts().reset_index()\n",
    "game_count_by_year.columns = ['year', 'game_count']\n",
    "\n",
    "# Mengurutkan berdasarkan tahun\n",
    "game_count_by_year = game_count_by_year.sort_values(by='year')\n",
    "\n",
    "# Plot grafik untuk visualisasi\n",
    "plt.figure(figsize=(15, 6))\n",
    "ax = sns.barplot(x='year', y='game_count', data=game_count_by_year)\n",
    "plt.title('Jumlah Game yang Dirilis per Tahun')\n",
    "plt.xlabel('Tahun Rilis')\n",
    "plt.ylabel('Jumlah Game')\n",
    "plt.xticks(rotation=90)\n",
    "\n",
    "# Menambahkan anotasi di atas bar chart\n",
    "for index, row in game_count_by_year.iterrows():\n",
    "    ax.text(index, row['game_count'], str(row['game_count']), ha='center', va='bottom', rotation=90)\n",
    "\n",
    "plt.show()"
   ]
  },
  {
   "cell_type": "markdown",
   "metadata": {},
   "source": [
    "Dari grafik terlihat bahwa penjualan game tertinggi adalah pada tahun 2007 sebanyak `1466`.sedangkan untuk data terakhir, tahun 2016 sebanyak `502.`Dari grafik terlihat bahwa penjualan mengalami penurunan terbsar adalah saat tahun `2011` ke `2012`. dan untuk tahun `2013` hingga `2016` mempunyai milai yang hampir sama di range `500`-an."
   ]
  },
  {
   "cell_type": "markdown",
   "metadata": {},
   "source": [
    "<div class=\"alert alert-success\">\n",
    "<b>Code Reviewers's comment v.1</b> <a class=\"tocSkip\"></a>\n",
    "\n",
    "Bagus, code yang dijalankan sudah sesuai dengan instruksi dari project.\n",
    "\n",
    "</div>"
   ]
  },
  {
   "cell_type": "markdown",
   "metadata": {},
   "source": [
    "#### Cek Penjualan Game pada masing-masing platform"
   ]
  },
  {
   "cell_type": "code",
   "execution_count": 19,
   "metadata": {
    "scrolled": false
   },
   "outputs": [
    {
     "name": "stdout",
     "output_type": "stream",
     "text": [
      "   platform  na_sales  eu_sales  jp_sales  other_sales  total_sales\n",
      "0      2600     90.60      5.47      0.00         0.91        96.98\n",
      "1       3DO      0.00      0.00      0.10         0.00         0.10\n",
      "2       3DS     83.49     61.48    100.67        13.36       259.00\n",
      "3        DC      5.43      1.69      8.56         0.27        15.95\n",
      "4        DS    382.40    188.89    175.57        59.26       806.12\n",
      "5        GB    114.32     47.82     85.12         8.20       255.46\n",
      "6       GBA    187.54     75.25     47.33         7.73       317.85\n",
      "7        GC    133.46     38.71     21.58         5.18       198.93\n",
      "8       GEN     21.05      6.05      2.70         0.97        30.77\n",
      "9        GG      0.00      0.00      0.04         0.00         0.04\n",
      "10      N64    139.02     41.06     34.22         4.38       218.68\n",
      "11      NES    125.94     21.15     98.65         5.31       251.05\n",
      "12       NG      0.00      0.00      1.44         0.00         1.44\n",
      "13       PC     94.53    142.44      0.17        22.38       259.52\n",
      "14     PCFX      0.00      0.00      0.03         0.00         0.03\n",
      "15       PS    336.52    213.61    139.82        40.91       730.86\n",
      "16      PS2    583.84    339.29    139.20       193.44      1255.77\n",
      "17      PS3    393.49    330.29     80.19       135.68       939.65\n",
      "18      PS4    108.74    141.09     15.96        48.35       314.14\n",
      "19      PSP    109.17     66.68     76.78        41.42       294.05\n",
      "20      PSV     12.58     13.12     21.91         6.46        54.07\n",
      "21      SAT      0.72      0.54     32.26         0.07        33.59\n",
      "22      SCD      1.00      0.36      0.45         0.05         1.86\n",
      "23     SNES     61.23     19.04    116.55         3.22       200.04\n",
      "24     TG16      0.00      0.00      0.16         0.00         0.16\n",
      "25       WS      0.00      0.00      1.42         0.00         1.42\n",
      "26      Wii    496.90    262.21     69.33        79.07       907.51\n",
      "27     WiiU     38.10     25.13     13.01         5.95        82.19\n",
      "28     X360    602.47    270.76     12.43        85.76       971.42\n",
      "29       XB    186.69     60.95      1.38         8.72       257.74\n",
      "30     XOne     93.12     51.59      0.34        14.27       159.32\n"
     ]
    },
    {
     "data": {
      "image/png": "[encoded data removed]",
      "text/plain": [
       "<Figure size 864x432 with 1 Axes>"
      ]
     },
     "metadata": {
      "needs_background": "light"
     },
     "output_type": "display_data"
    }
   ],
   "source": [
    "# Menghitung total penjualan per platform\n",
    "sales_by_platform = game.groupby('platform')[['na_sales', 'eu_sales', 'jp_sales', 'other_sales']].agg('sum').reset_index()\n",
    "\n",
    "# Menambahkan kolom 'total_sales' yang berisi total penjualan di semua wilayah\n",
    "sales_by_platform['total_sales'] = sales_by_platform['na_sales'] + sales_by_platform['eu_sales'] + sales_by_platform['jp_sales'] + sales_by_platform['other_sales']\n",
    "\n",
    "# Menampilkan hasil\n",
    "print(sales_by_platform)\n",
    "\n",
    "# Plot grafik untuk visualisasi total penjualan per platform\n",
    "plt.figure(figsize=(12, 6))\n",
    "sns.barplot(x='platform', y='total_sales', data=sales_by_platform)\n",
    "plt.title('Total Penjualan Game per Platform')\n",
    "plt.xlabel('Platform')\n",
    "plt.ylabel('Total Penjualan (Million USD)')\n",
    "plt.xticks(rotation=90)\n",
    "\n",
    "# Menambahkan anotasi di atas batang\n",
    "for index, row in sales_by_platform.iterrows():\n",
    "    plt.text(index, row['total_sales'], f\"{row['total_sales']:.2f}\", ha='center', va='top')\n",
    "\n",
    "plt.show()"
   ]
  },
  {
   "cell_type": "markdown",
   "metadata": {},
   "source": [
    "Dari grafik di atas, penjualan game per tahun tertinggi ada di platform `PS2`dimana sebanyak `1255.77`. Kita akan coba kerjakan distribusi datanya untuk platform PS2 per tahun."
   ]
  },
  {
   "cell_type": "code",
   "execution_count": 20,
   "metadata": {},
   "outputs": [
    {
     "name": "stdout",
     "output_type": "stream",
     "text": [
      "    year_of_release  total_sales\n",
      "0                 0        22.21\n",
      "1              2000        39.17\n",
      "2              2001       166.43\n",
      "3              2002       205.38\n",
      "4              2003       184.31\n",
      "5              2004       211.81\n",
      "6              2005       160.66\n",
      "7              2006       103.42\n",
      "8              2007        75.99\n",
      "9              2008        53.90\n",
      "10             2009        26.40\n",
      "11             2010         5.64\n",
      "12             2011         0.45\n"
     ]
    },
    {
     "data": {
      "image/png": "[encoded data removed]",
      "text/plain": [
       "<Figure size 864x432 with 1 Axes>"
      ]
     },
     "metadata": {
      "needs_background": "light"
     },
     "output_type": "display_data"
    }
   ],
   "source": [
    "# Filter data hanya untuk platform PS2\n",
    "ps2_data = game[game['platform'] == 'PS2']\n",
    "\n",
    "# Menghitung total penjualan per tahun\n",
    "sales_by_year_ps2 = ps2_data.groupby('year_of_release')['total_sales'].sum().reset_index()\n",
    "\n",
    "# Menampilkan hasil\n",
    "print(sales_by_year_ps2)\n",
    "\n",
    "# Plot grafik distribusi penjualan game per tahun untuk platform PS2\n",
    "plt.figure(figsize=(12, 6))\n",
    "sns.barplot(x='year_of_release', y='total_sales', data=sales_by_year_ps2)\n",
    "plt.title('Distribusi Penjualan Game per Tahun untuk Platform PS2')\n",
    "plt.xlabel('Tahun Rilis')\n",
    "plt.ylabel('Total Penjualan (Million USD)')\n",
    "plt.xticks(rotation=90)\n",
    "\n",
    "# Menambahkan anotasi di atas batang\n",
    "for index, row in sales_by_year_ps2.iterrows():\n",
    "    plt.text(index, row['total_sales'], f\"{row['total_sales']:.2f}\", ha='center', va='top')\n",
    "\n",
    "plt.show()"
   ]
  },
  {
   "cell_type": "markdown",
   "metadata": {},
   "source": [
    "Dari distribusi data `PS2`penjualan terbesar pada tahun `2004`, dengan rentang range penjualan berlangsung dari tahun `2000` hingga `2010`, dan di tahun `2011`, sudah benar benar mengalami penurunan atau bisa kita sebut, sudah tidak ada lagi penjualan. Hal ini menunjukkan bahwa Platform PS2, sudah mulai ditinggalkan, kita akan cari platform yang dulu populer namun sekarang sudah mulai ditinggalkan."
   ]
  },
  {
   "cell_type": "markdown",
   "metadata": {},
   "source": [
    "<div class=\"alert alert-success\">\n",
    "<b>Code Reviewers's comment v.1</b> <a class=\"tocSkip\"></a>\n",
    "\n",
    "Bagus, code yang dijalankan sudah sesuai dengan instruksi dari project.\n",
    "\n",
    "</div>"
   ]
  },
  {
   "cell_type": "code",
   "execution_count": 21,
   "metadata": {},
   "outputs": [
    {
     "name": "stdout",
     "output_type": "stream",
     "text": [
      "10 Platform dengan Penjualan Terbanyak dari Tahun 2014 hingga 2016:\n",
      "  platform  total_sales\n",
      "3      PS4       288.15\n",
      "9     XOne       140.36\n",
      "0      3DS        86.68\n",
      "2      PS3        68.18\n",
      "8     X360        48.22\n",
      "7     WiiU        42.98\n",
      "1       PC        27.05\n",
      "5      PSV        22.40\n",
      "6      Wii         5.07\n",
      "4      PSP         0.36\n"
     ]
    }
   ],
   "source": [
    "# Filter data untuk tahun 2014 hingga 2016\n",
    "filtered_data = game[(game['year_of_release'] >= 2014) & (game['year_of_release'] <= 2016)]\n",
    "\n",
    "# Kelompokkan data berdasarkan platform dan hitung total penjualan\n",
    "platform_sales_2014_2016 = filtered_data.groupby('platform')['total_sales'].sum().reset_index()\n",
    "\n",
    "# Urutkan platform berdasarkan total penjualan dalam urutan menurun\n",
    "top_10_platforms = platform_sales_2014_2016.sort_values(by='total_sales', ascending=False).head(10)\n",
    "\n",
    "# Tampilkan 10 platform dengan penjualan terbanyak\n",
    "print(\"10 Platform dengan Penjualan Terbanyak dari Tahun 2014 hingga 2016:\")\n",
    "print(top_10_platforms)"
   ]
  },
  {
   "cell_type": "markdown",
   "metadata": {},
   "source": [
    "Sekarang kita mempunyai 10 platform dengan penjualan terbanyak dari periode `2014 - 2016`, mari kita cek distribusi data dari stop 10 ini."
   ]
  },
  {
   "cell_type": "code",
   "execution_count": 22,
   "metadata": {},
   "outputs": [
    {
     "data": {
      "image/png": "[encoded data removed]",
      "text/plain": [
       "<Figure size 864x432 with 1 Axes>"
      ]
     },
     "metadata": {
      "needs_background": "light"
     },
     "output_type": "display_data"
    }
   ],
   "source": [
    "# Filter data hanya untuk 10 platform teratas\n",
    "filtered_data = game[game['platform'].isin(top_10_platforms['platform'])]\n",
    "\n",
    "# Kelompokkan data berdasarkan platform dan tahun rilis\n",
    "platform_sales_distribution = filtered_data.groupby(['platform', 'year_of_release'])['total_sales'].sum().reset_index()\n",
    "\n",
    "# Plot grafik distribusi penjualan game per platform\n",
    "plt.figure(figsize=(12, 6))\n",
    "sns.barplot(x='year_of_release', y='total_sales', hue='platform', data=platform_sales_distribution)\n",
    "plt.title('Distribusi Penjualan Game per Platform (Semua Tahun)')\n",
    "plt.xlabel('Tahun Rilis')\n",
    "plt.ylabel('Total Penjualan (Million USD)')\n",
    "plt.xticks(rotation=90)\n",
    "plt.legend(title='Platform', bbox_to_anchor=(1.05, 1), loc='upper left')\n",
    "\n",
    "plt.show()"
   ]
  },
  {
   "cell_type": "markdown",
   "metadata": {},
   "source": [
    "Dari grafik kita dapat melihat bahwa dari distribusi data menunjukkan tren kenaikan paltform dimulai dari tahun `2006`, dan yang selalu bertahan di setiap masa, adalah `PC`, walaupun jumlah penjualannya tidak banyak, namun selalu ada penjualan. Disusul dengan `X360`yang juga melonjak naik dari tahun `2006 - 2016`. Setelah ini kita akan melihat berapa lama waktu yang dibutuhkan untuk platform baru muncul dan platform lama memudar."
   ]
  },
  {
   "cell_type": "code",
   "execution_count": 23,
   "metadata": {},
   "outputs": [
    {
     "name": "stdout",
     "output_type": "stream",
     "text": [
      "Waktu yang dibutuhkan untuk platform baru muncul dan platform lama memudar adalah 26.845900263725753 tahun.\n"
     ]
    }
   ],
   "source": [
    "# Ambang penjualan untuk menentukan platform baru\n",
    "ambang_penjualan = 10  # Misalnya, mengatur ambang penjualan sebesar 10 juta USD\n",
    "\n",
    "# Filter data hanya untuk platform yang melebihi ambang penjualan\n",
    "platform_sales = game.groupby('platform')['total_sales'].sum().reset_index()\n",
    "platform_baru = platform_sales[platform_sales['total_sales'] >= ambang_penjualan]\n",
    "platform_lama = platform_sales[platform_sales['total_sales'] < ambang_penjualan]\n",
    "\n",
    "# Tentukan tahun pertama munculnya platform baru, kita gunakan mean untuk tahun pertama muncul, karena data yang hilang kita isi dengan 0.\n",
    "tahun_pertama_muncul = game[game['platform'].isin(platform_baru['platform'])]['year_of_release'].mean()\n",
    "\n",
    "# Tentukan tahun terakhir penjualan platform lama\n",
    "tahun_terakhir_penjualan = game[game['platform'].isin(platform_lama['platform'])]['year_of_release'].max()\n",
    "\n",
    "# Hitung selisih tahun dalam format jumlah tahun\n",
    "selisih_tahun = tahun_terakhir_penjualan - tahun_pertama_muncul\n",
    "\n",
    "print(f\"Waktu yang dibutuhkan untuk platform baru muncul dan platform lama memudar adalah {selisih_tahun} tahun.\")"
   ]
  },
  {
   "cell_type": "markdown",
   "metadata": {},
   "source": [
    "Dari sini kita melihat bahwa waktu yang dibutuhkan untuk platform baru muncul dan platform lama memudar adalah `26.85 Tahun`, dengan asumsi ambang penjualan `10 Juta USD`. Berarti kita akan fokuskan, dengan pergerakan platform dari tahun `1990 - 2016`."
   ]
  },
  {
   "cell_type": "markdown",
   "metadata": {},
   "source": [
    "#### Cek penjualan platform terbanyak Periode 1990 - 2016"
   ]
  },
  {
   "cell_type": "code",
   "execution_count": 24,
   "metadata": {},
   "outputs": [
    {
     "name": "stdout",
     "output_type": "stream",
     "text": [
      "Platform dengan penjualan terbanyak dari periode 1990 - 2016:\n",
      "   platform  total_sales\n",
      "15      PS2      1233.56\n"
     ]
    }
   ],
   "source": [
    "# Filter data untuk periode 1990 - 2016\n",
    "filtered_data = game[(game['year_of_release'] >= 1990) & (game['year_of_release'] <= 2016)]\n",
    "\n",
    "# Kelompokkan data berdasarkan platform\n",
    "platform_sales = filtered_data.groupby('platform')['total_sales'].sum().reset_index()\n",
    "\n",
    "# Temukan platform dengan penjualan terbanyak\n",
    "platform_with_highest_sales = platform_sales[platform_sales['total_sales'] == platform_sales['total_sales'].max()]\n",
    "\n",
    "print(\"Platform dengan penjualan terbanyak dari periode 1990 - 2016:\")\n",
    "print(platform_with_highest_sales)"
   ]
  },
  {
   "cell_type": "markdown",
   "metadata": {},
   "source": [
    "Dari penjualan periode `1990 - 2016`, terbanyak adalah `PS2`, sesuai dengan penjelasan sebelumnya. Selanjutnya kita cek platform mana yang mengalami pertumbuhan dan penurunan kita rubah range periodenya dari tahun `2000 - 2010`, karena di grafik sebelumnya, penjualan `PS2` hanya berlangsung dari tahun `2000 - 2006`."
   ]
  },
  {
   "cell_type": "code",
   "execution_count": 25,
   "metadata": {},
   "outputs": [
    {
     "name": "stdout",
     "output_type": "stream",
     "text": [
      "Platform yang mengalami pertumbuhan selama periode 2000 - 2010:\n",
      "  platform  total_sales_awal  total_sales_akhir\n",
      "0       PC              4.66              24.28\n",
      "\n",
      "Platform yang mengalami penyusutan selama periode 2000 - 2010:\n",
      "  platform  total_sales_awal  total_sales_akhir\n",
      "1      PS2             39.17               5.64\n"
     ]
    }
   ],
   "source": [
    "# Filter data untuk periode yang ingin dianalisis (misalnya, tahun 2000 hingga 2010)\n",
    "filtered_data = game[(game['year_of_release'] >= 2000) & (game['year_of_release'] <= 2010)]\n",
    "\n",
    "# Kelompokkan data berdasarkan platform dan tahun rilis\n",
    "platform_sales = filtered_data.groupby(['platform', 'year_of_release'])['total_sales'].sum().reset_index()\n",
    "\n",
    "# Hitung total penjualan pada awal periode (2000)\n",
    "total_penjualan_awal = platform_sales[platform_sales['year_of_release'] == 2000].groupby('platform')['total_sales'].sum().reset_index()\n",
    "total_penjualan_awal.columns = ['platform', 'total_sales_awal']\n",
    "\n",
    "# Hitung total penjualan pada akhir periode (2010)\n",
    "total_penjualan_akhir = platform_sales[platform_sales['year_of_release'] == 2010].groupby('platform')['total_sales'].sum().reset_index()\n",
    "total_penjualan_akhir.columns = ['platform', 'total_sales_akhir']\n",
    "\n",
    "# Gabungkan data total penjualan awal dan akhir\n",
    "platform_growth_analysis = pd.merge(total_penjualan_awal, total_penjualan_akhir, on='platform')\n",
    "\n",
    "# Tentukan platform-platform yang tumbuh (penjualan akhir > penjualan awal)\n",
    "platform_growth = platform_growth_analysis[platform_growth_analysis['total_sales_akhir'] > platform_growth_analysis['total_sales_awal']]\n",
    "\n",
    "# Tentukan platform-platform yang menyusut (penjualan akhir < penjualan awal)\n",
    "platform_decline = platform_growth_analysis[platform_growth_analysis['total_sales_akhir'] < platform_growth_analysis['total_sales_awal']]\n",
    "\n",
    "print(\"Platform yang mengalami pertumbuhan selama periode 2000 - 2010:\")\n",
    "print(platform_growth)\n",
    "\n",
    "print(\"\\nPlatform yang mengalami penyusutan selama periode 2000 - 2010:\")\n",
    "print(platform_decline)"
   ]
  },
  {
   "cell_type": "markdown",
   "metadata": {},
   "source": [
    "Dari data di atas, maka kita ketahui, bahwa platform yang mengalami pertumbuhan adalah `PC`, dan untuk yang mengalami penyusutan adalah `PS2`. Maka, kita bisa asumsikan `PC` adalah platform yang menguntungkan. Untuk itu kita akan menambahkan Top 5 dari periode `1990 - 2016`, agar banyak platform yang terfokuskan, sesuai dengan berapa lam waktu platform baru muncul dan platform lama memudar."
   ]
  },
  {
   "cell_type": "code",
   "execution_count": 26,
   "metadata": {},
   "outputs": [
    {
     "name": "stdout",
     "output_type": "stream",
     "text": [
      "Beberapa platform yang memiliki total penjualan tertinggi tahun 1990-2016:\n",
      "   platform  total_sales\n",
      "15      PS2      1233.56\n",
      "27     X360       961.24\n",
      "16      PS3       931.34\n",
      "25      Wii       891.18\n",
      "3        DS       802.76\n"
     ]
    }
   ],
   "source": [
    "# Filter data untuk tahun-tahun terbaru, misalnya tahun 1990-2016\n",
    "filtered_data = game[(game['year_of_release'] >= 1990) & (game['year_of_release'] <= 2016)]\n",
    "\n",
    "# Kelompokkan data berdasarkan platform dan hitung total penjualan\n",
    "platform_sales = filtered_data.groupby('platform')['total_sales'].sum().reset_index()\n",
    "\n",
    "# Urutkan platform berdasarkan total penjualan dalam urutan menurun\n",
    "top_platforms = platform_sales.sort_values(by='total_sales', ascending=False)\n",
    "\n",
    "# Tampilkan beberapa platform teratas yang memiliki total penjualan tertinggi\n",
    "jumlah_platform_terpilih = 5  # Ganti dengan jumlah platform yang ingin Anda pertimbangkan\n",
    "platforms_terpilih = top_platforms.head(jumlah_platform_terpilih)\n",
    "\n",
    "print(\"Beberapa platform yang memiliki total penjualan tertinggi tahun 1990-2016:\")\n",
    "print(platforms_terpilih[['platform', 'total_sales']])"
   ]
  },
  {
   "cell_type": "markdown",
   "metadata": {},
   "source": [
    "Kita sudah mendapatkan top 5, penjualan tertinggi tahun `1990 - 2016`, namun kita perlu membandingkan lagi dari sisi pertumbuhan, top 5 tersebut mana yang lebih tinggi.\n",
    "\n",
    "Dan, sebagaimana kita ingat, karena `PS2` telah mengalami penyusutan pada tahun `2010`, maka kita bisa mengabaikan `PS2`.\n",
    "\n",
    "Sehingga, kita dapat fokus pada penjualan platform yang menguntungkan ada pada `PC` dan `X360`."
   ]
  },
  {
   "cell_type": "markdown",
   "metadata": {},
   "source": [
    "### Box Plot Penjualan Global Platform PC dan X360"
   ]
  },
  {
   "cell_type": "markdown",
   "metadata": {},
   "source": [
    "Kita akan buat boxplotnya, sesuai dengan platform mana yang menguntungkan dan mempunyai potensi pertumbuhan terbaik yaitu `PC` dan `X360`."
   ]
  },
  {
   "cell_type": "code",
   "execution_count": 27,
   "metadata": {},
   "outputs": [
    {
     "data": {
      "image/png": "[encoded data removed]",
      "text/plain": [
       "<Figure size 720x432 with 1 Axes>"
      ]
     },
     "metadata": {
      "needs_background": "light"
     },
     "output_type": "display_data"
    }
   ],
   "source": [
    "# Filter data untuk platform PC dan X360\n",
    "platforms = ['PC', 'X360']\n",
    "filtered_data = game[game['platform'].isin(platforms)]\n",
    "\n",
    "# Buat boxplot\n",
    "plt.figure(figsize=(10, 6))\n",
    "sns.boxplot(x='platform', y='total_sales', data=filtered_data, palette='Set2')\n",
    "plt.title('Boxplot Penjualan Global Game untuk Platform PC dan X360')\n",
    "plt.xlabel('Platform')\n",
    "plt.ylabel('Total Penjualan Global (Juta)')\n",
    "plt.show()"
   ]
  },
  {
   "cell_type": "markdown",
   "metadata": {},
   "source": [
    "Dari boxplot, terlihat bahwa, X360 mempunyai total penjualan `1 Juta USD)` yang lebih besar dari PC `(500 ribu USD)`."
   ]
  },
  {
   "cell_type": "code",
   "execution_count": 28,
   "metadata": {},
   "outputs": [
    {
     "data": {
      "image/png": "[encoded data removed]",
      "text/plain": [
       "<Figure size 864x432 with 1 Axes>"
      ]
     },
     "metadata": {
      "needs_background": "light"
     },
     "output_type": "display_data"
    }
   ],
   "source": [
    "# Filter data hanya untuk tahun 1990-2016\n",
    "filtered_data = game[(game['year_of_release'] >= 1990) & (game['year_of_release'] <= 2016)]\n",
    "\n",
    "# Kelompokkan data berdasarkan platform dan hitung rata-rata penjualan\n",
    "platform_avg_sales = filtered_data.groupby('platform')['total_sales'].mean().reset_index()\n",
    "\n",
    "# Urutkan platform berdasarkan rata-rata penjualan\n",
    "platform_avg_sales = platform_avg_sales.sort_values(by='total_sales', ascending=False)\n",
    "\n",
    "# Buat bar plot untuk menampilkan rata-rata penjualan per platform\n",
    "plt.figure(figsize=(12, 6))\n",
    "plt.bar(platform_avg_sales['platform'], platform_avg_sales['total_sales'], color='skyblue')\n",
    "plt.title('Rata-Rata Penjualan Game per Platform (1990-2016)')\n",
    "plt.xlabel('Platform')\n",
    "plt.ylabel('Rata-Rata Penjualan (Juta)')\n",
    "plt.xticks(rotation=45)\n",
    "plt.show()"
   ]
  },
  {
   "cell_type": "markdown",
   "metadata": {},
   "source": [
    "Dari rata-rata penjualan, terdapat perbedaan yang signifikan dengan data pada box plot. Karena total penjualan rata-rata ini dihitung secara jumlah keseluruhan, jadi pasti ada perbedaan."
   ]
  },
  {
   "cell_type": "code",
   "execution_count": 29,
   "metadata": {},
   "outputs": [
    {
     "name": "stdout",
     "output_type": "stream",
     "text": [
      "Korelasi antara Ulasan Pengguna (PC) dan Penjualan: 0.00\n",
      "Korelasi antara Ulasan Kritikus (PC) dan Penjualan: 0.26\n"
     ]
    },
    {
     "data": {
      "image/png": "[encoded data removed]",
      "text/plain": [
       "<Figure size 720x432 with 1 Axes>"
      ]
     },
     "metadata": {
      "needs_background": "light"
     },
     "output_type": "display_data"
    }
   ],
   "source": [
    "# Filter data hanya untuk platform PC dan data dengan ulasan tidak kosong\n",
    "platform_selected = 'PC'\n",
    "filtered_data = game[(game['platform'] == platform_selected) & \n",
    "                     (game['user_score'] != 'nan') &  # Filter nilai \"nan\"\n",
    "                     (game['user_score'].notnull()) & \n",
    "                     (game['critic_score'].notnull())].copy()  # Buat salinan DataFrame\n",
    "\n",
    "# Ubah tipe data kolom 'user_score' dari string ke float\n",
    "filtered_data['user_score'] = filtered_data['user_score'].astype(float)\n",
    "\n",
    "# Buat scatter plot\n",
    "plt.figure(figsize=(10, 6))\n",
    "\n",
    "# Scatter plot untuk PC\n",
    "sns.scatterplot(x='user_score', y='total_sales', data=filtered_data, \n",
    "                color='skyblue', label='Ulasan Pengguna (PC)')\n",
    "sns.scatterplot(x='critic_score', y='total_sales', data=filtered_data, \n",
    "                color='orange', label='Ulasan Kritikus (PC)')\n",
    "\n",
    "plt.title(f'Scatter Plot Ulasan dan Penjualan Global pada Platform {platform_selected}')\n",
    "plt.xlabel('Skor Ulasan')\n",
    "plt.ylabel('Penjualan Global (Juta)')\n",
    "plt.legend()\n",
    "\n",
    "# Hitung korelasi antara ulasan dan penjualan\n",
    "correlation_user_pc = filtered_data['user_score'].corr(filtered_data['total_sales'])\n",
    "correlation_critic_pc = filtered_data['critic_score'].corr(filtered_data['total_sales'])\n",
    "\n",
    "print(f\"Korelasi antara Ulasan Pengguna (PC) dan Penjualan: {correlation_user_pc:.2f}\")\n",
    "print(f\"Korelasi antara Ulasan Kritikus (PC) dan Penjualan: {correlation_critic_pc:.2f}\")\n",
    "\n",
    "plt.show()"
   ]
  },
  {
   "cell_type": "markdown",
   "metadata": {},
   "source": [
    "Dari hasil korelasi kita dapatkan bahwa:\n",
    "\n",
    "\n",
    "1. Korelasi antara Ulasan Pengguna (PC) dan Penjualan: Sangat lemah, hampir tidak ada hubungan.\n",
    "2. Korelasi antara Ulasan Kritikus (PC) dan Penjualan: Lebih signifikan, tetapi tetap lemah; ulasan kritikus yang lebih positif berkaitan dengan penjualan yang sedikit lebih tinggi.\n",
    "\n",
    "Pada scatter plot juga kita ketahui dari skor ulasan pengguna sendiri, nilainya sangat rendah, dan dari kritikus yang memberi nilai positif sangat banyak dengan distribusi terbanyak di range `80-90`.\n",
    "\n",
    "\n",
    "Selanjutnya, kita cek korelasi untuk platform `X360`."
   ]
  },
  {
   "cell_type": "code",
   "execution_count": 30,
   "metadata": {},
   "outputs": [
    {
     "name": "stdout",
     "output_type": "stream",
     "text": [
      "Korelasi antara Ulasan Pengguna (X360) dan Penjualan: 0.11\n",
      "Korelasi antara Ulasan Kritikus (X360) dan Penjualan: 0.39\n"
     ]
    },
    {
     "data": {
      "image/png": "[encoded data removed]",
      "text/plain": [
       "<Figure size 720x432 with 1 Axes>"
      ]
     },
     "metadata": {
      "needs_background": "light"
     },
     "output_type": "display_data"
    }
   ],
   "source": [
    "# Filter data hanya untuk platform X360 dan data dengan ulasan tidak kosong\n",
    "platform_selected = 'X360'\n",
    "filtered_data_x360 = game[(game['platform'] == platform_selected) & \n",
    "                     (game['user_score'] != 'nan') &  # Filter nilai \"nan\"\n",
    "                     (game['user_score'].notnull()) & \n",
    "                     (game['critic_score'].notnull())].copy()  # Buat salinan DataFrame\n",
    "\n",
    "# Ubah tipe data kolom 'user_score' dari string ke float\n",
    "filtered_data_x360['user_score'] = filtered_data_x360['user_score'].astype(float)\n",
    "\n",
    "# Buat scatter plot\n",
    "plt.figure(figsize=(10, 6))\n",
    "\n",
    "# Scatter plot untuk X360\n",
    "sns.scatterplot(x='user_score', y='total_sales', data=filtered_data_x360, \n",
    "                color='skyblue', label='Ulasan Pengguna (X360)')\n",
    "sns.scatterplot(x='critic_score', y='total_sales', data=filtered_data_x360, \n",
    "                color='orange', label='Ulasan Kritikus (X360)')\n",
    "\n",
    "plt.title(f'Scatter Plot Ulasan dan Penjualan Global pada Platform {platform_selected}')\n",
    "plt.xlabel('Skor Ulasan')\n",
    "plt.ylabel('Penjualan Global (Juta)')\n",
    "plt.legend()\n",
    "\n",
    "# Hitung korelasi antara ulasan dan penjualan\n",
    "correlation_user_x360 = filtered_data_x360['user_score'].corr(filtered_data_x360['total_sales'])\n",
    "correlation_critic_x360 = filtered_data_x360['critic_score'].corr(filtered_data_x360['total_sales'])\n",
    "\n",
    "print(f\"Korelasi antara Ulasan Pengguna (X360) dan Penjualan: {correlation_user_x360:.2f}\")\n",
    "print(f\"Korelasi antara Ulasan Kritikus (X360) dan Penjualan: {correlation_critic_x360:.2f}\")\n",
    "\n",
    "plt.show()"
   ]
  },
  {
   "cell_type": "markdown",
   "metadata": {},
   "source": [
    "Dari hasil korelasi sebagai berikut:\n",
    "\n",
    "\n",
    "1. Korelasi antara Ulasan Pengguna (X360) dan Penjualan: Lemah (0.11)\n",
    "\n",
    "Hubungan antara ulasan pengguna dan penjualan pada platform X360 memiliki dampak yang sangat terbatas. Korelasinya lemah.\n",
    "\n",
    "\n",
    "2. Korelasi antara Ulasan Kritikus (X360) dan Penjualan: Lebih signifikan (0.39)\n",
    "\n",
    "Hubungan antara ulasan kritikus dan penjualan pada platform X360 lebih kuat daripada ulasan pengguna, meskipun tetap lemah. Ulasan kritikus memiliki pengaruh yang sedikit lebih besar terhadap penjualan.\n",
    "\n",
    "Dari scatter plot terlihat range ulasan positif dari kritikus, ada pada skor `65 -85`, artinya review ulasan lebih banyak daripada PC."
   ]
  },
  {
   "cell_type": "markdown",
   "metadata": {},
   "source": [
    "### Perbandingan Game dengan Platform Lain"
   ]
  },
  {
   "cell_type": "markdown",
   "metadata": {},
   "source": [
    "Kita akan mengecek terlebih dahulu, game apa yang paling banyak dimainkan pada semua platform. Untuk melakukan perbandingan ke semua platform."
   ]
  },
  {
   "cell_type": "code",
   "execution_count": 31,
   "metadata": {},
   "outputs": [
    {
     "name": "stdout",
     "output_type": "stream",
     "text": [
      "Game yang paling banyak dimainkan di antara semua platform adalah: Wii Sports dengan total penjualan 82.53999999999999 juta unit.\n"
     ]
    }
   ],
   "source": [
    "# Menghitung total penjualan global untuk setiap game\n",
    "game['total_sales'] = game['na_sales'] + game['eu_sales'] + game['jp_sales'] + game['other_sales']\n",
    "\n",
    "# Mengelompokkan data berdasarkan nama game dan mengambil total penjualan maksimum\n",
    "most_played_games = game.groupby('name')['total_sales'].sum().reset_index()\n",
    "\n",
    "# Mengurutkan game berdasarkan total penjualan tertinggi\n",
    "most_played_games = most_played_games.sort_values(by='total_sales', ascending=False)\n",
    "\n",
    "# Menampilkan game yang paling banyak dimainkan di semua platform\n",
    "most_played_game = most_played_games.iloc[0]  # Mengambil game dengan penjualan tertinggi\n",
    "print(f\"Game yang paling banyak dimainkan di antara semua platform adalah: {most_played_game['name']} dengan total penjualan {most_played_game['total_sales']} juta unit.\")"
   ]
  },
  {
   "cell_type": "markdown",
   "metadata": {},
   "source": [
    "Sekarang kita tahu, bahwa game yang paling banyak di mainkan di antara semua platform adalah `Wii Sports`. Kita bandingkan penjualannya dengan `PC`."
   ]
  },
  {
   "cell_type": "code",
   "execution_count": 32,
   "metadata": {},
   "outputs": [
    {
     "data": {
      "image/png": "[encoded data removed]",
      "text/plain": [
       "<Figure size 576x288 with 1 Axes>"
      ]
     },
     "metadata": {
      "needs_background": "light"
     },
     "output_type": "display_data"
    },
    {
     "name": "stdout",
     "output_type": "stream",
     "text": [
      "Total Penjualan Game di Platform Wii: 907.51 juta unit\n",
      "Total Penjualan Game di Platform PC: 259.52000000000004 juta unit\n"
     ]
    }
   ],
   "source": [
    "# Filter data hanya untuk platform Wii\n",
    "wii_sales = game[game['platform'] == 'Wii']\n",
    "\n",
    "# Filter data hanya untuk platform PC\n",
    "pc_sales = game[game['platform'] == 'PC']\n",
    "\n",
    "# Menghitung total penjualan global untuk masing-masing platform\n",
    "total_wii_sales = wii_sales['total_sales'].sum()\n",
    "total_pc_sales = pc_sales['total_sales'].sum()\n",
    "\n",
    "# Membuat grafik perbandingan penjualan antara platform Wii dan PC\n",
    "platforms = ['Wii', 'PC']\n",
    "total_sales = [total_wii_sales, total_pc_sales]\n",
    "\n",
    "plt.figure(figsize=(8, 4))\n",
    "plt.bar(platforms, total_sales, color=['skyblue', 'lightgreen'])\n",
    "plt.xlabel('Platform')\n",
    "plt.ylabel('Total Penjualan (Juta)')\n",
    "plt.title('Perbandingan Penjualan Game antara Wii dan PC')\n",
    "plt.show()\n",
    "\n",
    "# Menampilkan total penjualan untuk kedua platform\n",
    "print(f\"Total Penjualan Game di Platform Wii: {total_wii_sales} juta unit\")\n",
    "print(f\"Total Penjualan Game di Platform PC: {total_pc_sales} juta unit\")"
   ]
  },
  {
   "cell_type": "markdown",
   "metadata": {},
   "source": [
    "Total penjualan `Wii` lebih besar daripada `PC`. Kita lanjutkan bandingkan `Wii` dengan `X360`."
   ]
  },
  {
   "cell_type": "code",
   "execution_count": 33,
   "metadata": {},
   "outputs": [
    {
     "data": {
      "image/png": "[encoded data removed]",
      "text/plain": [
       "<Figure size 576x288 with 1 Axes>"
      ]
     },
     "metadata": {
      "needs_background": "light"
     },
     "output_type": "display_data"
    },
    {
     "name": "stdout",
     "output_type": "stream",
     "text": [
      "Total Penjualan Game di Platform Wii: 907.51 juta unit\n",
      "Total Penjualan Game di Platform X360: 971.4200000000001 juta unit\n"
     ]
    }
   ],
   "source": [
    "# Filter data hanya untuk platform Wii\n",
    "wii_sales = game[game['platform'] == 'Wii']\n",
    "\n",
    "# Filter data hanya untuk platform X360 (Xbox 360)\n",
    "x360_sales = game[game['platform'] == 'X360']\n",
    "\n",
    "# Menghitung total penjualan global untuk masing-masing platform\n",
    "total_wii_sales = wii_sales['total_sales'].sum()\n",
    "total_x360_sales = x360_sales['total_sales'].sum()\n",
    "\n",
    "# Membuat grafik perbandingan penjualan antara platform Wii dan X360\n",
    "platforms = ['Wii', 'X360']\n",
    "total_sales = [total_wii_sales, total_x360_sales]\n",
    "\n",
    "plt.figure(figsize=(8, 4))\n",
    "plt.bar(platforms, total_sales, color=['skyblue', 'lightgreen'])\n",
    "plt.xlabel('Platform')\n",
    "plt.ylabel('Total Penjualan (Juta)')\n",
    "plt.title('Perbandingan Penjualan Game antara Wii dan X360')\n",
    "plt.show()\n",
    "\n",
    "# Menampilkan total penjualan untuk kedua platform\n",
    "print(f\"Total Penjualan Game di Platform Wii: {total_wii_sales} juta unit\")\n",
    "print(f\"Total Penjualan Game di Platform X360: {total_x360_sales} juta unit\")"
   ]
  },
  {
   "cell_type": "markdown",
   "metadata": {},
   "source": [
    "Penjualan pada `X360` lebih besar daripada `Wii`."
   ]
  },
  {
   "cell_type": "markdown",
   "metadata": {},
   "source": [
    "Kesimpulan sementara dari analisa didapat bahwa:\n",
    "  \n",
    "\n",
    "1. Total penjualan pada platform dengan pertumbuhan tertinggi adalah `X360` dengan `PC`.\n",
    "2. Total penjualan pada platform dengan pertumbuhan yang menyusut adalah `PS2`.\n",
    "3. Game yang banyak terjual terdapat di platform `Wii`.\n",
    "4. Hasil perbandingan total penjualan game antara `X360`,`Wii`, dan `PC`, tertinggi adalah `X360`."
   ]
  },
  {
   "cell_type": "markdown",
   "metadata": {},
   "source": [
    "### Cek Distribusi Genre Game"
   ]
  },
  {
   "cell_type": "code",
   "execution_count": 34,
   "metadata": {},
   "outputs": [
    {
     "name": "stdout",
     "output_type": "stream",
     "text": [
      "Genre yang paling menguntungkan adalah 'Action' dengan total penjualan 1744.1699999999694 juta unit.\n"
     ]
    },
    {
     "data": {
      "image/png": "[encoded data removed]",
      "text/plain": [
       "<Figure size 864x432 with 1 Axes>"
      ]
     },
     "metadata": {
      "needs_background": "light"
     },
     "output_type": "display_data"
    }
   ],
   "source": [
    "# Mengelompokkan data berdasarkan genre dan menghitung total penjualan global per genre\n",
    "genre_sales = game.groupby('genre')['total_sales'].sum().reset_index()\n",
    "\n",
    "# Mengurutkan genre berdasarkan total penjualan tertinggi\n",
    "genre_sales = genre_sales.sort_values(by='total_sales', ascending=False)\n",
    "\n",
    "# Membuat grafik distribusi penjualan per genre\n",
    "plt.figure(figsize=(12, 6))\n",
    "plt.bar(genre_sales['genre'], genre_sales['total_sales'], color='skyblue')\n",
    "plt.xlabel('Genre')\n",
    "plt.ylabel('Total Penjualan (Juta)')\n",
    "plt.title('Distribusi Penjualan Game per Genre')\n",
    "plt.xticks(rotation=90)\n",
    "plt.tight_layout()\n",
    "\n",
    "# Menampilkan genre yang paling menguntungkan\n",
    "most_profitable_genre = genre_sales.iloc[0]  # Genre dengan total penjualan tertinggi\n",
    "print(f\"Genre yang paling menguntungkan adalah '{most_profitable_genre['genre']}' dengan total penjualan {most_profitable_genre['total_sales']} juta unit.\")"
   ]
  },
  {
   "cell_type": "markdown",
   "metadata": {},
   "source": [
    "Dari grafik kita ketahui bahwa distribusi genre game yang paling menguntungkan adalah genre `Action`. Kita akan lanjutkan mengecek perbandingan pernjualan yang tinggi dan rendah."
   ]
  },
  {
   "cell_type": "code",
   "execution_count": 35,
   "metadata": {},
   "outputs": [
    {
     "name": "stdout",
     "output_type": "stream",
     "text": [
      "Genre dengan Penjualan Rendah: ['Puzzle' 'Adventure' 'Strategy' 'unknown']\n",
      "Genre dengan Penjualan Tinggi: ['Action' 'Sports' 'Shooter' 'Role-Playing' 'Platform' 'Misc' 'Racing'\n",
      " 'Fighting' 'Simulation']\n"
     ]
    }
   ],
   "source": [
    "# Mengelompokkan data berdasarkan genre dan menghitung total penjualan global per genre\n",
    "genre_sales = game.groupby('genre')['total_sales'].sum().reset_index()\n",
    "\n",
    "# Mengurutkan genre berdasarkan total penjualan tertinggi\n",
    "genre_sales = genre_sales.sort_values(by='total_sales', ascending=False)\n",
    "\n",
    "# Menentukan batas untuk genre dengan penjualan tinggi dan rendah\n",
    "tinggi_threshold = genre_sales['total_sales'].quantile(0.75)\n",
    "rendah_threshold = genre_sales['total_sales'].quantile(0.25)\n",
    "\n",
    "# Memisahkan genre menjadi dua kategori: tinggi dan rendah\n",
    "genre_sales['kategori'] = pd.cut(genre_sales['total_sales'], bins=[0, rendah_threshold, float('inf')],\n",
    "                                  labels=['Rendah', 'Tinggi'])\n",
    "\n",
    "# Menampilkan genre berdasarkan kategori penjualan\n",
    "genre_by_category = genre_sales.groupby('kategori')['genre'].unique()\n",
    "print(\"Genre dengan Penjualan Rendah:\", genre_by_category['Rendah'])\n",
    "print(\"Genre dengan Penjualan Tinggi:\", genre_by_category['Tinggi'])"
   ]
  },
  {
   "cell_type": "markdown",
   "metadata": {},
   "source": [
    "Disini kita ketahui bahwa, penjualan genre tertinggi adalah `Action`, dan penjualan terendah adalah `Strategy`. Untuk `unknown` dapat kita abaikan."
   ]
  },
  {
   "cell_type": "markdown",
   "metadata": {},
   "source": [
    "### Pemrofilan Pengguna untuk Masing - Masing Wilayah"
   ]
  },
  {
   "cell_type": "markdown",
   "metadata": {},
   "source": [
    "#### Cek 5 Platform Teratas di Masing - Masing Wilayah"
   ]
  },
  {
   "cell_type": "code",
   "execution_count": 36,
   "metadata": {},
   "outputs": [
    {
     "name": "stdout",
     "output_type": "stream",
     "text": [
      "5 Platform Teratas di Wilayah NA:\n",
      "   platform  na_sales\n",
      "28     X360    602.47\n",
      "16      PS2    583.84\n",
      "26      Wii    496.90\n",
      "17      PS3    393.49\n",
      "4        DS    382.40\n",
      "\n",
      "5 Platform Teratas di Wilayah EU:\n",
      "   platform  eu_sales\n",
      "16      PS2    339.29\n",
      "17      PS3    330.29\n",
      "28     X360    270.76\n",
      "26      Wii    262.21\n",
      "15       PS    213.61\n",
      "\n",
      "5 Platform Teratas di Wilayah JP:\n",
      "   platform  jp_sales\n",
      "4        DS    175.57\n",
      "15       PS    139.82\n",
      "16      PS2    139.20\n",
      "23     SNES    116.55\n",
      "2       3DS    100.67\n"
     ]
    }
   ],
   "source": [
    "# Mengelompokkan data berdasarkan platform dan menghitung total penjualan per wilayah\n",
    "na_sales = game.groupby('platform')['na_sales'].sum().reset_index().sort_values(by='na_sales', ascending=False)\n",
    "eu_sales = game.groupby('platform')['eu_sales'].sum().reset_index().sort_values(by='eu_sales', ascending=False)\n",
    "jp_sales = game.groupby('platform')['jp_sales'].sum().reset_index().sort_values(by='jp_sales', ascending=False)\n",
    "\n",
    "# Mengambil 5 platform teratas untuk masing-masing wilayah\n",
    "top_na_platforms = na_sales.head(5)\n",
    "top_eu_platforms = eu_sales.head(5)\n",
    "top_jp_platforms = jp_sales.head(5)\n",
    "\n",
    "# Menampilkan hasil\n",
    "print(\"5 Platform Teratas di Wilayah NA:\")\n",
    "print(top_na_platforms)\n",
    "print(\"\\n5 Platform Teratas di Wilayah EU:\")\n",
    "print(top_eu_platforms)\n",
    "print(\"\\n5 Platform Teratas di Wilayah JP:\")\n",
    "print(top_jp_platforms)"
   ]
  },
  {
   "cell_type": "markdown",
   "metadata": {},
   "source": [
    "Sekarang kita mengetahui bahwa platform teratas untuk wilayah `NA` adalah `X360`, wilayah `EU` adalah `PS2`, wilayah `JP` adalah `DS`."
   ]
  },
  {
   "cell_type": "markdown",
   "metadata": {},
   "source": [
    "#### Cek 5 genre teratas di Masing - Masing Wilayah"
   ]
  },
  {
   "cell_type": "markdown",
   "metadata": {},
   "source": [
    "Selanjutnya kita cek 5 genre teratas untuk masing - masing wilayah."
   ]
  },
  {
   "cell_type": "code",
   "execution_count": 37,
   "metadata": {},
   "outputs": [
    {
     "name": "stdout",
     "output_type": "stream",
     "text": [
      "5 Genre Teratas di Wilayah NA:\n",
      "       genre  na_sales\n",
      "0     Action    879.01\n",
      "10    Sports    684.43\n",
      "8    Shooter    592.24\n",
      "4   Platform    445.50\n",
      "3       Misc    407.27\n",
      "\n",
      "5 Genre Teratas di Wilayah EU:\n",
      "      genre  eu_sales\n",
      "0    Action    519.13\n",
      "10   Sports    376.79\n",
      "8   Shooter    317.34\n",
      "6    Racing    236.51\n",
      "3      Misc    212.74\n",
      "\n",
      "5 Genre Teratas di Wilayah JP:\n",
      "           genre  jp_sales\n",
      "7   Role-Playing    355.41\n",
      "0         Action    161.43\n",
      "10        Sports    135.54\n",
      "4       Platform    130.83\n",
      "3           Misc    108.11\n"
     ]
    }
   ],
   "source": [
    "# Mengelompokkan data berdasarkan genre dan menghitung total penjualan per genre di NA\n",
    "na_genre_sales = game.groupby('genre')['na_sales'].sum().reset_index()\n",
    "top_na_genre = na_genre_sales.sort_values(by='na_sales', ascending=False).head(5)\n",
    "\n",
    "# Mengelompokkan data berdasarkan genre dan menghitung total penjualan per genre di EU\n",
    "eu_genre_sales = game.groupby('genre')['eu_sales'].sum().reset_index()\n",
    "top_eu_genre = eu_genre_sales.sort_values(by='eu_sales', ascending=False).head(5)\n",
    "\n",
    "# Mengelompokkan data berdasarkan genre dan menghitung total penjualan per genre di JP\n",
    "jp_genre_sales = game.groupby('genre')['jp_sales'].sum().reset_index()\n",
    "top_jp_genre = jp_genre_sales.sort_values(by='jp_sales', ascending=False).head(5)\n",
    "\n",
    "# Menampilkan hasil\n",
    "print(\"5 Genre Teratas di Wilayah NA:\")\n",
    "print(top_na_genre)\n",
    "\n",
    "print(\"\\n5 Genre Teratas di Wilayah EU:\")\n",
    "print(top_eu_genre)\n",
    "\n",
    "print(\"\\n5 Genre Teratas di Wilayah JP:\")\n",
    "print(top_jp_genre)"
   ]
  },
  {
   "cell_type": "markdown",
   "metadata": {},
   "source": [
    "Dari data di atas, kita ketahui bahwa untuk wilayah `NA` dan `EU` mempunyai 5 genre teratas yang sama. Dan untuk wilayah `JP` untuk genre `Action` berada di posisi 2. Namun, secara keseluruhan, genre `Action` adalah yang tertinggi."
   ]
  },
  {
   "cell_type": "markdown",
   "metadata": {},
   "source": [
    "Dan perbedaan dari masing - masing genre adalah:\n",
    "\n",
    "1. **Action**: Genre aksi dengan penjualan tertinggi, termasuk game-game seperti Grand Theft Auto dan Assassin's Creed.\n",
    "\n",
    "2. **Sports**: Genre olahraga seperti FIFA dan NBA 2K, pilihan utama bagi penggemar olahraga.\n",
    "\n",
    "3. **Shooter**: Genre tembak-menembak seperti Call of Duty dan Battlefield, dengan pangsa pasar besar.\n",
    "\n",
    "4. **RPG (Role-Playing)**: Genre peran dengan game seperti Final Fantasy dan Skyrim yang memiliki basis penggemar kuat.\n",
    "\n",
    "5. **Platform**: Genre platform dengan game seperti Super Mario dan Sonic the Hedgehog yang menjadi favorit pemain.\n",
    "\n",
    "Dengan kata lain, perbedaan utama adalah dalam jenis permainan yang ditawarkan oleh masing-masing genre."
   ]
  },
  {
   "cell_type": "markdown",
   "metadata": {},
   "source": [
    "#### Cek Pengaruh Rating ESRB dengan Penjualan di Masing - Masing Wilayah"
   ]
  },
  {
   "cell_type": "markdown",
   "metadata": {},
   "source": [
    "Kita akan mengecek pengaruh ESRB dengan penjualan masing-masing wilayah, apakah benar ada pengaruh atau tidak. Dan kita akan mengkonversi kolom rating dari tipe data string ke data numerik, agar bisa dihitung korelasinya."
   ]
  },
  {
   "cell_type": "code",
   "execution_count": 42,
   "metadata": {},
   "outputs": [
    {
     "name": "stdout",
     "output_type": "stream",
     "text": [
      "Korelasi antara Rating ESRB dan Penjualan di Wilayah NA: -0.06370752239091229\n",
      "Korelasi antara Rating ESRB dan Penjualan di Wilayah EU: -0.0633389262427706\n",
      "Korelasi antara Rating ESRB dan Penjualan di Wilayah JP: 0.09463074164788683\n"
     ]
    }
   ],
   "source": [
    "# Mengonversi kolom 'rating' ke tipe data numerik\n",
    "game['rating'] = game['rating'].astype('category').cat.codes\n",
    "\n",
    "# Fungsi untuk menghitung korelasi antara rating dan penjualan di wilayah tertentu\n",
    "def calculate_correlation(region):\n",
    "    correlation = game[region].corr(game['rating'], method='pearson')\n",
    "    return correlation\n",
    "\n",
    "# Menghitung korelasi untuk masing-masing wilayah\n",
    "correlation_na = calculate_correlation('na_sales')\n",
    "correlation_eu = calculate_correlation('eu_sales')\n",
    "correlation_jp = calculate_correlation('jp_sales')\n",
    "\n",
    "# Menampilkan hasil korelasi\n",
    "print(f'Korelasi antara Rating ESRB dan Penjualan di Wilayah NA: {correlation_na}')\n",
    "print(f'Korelasi antara Rating ESRB dan Penjualan di Wilayah EU: {correlation_eu}')\n",
    "print(f'Korelasi antara Rating ESRB dan Penjualan di Wilayah JP: {correlation_jp}')"
   ]
  },
  {
   "cell_type": "markdown",
   "metadata": {},
   "source": [
    "**Hasil korelasi antara Rating ESRB dan Penjualan di berbagai wilayah dapat disimpulkan sebagai berikut:**\n",
    "\n",
    "1. **Wilayah NA**: Korelasi negatif yang mendekati nol `(-0.0637)` menunjukkan hubungan yang sangat lemah atau bahkan tidak ada hubungan antara Rating ESRB dan penjualan di Wilayah NA.\n",
    "\n",
    "2. **Wilayah EU**: Korelasi negatif yang mendekati nol `(-0.0633)` juga menunjukkan bahwa tidak ada hubungan yang kuat antara Rating ESRB dan penjualan di Wilayah EU.\n",
    "\n",
    "3. **Wilayah JP**: Korelasi positif yang lemah `(0.0946)` menunjukkan adanya hubungan yang lemah antara Rating ESRB dan penjualan di Wilayah JP. Meskipun hubungannya lemah, peringkat ESRB mungkin memiliki sedikit pengaruh positif terhadap penjualan game di Wilayah JP.\n",
    "\n",
    "Secara umum, korelasi antara Rating ESRB dan penjualan game di ketiga wilayah tersebut sangat lemah, menunjukkan bahwa faktor-faktor lain seperti gameplay, promosi, atau popularitas mungkin lebih memengaruhi penjualan game daripada peringkat ESRB di wilayah-wilayah tersebut."
   ]
  },
  {
   "cell_type": "markdown",
   "metadata": {},
   "source": [
    "### Menguji Hipotesis"
   ]
  },
  {
   "cell_type": "markdown",
   "metadata": {},
   "source": [
    "#### Pengujian Hipotesis 1: Rata-rata Rating Pengguna Platform Xbox One dan PC adalah sama"
   ]
  },
  {
   "cell_type": "markdown",
   "metadata": {},
   "source": [
    "Kita akan melanjutkan hipotesis `Rata-rata Rating Pengguna Platform Xbox One dan PC adalah sama`. Dan kita dapat rangkum sebagai berikut:\n",
    "\n",
    "1. **Hipotesis Nol**: `Rata-rata Rating Pengguna Platform Xbox One dan PC adalah sama`.\n",
    "2. **Hipotesis Alternatif**: `Rata-rata Rating Pengguna Platform Xbox One dan PC adalah berbeda`.\n",
    "\n",
    "Mari kita uji menggunakan library scipy."
   ]
  },
  {
   "cell_type": "code",
   "execution_count": 58,
   "metadata": {},
   "outputs": [
    {
     "name": "stdout",
     "output_type": "stream",
     "text": [
      "Hasil Uji Statistik:\n",
      "t-statistic = -4.653422798410772\n",
      "P-value = 4.935072360183565e-06\n",
      "Hipotesis Nol Ditolak: Rata-rata Rating Pengguna Platform Xbox One dan PC adalah berbeda.\n"
     ]
    }
   ],
   "source": [
    "import pandas as pd\n",
    "import numpy as np\n",
    "from scipy import stats\n",
    "\n",
    "# Filter data untuk Xbox One\n",
    "xbox_one_data = game[game['platform'] == 'XOne']['user_score']\n",
    "\n",
    "# Filter data untuk PC\n",
    "pc_data = game[game['platform'] == 'PC']['user_score']\n",
    "\n",
    "# Konversi user_score ke bentuk numerik dan ubah 'tbd' menjadi NaN\n",
    "xbox_one_data = pd.to_numeric(xbox_one_data, errors='coerce')\n",
    "pc_data = pd.to_numeric(pc_data, errors='coerce')\n",
    "\n",
    "# Hapus nilai NaN dari kedua kelompok data\n",
    "xbox_one_data = xbox_one_data.dropna()\n",
    "pc_data = pc_data.dropna()\n",
    "\n",
    "# Melakukan uji t-test independent\n",
    "t_statistic, p_value = stats.ttest_ind(xbox_one_data, pc_data, equal_var=False)\n",
    "\n",
    "# Menentukan tingkat signifikansi (alpha)\n",
    "alpha = 0.05\n",
    "\n",
    "# Menampilkan hasil uji\n",
    "print(\"Hasil Uji Statistik:\")\n",
    "print(f\"t-statistic = {t_statistic}\")\n",
    "print(f\"P-value = {p_value}\")\n",
    "\n",
    "# Menguji hipotesis dengan asumsi alpha\n",
    "if p_value < alpha:\n",
    "    print(\"Hipotesis Nol Ditolak: Rata-rata Rating Pengguna Platform Xbox One dan PC adalah berbeda.\")\n",
    "else:\n",
    "    print(\"Hipotesis Nol Tidak Ditolak: Rata-rata Rating Pengguna Platform Xbox One dan PC adalah sama.\")"
   ]
  },
  {
   "cell_type": "markdown",
   "metadata": {},
   "source": [
    "Dari hasil hipotesis, terlihat bahwa `Hipotesis Nol Ditolak` maka kita mendapatkan hasil bahwa `Rata-rata Rating Pengguna Platform Xbox One dan PC adalah berbeda`. Maka, Hipotesis 1 ini Tidak terbukti."
   ]
  },
  {
   "cell_type": "markdown",
   "metadata": {},
   "source": [
    "#### Pengujian Hipotesis 2: Rata-rata Rating Pengguna Genre Action dan Sports berbeda."
   ]
  },
  {
   "cell_type": "markdown",
   "metadata": {},
   "source": [
    "Kita akan melanjutkan hipotesis `Rata-rata Rating Pengguna Genre Action dan Sports berbeda`. Dan kita dapat rangkum sebagai berikut:\n",
    "\n",
    "1. **Hipotesis Nol**: `Rata-rata Rating Pengguna Genre Action dan Sports berbeda`.\n",
    "2. **Hipotesis Alternatif**: `Rata-rata Rating Pengguna Genre Action dan Sports sama`."
   ]
  },
  {
   "cell_type": "code",
   "execution_count": 59,
   "metadata": {},
   "outputs": [
    {
     "name": "stdout",
     "output_type": "stream",
     "text": [
      "Hasil Uji Statistik:\n",
      "t-statistic = 1.57746791633354\n",
      "P-value = 0.11483818791498286\n",
      "Hipotesis Nol Tidak Ditolak: Rata-rata Rating Pengguna Genre Action dan Sports berbeda.\n"
     ]
    }
   ],
   "source": [
    "import pandas as pd\n",
    "import numpy as np\n",
    "from scipy import stats\n",
    "\n",
    "# Filter data untuk genre Action\n",
    "action_data = game[game['genre'] == 'Action']['user_score']\n",
    "\n",
    "# Filter data untuk genre Sports\n",
    "sports_data = game[game['genre'] == 'Sports']['user_score']\n",
    "\n",
    "# Konversi user_score ke bentuk numerik dan ubah 'tbd' menjadi NaN\n",
    "action_data = pd.to_numeric(action_data, errors='coerce')\n",
    "sports_data = pd.to_numeric(sports_data, errors='coerce')\n",
    "\n",
    "# Hapus nilai NaN dari kedua kelompok data\n",
    "action_data = action_data.dropna()\n",
    "sports_data = sports_data.dropna()\n",
    "\n",
    "# Melakukan uji t-test independent\n",
    "t_statistic, p_value = stats.ttest_ind(action_data, sports_data, equal_var=False)\n",
    "\n",
    "# Menentukan tingkat signifikansi (alpha)\n",
    "alpha = 0.05\n",
    "\n",
    "# Menampilkan hasil uji\n",
    "print(\"Hasil Uji Statistik:\")\n",
    "print(f\"t-statistic = {t_statistic}\")\n",
    "print(f\"P-value = {p_value}\")\n",
    "\n",
    "# Menguji hipotesis dengan asumsi alpha\n",
    "if p_value < alpha:\n",
    "    print(\"Hipotesis Nol Ditolak: Rata-rata Rating Pengguna Genre Action dan Sports sama.\")\n",
    "else:\n",
    "    print(\"Hipotesis Nol Tidak Ditolak: Rata-rata Rating Pengguna Genre Action dan Sports berbeda.\")"
   ]
  },
  {
   "cell_type": "markdown",
   "metadata": {},
   "source": [
    "Dari hipotesis, terlihat bahwa ` Hipotesis Nol Tidak Ditolak`, dimana artinya `Rata-rata Rating Pengguna Platform Xbox One dan PC adalah berbeda`. Maka, Hipotesis 2, Terbukti."
   ]
  },
  {
   "cell_type": "markdown",
   "metadata": {},
   "source": [
    "### Kesimpulan Umum"
   ]
  },
  {
   "cell_type": "markdown",
   "metadata": {},
   "source": [
    "Dalam analisis data yang telah dilakukan, terdapat rangkuman sebagai berikut:\n",
    "\n",
    "1. **Korelasi Penjualan dengan Ulasan Pengguna dan Kritikus**: Terdapat korelasi yang rendah antara penjualan game dengan ulasan pengguna dan kritikus di berbagai platform. Artinya, ulasan pengguna dan kritikus tidak selalu menjadi faktor utama dalam menentukan penjualan game.\n",
    "\n",
    "2. **Perbandingan Penjualan antara Platform**: Penjualan game bervariasi di antara platform-platform seperti Wii, Xbox 360, dan PC. Platform Xbox 360 memiliki korelasi yang lebih tinggi dengan ulasan kritikus dibandingkan ulasan pengguna, sementara PC memiliki korelasi yang sangat rendah dengan kedua faktor ulasan tersebut.\n",
    "\n",
    "3. **Game Terbanyak Dimainkan**: Game yang paling banyak dimainkan di semua platform adalah \"Wii Sports.\" Namun, perlu diingat bahwa ini mungkin juga dipengaruhi oleh fakta bahwa \"Wii Sports\" adalah permainan bawaan yang disertakan dengan konsol Wii.\n",
    "\n",
    "4. **Pengaruh Genre terhadap Penjualan**: Genre game \"Action,\" \"Sports,\" dan \"Shooter\" adalah genre-genre dengan total penjualan tertinggi. Hal ini menunjukkan bahwa game dalam genre-genre ini memiliki pangsa pasar yang besar.\n",
    "\n",
    "5. **Pengaruh Rating ESRB terhadap Penjualan**: Tidak terdapat korelasi yang signifikan antara rating ESRB (Entertainment Software Rating Board) dan penjualan game di wilayah Amerika Utara (NA) dan Eropa (EU). Namun, di wilayah Jepang (JP), terdapat korelasi positif yang lemah antara rating ESRB dan penjualan.\n",
    "\n",
    "6. **Pengujian Hipotesis (Platform)**: Pengujian hipotesis menunjukkan bahwa terdapat perbedaan yang signifikan dalam rata-rata rating pengguna antara platform Xbox One dan PC, dengan Xbox One memiliki rata-rata rating yang lebih tinggi.\n",
    "\n",
    "7. **Pengujian Hipotesis (Genre)**: Pengujian hipotesis menunjukkan bahwa rata-rata rating pengguna untuk genre \"Action\" dan \"Sports\" berbeda secara signifikan.\n",
    "\n",
    "Secara keseluruhan, dalam industri game, penjualan dan popularitas game dapat dipengaruhi oleh berbagai faktor seperti platform, genre, dan ulasan. Namun, tidak selalu ada korelasi yang kuat antara faktor-faktor ini dengan penjualan, dan banyak faktor lain seperti pemasaran, gameplay, dan merek juga memainkan peran penting dalam kesuksesan game.\n",
    "\n",
    "**`Kesimpulan:`**\n",
    "\n",
    "Untuk memaksimalkan keuntungan, maka dapat mengoptimalkan untuk menjual game dengan genre **`Action`, `Sports`, `Shooter`**, dan fokus kepada game yang berjalan pada platform seperti **`Xbox 360`, `Xbox One`, `PC`**."
   ]
  }
 ],
 "metadata": {
  "kernelspec": {
   "display_name": "Python 3 (ipykernel)",
   "language": "python",
   "name": "python3"
  },
  "language_info": {
   "codemirror_mode": {
    "name": "ipython",
    "version": 3
   },
   "file_extension": ".py",
   "mimetype": "text/x-python",
   "name": "python",
   "nbconvert_exporter": "python",
   "pygments_lexer": "ipython3",
   "version": "3.9.19"
  },
  "toc": {
   "base_numbering": 1,
   "nav_menu": {},
   "number_sections": true,
   "sideBar": true,
   "skip_h1_title": true,
   "title_cell": "Table of Contents",
   "title_sidebar": "Contents",
   "toc_cell": false,
   "toc_position": {
    "height": "calc(100% - 180px)",
    "left": "10px",
    "top": "150px",
    "width": "368px"
   },
   "toc_section_display": true,
   "toc_window_display": true
  }
 },
 "nbformat": 4,
 "nbformat_minor": 2
}
